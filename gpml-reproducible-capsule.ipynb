{
 "cells": [
  {
   "cell_type": "code",
   "execution_count": 1,
   "id": "1259bcc6",
   "metadata": {
    "_cell_guid": "b1076dfc-b9ad-4769-8c92-a6c4dae69d19",
    "_uuid": "8f2839f25d086af736a60e9eeb907d3b93b6e0e5",
    "execution": {
     "iopub.execute_input": "2025-01-31T09:25:54.839904Z",
     "iopub.status.busy": "2025-01-31T09:25:54.839500Z",
     "iopub.status.idle": "2025-01-31T09:25:56.052698Z",
     "shell.execute_reply": "2025-01-31T09:25:56.051564Z"
    },
    "papermill": {
     "duration": 1.2265,
     "end_time": "2025-01-31T09:25:56.055364",
     "exception": false,
     "start_time": "2025-01-31T09:25:54.828864",
     "status": "completed"
    },
    "tags": []
   },
   "outputs": [
    {
     "name": "stdout",
     "output_type": "stream",
     "text": [
      "/kaggle/input/train-test-dataset-bot-iot/Train_Test_datasets_bot/UNSW_2018_IoT_Botnet.csv\n",
      "/kaggle/input/ugr-16-sample/UGR_sample_5M.csv\n",
      "/kaggle/input/graph-processing-for-machine/library/community/README.md\n",
      "/kaggle/input/graph-processing-for-machine/library/community/community_louvain.py\n",
      "/kaggle/input/graph-processing-for-machine/library/community/community_status.py\n",
      "/kaggle/input/graph-processing-for-machine/library/community/__init__.py\n",
      "/kaggle/input/graph-processing-for-machine/gpml/__init__.py\n",
      "/kaggle/input/graph-processing-for-machine/gpml/metrics/graph_community.py\n",
      "/kaggle/input/graph-processing-for-machine/gpml/metrics/graph_community.pyc\n",
      "/kaggle/input/graph-processing-for-machine/gpml/metrics/__init__.py\n",
      "/kaggle/input/graph-processing-for-machine/gpml/metrics/spectral_metrics.py\n",
      "/kaggle/input/graph-processing-for-machine/gpml/visualisation/plot.pyc\n",
      "/kaggle/input/graph-processing-for-machine/gpml/visualisation/plot.py\n",
      "/kaggle/input/graph-processing-for-machine/gpml/visualisation/__init__.py\n",
      "/kaggle/input/graph-processing-for-machine/gpml/visualisation/graphviz.py\n",
      "/kaggle/input/graph-processing-for-machine/gpml/data_processing/create_graph.pyc\n",
      "/kaggle/input/graph-processing-for-machine/gpml/anomaly_detection/anomalous.py\n",
      "/kaggle/input/graph-processing-for-machine/gpml/anomaly_detection/scan.py\n",
      "/kaggle/input/graph-processing-for-machine/gpml/anomaly_detection/radar.py\n",
      "/kaggle/input/graph-processing-for-machine/gpml/anomaly_detection/detector.py\n",
      "/kaggle/input/graph-processing-for-machine/gpml/data_preparation/time_series_extractor.py\n",
      "/kaggle/input/graph-processing-for-machine/gpml/data_preparation/data_frame_handler.py\n",
      "/kaggle/input/graph-processing-for-machine/gpml/data_preparation/graph_extractor.py\n",
      "/kaggle/input/graph-processing-for-machine/gpml/data_preparation/__init__.py\n"
     ]
    }
   ],
   "source": [
    "# This Python 3 environment comes with many helpful analytics libraries installed\n",
    "# It is defined by the kaggle/python Docker image: https://github.com/kaggle/docker-python\n",
    "# For example, here's several helpful packages to load\n",
    "\n",
    "import numpy as np # linear algebra\n",
    "import pandas as pd # data processing, CSV file I/O (e.g. pd.read_csv)\n",
    "\n",
    "# Input data files are available in the read-only \"../input/\" directory\n",
    "# For example, running this (by clicking run or pressing Shift+Enter) will list all files under the input directory\n",
    "\n",
    "import os\n",
    "for dirname, _, filenames in os.walk('/kaggle/input'):\n",
    "    for filename in filenames:\n",
    "        print(os.path.join(dirname, filename))\n",
    "\n",
    "os.chdir('/kaggle/working/')\n",
    "os.makedirs('fig/', exist_ok=True)\n",
    "\n",
    "# You can write up to 20GB to the current directory (/kaggle/working/) that gets preserved as output when you create a version using \"Save & Run All\" \n",
    "# You can also write temporary files to /kaggle/temp/, but they won't be saved outside of the current session"
   ]
  },
  {
   "cell_type": "code",
   "execution_count": 2,
   "id": "3aef7e77",
   "metadata": {
    "execution": {
     "iopub.execute_input": "2025-01-31T09:25:56.075817Z",
     "iopub.status.busy": "2025-01-31T09:25:56.075285Z",
     "iopub.status.idle": "2025-01-31T09:26:09.306618Z",
     "shell.execute_reply": "2025-01-31T09:26:09.304815Z"
    },
    "papermill": {
     "duration": 13.246266,
     "end_time": "2025-01-31T09:26:09.310682",
     "exception": false,
     "start_time": "2025-01-31T09:25:56.064416",
     "status": "completed"
    },
    "tags": []
   },
   "outputs": [
    {
     "name": "stdout",
     "output_type": "stream",
     "text": [
      "Collecting pyvis\r\n",
      "  Downloading pyvis-0.3.2-py3-none-any.whl.metadata (1.7 kB)\r\n",
      "Requirement already satisfied: ipython>=5.3.0 in /opt/conda/lib/python3.10/site-packages (from pyvis) (8.21.0)\r\n",
      "Requirement already satisfied: jinja2>=2.9.6 in /opt/conda/lib/python3.10/site-packages (from pyvis) (3.1.4)\r\n",
      "Collecting jsonpickle>=1.4.1 (from pyvis)\r\n",
      "  Downloading jsonpickle-4.0.1-py3-none-any.whl.metadata (8.2 kB)\r\n",
      "Requirement already satisfied: networkx>=1.11 in /opt/conda/lib/python3.10/site-packages (from pyvis) (3.3)\r\n",
      "Requirement already satisfied: decorator in /opt/conda/lib/python3.10/site-packages (from ipython>=5.3.0->pyvis) (5.1.1)\r\n",
      "Requirement already satisfied: jedi>=0.16 in /opt/conda/lib/python3.10/site-packages (from ipython>=5.3.0->pyvis) (0.19.1)\r\n",
      "Requirement already satisfied: matplotlib-inline in /opt/conda/lib/python3.10/site-packages (from ipython>=5.3.0->pyvis) (0.1.7)\r\n",
      "Requirement already satisfied: prompt-toolkit<3.1.0,>=3.0.41 in /opt/conda/lib/python3.10/site-packages (from ipython>=5.3.0->pyvis) (3.0.47)\r\n",
      "Requirement already satisfied: pygments>=2.4.0 in /opt/conda/lib/python3.10/site-packages (from ipython>=5.3.0->pyvis) (2.18.0)\r\n",
      "Requirement already satisfied: stack-data in /opt/conda/lib/python3.10/site-packages (from ipython>=5.3.0->pyvis) (0.6.2)\r\n",
      "Requirement already satisfied: traitlets>=5 in /opt/conda/lib/python3.10/site-packages (from ipython>=5.3.0->pyvis) (5.14.3)\r\n",
      "Requirement already satisfied: exceptiongroup in /opt/conda/lib/python3.10/site-packages (from ipython>=5.3.0->pyvis) (1.2.0)\r\n",
      "Requirement already satisfied: pexpect>4.3 in /opt/conda/lib/python3.10/site-packages (from ipython>=5.3.0->pyvis) (4.9.0)\r\n",
      "Requirement already satisfied: MarkupSafe>=2.0 in /opt/conda/lib/python3.10/site-packages (from jinja2>=2.9.6->pyvis) (2.1.5)\r\n",
      "Requirement already satisfied: parso<0.9.0,>=0.8.3 in /opt/conda/lib/python3.10/site-packages (from jedi>=0.16->ipython>=5.3.0->pyvis) (0.8.4)\r\n",
      "Requirement already satisfied: ptyprocess>=0.5 in /opt/conda/lib/python3.10/site-packages (from pexpect>4.3->ipython>=5.3.0->pyvis) (0.7.0)\r\n",
      "Requirement already satisfied: wcwidth in /opt/conda/lib/python3.10/site-packages (from prompt-toolkit<3.1.0,>=3.0.41->ipython>=5.3.0->pyvis) (0.2.13)\r\n",
      "Requirement already satisfied: executing>=1.2.0 in /opt/conda/lib/python3.10/site-packages (from stack-data->ipython>=5.3.0->pyvis) (2.0.1)\r\n",
      "Requirement already satisfied: asttokens>=2.1.0 in /opt/conda/lib/python3.10/site-packages (from stack-data->ipython>=5.3.0->pyvis) (2.4.1)\r\n",
      "Requirement already satisfied: pure-eval in /opt/conda/lib/python3.10/site-packages (from stack-data->ipython>=5.3.0->pyvis) (0.2.2)\r\n",
      "Requirement already satisfied: six>=1.12.0 in /opt/conda/lib/python3.10/site-packages (from asttokens>=2.1.0->stack-data->ipython>=5.3.0->pyvis) (1.16.0)\r\n",
      "Downloading pyvis-0.3.2-py3-none-any.whl (756 kB)\r\n",
      "\u001b[2K   \u001b[90m━━━━━━━━━━━━━━━━━━━━━━━━━━━━━━━━━━━━━━━━\u001b[0m \u001b[32m756.0/756.0 kB\u001b[0m \u001b[31m12.4 MB/s\u001b[0m eta \u001b[36m0:00:00\u001b[0m\r\n",
      "\u001b[?25hDownloading jsonpickle-4.0.1-py3-none-any.whl (46 kB)\r\n",
      "\u001b[2K   \u001b[90m━━━━━━━━━━━━━━━━━━━━━━━━━━━━━━━━━━━━━━━━\u001b[0m \u001b[32m46.2/46.2 kB\u001b[0m \u001b[31m1.8 MB/s\u001b[0m eta \u001b[36m0:00:00\u001b[0m\r\n",
      "\u001b[?25hInstalling collected packages: jsonpickle, pyvis\r\n",
      "Successfully installed jsonpickle-4.0.1 pyvis-0.3.2\r\n"
     ]
    }
   ],
   "source": [
    "!pip install pyvis"
   ]
  },
  {
   "cell_type": "markdown",
   "id": "c13ad2e6",
   "metadata": {
    "papermill": {
     "duration": 0.009603,
     "end_time": "2025-01-31T09:26:09.331116",
     "exception": false,
     "start_time": "2025-01-31T09:26:09.321513",
     "status": "completed"
    },
    "tags": []
   },
   "source": [
    "## GPML Library"
   ]
  },
  {
   "cell_type": "code",
   "execution_count": 3,
   "id": "caa412f5",
   "metadata": {
    "execution": {
     "iopub.execute_input": "2025-01-31T09:26:09.353813Z",
     "iopub.status.busy": "2025-01-31T09:26:09.353260Z",
     "iopub.status.idle": "2025-01-31T09:26:09.359943Z",
     "shell.execute_reply": "2025-01-31T09:26:09.358742Z"
    },
    "papermill": {
     "duration": 0.021684,
     "end_time": "2025-01-31T09:26:09.362354",
     "exception": false,
     "start_time": "2025-01-31T09:26:09.340670",
     "status": "completed"
    },
    "tags": []
   },
   "outputs": [],
   "source": [
    "import os\n",
    "os.chdir('/kaggle/input/graph-processing-for-machine/')"
   ]
  },
  {
   "cell_type": "code",
   "execution_count": 4,
   "id": "056f429f",
   "metadata": {
    "execution": {
     "iopub.execute_input": "2025-01-31T09:26:09.385628Z",
     "iopub.status.busy": "2025-01-31T09:26:09.385220Z",
     "iopub.status.idle": "2025-01-31T09:26:09.405445Z",
     "shell.execute_reply": "2025-01-31T09:26:09.404310Z"
    },
    "papermill": {
     "duration": 0.035089,
     "end_time": "2025-01-31T09:26:09.408208",
     "exception": false,
     "start_time": "2025-01-31T09:26:09.373119",
     "status": "completed"
    },
    "tags": []
   },
   "outputs": [],
   "source": [
    "import gpml as gpml"
   ]
  },
  {
   "cell_type": "markdown",
   "id": "f67ca275",
   "metadata": {
    "papermill": {
     "duration": 0.011003,
     "end_time": "2025-01-31T09:26:09.429372",
     "exception": false,
     "start_time": "2025-01-31T09:26:09.418369",
     "status": "completed"
    },
    "tags": []
   },
   "source": [
    "## 1. Graph Representation"
   ]
  },
  {
   "cell_type": "code",
   "execution_count": 5,
   "id": "d1ed67a5",
   "metadata": {
    "execution": {
     "iopub.execute_input": "2025-01-31T09:26:09.455716Z",
     "iopub.status.busy": "2025-01-31T09:26:09.455246Z",
     "iopub.status.idle": "2025-01-31T09:26:10.770715Z",
     "shell.execute_reply": "2025-01-31T09:26:10.769437Z"
    },
    "papermill": {
     "duration": 1.331916,
     "end_time": "2025-01-31T09:26:10.773479",
     "exception": false,
     "start_time": "2025-01-31T09:26:09.441563",
     "status": "completed"
    },
    "tags": []
   },
   "outputs": [],
   "source": [
    "import pandas as pd\n",
    "from gpml.visualisation.graphviz import extract_graph, show_graph, print_graph\n",
    "from matplotlib import pyplot"
   ]
  },
  {
   "cell_type": "markdown",
   "id": "8bf4e1f6",
   "metadata": {
    "execution": {
     "execution_failed": "2025-01-17T10:02:13.762Z"
    },
    "papermill": {
     "duration": 0.009312,
     "end_time": "2025-01-31T09:26:10.792292",
     "exception": false,
     "start_time": "2025-01-31T09:26:10.782980",
     "status": "completed"
    },
    "tags": []
   },
   "source": [
    "df = pd.read_csv('/kaggle/input/train-test-dataset-bot-iot/Train_Test_datasets_bot/UNSW_2018_IoT_Botnet.csv')"
   ]
  },
  {
   "cell_type": "markdown",
   "id": "7716f0b6",
   "metadata": {
    "papermill": {
     "duration": 0.00904,
     "end_time": "2025-01-31T09:26:10.811245",
     "exception": false,
     "start_time": "2025-01-31T09:26:10.802205",
     "status": "completed"
    },
    "tags": []
   },
   "source": [
    "### 1.1.1 Using show_graph functionality"
   ]
  },
  {
   "cell_type": "markdown",
   "id": "91177a7c",
   "metadata": {
    "execution": {
     "execution_failed": "2025-01-17T10:02:13.762Z"
    },
    "papermill": {
     "duration": 0.009071,
     "end_time": "2025-01-31T09:26:10.829854",
     "exception": false,
     "start_time": "2025-01-31T09:26:10.820783",
     "status": "completed"
    },
    "tags": []
   },
   "source": [
    "connectivity_graph, _attack_list, _attack_labels = extract_graph(df, 'ip', 'attack', 'saddr', 'daddr','sport', 'dport', 0, 0)\n",
    "show_graph(connectivity_graph)"
   ]
  },
  {
   "cell_type": "markdown",
   "id": "4a7713e5",
   "metadata": {
    "papermill": {
     "duration": 0.009534,
     "end_time": "2025-01-31T09:26:10.849227",
     "exception": false,
     "start_time": "2025-01-31T09:26:10.839693",
     "status": "completed"
    },
    "tags": []
   },
   "source": [
    "### 1.1.2 Using print_graph functionality"
   ]
  },
  {
   "cell_type": "code",
   "execution_count": 6,
   "id": "8003a301",
   "metadata": {
    "execution": {
     "iopub.execute_input": "2025-01-31T09:26:10.872479Z",
     "iopub.status.busy": "2025-01-31T09:26:10.871834Z",
     "iopub.status.idle": "2025-01-31T09:26:10.877922Z",
     "shell.execute_reply": "2025-01-31T09:26:10.876703Z"
    },
    "papermill": {
     "duration": 0.022377,
     "end_time": "2025-01-31T09:26:10.881343",
     "exception": false,
     "start_time": "2025-01-31T09:26:10.858966",
     "status": "completed"
    },
    "tags": []
   },
   "outputs": [],
   "source": [
    "#print_graph(df, 'ip', 'attack', 'saddr', 'daddr','sport', 'dport')"
   ]
  },
  {
   "cell_type": "markdown",
   "id": "9f14f5a7",
   "metadata": {
    "papermill": {
     "duration": 0.010135,
     "end_time": "2025-01-31T09:26:10.903626",
     "exception": false,
     "start_time": "2025-01-31T09:26:10.893491",
     "status": "completed"
    },
    "tags": []
   },
   "source": [
    "## 2. Spectral Metrics"
   ]
  },
  {
   "cell_type": "markdown",
   "id": "335656c3",
   "metadata": {
    "papermill": {
     "duration": 0.010312,
     "end_time": "2025-01-31T09:26:10.925204",
     "exception": false,
     "start_time": "2025-01-31T09:26:10.914892",
     "status": "completed"
    },
    "tags": []
   },
   "source": [
    "### 1.2.1 Timeseries extraction"
   ]
  },
  {
   "cell_type": "markdown",
   "id": "e287927e",
   "metadata": {
    "execution": {
     "execution_failed": "2025-01-17T10:02:13.762Z"
    },
    "papermill": {
     "duration": 0.009968,
     "end_time": "2025-01-31T09:26:10.945703",
     "exception": false,
     "start_time": "2025-01-31T09:26:10.935735",
     "status": "completed"
    },
    "tags": []
   },
   "source": [
    "from gpml.data_preparation.time_series_extractor import time_series_extractor"
   ]
  },
  {
   "cell_type": "markdown",
   "id": "9103ecc5",
   "metadata": {
    "execution": {
     "execution_failed": "2025-01-17T10:02:13.762Z"
    },
    "papermill": {
     "duration": 0.012291,
     "end_time": "2025-01-31T09:26:10.968883",
     "exception": false,
     "start_time": "2025-01-31T09:26:10.956592",
     "status": "completed"
    },
    "tags": []
   },
   "source": [
    "features_list = ['stime', 'datetime', 'saddr', 'daddr','sport', 'dport', \n",
    "            'pkts', 'bytes', 'rate','attack', 'category', 'subcategory',\n",
    "            'weight', 'dur', 'mean', 'sum', 'min','max', 'spkts', \n",
    "            'dpkts', 'srate', 'drate']\n",
    "sortby_list = ['stime']\n",
    "groupby_list = ['stime', 'datetime', 'saddr', 'daddr']\n",
    "aggregation_dict = {'pkts': 'sum', 'bytes': 'sum', 'attack': 'first',\n",
    "                    'category': 'first', 'subcategory': 'first','rate': 'mean',\n",
    "                    'dur': 'mean', 'mean': 'mean','sum': 'mean', 'min': 'mean',\n",
    "                    'max': 'mean','spkts': 'mean', 'srate': 'mean', 'drate': 'mean',\n",
    "                    'weight': 'sum'}"
   ]
  },
  {
   "cell_type": "markdown",
   "id": "b667df56",
   "metadata": {
    "execution": {
     "execution_failed": "2025-01-17T10:02:13.762Z"
    },
    "papermill": {
     "duration": 0.011225,
     "end_time": "2025-01-31T09:26:10.991475",
     "exception": false,
     "start_time": "2025-01-31T09:26:10.980250",
     "status": "completed"
    },
    "tags": []
   },
   "source": [
    "ts = time_series_extractor(df, 'stime', 's',features_list, sortby_list, groupby_list,aggregation_dict)"
   ]
  },
  {
   "cell_type": "markdown",
   "id": "5bcad4e7",
   "metadata": {
    "papermill": {
     "duration": 0.008918,
     "end_time": "2025-01-31T09:26:11.013319",
     "exception": false,
     "start_time": "2025-01-31T09:26:11.004401",
     "status": "completed"
    },
    "tags": []
   },
   "source": [
    "### 1.2.2 Spectral metrics extraction"
   ]
  },
  {
   "cell_type": "markdown",
   "id": "82ee6139",
   "metadata": {
    "execution": {
     "execution_failed": "2025-01-17T10:02:13.762Z"
    },
    "papermill": {
     "duration": 0.009211,
     "end_time": "2025-01-31T09:26:11.031457",
     "exception": false,
     "start_time": "2025-01-31T09:26:11.022246",
     "status": "completed"
    },
    "tags": []
   },
   "source": [
    "print(ts.head(5))"
   ]
  },
  {
   "cell_type": "markdown",
   "id": "e2c84ac2",
   "metadata": {
    "execution": {
     "execution_failed": "2025-01-17T10:02:13.762Z"
    },
    "papermill": {
     "duration": 0.010352,
     "end_time": "2025-01-31T09:26:11.051758",
     "exception": false,
     "start_time": "2025-01-31T09:26:11.041406",
     "status": "completed"
    },
    "tags": []
   },
   "source": [
    "from gpml.metrics.spectral_metrics import spectral_metrics_extractor"
   ]
  },
  {
   "cell_type": "markdown",
   "id": "ccb3a931",
   "metadata": {
    "execution": {
     "execution_failed": "2025-01-17T10:02:13.762Z"
    },
    "papermill": {
     "duration": 0.009942,
     "end_time": "2025-01-31T09:26:11.071411",
     "exception": false,
     "start_time": "2025-01-31T09:26:11.061469",
     "status": "completed"
    },
    "tags": []
   },
   "source": [
    "%%capture\n",
    "spectral_df = spectral_metrics_extractor(ts, 'stime', 'saddr', 'daddr', \n",
    "                                         'pkts', 'bytes', 'rate', 'attack')"
   ]
  },
  {
   "cell_type": "markdown",
   "id": "4a975853",
   "metadata": {
    "execution": {
     "execution_failed": "2025-01-17T10:02:13.762Z"
    },
    "papermill": {
     "duration": 0.010063,
     "end_time": "2025-01-31T09:26:11.091425",
     "exception": false,
     "start_time": "2025-01-31T09:26:11.081362",
     "status": "completed"
    },
    "tags": []
   },
   "source": [
    "print(spectral_df.head(5))"
   ]
  },
  {
   "cell_type": "markdown",
   "id": "26344745",
   "metadata": {
    "papermill": {
     "duration": 0.010465,
     "end_time": "2025-01-31T09:26:11.111035",
     "exception": false,
     "start_time": "2025-01-31T09:26:11.100570",
     "status": "completed"
    },
    "tags": []
   },
   "source": [
    "### 1.2.3 Evaluation of spectral metrics using XGBoost Classifier"
   ]
  },
  {
   "cell_type": "markdown",
   "id": "4db7cc9a",
   "metadata": {
    "execution": {
     "execution_failed": "2025-01-17T10:02:13.762Z"
    },
    "papermill": {
     "duration": 0.010377,
     "end_time": "2025-01-31T09:26:11.131177",
     "exception": false,
     "start_time": "2025-01-31T09:26:11.120800",
     "status": "completed"
    },
    "tags": []
   },
   "source": [
    "map_dict = {\n",
    "    'Normal': 0,\n",
    "    'OS_Fingerprint': 1,\n",
    "    'UDP': 2,\n",
    "    'Keylogging': 3,\n",
    "    'Service_Scan': 4,\n",
    "    'Data_Exfiltration': 5  \n",
    "}"
   ]
  },
  {
   "cell_type": "markdown",
   "id": "0204a0b8",
   "metadata": {
    "execution": {
     "execution_failed": "2025-01-17T10:02:13.762Z"
    },
    "papermill": {
     "duration": 0.009918,
     "end_time": "2025-01-31T09:26:11.151091",
     "exception": false,
     "start_time": "2025-01-31T09:26:11.141173",
     "status": "completed"
    },
    "tags": []
   },
   "source": [
    "print(spectral_df['attack'].value_counts())"
   ]
  },
  {
   "cell_type": "markdown",
   "id": "61421fef",
   "metadata": {
    "execution": {
     "execution_failed": "2025-01-17T10:02:13.762Z"
    },
    "papermill": {
     "duration": 0.01139,
     "end_time": "2025-01-31T09:26:11.172976",
     "exception": false,
     "start_time": "2025-01-31T09:26:11.161586",
     "status": "completed"
    },
    "tags": []
   },
   "source": [
    "spectral_df.info()\n",
    "spectral_df.isnull().sum()"
   ]
  },
  {
   "cell_type": "markdown",
   "id": "a9d2027b",
   "metadata": {
    "execution": {
     "execution_failed": "2025-01-17T10:02:13.762Z"
    },
    "papermill": {
     "duration": 0.008995,
     "end_time": "2025-01-31T09:26:11.191865",
     "exception": false,
     "start_time": "2025-01-31T09:26:11.182870",
     "status": "completed"
    },
    "tags": []
   },
   "source": [
    "from sklearn.model_selection import train_test_split\n",
    "from sklearn.preprocessing import LabelEncoder\n",
    "import numpy as np\n",
    "\n",
    "# Load your data (replace this with your actual data loading code)\n",
    "X = spectral_df.drop('attack', axis=1)\n",
    "y = spectral_df['attack']\n",
    "\n",
    "# Convert the 'label' column to integers if it's of object type\n",
    "if y.dtype == object:\n",
    "    label_encoder = LabelEncoder()\n",
    "    y = label_encoder.fit_transform(y)\n",
    "\n",
    "# Handle non, infinite, and large values by setting them to 10^5\n",
    "X[np.isnan(X) | np.isinf(X) | (X > 1e5)] = 1e5\n",
    "\n",
    "# Split the data into training and testing sets\n",
    "X_train, X_test, y_train, y_test = train_test_split(X, y, test_size=0.3, random_state=42)\n",
    "\n",
    "# Display the shapes of the resulting datasets\n",
    "print(\"X_train shape:\", X_train.shape)\n",
    "print(\"y_train shape:\", y_train.shape)\n",
    "print(\"X_test shape:\", X_test.shape)\n",
    "print(\"y_test shape:\", y_test.shape)"
   ]
  },
  {
   "cell_type": "markdown",
   "id": "0ae551ef",
   "metadata": {
    "execution": {
     "execution_failed": "2025-01-17T10:02:13.763Z"
    },
    "papermill": {
     "duration": 0.009598,
     "end_time": "2025-01-31T09:26:11.210819",
     "exception": false,
     "start_time": "2025-01-31T09:26:11.201221",
     "status": "completed"
    },
    "tags": []
   },
   "source": [
    "X_train = X_train[['t1_m1_pkts', 't1_m2_pkts', 't1_m3_pkts', 't1_m4_pkts', 't2_m1_pkts', 't2_m2_pkts', 't2_m3_pkts', 't2_m4_pkts', 't1_m1_bytes', 't1_m2_bytes', 't1_m3_bytes', 't1_m4_bytes', 't2_m1_bytes', 't2_m2_bytes', 't2_m3_bytes', 't2_m4_bytes', 't1_m1_rate', 't1_m2_rate', 't1_m3_rate', 't1_m4_rate', 't2_m1_rate', 't2_m2_rate', 't2_m3_rate', 't2_m4_rate', 'pkts', 'bytes', 'rate']]\n",
    "X_test = X_test[['t1_m1_pkts', 't1_m2_pkts', 't1_m3_pkts', 't1_m4_pkts', 't2_m1_pkts', 't2_m2_pkts', 't2_m3_pkts', 't2_m4_pkts', 't1_m1_bytes', 't1_m2_bytes', 't1_m3_bytes', 't1_m4_bytes', 't2_m1_bytes', 't2_m2_bytes', 't2_m3_bytes', 't2_m4_bytes', 't1_m1_rate', 't1_m2_rate', 't1_m3_rate', 't1_m4_rate', 't2_m1_rate', 't2_m2_rate', 't2_m3_rate', 't2_m4_rate', 'pkts', 'bytes', 'rate']]"
   ]
  },
  {
   "cell_type": "markdown",
   "id": "52ca5c61",
   "metadata": {
    "execution": {
     "execution_failed": "2025-01-17T10:02:13.763Z"
    },
    "papermill": {
     "duration": 0.010348,
     "end_time": "2025-01-31T09:26:11.231365",
     "exception": false,
     "start_time": "2025-01-31T09:26:11.221017",
     "status": "completed"
    },
    "tags": []
   },
   "source": [
    "\"\"\"\n",
    "from xgboost import XGBClassifier\n",
    "\n",
    "clf = XGBClassifier(tree_method=\"auto\") # gpu_hist\n",
    "clf=clf.fit(X_train,y_train)\n",
    "y_pred = clf.predict(X_test)\n",
    "\"\"\""
   ]
  },
  {
   "cell_type": "code",
   "execution_count": 7,
   "id": "8e997206",
   "metadata": {
    "execution": {
     "iopub.execute_input": "2025-01-31T09:26:11.254653Z",
     "iopub.status.busy": "2025-01-31T09:26:11.254241Z",
     "iopub.status.idle": "2025-01-31T09:26:13.248860Z",
     "shell.execute_reply": "2025-01-31T09:26:13.247445Z"
    },
    "papermill": {
     "duration": 2.01074,
     "end_time": "2025-01-31T09:26:13.252625",
     "exception": false,
     "start_time": "2025-01-31T09:26:11.241885",
     "status": "completed"
    },
    "tags": []
   },
   "outputs": [
    {
     "data": {
      "text/plain": [
       "'\\n# Example usage:\\nfit_start = time.time()\\nclf = XGBClassifier(tree_method=\"auto\")  # Change to \"gpu_hist\" if GPU acceleration is needed\\nclf.fit(X_train, y_train)\\nfit_time = time.time() - fit_start\\n\\npred_start = time.time()\\ny_pred = clf.predict(X_test)\\npred_time = time.time() - pred_start\\n\\neval_xgb(clf, X_test, y_test, fit_time, pred_time)\\n'"
      ]
     },
     "execution_count": 7,
     "metadata": {},
     "output_type": "execute_result"
    }
   ],
   "source": [
    "from sklearn.metrics import (precision_score, recall_score, accuracy_score, f1_score, \n",
    "                             balanced_accuracy_score, matthews_corrcoef, zero_one_loss, \n",
    "                             confusion_matrix, classification_report)\n",
    "import pandas as pd\n",
    "import numpy as np\n",
    "import time\n",
    "\n",
    "# Initialize evaluation dataframes\n",
    "eval_df = pd.DataFrame(columns=['Classifier', 'Precision', 'Recall', 'TNR', 'TPR', 'Accuracy', \n",
    "                                'F1', 'Balanced Accuracy', 'MCC', 'Zero-One Loss', 'Fit Time', 'Predict Time'])\n",
    "cm_df = pd.DataFrame(columns=['Classifier', 'Confusion Matrix', 'Classification Report'])\n",
    "df_scores = pd.DataFrame(columns=['Attack Type', 'Label', 'Feature Set', 'Classifier', 'F1 Score', \n",
    "                                  'Balanced Accuracy', 'MCC', 'Precision', 'Recall', 'Other'])\n",
    "\n",
    "from sklearn.metrics import balanced_accuracy_score, confusion_matrix\n",
    "import numpy as np\n",
    "\n",
    "def classwise_mcc(y_test, pred_target, num_classes):\n",
    "    class_mcc = {}\n",
    "    \n",
    "    for cls in range(num_classes):\n",
    "        true_positive = np.sum((y_test == cls) & (pred_target == cls))\n",
    "        false_positive = np.sum((y_test != cls) & (pred_target == cls))\n",
    "        true_negative = np.sum((y_test != cls) & (pred_target != cls))\n",
    "        false_negative = np.sum((y_test == cls) & (pred_target != cls))\n",
    "        \n",
    "        numerator = (true_positive * true_negative) - (false_positive * false_negative)\n",
    "        denominator = np.sqrt((true_positive + false_positive) * (true_positive + false_negative) * (true_negative + false_positive) * (true_negative + false_negative))\n",
    "        \n",
    "        # Handling the case when the denominator is zero\n",
    "        if denominator == 0:\n",
    "            mcc = 0\n",
    "        else:\n",
    "            mcc = numerator / denominator\n",
    "        \n",
    "        class_mcc[cls] = mcc\n",
    "    \n",
    "    return class_mcc\n",
    "    \n",
    "def classwise_balanced_accuracy(y_test, pred_target, num_classes):\n",
    "    class_balanced_accuracy = {}\n",
    "    \n",
    "    for cls in range(num_classes):\n",
    "        true_positive = np.sum((y_test == cls) & (pred_target == cls))\n",
    "        false_positive = np.sum((y_test != cls) & (pred_target == cls))\n",
    "        true_negative = np.sum((y_test != cls) & (pred_target != cls))\n",
    "        false_negative = np.sum((y_test == cls) & (pred_target != cls))\n",
    "        \n",
    "        sensitivity = true_positive / (true_positive + false_negative)\n",
    "        specificity = true_negative / (true_negative + false_positive)\n",
    "        \n",
    "        balanced_accuracy = (sensitivity + specificity) / 2\n",
    "        class_balanced_accuracy[cls] = balanced_accuracy\n",
    "    \n",
    "    return class_balanced_accuracy\n",
    "    \n",
    "def get_tnr_tpr(y_test, pred_target):\n",
    "    \n",
    "    tn=0\n",
    "    tp=0\n",
    "    fn=0\n",
    "    fp=0\n",
    "\n",
    "    i=0\n",
    "    y_test_list=list(y_test)\n",
    "    \n",
    "    for i in range(len(y_test)):\n",
    "        if(pred_target[i] == 0):\n",
    "            if(y_test_list[i] == pred_target[i]):\n",
    "                tn += 1\n",
    "            else:\n",
    "                fn += 1\n",
    "        else:\n",
    "            if(y_test_list[i] == pred_target[i]):\n",
    "                tp += 1\n",
    "            else:\n",
    "                fp += 1\n",
    "    if(tn+fp == 0):\n",
    "        tnr = 1\n",
    "    else:\n",
    "        tnr = tn/(tn+fp)\n",
    "    if (tp+fn == 0):\n",
    "        tpr = 1\n",
    "    else:\n",
    "        tpr = tp/(tp+fn)\n",
    "\n",
    "    return tnr,tpr\n",
    "    \n",
    "def eval_xgb(clf, X_test, y_test, fit_time, pred_time, verbose=True):\n",
    "    # Predict and calculate metrics\n",
    "    pred_target = clf.predict(X_test)\n",
    "    tnr, tpr = get_tnr_tpr(y_test, pred_target)  # Assumes a function to calculate TNR and TPR\n",
    "\n",
    "    # Populate eval_df with overall metrics\n",
    "    eval_df.loc[len(eval_df.index)] = [type(clf).__name__,\n",
    "                                       precision_score(y_test, pred_target, average='weighted',zero_division=0.0),\n",
    "                                       recall_score(y_test, pred_target, average='weighted',zero_division=0.0),\n",
    "                                       tnr,\n",
    "                                       tpr,\n",
    "                                       accuracy_score(y_test, pred_target),\n",
    "                                       f1_score(y_test, pred_target, average='weighted',zero_division=0.0),\n",
    "                                       balanced_accuracy_score(y_test, pred_target),\n",
    "                                       matthews_corrcoef(y_test, pred_target),\n",
    "                                       zero_one_loss(y_test, pred_target),\n",
    "                                       fit_time,\n",
    "                                       pred_time]\n",
    "\n",
    "    # Populate cm_df with confusion matrix and classification report\n",
    "    cm_df.loc[len(cm_df.index)] = [type(clf).__name__,\n",
    "                                   confusion_matrix(y_test, pred_target),\n",
    "                                   classification_report(y_test, pred_target)]\n",
    "\n",
    "    # Class-specific scores for certain labels (example labels: 2, 4, 1, 3)\n",
    "    num_classes = len(np.unique(y_test))\n",
    "    class_balanced_accuracies = classwise_balanced_accuracy(y_test, pred_target, num_classes)\n",
    "    class_mcc = classwise_mcc(y_test, pred_target, num_classes)\n",
    "\n",
    "    for label, attack_type in zip([2, 4, 1, 3], [\"DDoS\", \"ScanService\", \"OS Fingerprint\", \"Keylogging\"]):\n",
    "        if str(label) in classification_report(y_test, pred_target, output_dict=True):\n",
    "            report = classification_report(y_test, pred_target, output_dict=True).get(str(label))\n",
    "            df_scores.loc[len(df_scores.index)] = [attack_type,\n",
    "                                                   label,\n",
    "                                                   'TW (common features except t_features with smetrics)',\n",
    "                                                   type(clf).__name__,\n",
    "                                                   report['f1-score'],\n",
    "                                                   class_balanced_accuracies.get(label, \"Class not found\"),\n",
    "                                                   class_mcc.get(label, \"Class not found\"),\n",
    "                                                   report['precision'],\n",
    "                                                   report['recall'],\n",
    "                                                   6]\n",
    "\n",
    "    if verbose == True:\n",
    "        print(eval_df)\n",
    "        print(eval_df.loc[eval_df.Classifier == type(clf).__name__])\n",
    "        print(cm_df)\n",
    "\"\"\"\n",
    "# Example usage:\n",
    "fit_start = time.time()\n",
    "clf = XGBClassifier(tree_method=\"auto\")  # Change to \"gpu_hist\" if GPU acceleration is needed\n",
    "clf.fit(X_train, y_train)\n",
    "fit_time = time.time() - fit_start\n",
    "\n",
    "pred_start = time.time()\n",
    "y_pred = clf.predict(X_test)\n",
    "pred_time = time.time() - pred_start\n",
    "\n",
    "eval_xgb(clf, X_test, y_test, fit_time, pred_time)\n",
    "\"\"\""
   ]
  },
  {
   "cell_type": "code",
   "execution_count": 8,
   "id": "c2f4ca5f",
   "metadata": {
    "execution": {
     "iopub.execute_input": "2025-01-31T09:26:13.275423Z",
     "iopub.status.busy": "2025-01-31T09:26:13.274743Z",
     "iopub.status.idle": "2025-01-31T09:26:13.292781Z",
     "shell.execute_reply": "2025-01-31T09:26:13.291604Z"
    },
    "papermill": {
     "duration": 0.032976,
     "end_time": "2025-01-31T09:26:13.295438",
     "exception": false,
     "start_time": "2025-01-31T09:26:13.262462",
     "status": "completed"
    },
    "tags": []
   },
   "outputs": [],
   "source": [
    "bracket_a = \"{Baseline, Graph, Graph community, DGC}\"\n",
    "ytick_brack = {0.7,0.75,0.8,0.85,0.9,0.95,1}\n",
    "metrics = [('MCC','blue'),('Balanced Accuracy','orange'),('TPR','green'),('TNR','cyan')]\n",
    "def result_to_latex(result,multiclass,metrics,bracket_approaches,title,filename):\n",
    "    #start\n",
    "    start_string = \"\\\\begin{figure*}\\n\\\\caption{\"+title + \"}\\n\\\\label{fig:\"+filename+\"}\\n\\\\begin{tabular}{ccc}\\n\\\\multicolumn{3}{c}{} \\\\\\\\\\n\"\n",
    "    colorbank = ['green','orange','violet','magenta','olive','blue','red','teal','brown','darkgray','lime','black','yellow']\n",
    "    # Binary prediction\n",
    "    tikz_header = \"\\\\resizebox{0.33\\linewidth}{!}{\\\\begin{tikzpicture}\\n\\\\begin{axis}[xlabel={Binary prediction},\\nylabel={Score},\\nxmin=0,\\nxmax=3,\\nymin=\"+str(list(ytick_brack)[0])+\",\\nymax=\"+str(list(ytick_brack)[-1])+\",\\nxtick={0,1,2,3},\\nxticklabels=\"+ str(bracket_approaches)+\",\\nytick=\"+str(ytick_brack)+\",\\nlegend pos=south east,\\nlegend style={fill=none},\\nymajorgrids=true,\\ngrid style=dashed]\\n\"\n",
    "    plot_string =\"\"\n",
    "    for elm in metrics:\n",
    "        count = 0\n",
    "        str_datapoint = \"\"\n",
    "        for row in result[elm[0]]:\n",
    "            str_datapoint = str_datapoint + '(' +str(count)+\",\"+str(row) + ')'\n",
    "            count = count + 1\n",
    "        plot_string = plot_string + \"\\\\addplot[\\n,color=\"+elm[1]+\",\\nmark=square,\\n]\\ncoordinates {\\n\"+str_datapoint + \"\\n};\\n\\\\addlegendentry{\"+elm[0]+\"}\\n\"\n",
    "    tikz_ender = \"\\\\end{axis}\\n\\\\end{tikzpicture}}\\n\"\n",
    "    plot_diff_binary = tikz_header+plot_string+tikz_ender\n",
    "    \n",
    "    #Prediction and fitting times\n",
    "    \n",
    "    tikz_header2 = \"\\\\resizebox{0.33\\linewidth}{!}{\\\\begin{tikzpicture}\\n\\\\begin{axis}[xlabel={Time performances},\\nylabel={Time(s)},\\nxmin=0,\\nxmax=3,\\nymin=\"+str(min(result[\"Predict Time\"]))+\",\\nymax=\"+str(max(result[\"Fit Time\"]))+\",\\nxtick={0,1,2,3},\\nxticklabels=\"+ str(bracket_approaches)+\",\\nytick={\"+str(min(result[\"Predict Time\"]))+\",\"+str(max(result[\"Fit Time\"]))+\"},\\nlegend pos=south east,\\nlegend style={fill=none},\\nymajorgrids=true,\\ngrid style=dashed]\\n\"\n",
    "    \n",
    "    pred_string=\"\"\n",
    "    fit_string=\"\"\n",
    "    count = 0\n",
    "    for index,row in result.iterrows():\n",
    "        pred_string = pred_string + '(' +str(count)+\",\"+str(row[\"Predict Time\"]) + ')'\n",
    "        fit_string = fit_string + '(' +str(count)+\",\"+str(row[\"Fit Time\"]) + ')'\n",
    "        count = count + 1\n",
    "    plot_string2 = \"\\\\addplot[\\n,color=blue,\\nmark=square,\\n]\\ncoordinates {\\n\"+pred_string + \"\\n};\\n\\\\addlegendentry{Prediction time}\\n\"\n",
    "    plot_string2 = plot_string2 + \"\\\\addplot[\\n,color=red,\\nmark=square,\\n]\\ncoordinates {\\n\"+fit_string + \"\\n};\\n\\\\addlegendentry{Fitting time}\\n\"\n",
    "    plot_diff_time = tikz_header2 + plot_string2 + tikz_ender\n",
    "\n",
    "    # Multiclass prediction\n",
    "    tikz_header3 = \"\\\\resizebox{0.33\\linewidth}{!}{\\\\begin{tikzpicture}\\n\\\\begin{axis}[xlabel={Multiclass Prediction},\\nylabel={F1\\_Score},\\nxmin=0,\\nxmax=3,\\nymin=\"+str(list(ytick_brack)[0])+\",\\nymax=\"+str(list(ytick_brack)[-1])+\",\\nxtick={0,1,2,3},\\nxticklabels=\"+ str(bracket_approaches)+\",\\nytick=\"+str(ytick_brack)+\",\\nlegend pos=south east,\\nlegend style={fill=none},\\nymajorgrids=true,\\ngrid style=dashed]\\n\"\n",
    "    plot_string3 = \"\"\n",
    "    extra_count=0\n",
    "    for col in multiclass:\n",
    "        count = 0\n",
    "        str_datapoint = \"\"\n",
    "        for elm in multiclass[col]:\n",
    "            str_datapoint = str_datapoint + '(' +str(count)+\",\"+str(elm) + ')'\n",
    "            count = count + 1\n",
    "        plot_string3 = plot_string3 + \"\\\\addplot[\\n,color=\"+colorbank[extra_count]+\",\\nmark=square,\\n]\\ncoordinates {\\n\"+str_datapoint + \"\\n};\\n\\\\addlegendentry{\"+col+\"}\\n\"\n",
    "        extra_count = extra_count+1\n",
    "    plot_diff_multi = tikz_header3+plot_string3+tikz_ender\n",
    "    \n",
    "    #End and completion\n",
    "    \n",
    "    end_string = \"\\\\end{tabular}\\n\\\\end{figure*}\"\n",
    "    latex_text = start_string + plot_diff_binary + plot_diff_multi + plot_diff_time + end_string\n",
    "    with open('/kaggle/working/'+filename+'.txt', 'w') as f:\n",
    "        f.write(latex_text)"
   ]
  },
  {
   "cell_type": "markdown",
   "id": "328e7086",
   "metadata": {
    "execution": {
     "execution_failed": "2025-01-17T10:02:13.763Z"
    },
    "papermill": {
     "duration": 0.008988,
     "end_time": "2025-01-31T09:26:13.314289",
     "exception": false,
     "start_time": "2025-01-31T09:26:13.305301",
     "status": "completed"
    },
    "tags": []
   },
   "source": [
    "import matplotlib.pyplot as plt\n",
    "import seaborn as sns\n",
    "import pandas as pd\n",
    "\n",
    "# Plotting the evaluation metrics as a histogram\n",
    "metrics = eval_df.columns[1:-2]  # Selecting metrics columns excluding 'Classifier', 'Fit Time', 'Predict Time'\n",
    "values = eval_df.iloc[0, 1:-2].values  # Extracting metric values\n",
    "\n",
    "plt.figure(figsize=(10, 6))\n",
    "plt.barh(metrics, values, align='center', alpha=0.7)\n",
    "plt.xlabel('Metric Value')\n",
    "plt.title(f'Evaluation Metrics for {eval_df.iloc[0, 0]}')\n",
    "plt.xlim(0, 1)  # Assuming metrics are between 0 and 1 for clarity\n",
    "plt.grid(axis='x', linestyle='--', alpha=0.7)\n",
    "plt.show()"
   ]
  },
  {
   "cell_type": "markdown",
   "id": "dc3276e2",
   "metadata": {
    "papermill": {
     "duration": 0.009578,
     "end_time": "2025-01-31T09:26:13.333176",
     "exception": false,
     "start_time": "2025-01-31T09:26:13.323598",
     "status": "completed"
    },
    "tags": []
   },
   "source": [
    "## 3. Community graph metrics"
   ]
  },
  {
   "cell_type": "code",
   "execution_count": 9,
   "id": "c838a98d",
   "metadata": {
    "execution": {
     "iopub.execute_input": "2025-01-31T09:26:13.354825Z",
     "iopub.status.busy": "2025-01-31T09:26:13.354372Z",
     "iopub.status.idle": "2025-01-31T09:26:31.257179Z",
     "shell.execute_reply": "2025-01-31T09:26:31.255696Z"
    },
    "papermill": {
     "duration": 17.916603,
     "end_time": "2025-01-31T09:26:31.259898",
     "exception": false,
     "start_time": "2025-01-31T09:26:13.343295",
     "status": "completed"
    },
    "tags": []
   },
   "outputs": [],
   "source": [
    "df = pd.read_csv('/kaggle/input/ugr-16-sample/UGR_sample_5M.csv')"
   ]
  },
  {
   "cell_type": "code",
   "execution_count": 10,
   "id": "06e9c8c5",
   "metadata": {
    "execution": {
     "iopub.execute_input": "2025-01-31T09:26:31.282953Z",
     "iopub.status.busy": "2025-01-31T09:26:31.282434Z",
     "iopub.status.idle": "2025-01-31T11:19:02.862506Z",
     "shell.execute_reply": "2025-01-31T11:19:02.861116Z"
    },
    "papermill": {
     "duration": 6751.594536,
     "end_time": "2025-01-31T11:19:02.865031",
     "exception": false,
     "start_time": "2025-01-31T09:26:31.270495",
     "status": "completed"
    },
    "tags": []
   },
   "outputs": [
    {
     "name": "stdout",
     "output_type": "stream",
     "text": [
      "First_graph generated and metrics computed\n",
      "5000000\n",
      "First_graph generated and metrics computed\n",
      "5000000\n",
      "First_graph generated and metrics computed\n",
      "5000000\n",
      "First_graph generated and metrics computed\n",
      "5000000\n"
     ]
    }
   ],
   "source": [
    "from datetime import date, timedelta, datetime\n",
    "from gpml.data_preparation import data_frame_handler as ins_data\n",
    "community_df = ins_data.insert_metrics_to_dataframe(df, timedelta(minutes=5), 'Date time', ['Source IP'], ['Destination IP'], 'Label', 'ip5',\n",
    "                                community_strategy='louvain',continuity=True)\n",
    "community_df = ins_data.insert_metrics_to_dataframe(community_df, timedelta(minutes=20), 'Date time', ['Source IP'], ['Destination IP'], 'Label', 'ip20',\n",
    "                                community_strategy='louvain',continuity=True)\n",
    "community_df = ins_data.insert_metrics_to_dataframe(community_df, timedelta(minutes=5), 'Date time', ['Source IP','Source Port'], ['Destination IP','Destination Port'], 'Label', 'ipport5',\n",
    "                                community_strategy='louvain',continuity=True)\n",
    "community_df = ins_data.insert_metrics_to_dataframe(community_df, timedelta(minutes=20), 'Date time', ['Source IP','Source Port'], ['Destination IP','Destination Port'], 'Label', 'ipport20',\n",
    "                                community_strategy='louvain',continuity=True)"
   ]
  },
  {
   "cell_type": "code",
   "execution_count": 11,
   "id": "fdde2d4a",
   "metadata": {
    "execution": {
     "iopub.execute_input": "2025-01-31T11:19:02.889309Z",
     "iopub.status.busy": "2025-01-31T11:19:02.888719Z",
     "iopub.status.idle": "2025-01-31T11:19:07.189803Z",
     "shell.execute_reply": "2025-01-31T11:19:07.188603Z"
    },
    "papermill": {
     "duration": 4.316392,
     "end_time": "2025-01-31T11:19:07.192542",
     "exception": false,
     "start_time": "2025-01-31T11:19:02.876150",
     "status": "completed"
    },
    "tags": []
   },
   "outputs": [
    {
     "name": "stderr",
     "output_type": "stream",
     "text": [
      "/tmp/ipykernel_16/1723142284.py:3: FutureWarning: Downcasting behavior in `replace` is deprecated and will be removed in a future version. To retain the old behavior, explicitly call `result.infer_objects(copy=False)`. To opt-in to the future behavior, set `pd.set_option('future.no_silent_downcasting', True)`\n",
      "  community_df['attack'] = community_df['attack'].replace([\"nerisbotnet\",\"dos\",\"scan44\",\"scan11\",\"anomaly-spam\"], 1)\n"
     ]
    }
   ],
   "source": [
    "community_df['attack'] = community_df['Label']\n",
    "community_df['attack'] = community_df['attack'].replace([\"background\",\"blacklist\"], 0)\n",
    "community_df['attack'] = community_df['attack'].replace([\"nerisbotnet\",\"dos\",\"scan44\",\"scan11\",\"anomaly-spam\"], 1)"
   ]
  },
  {
   "cell_type": "code",
   "execution_count": 12,
   "id": "b6b69473",
   "metadata": {
    "execution": {
     "iopub.execute_input": "2025-01-31T11:19:07.214805Z",
     "iopub.status.busy": "2025-01-31T11:19:07.214417Z",
     "iopub.status.idle": "2025-01-31T11:19:14.047030Z",
     "shell.execute_reply": "2025-01-31T11:19:14.045301Z"
    },
    "papermill": {
     "duration": 6.848906,
     "end_time": "2025-01-31T11:19:14.052285",
     "exception": false,
     "start_time": "2025-01-31T11:19:07.203379",
     "status": "completed"
    },
    "tags": []
   },
   "outputs": [],
   "source": [
    "ugr_map_dict = {\n",
    "    'background': 0,\n",
    "    'blacklist': 0,\n",
    "    'anomaly-spam': 1,\n",
    "    'dos': 2,\n",
    "    'scan11': 3,\n",
    "    'scan44': 4,\n",
    "    'nerisbotnet': 5\n",
    "}\n",
    "\n",
    "def get_columns_graph(names):\n",
    "    list_of_metrics = []\n",
    "    for name in names:\n",
    "        list_of_metrics.append('average_degree_g_'+ name)\n",
    "        list_of_metrics.append('density_g_'+ name)\n",
    "    return list_of_metrics\n",
    "def get_columns_community(names):\n",
    "    list_of_metrics = []\n",
    "    for name in names:\n",
    "        list_of_metrics.append('community_'+name)\n",
    "        list_of_metrics.append('Nb_of_nodes_c_'+name)\n",
    "        list_of_metrics.append('Nb_of_edges_c_'+name)\n",
    "        list_of_metrics.append('average_degree_c_'+name)\n",
    "        list_of_metrics.append('anchor_'+name)\n",
    "        list_of_metrics.append('density_c_'+name)\n",
    "        list_of_metrics.append('edges_dist_'+name)\n",
    "        list_of_metrics.append('externality_'+name)\n",
    "        list_of_metrics.append('conductance_'+name)\n",
    "        list_of_metrics.append('expansion_'+name)\n",
    "        list_of_metrics.append('mean_community_size_'+name)\n",
    "        list_of_metrics.append('NED_'+name)\n",
    "        list_of_metrics.append('NED_index_'+name)\n",
    "    return list_of_metrics\n",
    "\n",
    "base_col =  ['Duration','Bytes','Packets','Source Port','Destination Port','ToS']\n",
    "g_col = get_columns_graph(['ip5']) + get_columns_graph(['ip20']) + get_columns_graph(['ipport5']) + get_columns_graph(['ipport20'])\n",
    "c_col = get_columns_community(['ip5']) +  get_columns_community(['ip20']) +  get_columns_community(['ipport5']) +  get_columns_community(['ipport20'])\n",
    "dc_col = ['last_stability_ip5','stability_ip5','delta_density_ip5','delta_Node_ip5','delta_Degree_ip5','delta_expansion_ip5',\n",
    "          'last_stability_ip20','stability_ip20','delta_density_ip20','delta_Node_ip20','delta_Degree_ip20','delta_expansion_ip20',\n",
    "          'last_stability_ipport5','stability_ipport5','delta_density_ipport5','delta_Node_ipport5','delta_Degree_ipport5','delta_expansion_ipport5',\n",
    "          'last_stability_ipport20','stability_ipport20','delta_density_ipport20','delta_Node_ipport20','delta_Degree_ipport20','delta_expansion_ipport20']\n",
    "from sklearn.model_selection import train_test_split\n",
    "from sklearn.preprocessing import LabelEncoder\n",
    "import numpy as np\n",
    "\n",
    "# Load your data (replace this with your actual data loading code)\n",
    "X = community_df.drop('attack', axis=1)\n",
    "y = community_df['attack']\n",
    "\n",
    "# Convert the 'label' column to integers if it's of object type\n",
    "if y.dtype == object:\n",
    "    label_encoder = LabelEncoder()\n",
    "    y = label_encoder.fit_transform(y)\n",
    "\n",
    "\n"
   ]
  },
  {
   "cell_type": "code",
   "execution_count": 13,
   "id": "6deff435",
   "metadata": {
    "execution": {
     "iopub.execute_input": "2025-01-31T11:19:14.081221Z",
     "iopub.status.busy": "2025-01-31T11:19:14.080725Z",
     "iopub.status.idle": "2025-01-31T12:05:42.609971Z",
     "shell.execute_reply": "2025-01-31T12:05:42.607313Z"
    },
    "papermill": {
     "duration": 2788.547859,
     "end_time": "2025-01-31T12:05:42.614167",
     "exception": false,
     "start_time": "2025-01-31T11:19:14.066308",
     "status": "completed"
    },
    "tags": []
   },
   "outputs": [
    {
     "name": "stderr",
     "output_type": "stream",
     "text": [
      "/opt/conda/lib/python3.10/site-packages/xgboost/sklearn.py:889: UserWarning: `eval_metric` in `fit` method is deprecated for better compatibility with scikit-learn, use `eval_metric` in constructor or`set_params` instead.\n",
      "  warnings.warn(\n"
     ]
    },
    {
     "name": "stdout",
     "output_type": "stream",
     "text": [
      "[0]\tvalidation_0-aucpr:0.38852\tvalidation_1-aucpr:0.38720\n",
      "[1]\tvalidation_0-aucpr:0.39566\tvalidation_1-aucpr:0.39421\n",
      "[2]\tvalidation_0-aucpr:0.39856\tvalidation_1-aucpr:0.39657\n",
      "[3]\tvalidation_0-aucpr:0.40099\tvalidation_1-aucpr:0.39921\n",
      "[4]\tvalidation_0-aucpr:0.40122\tvalidation_1-aucpr:0.39938\n",
      "[5]\tvalidation_0-aucpr:0.40389\tvalidation_1-aucpr:0.40223\n",
      "[6]\tvalidation_0-aucpr:0.40663\tvalidation_1-aucpr:0.40409\n",
      "[7]\tvalidation_0-aucpr:0.40845\tvalidation_1-aucpr:0.40567\n",
      "[8]\tvalidation_0-aucpr:0.40848\tvalidation_1-aucpr:0.40646\n",
      "[9]\tvalidation_0-aucpr:0.40916\tvalidation_1-aucpr:0.40694\n",
      "[10]\tvalidation_0-aucpr:0.41675\tvalidation_1-aucpr:0.41430\n",
      "[11]\tvalidation_0-aucpr:0.41837\tvalidation_1-aucpr:0.41607\n",
      "[12]\tvalidation_0-aucpr:0.41955\tvalidation_1-aucpr:0.41683\n",
      "[13]\tvalidation_0-aucpr:0.42034\tvalidation_1-aucpr:0.41733\n",
      "[14]\tvalidation_0-aucpr:0.42174\tvalidation_1-aucpr:0.41836\n",
      "[15]\tvalidation_0-aucpr:0.42310\tvalidation_1-aucpr:0.41935\n",
      "[16]\tvalidation_0-aucpr:0.42379\tvalidation_1-aucpr:0.41995\n",
      "[17]\tvalidation_0-aucpr:0.42401\tvalidation_1-aucpr:0.42017\n",
      "[18]\tvalidation_0-aucpr:0.42440\tvalidation_1-aucpr:0.42054\n",
      "[19]\tvalidation_0-aucpr:0.42471\tvalidation_1-aucpr:0.42070\n",
      "[20]\tvalidation_0-aucpr:0.42604\tvalidation_1-aucpr:0.42114\n",
      "[21]\tvalidation_0-aucpr:0.42647\tvalidation_1-aucpr:0.42128\n",
      "[22]\tvalidation_0-aucpr:0.42808\tvalidation_1-aucpr:0.42185\n",
      "[23]\tvalidation_0-aucpr:0.42833\tvalidation_1-aucpr:0.42225\n",
      "[24]\tvalidation_0-aucpr:0.42941\tvalidation_1-aucpr:0.42181\n",
      "[25]\tvalidation_0-aucpr:0.42949\tvalidation_1-aucpr:0.42185\n",
      "[26]\tvalidation_0-aucpr:0.42963\tvalidation_1-aucpr:0.42186\n",
      "[27]\tvalidation_0-aucpr:0.42983\tvalidation_1-aucpr:0.42181\n",
      "[28]\tvalidation_0-aucpr:0.43160\tvalidation_1-aucpr:0.42264\n",
      "[29]\tvalidation_0-aucpr:0.43163\tvalidation_1-aucpr:0.42264\n",
      "[30]\tvalidation_0-aucpr:0.43197\tvalidation_1-aucpr:0.42323\n",
      "[31]\tvalidation_0-aucpr:0.43206\tvalidation_1-aucpr:0.42326\n",
      "[32]\tvalidation_0-aucpr:0.43260\tvalidation_1-aucpr:0.42328\n",
      "[33]\tvalidation_0-aucpr:0.43281\tvalidation_1-aucpr:0.42388\n",
      "[34]\tvalidation_0-aucpr:0.43291\tvalidation_1-aucpr:0.42390\n",
      "[35]\tvalidation_0-aucpr:0.43373\tvalidation_1-aucpr:0.42439\n",
      "[36]\tvalidation_0-aucpr:0.43376\tvalidation_1-aucpr:0.42439\n",
      "[37]\tvalidation_0-aucpr:0.43407\tvalidation_1-aucpr:0.42452\n",
      "[38]\tvalidation_0-aucpr:0.43461\tvalidation_1-aucpr:0.42477\n",
      "[39]\tvalidation_0-aucpr:0.43483\tvalidation_1-aucpr:0.42459\n",
      "[40]\tvalidation_0-aucpr:0.43523\tvalidation_1-aucpr:0.42471\n",
      "[41]\tvalidation_0-aucpr:0.43527\tvalidation_1-aucpr:0.42472\n",
      "[42]\tvalidation_0-aucpr:0.43544\tvalidation_1-aucpr:0.42484\n",
      "[43]\tvalidation_0-aucpr:0.43602\tvalidation_1-aucpr:0.42503\n",
      "[44]\tvalidation_0-aucpr:0.43694\tvalidation_1-aucpr:0.42589\n",
      "[45]\tvalidation_0-aucpr:0.43699\tvalidation_1-aucpr:0.42591\n",
      "[46]\tvalidation_0-aucpr:0.43706\tvalidation_1-aucpr:0.42596\n",
      "[47]\tvalidation_0-aucpr:0.43739\tvalidation_1-aucpr:0.42644\n",
      "[48]\tvalidation_0-aucpr:0.43768\tvalidation_1-aucpr:0.42670\n",
      "[49]\tvalidation_0-aucpr:0.43773\tvalidation_1-aucpr:0.42670\n",
      "[50]\tvalidation_0-aucpr:0.43776\tvalidation_1-aucpr:0.42671\n",
      "[51]\tvalidation_0-aucpr:0.43830\tvalidation_1-aucpr:0.42697\n",
      "[52]\tvalidation_0-aucpr:0.43836\tvalidation_1-aucpr:0.42688\n",
      "[53]\tvalidation_0-aucpr:0.43848\tvalidation_1-aucpr:0.42692\n",
      "[54]\tvalidation_0-aucpr:0.43856\tvalidation_1-aucpr:0.42689\n",
      "[55]\tvalidation_0-aucpr:0.43871\tvalidation_1-aucpr:0.42702\n",
      "[56]\tvalidation_0-aucpr:0.43878\tvalidation_1-aucpr:0.42718\n",
      "[57]\tvalidation_0-aucpr:0.43881\tvalidation_1-aucpr:0.42718\n",
      "[58]\tvalidation_0-aucpr:0.43908\tvalidation_1-aucpr:0.42734\n",
      "[59]\tvalidation_0-aucpr:0.43923\tvalidation_1-aucpr:0.42738\n",
      "[60]\tvalidation_0-aucpr:0.43953\tvalidation_1-aucpr:0.42738\n",
      "[61]\tvalidation_0-aucpr:0.43971\tvalidation_1-aucpr:0.42737\n",
      "[62]\tvalidation_0-aucpr:0.43984\tvalidation_1-aucpr:0.42748\n",
      "[63]\tvalidation_0-aucpr:0.43989\tvalidation_1-aucpr:0.42748\n",
      "[64]\tvalidation_0-aucpr:0.43998\tvalidation_1-aucpr:0.42751\n",
      "[65]\tvalidation_0-aucpr:0.44046\tvalidation_1-aucpr:0.42773\n",
      "[66]\tvalidation_0-aucpr:0.44059\tvalidation_1-aucpr:0.42774\n",
      "[67]\tvalidation_0-aucpr:0.44064\tvalidation_1-aucpr:0.42793\n",
      "[68]\tvalidation_0-aucpr:0.44094\tvalidation_1-aucpr:0.42778\n",
      "[69]\tvalidation_0-aucpr:0.44110\tvalidation_1-aucpr:0.42785\n",
      "[70]\tvalidation_0-aucpr:0.44127\tvalidation_1-aucpr:0.42795\n",
      "[71]\tvalidation_0-aucpr:0.44149\tvalidation_1-aucpr:0.42790\n",
      "[72]\tvalidation_0-aucpr:0.44167\tvalidation_1-aucpr:0.42795\n",
      "[73]\tvalidation_0-aucpr:0.44171\tvalidation_1-aucpr:0.42794\n",
      "[74]\tvalidation_0-aucpr:0.44205\tvalidation_1-aucpr:0.42744\n",
      "[75]\tvalidation_0-aucpr:0.44248\tvalidation_1-aucpr:0.42771\n",
      "[76]\tvalidation_0-aucpr:0.44259\tvalidation_1-aucpr:0.42771\n",
      "[77]\tvalidation_0-aucpr:0.44264\tvalidation_1-aucpr:0.42780\n",
      "[78]\tvalidation_0-aucpr:0.44266\tvalidation_1-aucpr:0.42780\n",
      "[79]\tvalidation_0-aucpr:0.44275\tvalidation_1-aucpr:0.42782\n",
      "[80]\tvalidation_0-aucpr:0.44302\tvalidation_1-aucpr:0.42782\n",
      "[81]\tvalidation_0-aucpr:0.44309\tvalidation_1-aucpr:0.42782\n",
      "[82]\tvalidation_0-aucpr:0.44317\tvalidation_1-aucpr:0.42782\n",
      "[83]\tvalidation_0-aucpr:0.44323\tvalidation_1-aucpr:0.42782\n",
      "[84]\tvalidation_0-aucpr:0.44329\tvalidation_1-aucpr:0.42783\n",
      "[85]\tvalidation_0-aucpr:0.44355\tvalidation_1-aucpr:0.42813\n",
      "[86]\tvalidation_0-aucpr:0.44362\tvalidation_1-aucpr:0.42812\n",
      "[87]\tvalidation_0-aucpr:0.44370\tvalidation_1-aucpr:0.42813\n",
      "[88]\tvalidation_0-aucpr:0.44371\tvalidation_1-aucpr:0.42813\n",
      "[89]\tvalidation_0-aucpr:0.44379\tvalidation_1-aucpr:0.42816\n",
      "[90]\tvalidation_0-aucpr:0.44381\tvalidation_1-aucpr:0.42816\n",
      "[91]\tvalidation_0-aucpr:0.44387\tvalidation_1-aucpr:0.42814\n",
      "[92]\tvalidation_0-aucpr:0.44390\tvalidation_1-aucpr:0.42812\n",
      "[93]\tvalidation_0-aucpr:0.44394\tvalidation_1-aucpr:0.42812\n",
      "[94]\tvalidation_0-aucpr:0.44425\tvalidation_1-aucpr:0.42831\n",
      "[95]\tvalidation_0-aucpr:0.44456\tvalidation_1-aucpr:0.42829\n",
      "[96]\tvalidation_0-aucpr:0.44465\tvalidation_1-aucpr:0.42829\n",
      "[97]\tvalidation_0-aucpr:0.44485\tvalidation_1-aucpr:0.42829\n",
      "[98]\tvalidation_0-aucpr:0.44487\tvalidation_1-aucpr:0.42829\n",
      "[99]\tvalidation_0-aucpr:0.44493\tvalidation_1-aucpr:0.42836\n"
     ]
    },
    {
     "name": "stderr",
     "output_type": "stream",
     "text": [
      "/tmp/ipykernel_16/1928500786.py:28: RuntimeWarning: overflow encountered in scalar multiply\n",
      "  denominator = np.sqrt((true_positive + false_positive) * (true_positive + false_negative) * (true_negative + false_positive) * (true_negative + false_negative))\n",
      "/tmp/ipykernel_16/1928500786.py:28: RuntimeWarning: invalid value encountered in sqrt\n",
      "  denominator = np.sqrt((true_positive + false_positive) * (true_positive + false_negative) * (true_negative + false_positive) * (true_negative + false_negative))\n"
     ]
    },
    {
     "name": "stdout",
     "output_type": "stream",
     "text": [
      "{'validation_0': OrderedDict([('aucpr', [0.38851573002724915, 0.39565676534010563, 0.39856459294698116, 0.4009941587275478, 0.4012195995385097, 0.40388649332653703, 0.4066260256925392, 0.40844968615364075, 0.4084830958548029, 0.4091596607548028, 0.4167488524686991, 0.41836754278367866, 0.4195507860114098, 0.42033856043576234, 0.4217401690352447, 0.42310237121421945, 0.42379045423481554, 0.4240064623164192, 0.4244003890740735, 0.4247089038470814, 0.4260395574708929, 0.42646511387481917, 0.42807592473277123, 0.4283294733250054, 0.4294140653972207, 0.4294871886393736, 0.42963238278187443, 0.4298297045870674, 0.43159869063699224, 0.4316287758686958, 0.4319749632619519, 0.43205913896087317, 0.4325968475220513, 0.43281444124824126, 0.4329074872720034, 0.4337316315152811, 0.4337605626250873, 0.4340725934738331, 0.434608490308126, 0.4348327531868448, 0.4352255657604196, 0.4352664315461828, 0.4354354793938407, 0.43602480008337074, 0.4369378087175786, 0.43699264692956274, 0.43706265957084933, 0.4373916592984984, 0.43767552591517267, 0.43772668353727906, 0.43776031725298603, 0.43829930111495774, 0.4383649077398352, 0.43848446004512204, 0.4385558206442353, 0.4387103006429506, 0.4387787082779934, 0.4388142651404561, 0.4390847137065966, 0.43922664693022934, 0.43953443852121493, 0.43970630726700594, 0.4398443630198275, 0.4398893300176724, 0.43997533009288925, 0.44045853900811516, 0.44059317849480684, 0.44064180735408676, 0.44093718572710516, 0.4411019150255098, 0.4412674344219859, 0.4414872765271812, 0.44166893428831777, 0.4417095885212741, 0.44204508937836573, 0.44248375158186715, 0.44258592553439036, 0.4426422806035783, 0.4426633476934089, 0.4427537301995444, 0.44302243708298467, 0.44308594496207987, 0.4431672503358279, 0.4432262013495771, 0.44329231410878933, 0.44355133636377725, 0.4436183536124444, 0.44369902619587415, 0.4437137302199615, 0.4437850923933595, 0.4438050522318752, 0.44387212148030886, 0.4439014149918062, 0.4439423858620303, 0.44424989535230913, 0.44456474737265805, 0.4446483613064573, 0.44485030305812345, 0.4448711821207989, 0.4449319789985309])]), 'validation_1': OrderedDict([('aucpr', [0.38720348247478165, 0.3942140788465536, 0.39656922225918595, 0.3992079716312012, 0.3993830238040668, 0.40222504414607263, 0.40408680442220846, 0.40567497247211354, 0.40645765838514264, 0.40693856968024844, 0.4142955256455639, 0.416065294536146, 0.4168284695856781, 0.41732965035428127, 0.4183608428602957, 0.4193540730723361, 0.41994533046332366, 0.4201664382077455, 0.42054018262223647, 0.42070290968822177, 0.4211387982589, 0.42127694426995654, 0.42185470852912677, 0.42225256256778526, 0.42180544443319357, 0.4218498751174095, 0.4218605225967676, 0.42180887440282444, 0.4226426965804239, 0.4226441615783183, 0.4232319349470494, 0.4232615443476203, 0.4232798306123554, 0.42388270715373866, 0.4238976969986176, 0.4243865715406399, 0.4243911973547182, 0.42452462591256807, 0.4247702648139499, 0.4245851351738692, 0.4247083046886256, 0.4247170067602212, 0.42483751963973354, 0.42502669769038526, 0.4258932161437031, 0.42590730905722923, 0.42596114440747956, 0.42643539952400716, 0.4267029336231181, 0.426698950258515, 0.42670710857464567, 0.4269737409618637, 0.4268832367491571, 0.4269176726197258, 0.4268886481629484, 0.4270238692337301, 0.42718297426062035, 0.42717679238784173, 0.42734115578641513, 0.42737877089989423, 0.4273750128664977, 0.42737080939517413, 0.42748097197595114, 0.42747626006718575, 0.42750585731370866, 0.4277281439751737, 0.4277434398665397, 0.42792694260662306, 0.4277756656367199, 0.42785156051424406, 0.427949042395469, 0.42789619260708106, 0.42794783845641954, 0.42794227963063536, 0.42744492545206664, 0.42771456279349246, 0.427712777023156, 0.427801150134605, 0.4277982839521351, 0.4278218723150259, 0.42782210410561405, 0.4278176227402681, 0.427817866136621, 0.4278246877725054, 0.427826483486855, 0.4281324662774334, 0.4281168980210949, 0.42813378279123293, 0.42813109490293955, 0.42815932149660246, 0.42815638404793255, 0.42814369861537616, 0.4281229278920966, 0.42812323949329034, 0.4283130500516835, 0.42829155534599306, 0.4282935004281514, 0.42829119887018385, 0.42829349928161176, 0.42836089729436233])])}\n"
     ]
    },
    {
     "data": {
      "image/png": "[encoded data removed]",
      "text/plain": [
       "<Figure size 640x480 with 1 Axes>"
      ]
     },
     "metadata": {},
     "output_type": "display_data"
    },
    {
     "name": "stderr",
     "output_type": "stream",
     "text": [
      "/opt/conda/lib/python3.10/site-packages/xgboost/sklearn.py:889: UserWarning: `eval_metric` in `fit` method is deprecated for better compatibility with scikit-learn, use `eval_metric` in constructor or`set_params` instead.\n",
      "  warnings.warn(\n"
     ]
    },
    {
     "name": "stdout",
     "output_type": "stream",
     "text": [
      "[0]\tvalidation_0-aucpr:0.38410\tvalidation_1-aucpr:0.38979\n",
      "[1]\tvalidation_0-aucpr:0.39071\tvalidation_1-aucpr:0.39606\n",
      "[2]\tvalidation_0-aucpr:0.39667\tvalidation_1-aucpr:0.40213\n",
      "[3]\tvalidation_0-aucpr:0.39891\tvalidation_1-aucpr:0.40423\n",
      "[4]\tvalidation_0-aucpr:0.39972\tvalidation_1-aucpr:0.40495\n",
      "[5]\tvalidation_0-aucpr:0.39972\tvalidation_1-aucpr:0.40485\n",
      "[6]\tvalidation_0-aucpr:0.40186\tvalidation_1-aucpr:0.40655\n",
      "[7]\tvalidation_0-aucpr:0.40527\tvalidation_1-aucpr:0.40816\n",
      "[8]\tvalidation_0-aucpr:0.40910\tvalidation_1-aucpr:0.41206\n",
      "[9]\tvalidation_0-aucpr:0.40983\tvalidation_1-aucpr:0.41292\n",
      "[10]\tvalidation_0-aucpr:0.41388\tvalidation_1-aucpr:0.41744\n",
      "[11]\tvalidation_0-aucpr:0.41383\tvalidation_1-aucpr:0.41709\n",
      "[12]\tvalidation_0-aucpr:0.41464\tvalidation_1-aucpr:0.41797\n",
      "[13]\tvalidation_0-aucpr:0.41117\tvalidation_1-aucpr:0.41598\n",
      "[14]\tvalidation_0-aucpr:0.41465\tvalidation_1-aucpr:0.41894\n",
      "[15]\tvalidation_0-aucpr:0.41616\tvalidation_1-aucpr:0.42044\n",
      "[16]\tvalidation_0-aucpr:0.41703\tvalidation_1-aucpr:0.42111\n",
      "[17]\tvalidation_0-aucpr:0.41848\tvalidation_1-aucpr:0.42260\n",
      "[18]\tvalidation_0-aucpr:0.41995\tvalidation_1-aucpr:0.42383\n",
      "[19]\tvalidation_0-aucpr:0.42083\tvalidation_1-aucpr:0.42447\n",
      "[20]\tvalidation_0-aucpr:0.42157\tvalidation_1-aucpr:0.42520\n",
      "[21]\tvalidation_0-aucpr:0.42194\tvalidation_1-aucpr:0.42514\n",
      "[22]\tvalidation_0-aucpr:0.42243\tvalidation_1-aucpr:0.42562\n",
      "[23]\tvalidation_0-aucpr:0.42270\tvalidation_1-aucpr:0.42582\n",
      "[24]\tvalidation_0-aucpr:0.42373\tvalidation_1-aucpr:0.42702\n",
      "[25]\tvalidation_0-aucpr:0.42418\tvalidation_1-aucpr:0.42694\n",
      "[26]\tvalidation_0-aucpr:0.42429\tvalidation_1-aucpr:0.42722\n",
      "[27]\tvalidation_0-aucpr:0.42433\tvalidation_1-aucpr:0.42722\n",
      "[28]\tvalidation_0-aucpr:0.42505\tvalidation_1-aucpr:0.42812\n",
      "[29]\tvalidation_0-aucpr:0.42585\tvalidation_1-aucpr:0.42803\n",
      "[30]\tvalidation_0-aucpr:0.42590\tvalidation_1-aucpr:0.42805\n",
      "[31]\tvalidation_0-aucpr:0.42640\tvalidation_1-aucpr:0.42888\n",
      "[32]\tvalidation_0-aucpr:0.42740\tvalidation_1-aucpr:0.42919\n",
      "[33]\tvalidation_0-aucpr:0.42782\tvalidation_1-aucpr:0.42931\n",
      "[34]\tvalidation_0-aucpr:0.42850\tvalidation_1-aucpr:0.42972\n",
      "[35]\tvalidation_0-aucpr:0.42876\tvalidation_1-aucpr:0.42944\n",
      "[36]\tvalidation_0-aucpr:0.42941\tvalidation_1-aucpr:0.42961\n",
      "[37]\tvalidation_0-aucpr:0.42965\tvalidation_1-aucpr:0.42910\n",
      "[38]\tvalidation_0-aucpr:0.42969\tvalidation_1-aucpr:0.42911\n",
      "[39]\tvalidation_0-aucpr:0.42973\tvalidation_1-aucpr:0.42910\n",
      "[40]\tvalidation_0-aucpr:0.42995\tvalidation_1-aucpr:0.42909\n",
      "[41]\tvalidation_0-aucpr:0.43011\tvalidation_1-aucpr:0.42935\n",
      "[42]\tvalidation_0-aucpr:0.43030\tvalidation_1-aucpr:0.42943\n",
      "[43]\tvalidation_0-aucpr:0.43049\tvalidation_1-aucpr:0.42953\n",
      "[44]\tvalidation_0-aucpr:0.43058\tvalidation_1-aucpr:0.42949\n",
      "[45]\tvalidation_0-aucpr:0.43103\tvalidation_1-aucpr:0.42971\n",
      "[46]\tvalidation_0-aucpr:0.43106\tvalidation_1-aucpr:0.42970\n",
      "[47]\tvalidation_0-aucpr:0.43153\tvalidation_1-aucpr:0.42915\n",
      "[48]\tvalidation_0-aucpr:0.43180\tvalidation_1-aucpr:0.42924\n",
      "[49]\tvalidation_0-aucpr:0.43273\tvalidation_1-aucpr:0.42975\n",
      "[50]\tvalidation_0-aucpr:0.43283\tvalidation_1-aucpr:0.42975\n",
      "[51]\tvalidation_0-aucpr:0.43290\tvalidation_1-aucpr:0.42974\n",
      "[52]\tvalidation_0-aucpr:0.43294\tvalidation_1-aucpr:0.42974\n",
      "[53]\tvalidation_0-aucpr:0.43299\tvalidation_1-aucpr:0.42974\n",
      "[54]\tvalidation_0-aucpr:0.43309\tvalidation_1-aucpr:0.42973\n",
      "[55]\tvalidation_0-aucpr:0.43331\tvalidation_1-aucpr:0.42997\n",
      "[56]\tvalidation_0-aucpr:0.43362\tvalidation_1-aucpr:0.42989\n",
      "[57]\tvalidation_0-aucpr:0.43409\tvalidation_1-aucpr:0.42956\n",
      "[58]\tvalidation_0-aucpr:0.43412\tvalidation_1-aucpr:0.42959\n",
      "[59]\tvalidation_0-aucpr:0.43439\tvalidation_1-aucpr:0.42977\n",
      "[60]\tvalidation_0-aucpr:0.43464\tvalidation_1-aucpr:0.42980\n",
      "[61]\tvalidation_0-aucpr:0.43492\tvalidation_1-aucpr:0.43002\n",
      "[62]\tvalidation_0-aucpr:0.43521\tvalidation_1-aucpr:0.43015\n",
      "[63]\tvalidation_0-aucpr:0.43540\tvalidation_1-aucpr:0.43022\n",
      "[64]\tvalidation_0-aucpr:0.43596\tvalidation_1-aucpr:0.43018\n",
      "[65]\tvalidation_0-aucpr:0.43619\tvalidation_1-aucpr:0.43029\n",
      "[66]\tvalidation_0-aucpr:0.43622\tvalidation_1-aucpr:0.43031\n",
      "[67]\tvalidation_0-aucpr:0.43661\tvalidation_1-aucpr:0.43038\n",
      "[68]\tvalidation_0-aucpr:0.43670\tvalidation_1-aucpr:0.43038\n",
      "[69]\tvalidation_0-aucpr:0.43723\tvalidation_1-aucpr:0.43070\n",
      "[70]\tvalidation_0-aucpr:0.43735\tvalidation_1-aucpr:0.43056\n",
      "[71]\tvalidation_0-aucpr:0.43751\tvalidation_1-aucpr:0.43064\n",
      "[72]\tvalidation_0-aucpr:0.43753\tvalidation_1-aucpr:0.43064\n",
      "[73]\tvalidation_0-aucpr:0.43765\tvalidation_1-aucpr:0.43080\n",
      "[74]\tvalidation_0-aucpr:0.43774\tvalidation_1-aucpr:0.43080\n",
      "[75]\tvalidation_0-aucpr:0.43781\tvalidation_1-aucpr:0.43078\n",
      "[76]\tvalidation_0-aucpr:0.43789\tvalidation_1-aucpr:0.43079\n",
      "[77]\tvalidation_0-aucpr:0.43800\tvalidation_1-aucpr:0.43082\n",
      "[78]\tvalidation_0-aucpr:0.43857\tvalidation_1-aucpr:0.43091\n",
      "[79]\tvalidation_0-aucpr:0.43884\tvalidation_1-aucpr:0.43091\n",
      "[80]\tvalidation_0-aucpr:0.43897\tvalidation_1-aucpr:0.43089\n",
      "[81]\tvalidation_0-aucpr:0.43925\tvalidation_1-aucpr:0.43103\n",
      "[82]\tvalidation_0-aucpr:0.43928\tvalidation_1-aucpr:0.43103\n",
      "[83]\tvalidation_0-aucpr:0.43933\tvalidation_1-aucpr:0.43103\n",
      "[84]\tvalidation_0-aucpr:0.43939\tvalidation_1-aucpr:0.43102\n",
      "[85]\tvalidation_0-aucpr:0.43945\tvalidation_1-aucpr:0.43105\n",
      "[86]\tvalidation_0-aucpr:0.43965\tvalidation_1-aucpr:0.43090\n",
      "[87]\tvalidation_0-aucpr:0.43996\tvalidation_1-aucpr:0.43112\n",
      "[88]\tvalidation_0-aucpr:0.44019\tvalidation_1-aucpr:0.43115\n",
      "[89]\tvalidation_0-aucpr:0.44032\tvalidation_1-aucpr:0.43108\n",
      "[90]\tvalidation_0-aucpr:0.44102\tvalidation_1-aucpr:0.43170\n",
      "[91]\tvalidation_0-aucpr:0.44105\tvalidation_1-aucpr:0.43170\n",
      "[92]\tvalidation_0-aucpr:0.44143\tvalidation_1-aucpr:0.43179\n",
      "[93]\tvalidation_0-aucpr:0.44146\tvalidation_1-aucpr:0.43179\n",
      "[94]\tvalidation_0-aucpr:0.44221\tvalidation_1-aucpr:0.43264\n",
      "[95]\tvalidation_0-aucpr:0.44237\tvalidation_1-aucpr:0.43253\n",
      "[96]\tvalidation_0-aucpr:0.44271\tvalidation_1-aucpr:0.43289\n",
      "[97]\tvalidation_0-aucpr:0.44274\tvalidation_1-aucpr:0.43290\n",
      "[98]\tvalidation_0-aucpr:0.44288\tvalidation_1-aucpr:0.43292\n",
      "[99]\tvalidation_0-aucpr:0.44291\tvalidation_1-aucpr:0.43293\n"
     ]
    },
    {
     "name": "stderr",
     "output_type": "stream",
     "text": [
      "/tmp/ipykernel_16/1928500786.py:28: RuntimeWarning: overflow encountered in scalar multiply\n",
      "  denominator = np.sqrt((true_positive + false_positive) * (true_positive + false_negative) * (true_negative + false_positive) * (true_negative + false_negative))\n",
      "/tmp/ipykernel_16/1928500786.py:28: RuntimeWarning: invalid value encountered in sqrt\n",
      "  denominator = np.sqrt((true_positive + false_positive) * (true_positive + false_negative) * (true_negative + false_positive) * (true_negative + false_negative))\n"
     ]
    },
    {
     "name": "stdout",
     "output_type": "stream",
     "text": [
      "{'validation_0': OrderedDict([('aucpr', [0.3840978200032999, 0.39071120744990084, 0.39667006820761713, 0.39890688868895574, 0.3997218430358419, 0.399720553211411, 0.401856535624573, 0.4052687315223276, 0.40909726168309535, 0.4098346822012714, 0.4138804751461445, 0.41382922677435063, 0.4146415203065566, 0.4111727898326676, 0.41465115865851626, 0.4161617260011511, 0.41702954605455733, 0.41847652511945976, 0.41994744950274937, 0.4208252590094433, 0.4215670179964022, 0.42193760954090603, 0.42243440410737904, 0.4227020601365974, 0.4237340750069491, 0.424182322924363, 0.4242946506618493, 0.42432703077808914, 0.42504691096018893, 0.42584638882053294, 0.4258958657942357, 0.4263981738305207, 0.4273997386902097, 0.42782313524320215, 0.42849640909373865, 0.42875718866083307, 0.4294113808029231, 0.429654384492356, 0.42968995203583615, 0.42973361056674964, 0.42995444344150685, 0.43010951488530597, 0.4303017703721981, 0.4304938215698954, 0.4305802749766057, 0.4310272561436719, 0.4310645205650903, 0.4315258693694998, 0.4318044605654575, 0.43272891123786633, 0.4328256061915945, 0.43289881573575384, 0.4329395543497414, 0.43298823646149137, 0.433087313269438, 0.43330546110526846, 0.43361618558104237, 0.43408506805153046, 0.43412093708781635, 0.4343903392179404, 0.4346379569698353, 0.4349243277104532, 0.4352100893561714, 0.4353978187927467, 0.43596078573941793, 0.43618509581828285, 0.43621931510203804, 0.43660877798838243, 0.4367003605379506, 0.43723362091521367, 0.4373528326507, 0.43750898565561075, 0.4375342889245509, 0.43765473653846915, 0.43773954707494045, 0.4378112948652353, 0.4378873266990541, 0.437999351103548, 0.4385718767704233, 0.438841288863444, 0.43896672305850687, 0.4392470322545134, 0.439282878194382, 0.4393329946477161, 0.43939258819152566, 0.43944639697113874, 0.4396509738124954, 0.43995590326544537, 0.4401887242729287, 0.44032199851207565, 0.4410162005708931, 0.44104760313119107, 0.4414328308311668, 0.44145628677986254, 0.44220531324026463, 0.44237294923644555, 0.44271189570610064, 0.44274110060070737, 0.44287587657988836, 0.4429050273550524])]), 'validation_1': OrderedDict([('aucpr', [0.38979073228105116, 0.39605861403997106, 0.40213390613493966, 0.40422857165140136, 0.4049478164982153, 0.4048492797451998, 0.40654795717520426, 0.4081554454916812, 0.4120604387716415, 0.4129198664642454, 0.4174360277779688, 0.4170942773510408, 0.41797045536165195, 0.4159791998185175, 0.4189409430823285, 0.4204384776978233, 0.4211115197332181, 0.4226046019056134, 0.4238285663418068, 0.42446547003655477, 0.4252048399165307, 0.4251393431285319, 0.42561885031258856, 0.42581764530157873, 0.4270241531650002, 0.4269406140151787, 0.4272186660655913, 0.42721720211339353, 0.42812461125958495, 0.42803346966026784, 0.4280474905910266, 0.4288831674997072, 0.4291924186881913, 0.42930601099198124, 0.4297237368090311, 0.42943717850029206, 0.4296110047747615, 0.4291049191354752, 0.4291135905332459, 0.42910069002968687, 0.4290867428747851, 0.42934683020682257, 0.42942625160993564, 0.42952742189188303, 0.4294948000210991, 0.42970989206546406, 0.42969697477887, 0.429154965826151, 0.4292359583609866, 0.42974562394041377, 0.4297491259634863, 0.4297363652039951, 0.4297353703728698, 0.4297378946672036, 0.4297287189676416, 0.4299729910902264, 0.4298861653430642, 0.42956187331217566, 0.42959115299745493, 0.4297662445488735, 0.42979911228661377, 0.43001770453730553, 0.43015102364993496, 0.4302214416254927, 0.43017966718792494, 0.43029334417973436, 0.4303103218259301, 0.4303765740931253, 0.4303782457447352, 0.4307015639961065, 0.43055635541422743, 0.4306399473403659, 0.43064050693893385, 0.4308039777825176, 0.43079943558262196, 0.4307770775998521, 0.4307915835232759, 0.4308175731476481, 0.4309113533950058, 0.43090802712893084, 0.43089034808268956, 0.43102533013830774, 0.4310279694206836, 0.4310277661135035, 0.4310207630441244, 0.4310492184239982, 0.43090067029286544, 0.43111604797969466, 0.4311542246234536, 0.43108220604353703, 0.43170389737504195, 0.4316992706172573, 0.43179114388069645, 0.4317928159151815, 0.4326407824454943, 0.432528815975073, 0.43288891045087274, 0.43289603519694847, 0.43292003068286816, 0.43292527143020115])])}\n"
     ]
    },
    {
     "data": {
      "image/png": "[encoded data removed]",
      "text/plain": [
       "<Figure size 640x480 with 1 Axes>"
      ]
     },
     "metadata": {},
     "output_type": "display_data"
    },
    {
     "name": "stderr",
     "output_type": "stream",
     "text": [
      "/opt/conda/lib/python3.10/site-packages/xgboost/sklearn.py:889: UserWarning: `eval_metric` in `fit` method is deprecated for better compatibility with scikit-learn, use `eval_metric` in constructor or`set_params` instead.\n",
      "  warnings.warn(\n"
     ]
    },
    {
     "name": "stdout",
     "output_type": "stream",
     "text": [
      "[0]\tvalidation_0-aucpr:0.38173\tvalidation_1-aucpr:0.38672\n",
      "[1]\tvalidation_0-aucpr:0.39531\tvalidation_1-aucpr:0.39823\n",
      "[2]\tvalidation_0-aucpr:0.39653\tvalidation_1-aucpr:0.39999\n",
      "[3]\tvalidation_0-aucpr:0.39854\tvalidation_1-aucpr:0.40114\n",
      "[4]\tvalidation_0-aucpr:0.40009\tvalidation_1-aucpr:0.40258\n",
      "[5]\tvalidation_0-aucpr:0.40178\tvalidation_1-aucpr:0.40476\n",
      "[6]\tvalidation_0-aucpr:0.40483\tvalidation_1-aucpr:0.40736\n",
      "[7]\tvalidation_0-aucpr:0.40688\tvalidation_1-aucpr:0.41012\n",
      "[8]\tvalidation_0-aucpr:0.40771\tvalidation_1-aucpr:0.41107\n",
      "[9]\tvalidation_0-aucpr:0.41458\tvalidation_1-aucpr:0.41761\n",
      "[10]\tvalidation_0-aucpr:0.41494\tvalidation_1-aucpr:0.41796\n",
      "[11]\tvalidation_0-aucpr:0.41573\tvalidation_1-aucpr:0.41904\n",
      "[12]\tvalidation_0-aucpr:0.41615\tvalidation_1-aucpr:0.41933\n",
      "[13]\tvalidation_0-aucpr:0.41238\tvalidation_1-aucpr:0.41618\n",
      "[14]\tvalidation_0-aucpr:0.41310\tvalidation_1-aucpr:0.41593\n",
      "[15]\tvalidation_0-aucpr:0.41740\tvalidation_1-aucpr:0.42065\n",
      "[16]\tvalidation_0-aucpr:0.41832\tvalidation_1-aucpr:0.42085\n",
      "[17]\tvalidation_0-aucpr:0.41910\tvalidation_1-aucpr:0.42148\n",
      "[18]\tvalidation_0-aucpr:0.41922\tvalidation_1-aucpr:0.42176\n",
      "[19]\tvalidation_0-aucpr:0.41938\tvalidation_1-aucpr:0.42182\n",
      "[20]\tvalidation_0-aucpr:0.42013\tvalidation_1-aucpr:0.42190\n",
      "[21]\tvalidation_0-aucpr:0.42038\tvalidation_1-aucpr:0.42218\n",
      "[22]\tvalidation_0-aucpr:0.42085\tvalidation_1-aucpr:0.42253\n",
      "[23]\tvalidation_0-aucpr:0.42109\tvalidation_1-aucpr:0.42268\n",
      "[24]\tvalidation_0-aucpr:0.42136\tvalidation_1-aucpr:0.42292\n",
      "[25]\tvalidation_0-aucpr:0.42211\tvalidation_1-aucpr:0.42317\n",
      "[26]\tvalidation_0-aucpr:0.42367\tvalidation_1-aucpr:0.42442\n",
      "[27]\tvalidation_0-aucpr:0.42370\tvalidation_1-aucpr:0.42442\n",
      "[28]\tvalidation_0-aucpr:0.42705\tvalidation_1-aucpr:0.42761\n",
      "[29]\tvalidation_0-aucpr:0.42728\tvalidation_1-aucpr:0.42790\n",
      "[30]\tvalidation_0-aucpr:0.42746\tvalidation_1-aucpr:0.42789\n",
      "[31]\tvalidation_0-aucpr:0.42798\tvalidation_1-aucpr:0.42827\n",
      "[32]\tvalidation_0-aucpr:0.42817\tvalidation_1-aucpr:0.42842\n",
      "[33]\tvalidation_0-aucpr:0.42922\tvalidation_1-aucpr:0.42885\n",
      "[34]\tvalidation_0-aucpr:0.42967\tvalidation_1-aucpr:0.42881\n",
      "[35]\tvalidation_0-aucpr:0.42972\tvalidation_1-aucpr:0.42882\n",
      "[36]\tvalidation_0-aucpr:0.43029\tvalidation_1-aucpr:0.42838\n",
      "[37]\tvalidation_0-aucpr:0.43032\tvalidation_1-aucpr:0.42837\n",
      "[38]\tvalidation_0-aucpr:0.43091\tvalidation_1-aucpr:0.42886\n",
      "[39]\tvalidation_0-aucpr:0.43105\tvalidation_1-aucpr:0.42876\n",
      "[40]\tvalidation_0-aucpr:0.43152\tvalidation_1-aucpr:0.42848\n",
      "[41]\tvalidation_0-aucpr:0.43170\tvalidation_1-aucpr:0.42887\n",
      "[42]\tvalidation_0-aucpr:0.43317\tvalidation_1-aucpr:0.42949\n",
      "[43]\tvalidation_0-aucpr:0.43343\tvalidation_1-aucpr:0.42949\n",
      "[44]\tvalidation_0-aucpr:0.43364\tvalidation_1-aucpr:0.42966\n",
      "[45]\tvalidation_0-aucpr:0.43389\tvalidation_1-aucpr:0.42991\n",
      "[46]\tvalidation_0-aucpr:0.43522\tvalidation_1-aucpr:0.43200\n",
      "[47]\tvalidation_0-aucpr:0.43532\tvalidation_1-aucpr:0.43210\n",
      "[48]\tvalidation_0-aucpr:0.43566\tvalidation_1-aucpr:0.43231\n",
      "[49]\tvalidation_0-aucpr:0.43570\tvalidation_1-aucpr:0.43231\n",
      "[50]\tvalidation_0-aucpr:0.43594\tvalidation_1-aucpr:0.43241\n",
      "[51]\tvalidation_0-aucpr:0.43598\tvalidation_1-aucpr:0.43245\n",
      "[52]\tvalidation_0-aucpr:0.43603\tvalidation_1-aucpr:0.43247\n",
      "[53]\tvalidation_0-aucpr:0.43640\tvalidation_1-aucpr:0.43299\n",
      "[54]\tvalidation_0-aucpr:0.43686\tvalidation_1-aucpr:0.43301\n",
      "[55]\tvalidation_0-aucpr:0.43731\tvalidation_1-aucpr:0.43307\n",
      "[56]\tvalidation_0-aucpr:0.43739\tvalidation_1-aucpr:0.43307\n",
      "[57]\tvalidation_0-aucpr:0.43792\tvalidation_1-aucpr:0.43306\n",
      "[58]\tvalidation_0-aucpr:0.43804\tvalidation_1-aucpr:0.43322\n",
      "[59]\tvalidation_0-aucpr:0.43836\tvalidation_1-aucpr:0.43341\n",
      "[60]\tvalidation_0-aucpr:0.43865\tvalidation_1-aucpr:0.43346\n",
      "[61]\tvalidation_0-aucpr:0.43880\tvalidation_1-aucpr:0.43333\n",
      "[62]\tvalidation_0-aucpr:0.43885\tvalidation_1-aucpr:0.43334\n",
      "[63]\tvalidation_0-aucpr:0.43887\tvalidation_1-aucpr:0.43337\n",
      "[64]\tvalidation_0-aucpr:0.43913\tvalidation_1-aucpr:0.43366\n",
      "[65]\tvalidation_0-aucpr:0.43935\tvalidation_1-aucpr:0.43367\n",
      "[66]\tvalidation_0-aucpr:0.43943\tvalidation_1-aucpr:0.43366\n",
      "[67]\tvalidation_0-aucpr:0.43985\tvalidation_1-aucpr:0.43381\n",
      "[68]\tvalidation_0-aucpr:0.44010\tvalidation_1-aucpr:0.43365\n",
      "[69]\tvalidation_0-aucpr:0.44018\tvalidation_1-aucpr:0.43366\n",
      "[70]\tvalidation_0-aucpr:0.44038\tvalidation_1-aucpr:0.43356\n",
      "[71]\tvalidation_0-aucpr:0.44042\tvalidation_1-aucpr:0.43355\n",
      "[72]\tvalidation_0-aucpr:0.44050\tvalidation_1-aucpr:0.43350\n",
      "[73]\tvalidation_0-aucpr:0.44055\tvalidation_1-aucpr:0.43349\n",
      "[74]\tvalidation_0-aucpr:0.44067\tvalidation_1-aucpr:0.43348\n",
      "[75]\tvalidation_0-aucpr:0.44099\tvalidation_1-aucpr:0.43356\n",
      "[76]\tvalidation_0-aucpr:0.44102\tvalidation_1-aucpr:0.43357\n",
      "[77]\tvalidation_0-aucpr:0.44106\tvalidation_1-aucpr:0.43359\n",
      "[78]\tvalidation_0-aucpr:0.44152\tvalidation_1-aucpr:0.43397\n",
      "[79]\tvalidation_0-aucpr:0.44184\tvalidation_1-aucpr:0.43402\n",
      "[80]\tvalidation_0-aucpr:0.44223\tvalidation_1-aucpr:0.43420\n",
      "[81]\tvalidation_0-aucpr:0.44247\tvalidation_1-aucpr:0.43429\n",
      "[82]\tvalidation_0-aucpr:0.44268\tvalidation_1-aucpr:0.43438\n",
      "[83]\tvalidation_0-aucpr:0.44282\tvalidation_1-aucpr:0.43444\n",
      "[84]\tvalidation_0-aucpr:0.44294\tvalidation_1-aucpr:0.43449\n",
      "[85]\tvalidation_0-aucpr:0.44300\tvalidation_1-aucpr:0.43448\n",
      "[86]\tvalidation_0-aucpr:0.44310\tvalidation_1-aucpr:0.43449\n",
      "[87]\tvalidation_0-aucpr:0.44317\tvalidation_1-aucpr:0.43485\n",
      "[88]\tvalidation_0-aucpr:0.44325\tvalidation_1-aucpr:0.43489\n",
      "[89]\tvalidation_0-aucpr:0.44331\tvalidation_1-aucpr:0.43490\n",
      "[90]\tvalidation_0-aucpr:0.44343\tvalidation_1-aucpr:0.43488\n",
      "[91]\tvalidation_0-aucpr:0.44352\tvalidation_1-aucpr:0.43489\n",
      "[92]\tvalidation_0-aucpr:0.44364\tvalidation_1-aucpr:0.43498\n",
      "[93]\tvalidation_0-aucpr:0.44394\tvalidation_1-aucpr:0.43513\n",
      "[94]\tvalidation_0-aucpr:0.44447\tvalidation_1-aucpr:0.43539\n",
      "[95]\tvalidation_0-aucpr:0.44459\tvalidation_1-aucpr:0.43544\n",
      "[96]\tvalidation_0-aucpr:0.44497\tvalidation_1-aucpr:0.43537\n",
      "[97]\tvalidation_0-aucpr:0.44508\tvalidation_1-aucpr:0.43529\n",
      "[98]\tvalidation_0-aucpr:0.44536\tvalidation_1-aucpr:0.43518\n",
      "[99]\tvalidation_0-aucpr:0.44543\tvalidation_1-aucpr:0.43517\n"
     ]
    },
    {
     "name": "stderr",
     "output_type": "stream",
     "text": [
      "/tmp/ipykernel_16/1928500786.py:28: RuntimeWarning: overflow encountered in scalar multiply\n",
      "  denominator = np.sqrt((true_positive + false_positive) * (true_positive + false_negative) * (true_negative + false_positive) * (true_negative + false_negative))\n"
     ]
    },
    {
     "name": "stdout",
     "output_type": "stream",
     "text": [
      "{'validation_0': OrderedDict([('aucpr', [0.38173121363421614, 0.3953115426122757, 0.3965323021493239, 0.3985363494023243, 0.40008888351913946, 0.40177816789911774, 0.4048284412454748, 0.4068786142530648, 0.4077071422570489, 0.4145797123958958, 0.41493550929166945, 0.4157306700141157, 0.4161501242114514, 0.41237549730990364, 0.4131006999930413, 0.4174028989674267, 0.4183195197250715, 0.41909510569392516, 0.41921628507303793, 0.41937813207589086, 0.4201268350465426, 0.42038201320070767, 0.4208473751422686, 0.4210941819468254, 0.42135636549577693, 0.4221078052911518, 0.423668776605599, 0.4237039888564977, 0.4270496115324143, 0.42728495192873545, 0.42746022351011254, 0.4279815966784589, 0.4281714048417218, 0.4292151815591422, 0.42966594203175945, 0.4297209354779787, 0.4302938583461094, 0.4303212082856476, 0.43090710248383274, 0.4310461104680356, 0.43152391516759525, 0.4316990252898983, 0.43317482618828773, 0.43343459362592945, 0.43364043730480334, 0.4338850501175254, 0.4352214215676651, 0.43531572753452863, 0.4356624458062263, 0.43570349688132604, 0.4359440723303117, 0.4359828202349622, 0.4360323843227915, 0.4363951659846626, 0.4368626300156963, 0.43731304453886594, 0.4373855538363409, 0.43791740131649476, 0.4380394063516169, 0.43835721049180804, 0.43864650568833663, 0.4388012638901932, 0.43884802447010735, 0.43887100303604054, 0.4391258554205182, 0.43935431559275345, 0.43943094491376833, 0.43985433671781743, 0.4400968327637298, 0.440175344242312, 0.44037694004658795, 0.44042407229859815, 0.4405017270116162, 0.4405456984473225, 0.44066976270528174, 0.4409945799917112, 0.4410158939210461, 0.441062704437393, 0.4415164903326167, 0.441841925934862, 0.4422323988741103, 0.4424674914355144, 0.4426821877700732, 0.44282234169946477, 0.44294072158261977, 0.44299704539457385, 0.44310125404864426, 0.44317410402269175, 0.443246358120933, 0.4433118724311848, 0.44342561490353666, 0.44351806307803987, 0.44364117716053153, 0.44393867057933034, 0.44447464093654937, 0.4445947023193949, 0.4449650201208572, 0.4450829105081848, 0.4453554325783572, 0.4454261091146748])]), 'validation_1': OrderedDict([('aucpr', [0.38671782724491716, 0.3982320447276748, 0.3999943843099587, 0.40113924539776835, 0.4025830441053025, 0.40475642586775445, 0.4073580463187359, 0.4101230207179287, 0.4110665135230283, 0.4176053561359492, 0.4179620276338503, 0.4190403503323866, 0.41932571548887804, 0.41618411701554686, 0.4159263916769011, 0.4206480009902181, 0.42085296112041265, 0.4214796238658805, 0.4217587739757858, 0.42182164325714144, 0.4219042328673785, 0.42217978358752567, 0.4225334212314442, 0.42268038058016844, 0.42291666841919334, 0.42316688854899137, 0.4244185387681763, 0.4244203770073825, 0.4276139594130078, 0.4279036691694346, 0.4278852610952167, 0.4282680584283203, 0.42842139606249796, 0.4288523877749486, 0.4288096733668387, 0.4288157456638831, 0.42837929250341733, 0.42837413993173346, 0.4288625493523676, 0.4287628808801411, 0.42847952888493407, 0.42887110957048075, 0.42949246219413223, 0.429486371956913, 0.42966196995852357, 0.42991274829944254, 0.4319988955931081, 0.4320954082730523, 0.432314681336504, 0.43231023312085604, 0.43240862642555644, 0.4324482582513278, 0.43247342251454657, 0.4329936964550388, 0.433014514463329, 0.43306947438342314, 0.43306743088326993, 0.43306120292514055, 0.433215099503479, 0.4334146351358138, 0.4334555146113448, 0.43332537612368954, 0.43333561280190314, 0.4333669734414466, 0.4336644804108062, 0.43367132923692364, 0.433659878153825, 0.4338100868533897, 0.4336453078409423, 0.433663855469694, 0.4335586715216158, 0.4335454752864163, 0.43349885206394007, 0.43348810051740677, 0.4334785584013788, 0.4335645402494978, 0.4335664029469156, 0.4335854384447776, 0.4339660413209038, 0.43401550038591385, 0.4342033336215387, 0.43429148181471505, 0.4343807036913982, 0.43443825873097613, 0.43448724953422174, 0.43448425363533133, 0.43448592438925504, 0.43485033020486774, 0.43489163358335475, 0.4349026022595501, 0.4348784072568191, 0.4348932645275542, 0.4349756146662365, 0.4351253873884001, 0.4353937194593748, 0.43544472315114385, 0.4353736928323884, 0.43529030825141163, 0.43518227579502483, 0.4351703569701081])])}\n"
     ]
    },
    {
     "data": {
      "image/png": "[encoded data removed]",
      "text/plain": [
       "<Figure size 640x480 with 1 Axes>"
      ]
     },
     "metadata": {},
     "output_type": "display_data"
    },
    {
     "name": "stderr",
     "output_type": "stream",
     "text": [
      "/opt/conda/lib/python3.10/site-packages/xgboost/sklearn.py:889: UserWarning: `eval_metric` in `fit` method is deprecated for better compatibility with scikit-learn, use `eval_metric` in constructor or`set_params` instead.\n",
      "  warnings.warn(\n"
     ]
    },
    {
     "name": "stdout",
     "output_type": "stream",
     "text": [
      "[0]\tvalidation_0-aucpr:0.38614\tvalidation_1-aucpr:0.37044\n",
      "[1]\tvalidation_0-aucpr:0.39868\tvalidation_1-aucpr:0.38135\n",
      "[2]\tvalidation_0-aucpr:0.40121\tvalidation_1-aucpr:0.38395\n",
      "[3]\tvalidation_0-aucpr:0.40342\tvalidation_1-aucpr:0.38587\n",
      "[4]\tvalidation_0-aucpr:0.40427\tvalidation_1-aucpr:0.38640\n",
      "[5]\tvalidation_0-aucpr:0.40749\tvalidation_1-aucpr:0.38809\n",
      "[6]\tvalidation_0-aucpr:0.41037\tvalidation_1-aucpr:0.39089\n",
      "[7]\tvalidation_0-aucpr:0.41173\tvalidation_1-aucpr:0.39149\n",
      "[8]\tvalidation_0-aucpr:0.41277\tvalidation_1-aucpr:0.39290\n",
      "[9]\tvalidation_0-aucpr:0.42113\tvalidation_1-aucpr:0.40202\n",
      "[10]\tvalidation_0-aucpr:0.42144\tvalidation_1-aucpr:0.40237\n",
      "[11]\tvalidation_0-aucpr:0.42222\tvalidation_1-aucpr:0.40277\n",
      "[12]\tvalidation_0-aucpr:0.42326\tvalidation_1-aucpr:0.40344\n",
      "[13]\tvalidation_0-aucpr:0.42459\tvalidation_1-aucpr:0.40418\n",
      "[14]\tvalidation_0-aucpr:0.42535\tvalidation_1-aucpr:0.40536\n",
      "[15]\tvalidation_0-aucpr:0.42595\tvalidation_1-aucpr:0.40564\n",
      "[16]\tvalidation_0-aucpr:0.42649\tvalidation_1-aucpr:0.40595\n",
      "[17]\tvalidation_0-aucpr:0.42669\tvalidation_1-aucpr:0.40595\n",
      "[18]\tvalidation_0-aucpr:0.42726\tvalidation_1-aucpr:0.40720\n",
      "[19]\tvalidation_0-aucpr:0.42739\tvalidation_1-aucpr:0.40731\n",
      "[20]\tvalidation_0-aucpr:0.42779\tvalidation_1-aucpr:0.40767\n",
      "[21]\tvalidation_0-aucpr:0.42784\tvalidation_1-aucpr:0.40776\n",
      "[22]\tvalidation_0-aucpr:0.42912\tvalidation_1-aucpr:0.40717\n",
      "[23]\tvalidation_0-aucpr:0.42911\tvalidation_1-aucpr:0.40719\n",
      "[24]\tvalidation_0-aucpr:0.42980\tvalidation_1-aucpr:0.40630\n",
      "[25]\tvalidation_0-aucpr:0.43053\tvalidation_1-aucpr:0.40607\n",
      "[26]\tvalidation_0-aucpr:0.43131\tvalidation_1-aucpr:0.40803\n",
      "[27]\tvalidation_0-aucpr:0.43132\tvalidation_1-aucpr:0.40802\n",
      "[28]\tvalidation_0-aucpr:0.43138\tvalidation_1-aucpr:0.40899\n",
      "[29]\tvalidation_0-aucpr:0.43143\tvalidation_1-aucpr:0.40900\n",
      "[30]\tvalidation_0-aucpr:0.43225\tvalidation_1-aucpr:0.40922\n",
      "[31]\tvalidation_0-aucpr:0.43242\tvalidation_1-aucpr:0.40923\n",
      "[32]\tvalidation_0-aucpr:0.43316\tvalidation_1-aucpr:0.40977\n",
      "[33]\tvalidation_0-aucpr:0.43329\tvalidation_1-aucpr:0.40987\n",
      "[34]\tvalidation_0-aucpr:0.43386\tvalidation_1-aucpr:0.41018\n",
      "[35]\tvalidation_0-aucpr:0.43412\tvalidation_1-aucpr:0.41022\n",
      "[36]\tvalidation_0-aucpr:0.43424\tvalidation_1-aucpr:0.41021\n",
      "[37]\tvalidation_0-aucpr:0.43438\tvalidation_1-aucpr:0.41045\n",
      "[38]\tvalidation_0-aucpr:0.43439\tvalidation_1-aucpr:0.41044\n",
      "[39]\tvalidation_0-aucpr:0.43464\tvalidation_1-aucpr:0.41053\n",
      "[40]\tvalidation_0-aucpr:0.43534\tvalidation_1-aucpr:0.41076\n",
      "[41]\tvalidation_0-aucpr:0.43543\tvalidation_1-aucpr:0.41076\n",
      "[42]\tvalidation_0-aucpr:0.43573\tvalidation_1-aucpr:0.41065\n",
      "[43]\tvalidation_0-aucpr:0.43652\tvalidation_1-aucpr:0.41116\n",
      "[44]\tvalidation_0-aucpr:0.43664\tvalidation_1-aucpr:0.41117\n",
      "[45]\tvalidation_0-aucpr:0.43678\tvalidation_1-aucpr:0.41113\n",
      "[46]\tvalidation_0-aucpr:0.43688\tvalidation_1-aucpr:0.41112\n",
      "[47]\tvalidation_0-aucpr:0.43759\tvalidation_1-aucpr:0.41143\n",
      "[48]\tvalidation_0-aucpr:0.43787\tvalidation_1-aucpr:0.41166\n",
      "[49]\tvalidation_0-aucpr:0.43831\tvalidation_1-aucpr:0.41202\n",
      "[50]\tvalidation_0-aucpr:0.43849\tvalidation_1-aucpr:0.41207\n",
      "[51]\tvalidation_0-aucpr:0.43853\tvalidation_1-aucpr:0.41206\n",
      "[52]\tvalidation_0-aucpr:0.43879\tvalidation_1-aucpr:0.41245\n",
      "[53]\tvalidation_0-aucpr:0.43937\tvalidation_1-aucpr:0.41290\n",
      "[54]\tvalidation_0-aucpr:0.43948\tvalidation_1-aucpr:0.41277\n",
      "[55]\tvalidation_0-aucpr:0.43951\tvalidation_1-aucpr:0.41277\n",
      "[56]\tvalidation_0-aucpr:0.43973\tvalidation_1-aucpr:0.41286\n",
      "[57]\tvalidation_0-aucpr:0.43978\tvalidation_1-aucpr:0.41287\n",
      "[58]\tvalidation_0-aucpr:0.43986\tvalidation_1-aucpr:0.41288\n",
      "[59]\tvalidation_0-aucpr:0.43993\tvalidation_1-aucpr:0.41289\n",
      "[60]\tvalidation_0-aucpr:0.44012\tvalidation_1-aucpr:0.41296\n",
      "[61]\tvalidation_0-aucpr:0.44044\tvalidation_1-aucpr:0.41323\n",
      "[62]\tvalidation_0-aucpr:0.44048\tvalidation_1-aucpr:0.41322\n",
      "[63]\tvalidation_0-aucpr:0.44058\tvalidation_1-aucpr:0.41324\n",
      "[64]\tvalidation_0-aucpr:0.44067\tvalidation_1-aucpr:0.41326\n",
      "[65]\tvalidation_0-aucpr:0.44079\tvalidation_1-aucpr:0.41341\n",
      "[66]\tvalidation_0-aucpr:0.44081\tvalidation_1-aucpr:0.41349\n",
      "[67]\tvalidation_0-aucpr:0.44106\tvalidation_1-aucpr:0.41366\n",
      "[68]\tvalidation_0-aucpr:0.44111\tvalidation_1-aucpr:0.41360\n",
      "[69]\tvalidation_0-aucpr:0.44120\tvalidation_1-aucpr:0.41359\n",
      "[70]\tvalidation_0-aucpr:0.44145\tvalidation_1-aucpr:0.41350\n",
      "[71]\tvalidation_0-aucpr:0.44150\tvalidation_1-aucpr:0.41351\n",
      "[72]\tvalidation_0-aucpr:0.44159\tvalidation_1-aucpr:0.41357\n",
      "[73]\tvalidation_0-aucpr:0.44176\tvalidation_1-aucpr:0.41374\n",
      "[74]\tvalidation_0-aucpr:0.44187\tvalidation_1-aucpr:0.41374\n",
      "[75]\tvalidation_0-aucpr:0.44212\tvalidation_1-aucpr:0.41383\n",
      "[76]\tvalidation_0-aucpr:0.44224\tvalidation_1-aucpr:0.41390\n",
      "[77]\tvalidation_0-aucpr:0.44250\tvalidation_1-aucpr:0.41422\n",
      "[78]\tvalidation_0-aucpr:0.44287\tvalidation_1-aucpr:0.41428\n",
      "[79]\tvalidation_0-aucpr:0.44306\tvalidation_1-aucpr:0.41440\n",
      "[80]\tvalidation_0-aucpr:0.44312\tvalidation_1-aucpr:0.41439\n",
      "[81]\tvalidation_0-aucpr:0.44357\tvalidation_1-aucpr:0.41469\n",
      "[82]\tvalidation_0-aucpr:0.44390\tvalidation_1-aucpr:0.41456\n",
      "[83]\tvalidation_0-aucpr:0.44420\tvalidation_1-aucpr:0.41447\n",
      "[84]\tvalidation_0-aucpr:0.44444\tvalidation_1-aucpr:0.41475\n",
      "[85]\tvalidation_0-aucpr:0.44449\tvalidation_1-aucpr:0.41475\n",
      "[86]\tvalidation_0-aucpr:0.44477\tvalidation_1-aucpr:0.41505\n",
      "[87]\tvalidation_0-aucpr:0.44482\tvalidation_1-aucpr:0.41504\n",
      "[88]\tvalidation_0-aucpr:0.44490\tvalidation_1-aucpr:0.41504\n",
      "[89]\tvalidation_0-aucpr:0.44495\tvalidation_1-aucpr:0.41503\n",
      "[90]\tvalidation_0-aucpr:0.44526\tvalidation_1-aucpr:0.41526\n",
      "[91]\tvalidation_0-aucpr:0.44528\tvalidation_1-aucpr:0.41525\n",
      "[92]\tvalidation_0-aucpr:0.44534\tvalidation_1-aucpr:0.41526\n",
      "[93]\tvalidation_0-aucpr:0.44543\tvalidation_1-aucpr:0.41525\n",
      "[94]\tvalidation_0-aucpr:0.44572\tvalidation_1-aucpr:0.41540\n",
      "[95]\tvalidation_0-aucpr:0.44621\tvalidation_1-aucpr:0.41575\n",
      "[96]\tvalidation_0-aucpr:0.44652\tvalidation_1-aucpr:0.41599\n",
      "[97]\tvalidation_0-aucpr:0.44657\tvalidation_1-aucpr:0.41606\n",
      "[98]\tvalidation_0-aucpr:0.44670\tvalidation_1-aucpr:0.41617\n",
      "[99]\tvalidation_0-aucpr:0.44689\tvalidation_1-aucpr:0.41620\n"
     ]
    },
    {
     "name": "stderr",
     "output_type": "stream",
     "text": [
      "/tmp/ipykernel_16/1928500786.py:28: RuntimeWarning: overflow encountered in scalar multiply\n",
      "  denominator = np.sqrt((true_positive + false_positive) * (true_positive + false_negative) * (true_negative + false_positive) * (true_negative + false_negative))\n",
      "/tmp/ipykernel_16/1928500786.py:28: RuntimeWarning: invalid value encountered in sqrt\n",
      "  denominator = np.sqrt((true_positive + false_positive) * (true_positive + false_negative) * (true_negative + false_positive) * (true_negative + false_negative))\n"
     ]
    },
    {
     "name": "stdout",
     "output_type": "stream",
     "text": [
      "{'validation_0': OrderedDict([('aucpr', [0.3861397414645861, 0.3986777400868357, 0.40121477235898106, 0.4034186185143617, 0.4042695063352906, 0.40748583037876784, 0.41037448491921175, 0.411730900713362, 0.41276724329117886, 0.42112647779363155, 0.4214388536557255, 0.4222229479157161, 0.4232605600788618, 0.42458897295820963, 0.42535208437863364, 0.4259517379515587, 0.426491882755944, 0.4266908044527643, 0.427264700105988, 0.42739383884369797, 0.4277852440025283, 0.42783941988831126, 0.4291155866782167, 0.42910584717686123, 0.4298026504817322, 0.43052563092356017, 0.43130734951648897, 0.43131960223088545, 0.431375817437907, 0.43143494373562524, 0.4322461495384586, 0.43241640374026724, 0.4331563085622139, 0.433289558790854, 0.4338580267782539, 0.43411896429596764, 0.43423638437891265, 0.43437849199755724, 0.4343937318146304, 0.4346433305894952, 0.43533916313668836, 0.43542747811312194, 0.4357346327473669, 0.43651503723077745, 0.4366374578527715, 0.4367842208993739, 0.4368771870243398, 0.437587248776415, 0.4378687821642499, 0.43830607913869685, 0.4384863260494828, 0.4385323616342219, 0.4387862812828772, 0.4393688252238356, 0.4394793762816783, 0.4395058783625577, 0.4397271036409945, 0.439783927468539, 0.4398565767721384, 0.4399284241130069, 0.44011524719385076, 0.4404365907236401, 0.4404831544752879, 0.44058134051662184, 0.44066533202885416, 0.44078708544414963, 0.44080773888910124, 0.4410610068318387, 0.44111477761507917, 0.4411988532470101, 0.4414517552080432, 0.44150019811889407, 0.4415901909642316, 0.4417579969242567, 0.4418741623721197, 0.44212198212184556, 0.4422442109280271, 0.44249840781867283, 0.44287231185906184, 0.4430640547140097, 0.44311816863566894, 0.4435650130241668, 0.4438983944808237, 0.4442043630901969, 0.4444442545670566, 0.44449096758943796, 0.44477075014182565, 0.444824916690299, 0.44489980947658286, 0.44495192746074114, 0.44525815797658924, 0.44528194535041954, 0.4453421371246832, 0.44543113143873075, 0.4457209311934737, 0.4462142275302568, 0.44652453279708637, 0.4465692426582614, 0.44669620769610646, 0.4468902626936094])]), 'validation_1': OrderedDict([('aucpr', [0.37043560517522106, 0.381347924463545, 0.38395183024404256, 0.3858693053705461, 0.3863991529657116, 0.3880939776520781, 0.39088914730219687, 0.39148712048346856, 0.39289601001609376, 0.4020173532751007, 0.40237176331761654, 0.40277239306950313, 0.4034428720751377, 0.4041768625715035, 0.40535903968717885, 0.405636662940665, 0.4059455251070333, 0.40595020076084987, 0.40720397046240164, 0.4073147757155189, 0.40767370458026997, 0.40775962228915097, 0.4071700592958393, 0.40718882107869264, 0.4063018446239882, 0.40607252932643456, 0.40802668121011076, 0.4080224298372165, 0.40899338261948553, 0.4090024045140208, 0.4092196602818846, 0.40922923370155556, 0.40977192496080295, 0.40986882124292157, 0.4101820616309349, 0.410224677049198, 0.4102138326953787, 0.41044676829035476, 0.41044206587440024, 0.41053331561911055, 0.41075709184407055, 0.41076151257976046, 0.41065402497901815, 0.4111633135067168, 0.411170885746387, 0.41112930593886987, 0.4111216951772645, 0.4114279987215197, 0.41165508651977356, 0.4120215847847289, 0.41207302446394106, 0.412059189541835, 0.4124533334899634, 0.4129002009090013, 0.41276880824137036, 0.41277270726626836, 0.412860974800532, 0.41287096264009215, 0.4128835720831552, 0.41289187239266834, 0.4129620373434617, 0.41322814954028314, 0.41321706398085567, 0.4132433329939603, 0.4132645805918228, 0.41340886934272414, 0.41349321763656316, 0.413656406074112, 0.4136007451626596, 0.41359346462941343, 0.4134994663007815, 0.41351237182069456, 0.4135698184914564, 0.41374407967182275, 0.4137405525524465, 0.41383385772141557, 0.41389707796824854, 0.41422319265056856, 0.41428489628100656, 0.41439995491655907, 0.4143943811297352, 0.41469096376994974, 0.4145600383848517, 0.4144691528551665, 0.41474545800418283, 0.41474560796658355, 0.4150460470099286, 0.41504331782307674, 0.41503919819190144, 0.41502883752926295, 0.41525777259006585, 0.4152531198667521, 0.4152591546793154, 0.4152529989372691, 0.4153980330545486, 0.4157505924563237, 0.4159915108534933, 0.4160590125611811, 0.41616932783474636, 0.41620190755831044])])}\n"
     ]
    },
    {
     "data": {
      "image/png": "[encoded data removed]",
      "text/plain": [
       "<Figure size 640x480 with 1 Axes>"
      ]
     },
     "metadata": {},
     "output_type": "display_data"
    },
    {
     "name": "stderr",
     "output_type": "stream",
     "text": [
      "/opt/conda/lib/python3.10/site-packages/xgboost/sklearn.py:889: UserWarning: `eval_metric` in `fit` method is deprecated for better compatibility with scikit-learn, use `eval_metric` in constructor or`set_params` instead.\n",
      "  warnings.warn(\n"
     ]
    },
    {
     "name": "stdout",
     "output_type": "stream",
     "text": [
      "[0]\tvalidation_0-aucpr:0.38689\tvalidation_1-aucpr:0.38893\n",
      "[1]\tvalidation_0-aucpr:0.39698\tvalidation_1-aucpr:0.39810\n",
      "[2]\tvalidation_0-aucpr:0.39825\tvalidation_1-aucpr:0.40085\n",
      "[3]\tvalidation_0-aucpr:0.40007\tvalidation_1-aucpr:0.40291\n",
      "[4]\tvalidation_0-aucpr:0.40072\tvalidation_1-aucpr:0.40321\n",
      "[5]\tvalidation_0-aucpr:0.40240\tvalidation_1-aucpr:0.40454\n",
      "[6]\tvalidation_0-aucpr:0.40271\tvalidation_1-aucpr:0.40476\n",
      "[7]\tvalidation_0-aucpr:0.40545\tvalidation_1-aucpr:0.40730\n",
      "[8]\tvalidation_0-aucpr:0.41421\tvalidation_1-aucpr:0.41445\n",
      "[9]\tvalidation_0-aucpr:0.41418\tvalidation_1-aucpr:0.41415\n",
      "[10]\tvalidation_0-aucpr:0.41512\tvalidation_1-aucpr:0.41492\n",
      "[11]\tvalidation_0-aucpr:0.41563\tvalidation_1-aucpr:0.41520\n",
      "[12]\tvalidation_0-aucpr:0.41682\tvalidation_1-aucpr:0.41662\n",
      "[13]\tvalidation_0-aucpr:0.41796\tvalidation_1-aucpr:0.41746\n",
      "[14]\tvalidation_0-aucpr:0.41819\tvalidation_1-aucpr:0.41777\n",
      "[15]\tvalidation_0-aucpr:0.41964\tvalidation_1-aucpr:0.41904\n",
      "[16]\tvalidation_0-aucpr:0.42139\tvalidation_1-aucpr:0.41999\n",
      "[17]\tvalidation_0-aucpr:0.42212\tvalidation_1-aucpr:0.42100\n",
      "[18]\tvalidation_0-aucpr:0.42294\tvalidation_1-aucpr:0.42148\n",
      "[19]\tvalidation_0-aucpr:0.42333\tvalidation_1-aucpr:0.42148\n",
      "[20]\tvalidation_0-aucpr:0.42442\tvalidation_1-aucpr:0.42213\n",
      "[21]\tvalidation_0-aucpr:0.42459\tvalidation_1-aucpr:0.42221\n",
      "[22]\tvalidation_0-aucpr:0.42533\tvalidation_1-aucpr:0.42285\n",
      "[23]\tvalidation_0-aucpr:0.42581\tvalidation_1-aucpr:0.42284\n",
      "[24]\tvalidation_0-aucpr:0.42643\tvalidation_1-aucpr:0.42360\n",
      "[25]\tvalidation_0-aucpr:0.42649\tvalidation_1-aucpr:0.42359\n",
      "[26]\tvalidation_0-aucpr:0.42762\tvalidation_1-aucpr:0.42455\n",
      "[27]\tvalidation_0-aucpr:0.42769\tvalidation_1-aucpr:0.42457\n",
      "[28]\tvalidation_0-aucpr:0.42844\tvalidation_1-aucpr:0.42491\n",
      "[29]\tvalidation_0-aucpr:0.42880\tvalidation_1-aucpr:0.42517\n",
      "[30]\tvalidation_0-aucpr:0.42893\tvalidation_1-aucpr:0.42513\n",
      "[31]\tvalidation_0-aucpr:0.42898\tvalidation_1-aucpr:0.42604\n",
      "[32]\tvalidation_0-aucpr:0.42911\tvalidation_1-aucpr:0.42604\n",
      "[33]\tvalidation_0-aucpr:0.42916\tvalidation_1-aucpr:0.42603\n",
      "[34]\tvalidation_0-aucpr:0.42927\tvalidation_1-aucpr:0.42602\n",
      "[35]\tvalidation_0-aucpr:0.42962\tvalidation_1-aucpr:0.42585\n",
      "[36]\tvalidation_0-aucpr:0.42992\tvalidation_1-aucpr:0.42598\n",
      "[37]\tvalidation_0-aucpr:0.42996\tvalidation_1-aucpr:0.42598\n",
      "[38]\tvalidation_0-aucpr:0.43029\tvalidation_1-aucpr:0.42599\n",
      "[39]\tvalidation_0-aucpr:0.43046\tvalidation_1-aucpr:0.42603\n",
      "[40]\tvalidation_0-aucpr:0.43060\tvalidation_1-aucpr:0.42603\n",
      "[41]\tvalidation_0-aucpr:0.43093\tvalidation_1-aucpr:0.42633\n",
      "[42]\tvalidation_0-aucpr:0.43110\tvalidation_1-aucpr:0.42653\n",
      "[43]\tvalidation_0-aucpr:0.43186\tvalidation_1-aucpr:0.42586\n",
      "[44]\tvalidation_0-aucpr:0.43207\tvalidation_1-aucpr:0.42596\n",
      "[45]\tvalidation_0-aucpr:0.43211\tvalidation_1-aucpr:0.42595\n",
      "[46]\tvalidation_0-aucpr:0.43219\tvalidation_1-aucpr:0.42596\n",
      "[47]\tvalidation_0-aucpr:0.43285\tvalidation_1-aucpr:0.42706\n",
      "[48]\tvalidation_0-aucpr:0.43290\tvalidation_1-aucpr:0.42707\n",
      "[49]\tvalidation_0-aucpr:0.43294\tvalidation_1-aucpr:0.42705\n",
      "[50]\tvalidation_0-aucpr:0.43301\tvalidation_1-aucpr:0.42705\n",
      "[51]\tvalidation_0-aucpr:0.43319\tvalidation_1-aucpr:0.42709\n",
      "[52]\tvalidation_0-aucpr:0.43346\tvalidation_1-aucpr:0.42734\n",
      "[53]\tvalidation_0-aucpr:0.43371\tvalidation_1-aucpr:0.42744\n",
      "[54]\tvalidation_0-aucpr:0.43504\tvalidation_1-aucpr:0.42690\n",
      "[55]\tvalidation_0-aucpr:0.43569\tvalidation_1-aucpr:0.42746\n",
      "[56]\tvalidation_0-aucpr:0.43602\tvalidation_1-aucpr:0.42763\n",
      "[57]\tvalidation_0-aucpr:0.43614\tvalidation_1-aucpr:0.42755\n",
      "[58]\tvalidation_0-aucpr:0.43630\tvalidation_1-aucpr:0.42762\n",
      "[59]\tvalidation_0-aucpr:0.43644\tvalidation_1-aucpr:0.42756\n",
      "[60]\tvalidation_0-aucpr:0.43696\tvalidation_1-aucpr:0.42793\n",
      "[61]\tvalidation_0-aucpr:0.43729\tvalidation_1-aucpr:0.42763\n",
      "[62]\tvalidation_0-aucpr:0.43771\tvalidation_1-aucpr:0.42773\n",
      "[63]\tvalidation_0-aucpr:0.43777\tvalidation_1-aucpr:0.42774\n",
      "[64]\tvalidation_0-aucpr:0.43809\tvalidation_1-aucpr:0.42798\n",
      "[65]\tvalidation_0-aucpr:0.43826\tvalidation_1-aucpr:0.42806\n",
      "[66]\tvalidation_0-aucpr:0.43841\tvalidation_1-aucpr:0.42776\n",
      "[67]\tvalidation_0-aucpr:0.43854\tvalidation_1-aucpr:0.42778\n",
      "[68]\tvalidation_0-aucpr:0.43859\tvalidation_1-aucpr:0.42778\n",
      "[69]\tvalidation_0-aucpr:0.43869\tvalidation_1-aucpr:0.42780\n",
      "[70]\tvalidation_0-aucpr:0.43875\tvalidation_1-aucpr:0.42780\n",
      "[71]\tvalidation_0-aucpr:0.43878\tvalidation_1-aucpr:0.42778\n",
      "[72]\tvalidation_0-aucpr:0.43885\tvalidation_1-aucpr:0.42763\n",
      "[73]\tvalidation_0-aucpr:0.43950\tvalidation_1-aucpr:0.42728\n",
      "[74]\tvalidation_0-aucpr:0.44026\tvalidation_1-aucpr:0.42752\n",
      "[75]\tvalidation_0-aucpr:0.44039\tvalidation_1-aucpr:0.42750\n",
      "[76]\tvalidation_0-aucpr:0.44050\tvalidation_1-aucpr:0.42748\n",
      "[77]\tvalidation_0-aucpr:0.44054\tvalidation_1-aucpr:0.42749\n",
      "[78]\tvalidation_0-aucpr:0.44059\tvalidation_1-aucpr:0.42747\n",
      "[79]\tvalidation_0-aucpr:0.44069\tvalidation_1-aucpr:0.42747\n",
      "[80]\tvalidation_0-aucpr:0.44074\tvalidation_1-aucpr:0.42746\n",
      "[81]\tvalidation_0-aucpr:0.44091\tvalidation_1-aucpr:0.42748\n",
      "[82]\tvalidation_0-aucpr:0.44130\tvalidation_1-aucpr:0.42771\n",
      "[83]\tvalidation_0-aucpr:0.44161\tvalidation_1-aucpr:0.42775\n",
      "[84]\tvalidation_0-aucpr:0.44165\tvalidation_1-aucpr:0.42775\n",
      "[85]\tvalidation_0-aucpr:0.44231\tvalidation_1-aucpr:0.42761\n",
      "[86]\tvalidation_0-aucpr:0.44237\tvalidation_1-aucpr:0.42760\n",
      "[87]\tvalidation_0-aucpr:0.44243\tvalidation_1-aucpr:0.42762\n",
      "[88]\tvalidation_0-aucpr:0.44255\tvalidation_1-aucpr:0.42768\n",
      "[89]\tvalidation_0-aucpr:0.44276\tvalidation_1-aucpr:0.42773\n",
      "[90]\tvalidation_0-aucpr:0.44294\tvalidation_1-aucpr:0.42769\n",
      "[91]\tvalidation_0-aucpr:0.44325\tvalidation_1-aucpr:0.42771\n",
      "[92]\tvalidation_0-aucpr:0.44332\tvalidation_1-aucpr:0.42766\n",
      "[93]\tvalidation_0-aucpr:0.44363\tvalidation_1-aucpr:0.42777\n",
      "[94]\tvalidation_0-aucpr:0.44392\tvalidation_1-aucpr:0.42803\n",
      "[95]\tvalidation_0-aucpr:0.44439\tvalidation_1-aucpr:0.42781\n",
      "[96]\tvalidation_0-aucpr:0.44451\tvalidation_1-aucpr:0.42771\n",
      "[97]\tvalidation_0-aucpr:0.44455\tvalidation_1-aucpr:0.42770\n",
      "[98]\tvalidation_0-aucpr:0.44467\tvalidation_1-aucpr:0.42777\n",
      "[99]\tvalidation_0-aucpr:0.44479\tvalidation_1-aucpr:0.42778\n"
     ]
    },
    {
     "name": "stderr",
     "output_type": "stream",
     "text": [
      "/tmp/ipykernel_16/1928500786.py:28: RuntimeWarning: overflow encountered in scalar multiply\n",
      "  denominator = np.sqrt((true_positive + false_positive) * (true_positive + false_negative) * (true_negative + false_positive) * (true_negative + false_negative))\n"
     ]
    },
    {
     "name": "stdout",
     "output_type": "stream",
     "text": [
      "{'validation_0': OrderedDict([('aucpr', [0.3868928790967535, 0.39698293118281336, 0.39825383159664696, 0.4000699010554733, 0.4007157465342642, 0.4023957684948645, 0.402705240887519, 0.4054453726957425, 0.41421045211738367, 0.41417625716643125, 0.4151150616131182, 0.4156265688896718, 0.4168234629315063, 0.41795746000426515, 0.41818898094831863, 0.4196413942714808, 0.4213874733024723, 0.4221213599573524, 0.4229399387764594, 0.4233279080461681, 0.4244223147784209, 0.42458916600229124, 0.42532860321257915, 0.42580872884278, 0.42643001885012854, 0.42648690986241083, 0.4276238338991096, 0.4276883064208068, 0.42843683456593407, 0.42879920527415366, 0.42892657066420586, 0.42898447713269794, 0.4291097489389119, 0.42916382294905747, 0.4292707833483299, 0.42961569299911145, 0.4299224777979551, 0.42996204536762295, 0.4302879663421477, 0.4304564930967963, 0.4306007871857032, 0.4309310609789684, 0.4310971044922585, 0.43186242707477335, 0.4320716456545948, 0.4321143754298462, 0.4321911963504706, 0.43284890514706004, 0.4328986049568295, 0.43293733445423294, 0.433005077292627, 0.43319180671662244, 0.43345632771892795, 0.4337065459448909, 0.4350380038492669, 0.4356855146143037, 0.4360182857793521, 0.43613930516923305, 0.4363020058744014, 0.4364365206514402, 0.436956834770282, 0.43729344908859125, 0.4377139842064311, 0.4377734074496928, 0.4380922498463356, 0.43825563650039606, 0.4384139773941865, 0.43853886361665734, 0.4385934797829814, 0.43869353536259353, 0.43874672362981726, 0.438777115679636, 0.4388501982533232, 0.4395014999677011, 0.44025949642363754, 0.4403941593576106, 0.4404966765904547, 0.44053593494791843, 0.44059167162826485, 0.4406892133096447, 0.4407424820396901, 0.44090509414045975, 0.4412962200962203, 0.44161093443076666, 0.44164981264083086, 0.4423141772853016, 0.44237007993666505, 0.44243242644929826, 0.4425542147904224, 0.4427609463006369, 0.44293950042916463, 0.443245575899934, 0.44332310588956936, 0.44362945151964617, 0.4439218401273439, 0.4443862310810467, 0.4445114237553568, 0.4445536786430173, 0.4446712359463889, 0.4447918427752914])]), 'validation_1': OrderedDict([('aucpr', [0.388927704346671, 0.39809625085670886, 0.4008492203085143, 0.4029053690965934, 0.4032129837858419, 0.4045419103003828, 0.4047617085485862, 0.4072980850186703, 0.41444597648474013, 0.41414603122480736, 0.41491970344619167, 0.41519583520026065, 0.41662296890460554, 0.4174592015068126, 0.41776603351547004, 0.41904018897565076, 0.41999181453347, 0.4209984476114487, 0.4214833776238775, 0.42147569264645723, 0.4221268971834359, 0.4222064299180956, 0.42285181772702096, 0.42284087011750743, 0.4235993516164303, 0.4235861121887253, 0.42454552815498997, 0.4245703455073255, 0.42490791915553083, 0.42516945977122117, 0.42512965055941565, 0.42603918669356045, 0.42603765862716364, 0.4260269181463113, 0.4260206599025583, 0.42585170659560906, 0.42597995116065074, 0.4259776574375074, 0.42598842905648177, 0.42603023070889895, 0.42602881406360854, 0.4263316225016952, 0.4265293677646058, 0.4258552022673808, 0.42595784603838516, 0.42594559093135914, 0.42596143020766614, 0.4270637867514848, 0.42706593932841175, 0.4270532024364377, 0.4270521870305896, 0.4270895435544186, 0.42734119263328996, 0.4274382363139206, 0.4269007195975792, 0.42746058178314633, 0.42763434304937203, 0.42754938879024534, 0.4276202797917507, 0.4275582200307728, 0.42792813505260063, 0.42763302139896425, 0.42773312548932074, 0.4277408555825272, 0.427975368028321, 0.42805652260926846, 0.42775950003678326, 0.4277811044745765, 0.4277821737202518, 0.42779852959839687, 0.42779811740417684, 0.4277823083658535, 0.4276254564799551, 0.4272754387569656, 0.4275194481377375, 0.42749596800927314, 0.4274797160671761, 0.42748939706800504, 0.42746936137079017, 0.4274676123312215, 0.42746425430421653, 0.4274775547972786, 0.4277076500026497, 0.4277513373781803, 0.4277455360353288, 0.4276121151109691, 0.42760437849815464, 0.4276203393329713, 0.4276846937578538, 0.4277345121322784, 0.42768602096881136, 0.427710484101427, 0.4276626474189279, 0.42777098984209766, 0.4280252598886432, 0.4278051847361419, 0.4277064074372327, 0.4277017462518605, 0.4277733308383354, 0.4277762084642231])])}\n"
     ]
    },
    {
     "data": {
      "image/png": "[encoded data removed]",
      "text/plain": [
       "<Figure size 640x480 with 1 Axes>"
      ]
     },
     "metadata": {},
     "output_type": "display_data"
    },
    {
     "name": "stderr",
     "output_type": "stream",
     "text": [
      "/opt/conda/lib/python3.10/site-packages/xgboost/sklearn.py:889: UserWarning: `eval_metric` in `fit` method is deprecated for better compatibility with scikit-learn, use `eval_metric` in constructor or`set_params` instead.\n",
      "  warnings.warn(\n"
     ]
    },
    {
     "name": "stdout",
     "output_type": "stream",
     "text": [
      "[0]\tvalidation_0-aucpr:0.47894\tvalidation_1-aucpr:0.47534\n",
      "[1]\tvalidation_0-aucpr:0.49265\tvalidation_1-aucpr:0.48860\n",
      "[2]\tvalidation_0-aucpr:0.49934\tvalidation_1-aucpr:0.49505\n",
      "[3]\tvalidation_0-aucpr:0.50746\tvalidation_1-aucpr:0.50318\n",
      "[4]\tvalidation_0-aucpr:0.51464\tvalidation_1-aucpr:0.51021\n",
      "[5]\tvalidation_0-aucpr:0.51715\tvalidation_1-aucpr:0.51314\n",
      "[6]\tvalidation_0-aucpr:0.52115\tvalidation_1-aucpr:0.51707\n",
      "[7]\tvalidation_0-aucpr:0.52133\tvalidation_1-aucpr:0.51600\n",
      "[8]\tvalidation_0-aucpr:0.52549\tvalidation_1-aucpr:0.52021\n",
      "[9]\tvalidation_0-aucpr:0.52832\tvalidation_1-aucpr:0.52285\n",
      "[10]\tvalidation_0-aucpr:0.52978\tvalidation_1-aucpr:0.52478\n",
      "[11]\tvalidation_0-aucpr:0.53558\tvalidation_1-aucpr:0.53087\n",
      "[12]\tvalidation_0-aucpr:0.53881\tvalidation_1-aucpr:0.53406\n",
      "[13]\tvalidation_0-aucpr:0.54104\tvalidation_1-aucpr:0.53605\n",
      "[14]\tvalidation_0-aucpr:0.54342\tvalidation_1-aucpr:0.53805\n",
      "[15]\tvalidation_0-aucpr:0.54717\tvalidation_1-aucpr:0.54209\n",
      "[16]\tvalidation_0-aucpr:0.54836\tvalidation_1-aucpr:0.54315\n",
      "[17]\tvalidation_0-aucpr:0.55100\tvalidation_1-aucpr:0.54584\n",
      "[18]\tvalidation_0-aucpr:0.55165\tvalidation_1-aucpr:0.54651\n",
      "[19]\tvalidation_0-aucpr:0.55271\tvalidation_1-aucpr:0.54735\n",
      "[20]\tvalidation_0-aucpr:0.55498\tvalidation_1-aucpr:0.54940\n",
      "[21]\tvalidation_0-aucpr:0.55712\tvalidation_1-aucpr:0.55180\n",
      "[22]\tvalidation_0-aucpr:0.55796\tvalidation_1-aucpr:0.55255\n",
      "[23]\tvalidation_0-aucpr:0.55871\tvalidation_1-aucpr:0.55318\n",
      "[24]\tvalidation_0-aucpr:0.56051\tvalidation_1-aucpr:0.55491\n",
      "[25]\tvalidation_0-aucpr:0.56182\tvalidation_1-aucpr:0.55632\n",
      "[26]\tvalidation_0-aucpr:0.56276\tvalidation_1-aucpr:0.55709\n",
      "[27]\tvalidation_0-aucpr:0.56386\tvalidation_1-aucpr:0.55822\n",
      "[28]\tvalidation_0-aucpr:0.56350\tvalidation_1-aucpr:0.55829\n",
      "[29]\tvalidation_0-aucpr:0.56355\tvalidation_1-aucpr:0.55833\n",
      "[30]\tvalidation_0-aucpr:0.56510\tvalidation_1-aucpr:0.55984\n",
      "[31]\tvalidation_0-aucpr:0.56547\tvalidation_1-aucpr:0.56016\n",
      "[32]\tvalidation_0-aucpr:0.56584\tvalidation_1-aucpr:0.56044\n",
      "[33]\tvalidation_0-aucpr:0.56736\tvalidation_1-aucpr:0.56138\n",
      "[34]\tvalidation_0-aucpr:0.56897\tvalidation_1-aucpr:0.56259\n",
      "[35]\tvalidation_0-aucpr:0.57036\tvalidation_1-aucpr:0.56338\n",
      "[36]\tvalidation_0-aucpr:0.57073\tvalidation_1-aucpr:0.56356\n",
      "[37]\tvalidation_0-aucpr:0.57103\tvalidation_1-aucpr:0.56369\n",
      "[38]\tvalidation_0-aucpr:0.57122\tvalidation_1-aucpr:0.56369\n",
      "[39]\tvalidation_0-aucpr:0.57130\tvalidation_1-aucpr:0.56374\n",
      "[40]\tvalidation_0-aucpr:0.57200\tvalidation_1-aucpr:0.56413\n",
      "[41]\tvalidation_0-aucpr:0.57214\tvalidation_1-aucpr:0.56403\n",
      "[42]\tvalidation_0-aucpr:0.57265\tvalidation_1-aucpr:0.56437\n",
      "[43]\tvalidation_0-aucpr:0.57299\tvalidation_1-aucpr:0.56446\n",
      "[44]\tvalidation_0-aucpr:0.57403\tvalidation_1-aucpr:0.56497\n",
      "[45]\tvalidation_0-aucpr:0.57410\tvalidation_1-aucpr:0.56499\n",
      "[46]\tvalidation_0-aucpr:0.57421\tvalidation_1-aucpr:0.56502\n",
      "[47]\tvalidation_0-aucpr:0.57452\tvalidation_1-aucpr:0.56508\n",
      "[48]\tvalidation_0-aucpr:0.57523\tvalidation_1-aucpr:0.56543\n",
      "[49]\tvalidation_0-aucpr:0.57554\tvalidation_1-aucpr:0.56562\n",
      "[50]\tvalidation_0-aucpr:0.57561\tvalidation_1-aucpr:0.56563\n",
      "[51]\tvalidation_0-aucpr:0.57588\tvalidation_1-aucpr:0.56611\n",
      "[52]\tvalidation_0-aucpr:0.57666\tvalidation_1-aucpr:0.56590\n",
      "[53]\tvalidation_0-aucpr:0.57842\tvalidation_1-aucpr:0.56768\n",
      "[54]\tvalidation_0-aucpr:0.57861\tvalidation_1-aucpr:0.56779\n",
      "[55]\tvalidation_0-aucpr:0.57891\tvalidation_1-aucpr:0.56805\n",
      "[56]\tvalidation_0-aucpr:0.57964\tvalidation_1-aucpr:0.56885\n",
      "[57]\tvalidation_0-aucpr:0.57983\tvalidation_1-aucpr:0.56891\n",
      "[58]\tvalidation_0-aucpr:0.58028\tvalidation_1-aucpr:0.56852\n",
      "[59]\tvalidation_0-aucpr:0.58049\tvalidation_1-aucpr:0.56859\n",
      "[60]\tvalidation_0-aucpr:0.58199\tvalidation_1-aucpr:0.56976\n",
      "[61]\tvalidation_0-aucpr:0.58211\tvalidation_1-aucpr:0.56980\n",
      "[62]\tvalidation_0-aucpr:0.58226\tvalidation_1-aucpr:0.56986\n",
      "[63]\tvalidation_0-aucpr:0.58245\tvalidation_1-aucpr:0.56985\n",
      "[64]\tvalidation_0-aucpr:0.58338\tvalidation_1-aucpr:0.56973\n",
      "[65]\tvalidation_0-aucpr:0.58495\tvalidation_1-aucpr:0.57066\n",
      "[66]\tvalidation_0-aucpr:0.58549\tvalidation_1-aucpr:0.57102\n",
      "[67]\tvalidation_0-aucpr:0.58546\tvalidation_1-aucpr:0.57099\n",
      "[68]\tvalidation_0-aucpr:0.58553\tvalidation_1-aucpr:0.57104\n",
      "[69]\tvalidation_0-aucpr:0.58557\tvalidation_1-aucpr:0.57102\n",
      "[70]\tvalidation_0-aucpr:0.58573\tvalidation_1-aucpr:0.57108\n",
      "[71]\tvalidation_0-aucpr:0.58644\tvalidation_1-aucpr:0.57198\n",
      "[72]\tvalidation_0-aucpr:0.58657\tvalidation_1-aucpr:0.57202\n",
      "[73]\tvalidation_0-aucpr:0.58673\tvalidation_1-aucpr:0.57214\n",
      "[74]\tvalidation_0-aucpr:0.58746\tvalidation_1-aucpr:0.57248\n",
      "[75]\tvalidation_0-aucpr:0.58773\tvalidation_1-aucpr:0.57269\n",
      "[76]\tvalidation_0-aucpr:0.58780\tvalidation_1-aucpr:0.57274\n",
      "[77]\tvalidation_0-aucpr:0.58832\tvalidation_1-aucpr:0.57287\n",
      "[78]\tvalidation_0-aucpr:0.58864\tvalidation_1-aucpr:0.57312\n",
      "[79]\tvalidation_0-aucpr:0.58912\tvalidation_1-aucpr:0.57331\n",
      "[80]\tvalidation_0-aucpr:0.58932\tvalidation_1-aucpr:0.57335\n",
      "[81]\tvalidation_0-aucpr:0.58936\tvalidation_1-aucpr:0.57331\n",
      "[82]\tvalidation_0-aucpr:0.58944\tvalidation_1-aucpr:0.57333\n",
      "[83]\tvalidation_0-aucpr:0.58991\tvalidation_1-aucpr:0.57342\n",
      "[84]\tvalidation_0-aucpr:0.59012\tvalidation_1-aucpr:0.57339\n",
      "[85]\tvalidation_0-aucpr:0.59070\tvalidation_1-aucpr:0.57320\n",
      "[86]\tvalidation_0-aucpr:0.59088\tvalidation_1-aucpr:0.57319\n",
      "[87]\tvalidation_0-aucpr:0.59103\tvalidation_1-aucpr:0.57320\n",
      "[88]\tvalidation_0-aucpr:0.59162\tvalidation_1-aucpr:0.57348\n",
      "[89]\tvalidation_0-aucpr:0.59185\tvalidation_1-aucpr:0.57353\n",
      "[90]\tvalidation_0-aucpr:0.59193\tvalidation_1-aucpr:0.57352\n",
      "[91]\tvalidation_0-aucpr:0.59249\tvalidation_1-aucpr:0.57352\n",
      "[92]\tvalidation_0-aucpr:0.59261\tvalidation_1-aucpr:0.57357\n",
      "[93]\tvalidation_0-aucpr:0.59301\tvalidation_1-aucpr:0.57360\n",
      "[94]\tvalidation_0-aucpr:0.59379\tvalidation_1-aucpr:0.57377\n",
      "[95]\tvalidation_0-aucpr:0.59390\tvalidation_1-aucpr:0.57372\n",
      "[96]\tvalidation_0-aucpr:0.59395\tvalidation_1-aucpr:0.57365\n",
      "[97]\tvalidation_0-aucpr:0.59401\tvalidation_1-aucpr:0.57370\n",
      "[98]\tvalidation_0-aucpr:0.59440\tvalidation_1-aucpr:0.57369\n",
      "[99]\tvalidation_0-aucpr:0.59451\tvalidation_1-aucpr:0.57368\n"
     ]
    },
    {
     "name": "stderr",
     "output_type": "stream",
     "text": [
      "/tmp/ipykernel_16/1928500786.py:28: RuntimeWarning: overflow encountered in scalar multiply\n",
      "  denominator = np.sqrt((true_positive + false_positive) * (true_positive + false_negative) * (true_negative + false_positive) * (true_negative + false_negative))\n"
     ]
    },
    {
     "name": "stdout",
     "output_type": "stream",
     "text": [
      "{'validation_0': OrderedDict([('aucpr', [0.47893596618414513, 0.4926474266774453, 0.4993383264855071, 0.5074550358383755, 0.5146392404595772, 0.5171504780080342, 0.5211475711494359, 0.5213252135902212, 0.5254856509371024, 0.5283221640817292, 0.5297784650870325, 0.5355752804750642, 0.5388099447820525, 0.5410419184010318, 0.5434150050926523, 0.5471741222845484, 0.5483585093693806, 0.5509971143049955, 0.5516477639169083, 0.5527111703708955, 0.554976437328947, 0.5571166158544957, 0.5579646411815794, 0.5587112901342322, 0.5605069172244731, 0.5618184641013841, 0.5627593348083172, 0.563861417637103, 0.5634964171906789, 0.563553924633931, 0.5650996534670191, 0.5654700775316922, 0.5658401491549289, 0.5673615838217019, 0.5689731023493199, 0.5703578230126808, 0.570732762856439, 0.5710343847326408, 0.5712240364415628, 0.5712983951282444, 0.5720014556137062, 0.5721427247446128, 0.5726473642221361, 0.5729904760991031, 0.5740337185283517, 0.5741024671393834, 0.5742093132243633, 0.5745229217998244, 0.5752298057608819, 0.5755402843195411, 0.5756114067789371, 0.5758819193526964, 0.5766565774946925, 0.5784188157520715, 0.5786090139868597, 0.5789071172647594, 0.5796387654845812, 0.5798253930267449, 0.5802835950361033, 0.5804933414398844, 0.5819876744399002, 0.5821065548464749, 0.5822631970493345, 0.5824549008854956, 0.5833760421902684, 0.5849538381737391, 0.5854874958889789, 0.5854638225166953, 0.5855330949367994, 0.5855662963064645, 0.5857335810159594, 0.5864441853155816, 0.5865718679156631, 0.5867273517792336, 0.5874620550894473, 0.5877254895227275, 0.5877982996967017, 0.5883169170753965, 0.588644943224227, 0.5891245260245207, 0.5893186626239052, 0.589359418490368, 0.5894367367699547, 0.5899134346406965, 0.5901237986668633, 0.59070461336473, 0.5908819902448317, 0.5910311116425944, 0.5916236510529002, 0.5918478398496145, 0.5919263258528398, 0.5924949582499113, 0.5926102983360055, 0.593009956175636, 0.5937861154959623, 0.5939031523835324, 0.5939496494919472, 0.5940110250611302, 0.5943961846570315, 0.5945085608325957])]), 'validation_1': OrderedDict([('aucpr', [0.4753395770135625, 0.4886039946095309, 0.49505389197057215, 0.5031763541553779, 0.5102070819640846, 0.5131407142117039, 0.5170663561787245, 0.5159996468136665, 0.5202070171448999, 0.5228495626939572, 0.5247847328420544, 0.5308728984384533, 0.5340564333530406, 0.5360496668857079, 0.5380468344162649, 0.5420948924057181, 0.543150770828585, 0.54584203675155, 0.5465120354785376, 0.5473539939192742, 0.5494017772913907, 0.5518024237338711, 0.5525464758594686, 0.5531815607312923, 0.5549100981914739, 0.5563189496002443, 0.5570909410616535, 0.5582214946451269, 0.558294310445391, 0.5583263497925508, 0.5598378810502163, 0.5601597641985804, 0.5604363257478633, 0.5613759089707053, 0.5625881644204807, 0.5633830213943479, 0.5635610340978687, 0.5636887925337537, 0.5636923346441346, 0.5637391420556481, 0.564134568771196, 0.5640254860845278, 0.5643738066091674, 0.5644588483751121, 0.5649744620366918, 0.5649853357735284, 0.5650236394458316, 0.5650781225777733, 0.5654319099356034, 0.5656227840999194, 0.5656326234467636, 0.5661099415622817, 0.5658963789750009, 0.5676788622263093, 0.5677886772776695, 0.5680516903690643, 0.5688538965546956, 0.568911862162462, 0.5685234335444868, 0.5685899647654374, 0.5697642548665044, 0.5698037397356549, 0.5698572543088184, 0.5698450006410007, 0.5697314266330206, 0.5706578807188443, 0.5710240969343762, 0.5709929765744738, 0.571036050475495, 0.5710205652135711, 0.5710816150534832, 0.5719791030749316, 0.5720229414153304, 0.5721430106652603, 0.5724772644195233, 0.5726929681793783, 0.5727413873140903, 0.5728654480039933, 0.5731218324628186, 0.5733121694663935, 0.5733476437381257, 0.573314672138211, 0.5733259792815695, 0.5734196053587253, 0.5733881939011587, 0.5731985642617007, 0.5731909836822892, 0.5732006503341402, 0.5734819208211281, 0.5735263376359094, 0.57352406760521, 0.5735187190443986, 0.5735745236631571, 0.5735999335240318, 0.5737733632806263, 0.5737184885493893, 0.5736525888910438, 0.573697506809471, 0.5736881751898301, 0.5736811796428561])])}\n"
     ]
    },
    {
     "data": {
      "image/png": "[encoded data removed]",
      "text/plain": [
       "<Figure size 640x480 with 1 Axes>"
      ]
     },
     "metadata": {},
     "output_type": "display_data"
    },
    {
     "name": "stderr",
     "output_type": "stream",
     "text": [
      "/opt/conda/lib/python3.10/site-packages/xgboost/sklearn.py:889: UserWarning: `eval_metric` in `fit` method is deprecated for better compatibility with scikit-learn, use `eval_metric` in constructor or`set_params` instead.\n",
      "  warnings.warn(\n"
     ]
    },
    {
     "name": "stdout",
     "output_type": "stream",
     "text": [
      "[0]\tvalidation_0-aucpr:0.47713\tvalidation_1-aucpr:0.47932\n",
      "[1]\tvalidation_0-aucpr:0.49182\tvalidation_1-aucpr:0.49284\n",
      "[2]\tvalidation_0-aucpr:0.49736\tvalidation_1-aucpr:0.49861\n",
      "[3]\tvalidation_0-aucpr:0.50504\tvalidation_1-aucpr:0.50744\n",
      "[4]\tvalidation_0-aucpr:0.51083\tvalidation_1-aucpr:0.51262\n",
      "[5]\tvalidation_0-aucpr:0.51332\tvalidation_1-aucpr:0.51497\n",
      "[6]\tvalidation_0-aucpr:0.51678\tvalidation_1-aucpr:0.51876\n",
      "[7]\tvalidation_0-aucpr:0.51584\tvalidation_1-aucpr:0.51927\n",
      "[8]\tvalidation_0-aucpr:0.51943\tvalidation_1-aucpr:0.52276\n",
      "[9]\tvalidation_0-aucpr:0.52117\tvalidation_1-aucpr:0.52461\n",
      "[10]\tvalidation_0-aucpr:0.52250\tvalidation_1-aucpr:0.52568\n",
      "[11]\tvalidation_0-aucpr:0.52420\tvalidation_1-aucpr:0.52744\n",
      "[12]\tvalidation_0-aucpr:0.52919\tvalidation_1-aucpr:0.53216\n",
      "[13]\tvalidation_0-aucpr:0.53365\tvalidation_1-aucpr:0.53671\n",
      "[14]\tvalidation_0-aucpr:0.53591\tvalidation_1-aucpr:0.53897\n",
      "[15]\tvalidation_0-aucpr:0.52696\tvalidation_1-aucpr:0.53099\n",
      "[16]\tvalidation_0-aucpr:0.53563\tvalidation_1-aucpr:0.53944\n",
      "[17]\tvalidation_0-aucpr:0.53657\tvalidation_1-aucpr:0.54042\n",
      "[18]\tvalidation_0-aucpr:0.53796\tvalidation_1-aucpr:0.54188\n",
      "[19]\tvalidation_0-aucpr:0.53911\tvalidation_1-aucpr:0.54283\n",
      "[20]\tvalidation_0-aucpr:0.54139\tvalidation_1-aucpr:0.54465\n",
      "[21]\tvalidation_0-aucpr:0.54304\tvalidation_1-aucpr:0.54593\n",
      "[22]\tvalidation_0-aucpr:0.54353\tvalidation_1-aucpr:0.54634\n",
      "[23]\tvalidation_0-aucpr:0.54735\tvalidation_1-aucpr:0.54939\n",
      "[24]\tvalidation_0-aucpr:0.54827\tvalidation_1-aucpr:0.55023\n",
      "[25]\tvalidation_0-aucpr:0.54979\tvalidation_1-aucpr:0.55151\n",
      "[26]\tvalidation_0-aucpr:0.54993\tvalidation_1-aucpr:0.55186\n",
      "[27]\tvalidation_0-aucpr:0.55359\tvalidation_1-aucpr:0.55599\n",
      "[28]\tvalidation_0-aucpr:0.55446\tvalidation_1-aucpr:0.55662\n",
      "[29]\tvalidation_0-aucpr:0.55448\tvalidation_1-aucpr:0.55663\n",
      "[30]\tvalidation_0-aucpr:0.55461\tvalidation_1-aucpr:0.55677\n",
      "[31]\tvalidation_0-aucpr:0.55697\tvalidation_1-aucpr:0.55703\n",
      "[32]\tvalidation_0-aucpr:0.56016\tvalidation_1-aucpr:0.55993\n",
      "[33]\tvalidation_0-aucpr:0.56129\tvalidation_1-aucpr:0.56088\n",
      "[34]\tvalidation_0-aucpr:0.56290\tvalidation_1-aucpr:0.56243\n",
      "[35]\tvalidation_0-aucpr:0.56393\tvalidation_1-aucpr:0.56390\n",
      "[36]\tvalidation_0-aucpr:0.56481\tvalidation_1-aucpr:0.56465\n",
      "[37]\tvalidation_0-aucpr:0.56502\tvalidation_1-aucpr:0.56484\n",
      "[38]\tvalidation_0-aucpr:0.56683\tvalidation_1-aucpr:0.56673\n",
      "[39]\tvalidation_0-aucpr:0.56795\tvalidation_1-aucpr:0.56755\n",
      "[40]\tvalidation_0-aucpr:0.56810\tvalidation_1-aucpr:0.56764\n",
      "[41]\tvalidation_0-aucpr:0.56836\tvalidation_1-aucpr:0.56797\n",
      "[42]\tvalidation_0-aucpr:0.56907\tvalidation_1-aucpr:0.56856\n",
      "[43]\tvalidation_0-aucpr:0.56925\tvalidation_1-aucpr:0.56861\n",
      "[44]\tvalidation_0-aucpr:0.56992\tvalidation_1-aucpr:0.56911\n",
      "[45]\tvalidation_0-aucpr:0.57003\tvalidation_1-aucpr:0.56914\n",
      "[46]\tvalidation_0-aucpr:0.57045\tvalidation_1-aucpr:0.56956\n",
      "[47]\tvalidation_0-aucpr:0.57048\tvalidation_1-aucpr:0.56941\n",
      "[48]\tvalidation_0-aucpr:0.57068\tvalidation_1-aucpr:0.56953\n",
      "[49]\tvalidation_0-aucpr:0.57369\tvalidation_1-aucpr:0.57246\n",
      "[50]\tvalidation_0-aucpr:0.57379\tvalidation_1-aucpr:0.57251\n",
      "[51]\tvalidation_0-aucpr:0.57423\tvalidation_1-aucpr:0.57332\n",
      "[52]\tvalidation_0-aucpr:0.57442\tvalidation_1-aucpr:0.57337\n",
      "[53]\tvalidation_0-aucpr:0.57457\tvalidation_1-aucpr:0.57361\n",
      "[54]\tvalidation_0-aucpr:0.57609\tvalidation_1-aucpr:0.57366\n",
      "[55]\tvalidation_0-aucpr:0.57628\tvalidation_1-aucpr:0.57372\n",
      "[56]\tvalidation_0-aucpr:0.57644\tvalidation_1-aucpr:0.57365\n",
      "[57]\tvalidation_0-aucpr:0.57764\tvalidation_1-aucpr:0.57515\n",
      "[58]\tvalidation_0-aucpr:0.57817\tvalidation_1-aucpr:0.57526\n",
      "[59]\tvalidation_0-aucpr:0.57834\tvalidation_1-aucpr:0.57531\n",
      "[60]\tvalidation_0-aucpr:0.57846\tvalidation_1-aucpr:0.57551\n",
      "[61]\tvalidation_0-aucpr:0.57852\tvalidation_1-aucpr:0.57545\n",
      "[62]\tvalidation_0-aucpr:0.58004\tvalidation_1-aucpr:0.57726\n",
      "[63]\tvalidation_0-aucpr:0.58092\tvalidation_1-aucpr:0.57770\n",
      "[64]\tvalidation_0-aucpr:0.58115\tvalidation_1-aucpr:0.57765\n",
      "[65]\tvalidation_0-aucpr:0.58171\tvalidation_1-aucpr:0.57802\n",
      "[66]\tvalidation_0-aucpr:0.58176\tvalidation_1-aucpr:0.57804\n",
      "[67]\tvalidation_0-aucpr:0.58177\tvalidation_1-aucpr:0.57804\n",
      "[68]\tvalidation_0-aucpr:0.58217\tvalidation_1-aucpr:0.57833\n",
      "[69]\tvalidation_0-aucpr:0.58224\tvalidation_1-aucpr:0.57840\n",
      "[70]\tvalidation_0-aucpr:0.58232\tvalidation_1-aucpr:0.57837\n",
      "[71]\tvalidation_0-aucpr:0.58313\tvalidation_1-aucpr:0.57930\n",
      "[72]\tvalidation_0-aucpr:0.58331\tvalidation_1-aucpr:0.57930\n",
      "[73]\tvalidation_0-aucpr:0.58394\tvalidation_1-aucpr:0.57956\n",
      "[74]\tvalidation_0-aucpr:0.58437\tvalidation_1-aucpr:0.57984\n",
      "[75]\tvalidation_0-aucpr:0.58519\tvalidation_1-aucpr:0.58033\n",
      "[76]\tvalidation_0-aucpr:0.58539\tvalidation_1-aucpr:0.58044\n",
      "[77]\tvalidation_0-aucpr:0.58546\tvalidation_1-aucpr:0.58075\n",
      "[78]\tvalidation_0-aucpr:0.58614\tvalidation_1-aucpr:0.58106\n",
      "[79]\tvalidation_0-aucpr:0.58644\tvalidation_1-aucpr:0.58103\n",
      "[80]\tvalidation_0-aucpr:0.58668\tvalidation_1-aucpr:0.58119\n",
      "[81]\tvalidation_0-aucpr:0.58718\tvalidation_1-aucpr:0.58127\n",
      "[82]\tvalidation_0-aucpr:0.58737\tvalidation_1-aucpr:0.58123\n",
      "[83]\tvalidation_0-aucpr:0.58746\tvalidation_1-aucpr:0.58128\n",
      "[84]\tvalidation_0-aucpr:0.58752\tvalidation_1-aucpr:0.58128\n",
      "[85]\tvalidation_0-aucpr:0.58763\tvalidation_1-aucpr:0.58132\n",
      "[86]\tvalidation_0-aucpr:0.58834\tvalidation_1-aucpr:0.58176\n",
      "[87]\tvalidation_0-aucpr:0.58882\tvalidation_1-aucpr:0.58129\n",
      "[88]\tvalidation_0-aucpr:0.58899\tvalidation_1-aucpr:0.58142\n",
      "[89]\tvalidation_0-aucpr:0.58908\tvalidation_1-aucpr:0.58144\n",
      "[90]\tvalidation_0-aucpr:0.58955\tvalidation_1-aucpr:0.58140\n",
      "[91]\tvalidation_0-aucpr:0.59075\tvalidation_1-aucpr:0.58224\n",
      "[92]\tvalidation_0-aucpr:0.59140\tvalidation_1-aucpr:0.58223\n",
      "[93]\tvalidation_0-aucpr:0.59171\tvalidation_1-aucpr:0.58240\n",
      "[94]\tvalidation_0-aucpr:0.59188\tvalidation_1-aucpr:0.58235\n",
      "[95]\tvalidation_0-aucpr:0.59210\tvalidation_1-aucpr:0.58248\n",
      "[96]\tvalidation_0-aucpr:0.59220\tvalidation_1-aucpr:0.58245\n",
      "[97]\tvalidation_0-aucpr:0.59259\tvalidation_1-aucpr:0.58247\n",
      "[98]\tvalidation_0-aucpr:0.59278\tvalidation_1-aucpr:0.58246\n",
      "[99]\tvalidation_0-aucpr:0.59319\tvalidation_1-aucpr:0.58217\n"
     ]
    },
    {
     "name": "stderr",
     "output_type": "stream",
     "text": [
      "/tmp/ipykernel_16/1928500786.py:28: RuntimeWarning: overflow encountered in scalar multiply\n",
      "  denominator = np.sqrt((true_positive + false_positive) * (true_positive + false_negative) * (true_negative + false_positive) * (true_negative + false_negative))\n"
     ]
    },
    {
     "name": "stdout",
     "output_type": "stream",
     "text": [
      "{'validation_0': OrderedDict([('aucpr', [0.47712788128934847, 0.4918249825665658, 0.4973619830622447, 0.5050351994646011, 0.5108286417434827, 0.5133249381395151, 0.5167784968498489, 0.5158397961137275, 0.5194292847564085, 0.5211694299969591, 0.5224998329427137, 0.5241978737341438, 0.5291864253847204, 0.5336486673119396, 0.5359085643271513, 0.5269623162862752, 0.5356305121791387, 0.5365730854192454, 0.5379550317241478, 0.5391127485938784, 0.5413874199411524, 0.5430412409432698, 0.5435257855917408, 0.5473468647923347, 0.548267016757109, 0.5497873749416855, 0.5499330449472585, 0.5535882357712119, 0.5544639704916278, 0.5544831956764876, 0.5546136769405703, 0.5569678081903997, 0.5601625969413327, 0.5612914138862154, 0.5628997878357305, 0.5639288628050478, 0.5648085798038078, 0.5650165632694581, 0.5668291604899063, 0.5679527790434835, 0.568095631839721, 0.568355114429975, 0.5690703929228518, 0.5692518506231443, 0.5699200634138268, 0.5700289292376655, 0.5704492644524536, 0.570484830302449, 0.5706790431354115, 0.5736947568655107, 0.573792623049821, 0.574230134132143, 0.5744177462438158, 0.5745674009091439, 0.5760866877069724, 0.5762841999688386, 0.576437763321785, 0.5776409747986279, 0.5781688853348501, 0.5783418484913578, 0.5784567726408696, 0.5785199709431158, 0.5800371759825531, 0.5809208831086611, 0.5811483309193913, 0.5817110372172071, 0.581763175025505, 0.5817710220955886, 0.5821694535761082, 0.5822381401481977, 0.5823237893726058, 0.583128551852495, 0.5833122596522446, 0.5839386561206845, 0.5843721771059064, 0.5851890251824534, 0.5853920058957637, 0.5854648233317976, 0.5861408623892809, 0.5864379578908127, 0.586681611423289, 0.5871816102710018, 0.5873747936137503, 0.5874648446337013, 0.5875217636110106, 0.5876323874966183, 0.5883360938345675, 0.5888237480511597, 0.5889927895415428, 0.5890811264450425, 0.5895512204500213, 0.5907519178224978, 0.5913996512751634, 0.5917083068632359, 0.5918831785346746, 0.5921024902903632, 0.5922002203808168, 0.5925882833662585, 0.5927836255672922, 0.5931897317660918])]), 'validation_1': OrderedDict([('aucpr', [0.47931573508096237, 0.49283945010066327, 0.4986089314140042, 0.5074425015435782, 0.5126182009300463, 0.5149728582658923, 0.5187630614444217, 0.51927458612879, 0.5227582210885805, 0.5246090070635024, 0.5256807367383959, 0.5274448996861361, 0.5321607995325667, 0.5367121129413478, 0.5389745112346933, 0.5309878739351686, 0.5394370764236703, 0.5404189127270999, 0.5418799076840954, 0.5428308684117985, 0.5446472257588509, 0.5459290685646084, 0.5463364350478263, 0.5493858201449677, 0.5502316593261971, 0.5515143893009913, 0.5518554313243423, 0.5559902358455414, 0.5566169416879065, 0.5566322120322397, 0.5567690784232138, 0.5570299815023865, 0.5599346068973718, 0.5608767871224518, 0.5624298853925317, 0.5638996606334271, 0.5646504191747082, 0.5648387872931475, 0.5667270993314004, 0.5675454648777823, 0.5676355641587453, 0.5679738746108755, 0.5685560850589133, 0.5686124704804648, 0.5691125320694992, 0.569137483702567, 0.56956182232286, 0.569412639372647, 0.5695343669691264, 0.5724609804657981, 0.572506035662444, 0.5733212933549214, 0.5733704172888792, 0.5736095548006108, 0.5736626165334371, 0.5737244493693401, 0.5736475102496492, 0.5751495970553387, 0.5752606414370031, 0.5753090869412706, 0.5755059137506802, 0.5754494551901181, 0.5772581622868901, 0.5776960384476844, 0.5776470441589908, 0.5780174400694829, 0.5780380945415856, 0.5780393189031385, 0.5783338933382934, 0.5783953789506234, 0.5783708244159692, 0.5792951170633797, 0.5792978066399667, 0.5795611428654669, 0.5798401999148909, 0.5803348965258678, 0.580441099350112, 0.5807487186558443, 0.5810558605274304, 0.5810296785036916, 0.5811902625772998, 0.581274844906549, 0.5812253723585796, 0.5812776886609013, 0.5812754140822586, 0.5813150154773995, 0.5817571904763448, 0.5812882194873122, 0.5814227413255804, 0.5814439655044679, 0.5814012285772143, 0.5822364290420787, 0.5822321877537388, 0.5823985035480753, 0.5823516690984704, 0.5824819941773164, 0.5824544997386492, 0.5824693824761321, 0.5824557955824294, 0.5821679581295942])])}\n"
     ]
    },
    {
     "data": {
      "image/png": "[encoded data removed]",
      "text/plain": [
       "<Figure size 640x480 with 1 Axes>"
      ]
     },
     "metadata": {},
     "output_type": "display_data"
    },
    {
     "name": "stderr",
     "output_type": "stream",
     "text": [
      "/opt/conda/lib/python3.10/site-packages/xgboost/sklearn.py:889: UserWarning: `eval_metric` in `fit` method is deprecated for better compatibility with scikit-learn, use `eval_metric` in constructor or`set_params` instead.\n",
      "  warnings.warn(\n"
     ]
    },
    {
     "name": "stdout",
     "output_type": "stream",
     "text": [
      "[0]\tvalidation_0-aucpr:0.47712\tvalidation_1-aucpr:0.48834\n",
      "[1]\tvalidation_0-aucpr:0.49259\tvalidation_1-aucpr:0.50257\n",
      "[2]\tvalidation_0-aucpr:0.50044\tvalidation_1-aucpr:0.50969\n",
      "[3]\tvalidation_0-aucpr:0.50429\tvalidation_1-aucpr:0.51291\n",
      "[4]\tvalidation_0-aucpr:0.50963\tvalidation_1-aucpr:0.51815\n",
      "[5]\tvalidation_0-aucpr:0.51473\tvalidation_1-aucpr:0.52309\n",
      "[6]\tvalidation_0-aucpr:0.51663\tvalidation_1-aucpr:0.52530\n",
      "[7]\tvalidation_0-aucpr:0.51820\tvalidation_1-aucpr:0.52552\n",
      "[8]\tvalidation_0-aucpr:0.52078\tvalidation_1-aucpr:0.52821\n",
      "[9]\tvalidation_0-aucpr:0.52211\tvalidation_1-aucpr:0.52933\n",
      "[10]\tvalidation_0-aucpr:0.52345\tvalidation_1-aucpr:0.53032\n",
      "[11]\tvalidation_0-aucpr:0.52491\tvalidation_1-aucpr:0.53188\n",
      "[12]\tvalidation_0-aucpr:0.52887\tvalidation_1-aucpr:0.53629\n",
      "[13]\tvalidation_0-aucpr:0.53277\tvalidation_1-aucpr:0.53997\n",
      "[14]\tvalidation_0-aucpr:0.53510\tvalidation_1-aucpr:0.54228\n",
      "[15]\tvalidation_0-aucpr:0.53665\tvalidation_1-aucpr:0.54399\n",
      "[16]\tvalidation_0-aucpr:0.53863\tvalidation_1-aucpr:0.54592\n",
      "[17]\tvalidation_0-aucpr:0.54478\tvalidation_1-aucpr:0.55332\n",
      "[18]\tvalidation_0-aucpr:0.54741\tvalidation_1-aucpr:0.55641\n",
      "[19]\tvalidation_0-aucpr:0.54862\tvalidation_1-aucpr:0.55745\n",
      "[20]\tvalidation_0-aucpr:0.54883\tvalidation_1-aucpr:0.55784\n",
      "[21]\tvalidation_0-aucpr:0.55491\tvalidation_1-aucpr:0.56367\n",
      "[22]\tvalidation_0-aucpr:0.55484\tvalidation_1-aucpr:0.56368\n",
      "[23]\tvalidation_0-aucpr:0.55810\tvalidation_1-aucpr:0.56610\n",
      "[24]\tvalidation_0-aucpr:0.55983\tvalidation_1-aucpr:0.56750\n",
      "[25]\tvalidation_0-aucpr:0.55998\tvalidation_1-aucpr:0.56777\n",
      "[26]\tvalidation_0-aucpr:0.56021\tvalidation_1-aucpr:0.56792\n",
      "[27]\tvalidation_0-aucpr:0.56012\tvalidation_1-aucpr:0.56802\n",
      "[28]\tvalidation_0-aucpr:0.56026\tvalidation_1-aucpr:0.56807\n",
      "[29]\tvalidation_0-aucpr:0.56042\tvalidation_1-aucpr:0.56827\n",
      "[30]\tvalidation_0-aucpr:0.56398\tvalidation_1-aucpr:0.57074\n",
      "[31]\tvalidation_0-aucpr:0.56449\tvalidation_1-aucpr:0.57104\n",
      "[32]\tvalidation_0-aucpr:0.56504\tvalidation_1-aucpr:0.57141\n",
      "[33]\tvalidation_0-aucpr:0.56521\tvalidation_1-aucpr:0.57158\n",
      "[34]\tvalidation_0-aucpr:0.56606\tvalidation_1-aucpr:0.57196\n",
      "[35]\tvalidation_0-aucpr:0.56625\tvalidation_1-aucpr:0.57204\n",
      "[36]\tvalidation_0-aucpr:0.56648\tvalidation_1-aucpr:0.57216\n",
      "[37]\tvalidation_0-aucpr:0.56658\tvalidation_1-aucpr:0.57218\n",
      "[38]\tvalidation_0-aucpr:0.56688\tvalidation_1-aucpr:0.57211\n",
      "[39]\tvalidation_0-aucpr:0.56777\tvalidation_1-aucpr:0.57288\n",
      "[40]\tvalidation_0-aucpr:0.56831\tvalidation_1-aucpr:0.57347\n",
      "[41]\tvalidation_0-aucpr:0.56853\tvalidation_1-aucpr:0.57350\n",
      "[42]\tvalidation_0-aucpr:0.56921\tvalidation_1-aucpr:0.57374\n",
      "[43]\tvalidation_0-aucpr:0.56931\tvalidation_1-aucpr:0.57384\n",
      "[44]\tvalidation_0-aucpr:0.56963\tvalidation_1-aucpr:0.57378\n",
      "[45]\tvalidation_0-aucpr:0.57125\tvalidation_1-aucpr:0.57568\n",
      "[46]\tvalidation_0-aucpr:0.57130\tvalidation_1-aucpr:0.57580\n",
      "[47]\tvalidation_0-aucpr:0.57209\tvalidation_1-aucpr:0.57645\n",
      "[48]\tvalidation_0-aucpr:0.57247\tvalidation_1-aucpr:0.57680\n",
      "[49]\tvalidation_0-aucpr:0.57423\tvalidation_1-aucpr:0.57845\n",
      "[50]\tvalidation_0-aucpr:0.57487\tvalidation_1-aucpr:0.57900\n",
      "[51]\tvalidation_0-aucpr:0.57496\tvalidation_1-aucpr:0.57903\n",
      "[52]\tvalidation_0-aucpr:0.57499\tvalidation_1-aucpr:0.57903\n",
      "[53]\tvalidation_0-aucpr:0.57503\tvalidation_1-aucpr:0.57901\n",
      "[54]\tvalidation_0-aucpr:0.57633\tvalidation_1-aucpr:0.58022\n",
      "[55]\tvalidation_0-aucpr:0.57661\tvalidation_1-aucpr:0.57992\n",
      "[56]\tvalidation_0-aucpr:0.57673\tvalidation_1-aucpr:0.57966\n",
      "[57]\tvalidation_0-aucpr:0.57734\tvalidation_1-aucpr:0.57989\n",
      "[58]\tvalidation_0-aucpr:0.57744\tvalidation_1-aucpr:0.57993\n",
      "[59]\tvalidation_0-aucpr:0.57821\tvalidation_1-aucpr:0.58050\n",
      "[60]\tvalidation_0-aucpr:0.57846\tvalidation_1-aucpr:0.58018\n",
      "[61]\tvalidation_0-aucpr:0.57925\tvalidation_1-aucpr:0.58068\n",
      "[62]\tvalidation_0-aucpr:0.57944\tvalidation_1-aucpr:0.58065\n",
      "[63]\tvalidation_0-aucpr:0.57952\tvalidation_1-aucpr:0.58076\n",
      "[64]\tvalidation_0-aucpr:0.57962\tvalidation_1-aucpr:0.58080\n",
      "[65]\tvalidation_0-aucpr:0.58037\tvalidation_1-aucpr:0.58116\n",
      "[66]\tvalidation_0-aucpr:0.58038\tvalidation_1-aucpr:0.58114\n",
      "[67]\tvalidation_0-aucpr:0.58047\tvalidation_1-aucpr:0.58119\n",
      "[68]\tvalidation_0-aucpr:0.58068\tvalidation_1-aucpr:0.58135\n",
      "[69]\tvalidation_0-aucpr:0.58118\tvalidation_1-aucpr:0.58170\n",
      "[70]\tvalidation_0-aucpr:0.58129\tvalidation_1-aucpr:0.58175\n",
      "[71]\tvalidation_0-aucpr:0.58255\tvalidation_1-aucpr:0.58265\n",
      "[72]\tvalidation_0-aucpr:0.58262\tvalidation_1-aucpr:0.58271\n",
      "[73]\tvalidation_0-aucpr:0.58289\tvalidation_1-aucpr:0.58294\n",
      "[74]\tvalidation_0-aucpr:0.58299\tvalidation_1-aucpr:0.58301\n",
      "[75]\tvalidation_0-aucpr:0.58301\tvalidation_1-aucpr:0.58302\n",
      "[76]\tvalidation_0-aucpr:0.58327\tvalidation_1-aucpr:0.58265\n",
      "[77]\tvalidation_0-aucpr:0.58412\tvalidation_1-aucpr:0.58266\n",
      "[78]\tvalidation_0-aucpr:0.58449\tvalidation_1-aucpr:0.58256\n",
      "[79]\tvalidation_0-aucpr:0.58463\tvalidation_1-aucpr:0.58260\n",
      "[80]\tvalidation_0-aucpr:0.58473\tvalidation_1-aucpr:0.58254\n",
      "[81]\tvalidation_0-aucpr:0.58515\tvalidation_1-aucpr:0.58254\n",
      "[82]\tvalidation_0-aucpr:0.58533\tvalidation_1-aucpr:0.58262\n",
      "[83]\tvalidation_0-aucpr:0.58580\tvalidation_1-aucpr:0.58273\n",
      "[84]\tvalidation_0-aucpr:0.58603\tvalidation_1-aucpr:0.58277\n",
      "[85]\tvalidation_0-aucpr:0.58610\tvalidation_1-aucpr:0.58281\n",
      "[86]\tvalidation_0-aucpr:0.58626\tvalidation_1-aucpr:0.58289\n",
      "[87]\tvalidation_0-aucpr:0.58636\tvalidation_1-aucpr:0.58294\n",
      "[88]\tvalidation_0-aucpr:0.58690\tvalidation_1-aucpr:0.58285\n",
      "[89]\tvalidation_0-aucpr:0.58713\tvalidation_1-aucpr:0.58272\n",
      "[90]\tvalidation_0-aucpr:0.58762\tvalidation_1-aucpr:0.58288\n",
      "[91]\tvalidation_0-aucpr:0.58769\tvalidation_1-aucpr:0.58289\n",
      "[92]\tvalidation_0-aucpr:0.58776\tvalidation_1-aucpr:0.58282\n",
      "[93]\tvalidation_0-aucpr:0.58794\tvalidation_1-aucpr:0.58288\n",
      "[94]\tvalidation_0-aucpr:0.58810\tvalidation_1-aucpr:0.58290\n",
      "[95]\tvalidation_0-aucpr:0.58816\tvalidation_1-aucpr:0.58292\n",
      "[96]\tvalidation_0-aucpr:0.58831\tvalidation_1-aucpr:0.58294\n",
      "[97]\tvalidation_0-aucpr:0.58839\tvalidation_1-aucpr:0.58300\n",
      "[98]\tvalidation_0-aucpr:0.58858\tvalidation_1-aucpr:0.58300\n",
      "[99]\tvalidation_0-aucpr:0.58872\tvalidation_1-aucpr:0.58293\n"
     ]
    },
    {
     "name": "stderr",
     "output_type": "stream",
     "text": [
      "/tmp/ipykernel_16/1928500786.py:28: RuntimeWarning: overflow encountered in scalar multiply\n",
      "  denominator = np.sqrt((true_positive + false_positive) * (true_positive + false_negative) * (true_negative + false_positive) * (true_negative + false_negative))\n",
      "/tmp/ipykernel_16/1928500786.py:28: RuntimeWarning: invalid value encountered in sqrt\n",
      "  denominator = np.sqrt((true_positive + false_positive) * (true_positive + false_negative) * (true_negative + false_positive) * (true_negative + false_negative))\n"
     ]
    },
    {
     "name": "stdout",
     "output_type": "stream",
     "text": [
      "{'validation_0': OrderedDict([('aucpr', [0.4771167309334507, 0.49259485361920274, 0.5004428350248598, 0.5042933545979853, 0.5096269458885183, 0.5147278237263474, 0.516626594742013, 0.5181958802362933, 0.5207789287863905, 0.5221090305791662, 0.523454069445755, 0.5249143897562492, 0.5288679528260034, 0.5327675737682621, 0.5351005844137138, 0.5366470994290604, 0.5386264593677351, 0.5447759118918115, 0.5474145248708592, 0.548619816960363, 0.5488305712947453, 0.5549077426635199, 0.5548422300990891, 0.5581048761123909, 0.5598332119592175, 0.5599776690669216, 0.5602140242681368, 0.5601199911228593, 0.5602617965246981, 0.5604236284157396, 0.5639781323573972, 0.5644933824640908, 0.5650413539569958, 0.5652090155446897, 0.566060747288589, 0.5662473701458542, 0.566477372054529, 0.5665768749237982, 0.5668837621621389, 0.56777348504526, 0.5683115596534289, 0.5685260952727192, 0.5692062430027699, 0.5693060924383629, 0.5696327867433404, 0.5712470029074765, 0.5713025947306031, 0.572089247823902, 0.5724715590317939, 0.5742254439907019, 0.5748690729589802, 0.5749602757234574, 0.5749859269702499, 0.5750328217248023, 0.576325520634901, 0.5766052489562885, 0.5767297618255781, 0.5773424591134892, 0.5774360779224266, 0.5782110889664118, 0.5784610930375743, 0.579249337999959, 0.5794410445677542, 0.5795228949470252, 0.5796153893902798, 0.5803662949730057, 0.5803798931958494, 0.5804654466394874, 0.5806798959464176, 0.5811785196170626, 0.5812880790536474, 0.5825525820276304, 0.5826236137273036, 0.5828913666766701, 0.5829863635092277, 0.5830087949859621, 0.5832742281417056, 0.5841220171891548, 0.584486445795402, 0.5846316299707812, 0.5847277656745378, 0.5851495565004654, 0.5853277405890883, 0.5857972737254852, 0.5860286900054664, 0.5860961221411187, 0.5862559355068233, 0.586358031591752, 0.5868990019000092, 0.5871258215453026, 0.5876236418326232, 0.5876922278900248, 0.5877625677632764, 0.5879382132652823, 0.5880954747682512, 0.5881640503550445, 0.588312129434984, 0.5883948845942083, 0.5885767688635051, 0.5887150081185554])]), 'validation_1': OrderedDict([('aucpr', [0.48833991612960853, 0.5025657161516056, 0.5096925729482743, 0.5129099891172441, 0.5181462059689429, 0.5230905352940175, 0.52529807729299, 0.5255161141066982, 0.5282089167381847, 0.5293270714673693, 0.5303227665170407, 0.5318758300172395, 0.5362855423164501, 0.539971505620401, 0.5422802719929797, 0.5439947118316596, 0.5459224395354975, 0.5533154401028078, 0.5564101028776577, 0.5574549665807733, 0.557841136619289, 0.5636748193004423, 0.5636820795124832, 0.5661029755398047, 0.567496666423346, 0.5677686755612321, 0.5679245085447658, 0.5680205495612625, 0.5680745590545083, 0.5682663910353498, 0.570742778752359, 0.5710405414695499, 0.5714116559763891, 0.571584347905994, 0.5719567078581848, 0.5720362879406218, 0.572155431141233, 0.5721822153555901, 0.5721071867007337, 0.572876666283421, 0.5734655658041959, 0.5734982837248431, 0.573737394730595, 0.573843350419651, 0.573777234816376, 0.5756842841610831, 0.5758033552043184, 0.5764506439903195, 0.5768003646299136, 0.5784474724367257, 0.5790012760192199, 0.5790332867603983, 0.5790280634466608, 0.5790115518855703, 0.5802212870759155, 0.5799213547057309, 0.5796634161305352, 0.5798902608231286, 0.5799329382727487, 0.5805029137098965, 0.5801831174104846, 0.5806812278687336, 0.5806506356576472, 0.5807622982733773, 0.5807966047106393, 0.5811564078561097, 0.5811449739639428, 0.5811909841025807, 0.5813527117659022, 0.5817008826731361, 0.5817484005476325, 0.5826525661569371, 0.5827139517834382, 0.5829387277486613, 0.5830053862436754, 0.5830182139290588, 0.5826547401770465, 0.5826643889327123, 0.5825631115972769, 0.58259630252494, 0.5825428713056052, 0.5825404060984042, 0.5826176349596052, 0.5827328443247637, 0.5827705051189409, 0.5828119801310699, 0.5828877357297926, 0.5829425118879349, 0.5828534175655415, 0.5827186067640877, 0.5828816375077359, 0.5828863381344831, 0.5828158413752954, 0.5828796039992621, 0.5829024645516921, 0.5829155153318152, 0.5829362050392289, 0.583003093471645, 0.582998806010319, 0.5829317330055647])])}\n"
     ]
    },
    {
     "data": {
      "image/png": "[encoded data removed]",
      "text/plain": [
       "<Figure size 640x480 with 1 Axes>"
      ]
     },
     "metadata": {},
     "output_type": "display_data"
    },
    {
     "name": "stderr",
     "output_type": "stream",
     "text": [
      "/opt/conda/lib/python3.10/site-packages/xgboost/sklearn.py:889: UserWarning: `eval_metric` in `fit` method is deprecated for better compatibility with scikit-learn, use `eval_metric` in constructor or`set_params` instead.\n",
      "  warnings.warn(\n"
     ]
    },
    {
     "name": "stdout",
     "output_type": "stream",
     "text": [
      "[0]\tvalidation_0-aucpr:0.48193\tvalidation_1-aucpr:0.46367\n",
      "[1]\tvalidation_0-aucpr:0.49470\tvalidation_1-aucpr:0.47651\n",
      "[2]\tvalidation_0-aucpr:0.50182\tvalidation_1-aucpr:0.48383\n",
      "[3]\tvalidation_0-aucpr:0.50864\tvalidation_1-aucpr:0.49055\n",
      "[4]\tvalidation_0-aucpr:0.51459\tvalidation_1-aucpr:0.49577\n",
      "[5]\tvalidation_0-aucpr:0.51790\tvalidation_1-aucpr:0.49919\n",
      "[6]\tvalidation_0-aucpr:0.52111\tvalidation_1-aucpr:0.50177\n",
      "[7]\tvalidation_0-aucpr:0.52287\tvalidation_1-aucpr:0.50555\n",
      "[8]\tvalidation_0-aucpr:0.52444\tvalidation_1-aucpr:0.50709\n",
      "[9]\tvalidation_0-aucpr:0.52612\tvalidation_1-aucpr:0.50836\n",
      "[10]\tvalidation_0-aucpr:0.52757\tvalidation_1-aucpr:0.50963\n",
      "[11]\tvalidation_0-aucpr:0.52934\tvalidation_1-aucpr:0.51125\n",
      "[12]\tvalidation_0-aucpr:0.53206\tvalidation_1-aucpr:0.51371\n",
      "[13]\tvalidation_0-aucpr:0.53442\tvalidation_1-aucpr:0.51596\n",
      "[14]\tvalidation_0-aucpr:0.51802\tvalidation_1-aucpr:0.50262\n",
      "[15]\tvalidation_0-aucpr:0.53661\tvalidation_1-aucpr:0.51715\n",
      "[16]\tvalidation_0-aucpr:0.54143\tvalidation_1-aucpr:0.52200\n",
      "[17]\tvalidation_0-aucpr:0.54380\tvalidation_1-aucpr:0.52362\n",
      "[18]\tvalidation_0-aucpr:0.54661\tvalidation_1-aucpr:0.52658\n",
      "[19]\tvalidation_0-aucpr:0.54996\tvalidation_1-aucpr:0.53007\n",
      "[20]\tvalidation_0-aucpr:0.55095\tvalidation_1-aucpr:0.53096\n",
      "[21]\tvalidation_0-aucpr:0.55187\tvalidation_1-aucpr:0.53168\n",
      "[22]\tvalidation_0-aucpr:0.55749\tvalidation_1-aucpr:0.53756\n",
      "[23]\tvalidation_0-aucpr:0.55776\tvalidation_1-aucpr:0.53785\n",
      "[24]\tvalidation_0-aucpr:0.55838\tvalidation_1-aucpr:0.53833\n",
      "[25]\tvalidation_0-aucpr:0.55893\tvalidation_1-aucpr:0.53875\n",
      "[26]\tvalidation_0-aucpr:0.56311\tvalidation_1-aucpr:0.54195\n",
      "[27]\tvalidation_0-aucpr:0.56336\tvalidation_1-aucpr:0.54212\n",
      "[28]\tvalidation_0-aucpr:0.56754\tvalidation_1-aucpr:0.54607\n",
      "[29]\tvalidation_0-aucpr:0.56762\tvalidation_1-aucpr:0.54611\n",
      "[30]\tvalidation_0-aucpr:0.56765\tvalidation_1-aucpr:0.54612\n",
      "[31]\tvalidation_0-aucpr:0.56841\tvalidation_1-aucpr:0.54663\n",
      "[32]\tvalidation_0-aucpr:0.56900\tvalidation_1-aucpr:0.54726\n",
      "[33]\tvalidation_0-aucpr:0.57307\tvalidation_1-aucpr:0.55083\n",
      "[34]\tvalidation_0-aucpr:0.57339\tvalidation_1-aucpr:0.55041\n",
      "[35]\tvalidation_0-aucpr:0.57421\tvalidation_1-aucpr:0.55091\n",
      "[36]\tvalidation_0-aucpr:0.57430\tvalidation_1-aucpr:0.55102\n",
      "[37]\tvalidation_0-aucpr:0.57433\tvalidation_1-aucpr:0.55110\n",
      "[38]\tvalidation_0-aucpr:0.57588\tvalidation_1-aucpr:0.55201\n",
      "[39]\tvalidation_0-aucpr:0.57600\tvalidation_1-aucpr:0.55208\n",
      "[40]\tvalidation_0-aucpr:0.56638\tvalidation_1-aucpr:0.54148\n",
      "[41]\tvalidation_0-aucpr:0.57520\tvalidation_1-aucpr:0.55037\n",
      "[42]\tvalidation_0-aucpr:0.57706\tvalidation_1-aucpr:0.55201\n",
      "[43]\tvalidation_0-aucpr:0.57839\tvalidation_1-aucpr:0.55326\n",
      "[44]\tvalidation_0-aucpr:0.57934\tvalidation_1-aucpr:0.55457\n",
      "[45]\tvalidation_0-aucpr:0.57988\tvalidation_1-aucpr:0.55473\n",
      "[46]\tvalidation_0-aucpr:0.58009\tvalidation_1-aucpr:0.55485\n",
      "[47]\tvalidation_0-aucpr:0.58024\tvalidation_1-aucpr:0.55505\n",
      "[48]\tvalidation_0-aucpr:0.58056\tvalidation_1-aucpr:0.55552\n",
      "[49]\tvalidation_0-aucpr:0.58072\tvalidation_1-aucpr:0.55556\n",
      "[50]\tvalidation_0-aucpr:0.58127\tvalidation_1-aucpr:0.55603\n",
      "[51]\tvalidation_0-aucpr:0.58163\tvalidation_1-aucpr:0.55634\n",
      "[52]\tvalidation_0-aucpr:0.58265\tvalidation_1-aucpr:0.55607\n",
      "[53]\tvalidation_0-aucpr:0.58341\tvalidation_1-aucpr:0.55614\n",
      "[54]\tvalidation_0-aucpr:0.58344\tvalidation_1-aucpr:0.55614\n",
      "[55]\tvalidation_0-aucpr:0.58385\tvalidation_1-aucpr:0.55631\n",
      "[56]\tvalidation_0-aucpr:0.58475\tvalidation_1-aucpr:0.55722\n",
      "[57]\tvalidation_0-aucpr:0.58637\tvalidation_1-aucpr:0.55852\n",
      "[58]\tvalidation_0-aucpr:0.58678\tvalidation_1-aucpr:0.55873\n",
      "[59]\tvalidation_0-aucpr:0.58781\tvalidation_1-aucpr:0.55999\n",
      "[60]\tvalidation_0-aucpr:0.58800\tvalidation_1-aucpr:0.56013\n",
      "[61]\tvalidation_0-aucpr:0.58828\tvalidation_1-aucpr:0.56028\n",
      "[62]\tvalidation_0-aucpr:0.58845\tvalidation_1-aucpr:0.56033\n",
      "[63]\tvalidation_0-aucpr:0.58858\tvalidation_1-aucpr:0.56034\n",
      "[64]\tvalidation_0-aucpr:0.58864\tvalidation_1-aucpr:0.56034\n",
      "[65]\tvalidation_0-aucpr:0.58866\tvalidation_1-aucpr:0.56031\n",
      "[66]\tvalidation_0-aucpr:0.58910\tvalidation_1-aucpr:0.56054\n",
      "[67]\tvalidation_0-aucpr:0.58915\tvalidation_1-aucpr:0.56055\n",
      "[68]\tvalidation_0-aucpr:0.58935\tvalidation_1-aucpr:0.56056\n",
      "[69]\tvalidation_0-aucpr:0.58944\tvalidation_1-aucpr:0.56063\n",
      "[70]\tvalidation_0-aucpr:0.58964\tvalidation_1-aucpr:0.56055\n",
      "[71]\tvalidation_0-aucpr:0.59009\tvalidation_1-aucpr:0.56074\n",
      "[72]\tvalidation_0-aucpr:0.59015\tvalidation_1-aucpr:0.56070\n",
      "[73]\tvalidation_0-aucpr:0.59137\tvalidation_1-aucpr:0.56129\n",
      "[74]\tvalidation_0-aucpr:0.59144\tvalidation_1-aucpr:0.56127\n",
      "[75]\tvalidation_0-aucpr:0.59171\tvalidation_1-aucpr:0.56125\n",
      "[76]\tvalidation_0-aucpr:0.59190\tvalidation_1-aucpr:0.56128\n",
      "[77]\tvalidation_0-aucpr:0.59193\tvalidation_1-aucpr:0.56136\n",
      "[78]\tvalidation_0-aucpr:0.59207\tvalidation_1-aucpr:0.56140\n",
      "[79]\tvalidation_0-aucpr:0.59217\tvalidation_1-aucpr:0.56141\n",
      "[80]\tvalidation_0-aucpr:0.59223\tvalidation_1-aucpr:0.56140\n",
      "[81]\tvalidation_0-aucpr:0.59283\tvalidation_1-aucpr:0.56160\n",
      "[82]\tvalidation_0-aucpr:0.59323\tvalidation_1-aucpr:0.56182\n",
      "[83]\tvalidation_0-aucpr:0.59360\tvalidation_1-aucpr:0.56187\n",
      "[84]\tvalidation_0-aucpr:0.59391\tvalidation_1-aucpr:0.56189\n",
      "[85]\tvalidation_0-aucpr:0.59412\tvalidation_1-aucpr:0.56195\n",
      "[86]\tvalidation_0-aucpr:0.59438\tvalidation_1-aucpr:0.56208\n",
      "[87]\tvalidation_0-aucpr:0.59460\tvalidation_1-aucpr:0.56210\n",
      "[88]\tvalidation_0-aucpr:0.59478\tvalidation_1-aucpr:0.56220\n",
      "[89]\tvalidation_0-aucpr:0.59483\tvalidation_1-aucpr:0.56213\n",
      "[90]\tvalidation_0-aucpr:0.59496\tvalidation_1-aucpr:0.56215\n",
      "[91]\tvalidation_0-aucpr:0.59575\tvalidation_1-aucpr:0.56307\n",
      "[92]\tvalidation_0-aucpr:0.59586\tvalidation_1-aucpr:0.56311\n",
      "[93]\tvalidation_0-aucpr:0.59601\tvalidation_1-aucpr:0.56308\n",
      "[94]\tvalidation_0-aucpr:0.59655\tvalidation_1-aucpr:0.56356\n",
      "[95]\tvalidation_0-aucpr:0.59659\tvalidation_1-aucpr:0.56355\n",
      "[96]\tvalidation_0-aucpr:0.59672\tvalidation_1-aucpr:0.56353\n",
      "[97]\tvalidation_0-aucpr:0.59681\tvalidation_1-aucpr:0.56360\n",
      "[98]\tvalidation_0-aucpr:0.59706\tvalidation_1-aucpr:0.56354\n",
      "[99]\tvalidation_0-aucpr:0.59716\tvalidation_1-aucpr:0.56363\n"
     ]
    },
    {
     "name": "stderr",
     "output_type": "stream",
     "text": [
      "/tmp/ipykernel_16/1928500786.py:28: RuntimeWarning: overflow encountered in scalar multiply\n",
      "  denominator = np.sqrt((true_positive + false_positive) * (true_positive + false_negative) * (true_negative + false_positive) * (true_negative + false_negative))\n"
     ]
    },
    {
     "name": "stdout",
     "output_type": "stream",
     "text": [
      "{'validation_0': OrderedDict([('aucpr', [0.4819275056738808, 0.4946993185738249, 0.5018237190780154, 0.5086424045788549, 0.5145907603353701, 0.517902647360123, 0.5211057152065784, 0.5228677726066249, 0.5244356755916965, 0.5261225611636905, 0.527566268497805, 0.5293446754953997, 0.5320563489326279, 0.5344207244667445, 0.5180234692410738, 0.5366084430069245, 0.5414277258270833, 0.5438012000557166, 0.5466108068921702, 0.5499607445138972, 0.5509530681544293, 0.5518688532220333, 0.557485273221421, 0.5577611859987224, 0.5583840807956516, 0.5589284998885251, 0.5631057277173788, 0.5633643842110148, 0.5675417226036116, 0.5676230294876801, 0.5676466414456078, 0.568407805671683, 0.569001748865667, 0.5730708210008086, 0.573388927252436, 0.574209923012485, 0.5743025016285287, 0.5743279868911113, 0.5758812526530891, 0.5760022311166763, 0.5663794800976426, 0.5752031961376104, 0.5770578825907297, 0.5783916815840665, 0.5793373885724811, 0.5798796772146929, 0.5800901842415, 0.5802367601656209, 0.5805563191947093, 0.5807180288215469, 0.5812700676407433, 0.5816272254831836, 0.5826524679296924, 0.5834092294201548, 0.5834447323514221, 0.583848169360972, 0.5847501797500662, 0.5863742309172181, 0.5867786688245689, 0.587814315013819, 0.587998015644354, 0.588276375912775, 0.5884526342062091, 0.5885827429436599, 0.5886433327071617, 0.5886559755436669, 0.5891003781266669, 0.5891460994339638, 0.5893537380282168, 0.5894350944647607, 0.5896431156702951, 0.5900925969675642, 0.5901513090390819, 0.5913699869242199, 0.5914430521030946, 0.5917105945774749, 0.5918992559793506, 0.5919283549330762, 0.5920656876614689, 0.5921724769031752, 0.5922338749156275, 0.5928306997452887, 0.5932269795763606, 0.5935951115373881, 0.5939146277492403, 0.5941234407135496, 0.5943760116630783, 0.5945956449925922, 0.5947809916225373, 0.5948278240034024, 0.5949590915416618, 0.5957470226500359, 0.5958641485601208, 0.5960148796401785, 0.5965451712221868, 0.5965912348933297, 0.5967189888050956, 0.5968102492908708, 0.5970637998803292, 0.5971647590583463])]), 'validation_1': OrderedDict([('aucpr', [0.46367063993311597, 0.47651405709323597, 0.4838321349587123, 0.49055010874119104, 0.4957654834251967, 0.49919143779730124, 0.5017737177308546, 0.5055462881225951, 0.5070933072075633, 0.5083618500224221, 0.5096251398488244, 0.5112468248606215, 0.5137077683565893, 0.5159640333266159, 0.5026236385398962, 0.5171496239805067, 0.5220046948396271, 0.5236221086388164, 0.5265841160545284, 0.5300708246775998, 0.5309622127793135, 0.5316759751127356, 0.5375613644937324, 0.5378517253462748, 0.5383315903217435, 0.5387499757375696, 0.5419545751888146, 0.5421190242652698, 0.5460704508923775, 0.5461138608987753, 0.5461193900003899, 0.5466321995576431, 0.5472600018363148, 0.5508290132683269, 0.5504143213423066, 0.550905311044876, 0.5510191725472693, 0.5511000015496675, 0.5520124363606767, 0.552084597456994, 0.5414754557851286, 0.5503689508006107, 0.552011749610122, 0.5532570870415486, 0.5545734116799477, 0.5547281944513368, 0.5548509032355482, 0.5550549241282625, 0.5555200414158803, 0.5555584027311007, 0.5560280541842465, 0.5563384657638389, 0.5560722729538542, 0.5561421647040771, 0.5561432982896956, 0.5563054046294222, 0.5572152817231465, 0.558521199263227, 0.55872906484914, 0.5599886669876408, 0.5601251097723341, 0.5602831363024205, 0.5603309634823065, 0.5603448698931567, 0.5603354905478745, 0.5603068581110658, 0.5605385758896395, 0.560553014288648, 0.560563562882529, 0.5606290313664775, 0.5605480297598323, 0.560740968146926, 0.5606986819245918, 0.5612936420463961, 0.5612714970636424, 0.5612519323515428, 0.5612790175750403, 0.5613575339171368, 0.5613980206427882, 0.5614078842509694, 0.5613967397615295, 0.561597189190278, 0.5618186380703255, 0.5618723038410455, 0.5618857209215193, 0.5619543541245198, 0.5620817065400824, 0.5620991390890915, 0.5622025438832142, 0.562130769666971, 0.5621462979924026, 0.5630703440307461, 0.5631070856888725, 0.5630839625279149, 0.563556412308852, 0.5635539185405838, 0.5635253415197914, 0.5635968670518602, 0.5635381462413048, 0.5636326376406652])])}\n"
     ]
    },
    {
     "data": {
      "image/png": "[encoded data removed]",
      "text/plain": [
       "<Figure size 640x480 with 1 Axes>"
      ]
     },
     "metadata": {},
     "output_type": "display_data"
    },
    {
     "name": "stderr",
     "output_type": "stream",
     "text": [
      "/opt/conda/lib/python3.10/site-packages/xgboost/sklearn.py:889: UserWarning: `eval_metric` in `fit` method is deprecated for better compatibility with scikit-learn, use `eval_metric` in constructor or`set_params` instead.\n",
      "  warnings.warn(\n"
     ]
    },
    {
     "name": "stdout",
     "output_type": "stream",
     "text": [
      "[0]\tvalidation_0-aucpr:0.47633\tvalidation_1-aucpr:0.47968\n",
      "[1]\tvalidation_0-aucpr:0.49227\tvalidation_1-aucpr:0.49527\n",
      "[2]\tvalidation_0-aucpr:0.49844\tvalidation_1-aucpr:0.50164\n",
      "[3]\tvalidation_0-aucpr:0.50498\tvalidation_1-aucpr:0.50803\n",
      "[4]\tvalidation_0-aucpr:0.50750\tvalidation_1-aucpr:0.51055\n",
      "[5]\tvalidation_0-aucpr:0.51380\tvalidation_1-aucpr:0.51707\n",
      "[6]\tvalidation_0-aucpr:0.51680\tvalidation_1-aucpr:0.52007\n",
      "[7]\tvalidation_0-aucpr:0.51780\tvalidation_1-aucpr:0.52074\n",
      "[8]\tvalidation_0-aucpr:0.52356\tvalidation_1-aucpr:0.52584\n",
      "[9]\tvalidation_0-aucpr:0.52658\tvalidation_1-aucpr:0.52877\n",
      "[10]\tvalidation_0-aucpr:0.53128\tvalidation_1-aucpr:0.53324\n",
      "[11]\tvalidation_0-aucpr:0.53714\tvalidation_1-aucpr:0.53846\n",
      "[12]\tvalidation_0-aucpr:0.53855\tvalidation_1-aucpr:0.53950\n",
      "[13]\tvalidation_0-aucpr:0.54110\tvalidation_1-aucpr:0.54183\n",
      "[14]\tvalidation_0-aucpr:0.54434\tvalidation_1-aucpr:0.54469\n",
      "[15]\tvalidation_0-aucpr:0.54551\tvalidation_1-aucpr:0.54547\n",
      "[16]\tvalidation_0-aucpr:0.54606\tvalidation_1-aucpr:0.54548\n",
      "[17]\tvalidation_0-aucpr:0.54856\tvalidation_1-aucpr:0.54825\n",
      "[18]\tvalidation_0-aucpr:0.54995\tvalidation_1-aucpr:0.54980\n",
      "[19]\tvalidation_0-aucpr:0.55131\tvalidation_1-aucpr:0.55117\n",
      "[20]\tvalidation_0-aucpr:0.55603\tvalidation_1-aucpr:0.55636\n",
      "[21]\tvalidation_0-aucpr:0.55710\tvalidation_1-aucpr:0.55707\n",
      "[22]\tvalidation_0-aucpr:0.55890\tvalidation_1-aucpr:0.55881\n",
      "[23]\tvalidation_0-aucpr:0.56070\tvalidation_1-aucpr:0.56037\n",
      "[24]\tvalidation_0-aucpr:0.56102\tvalidation_1-aucpr:0.56040\n",
      "[25]\tvalidation_0-aucpr:0.56156\tvalidation_1-aucpr:0.56092\n",
      "[26]\tvalidation_0-aucpr:0.56246\tvalidation_1-aucpr:0.56164\n",
      "[27]\tvalidation_0-aucpr:0.56256\tvalidation_1-aucpr:0.56176\n",
      "[28]\tvalidation_0-aucpr:0.56568\tvalidation_1-aucpr:0.56491\n",
      "[29]\tvalidation_0-aucpr:0.56574\tvalidation_1-aucpr:0.56461\n",
      "[30]\tvalidation_0-aucpr:0.56614\tvalidation_1-aucpr:0.56471\n",
      "[31]\tvalidation_0-aucpr:0.56792\tvalidation_1-aucpr:0.56588\n",
      "[32]\tvalidation_0-aucpr:0.56807\tvalidation_1-aucpr:0.56603\n",
      "[33]\tvalidation_0-aucpr:0.56859\tvalidation_1-aucpr:0.56578\n",
      "[34]\tvalidation_0-aucpr:0.57056\tvalidation_1-aucpr:0.56746\n",
      "[35]\tvalidation_0-aucpr:0.57065\tvalidation_1-aucpr:0.56756\n",
      "[36]\tvalidation_0-aucpr:0.57132\tvalidation_1-aucpr:0.56803\n",
      "[37]\tvalidation_0-aucpr:0.57111\tvalidation_1-aucpr:0.56795\n",
      "[38]\tvalidation_0-aucpr:0.57129\tvalidation_1-aucpr:0.56805\n",
      "[39]\tvalidation_0-aucpr:0.57137\tvalidation_1-aucpr:0.56808\n",
      "[40]\tvalidation_0-aucpr:0.57193\tvalidation_1-aucpr:0.56848\n",
      "[41]\tvalidation_0-aucpr:0.57210\tvalidation_1-aucpr:0.56857\n",
      "[42]\tvalidation_0-aucpr:0.57214\tvalidation_1-aucpr:0.56860\n",
      "[43]\tvalidation_0-aucpr:0.57368\tvalidation_1-aucpr:0.57003\n",
      "[44]\tvalidation_0-aucpr:0.57404\tvalidation_1-aucpr:0.57024\n",
      "[45]\tvalidation_0-aucpr:0.57664\tvalidation_1-aucpr:0.57292\n",
      "[46]\tvalidation_0-aucpr:0.57670\tvalidation_1-aucpr:0.57307\n",
      "[47]\tvalidation_0-aucpr:0.57692\tvalidation_1-aucpr:0.57303\n",
      "[48]\tvalidation_0-aucpr:0.57710\tvalidation_1-aucpr:0.57317\n",
      "[49]\tvalidation_0-aucpr:0.57726\tvalidation_1-aucpr:0.57262\n",
      "[50]\tvalidation_0-aucpr:0.57762\tvalidation_1-aucpr:0.57284\n",
      "[51]\tvalidation_0-aucpr:0.57795\tvalidation_1-aucpr:0.57294\n",
      "[52]\tvalidation_0-aucpr:0.57812\tvalidation_1-aucpr:0.57302\n",
      "[53]\tvalidation_0-aucpr:0.57855\tvalidation_1-aucpr:0.57357\n",
      "[54]\tvalidation_0-aucpr:0.57997\tvalidation_1-aucpr:0.57428\n",
      "[55]\tvalidation_0-aucpr:0.58060\tvalidation_1-aucpr:0.57439\n",
      "[56]\tvalidation_0-aucpr:0.58083\tvalidation_1-aucpr:0.57443\n",
      "[57]\tvalidation_0-aucpr:0.58099\tvalidation_1-aucpr:0.57451\n",
      "[58]\tvalidation_0-aucpr:0.58109\tvalidation_1-aucpr:0.57450\n",
      "[59]\tvalidation_0-aucpr:0.58115\tvalidation_1-aucpr:0.57514\n",
      "[60]\tvalidation_0-aucpr:0.58119\tvalidation_1-aucpr:0.57509\n",
      "[61]\tvalidation_0-aucpr:0.58137\tvalidation_1-aucpr:0.57518\n",
      "[62]\tvalidation_0-aucpr:0.58154\tvalidation_1-aucpr:0.57543\n",
      "[63]\tvalidation_0-aucpr:0.58168\tvalidation_1-aucpr:0.57551\n",
      "[64]\tvalidation_0-aucpr:0.58176\tvalidation_1-aucpr:0.57548\n",
      "[65]\tvalidation_0-aucpr:0.58185\tvalidation_1-aucpr:0.57560\n",
      "[66]\tvalidation_0-aucpr:0.58190\tvalidation_1-aucpr:0.57563\n",
      "[67]\tvalidation_0-aucpr:0.58275\tvalidation_1-aucpr:0.57530\n",
      "[68]\tvalidation_0-aucpr:0.58275\tvalidation_1-aucpr:0.57530\n",
      "[69]\tvalidation_0-aucpr:0.58282\tvalidation_1-aucpr:0.57528\n",
      "[70]\tvalidation_0-aucpr:0.58303\tvalidation_1-aucpr:0.57531\n",
      "[71]\tvalidation_0-aucpr:0.58406\tvalidation_1-aucpr:0.57610\n",
      "[72]\tvalidation_0-aucpr:0.58439\tvalidation_1-aucpr:0.57607\n",
      "[73]\tvalidation_0-aucpr:0.58451\tvalidation_1-aucpr:0.57611\n",
      "[74]\tvalidation_0-aucpr:0.58498\tvalidation_1-aucpr:0.57633\n",
      "[75]\tvalidation_0-aucpr:0.58504\tvalidation_1-aucpr:0.57635\n",
      "[76]\tvalidation_0-aucpr:0.58518\tvalidation_1-aucpr:0.57635\n",
      "[77]\tvalidation_0-aucpr:0.58540\tvalidation_1-aucpr:0.57638\n",
      "[78]\tvalidation_0-aucpr:0.58573\tvalidation_1-aucpr:0.57655\n",
      "[79]\tvalidation_0-aucpr:0.58643\tvalidation_1-aucpr:0.57678\n",
      "[80]\tvalidation_0-aucpr:0.58708\tvalidation_1-aucpr:0.57710\n",
      "[81]\tvalidation_0-aucpr:0.58743\tvalidation_1-aucpr:0.57710\n",
      "[82]\tvalidation_0-aucpr:0.58754\tvalidation_1-aucpr:0.57713\n",
      "[83]\tvalidation_0-aucpr:0.58774\tvalidation_1-aucpr:0.57722\n",
      "[84]\tvalidation_0-aucpr:0.58779\tvalidation_1-aucpr:0.57722\n",
      "[85]\tvalidation_0-aucpr:0.58791\tvalidation_1-aucpr:0.57728\n",
      "[86]\tvalidation_0-aucpr:0.58803\tvalidation_1-aucpr:0.57729\n",
      "[87]\tvalidation_0-aucpr:0.58905\tvalidation_1-aucpr:0.57748\n",
      "[88]\tvalidation_0-aucpr:0.58971\tvalidation_1-aucpr:0.57743\n",
      "[89]\tvalidation_0-aucpr:0.58990\tvalidation_1-aucpr:0.57741\n",
      "[90]\tvalidation_0-aucpr:0.58994\tvalidation_1-aucpr:0.57725\n",
      "[91]\tvalidation_0-aucpr:0.59047\tvalidation_1-aucpr:0.57671\n",
      "[92]\tvalidation_0-aucpr:0.59063\tvalidation_1-aucpr:0.57671\n",
      "[93]\tvalidation_0-aucpr:0.59069\tvalidation_1-aucpr:0.57664\n",
      "[94]\tvalidation_0-aucpr:0.59073\tvalidation_1-aucpr:0.57663\n",
      "[95]\tvalidation_0-aucpr:0.59122\tvalidation_1-aucpr:0.57677\n",
      "[96]\tvalidation_0-aucpr:0.59150\tvalidation_1-aucpr:0.57688\n",
      "[97]\tvalidation_0-aucpr:0.59169\tvalidation_1-aucpr:0.57684\n",
      "[98]\tvalidation_0-aucpr:0.59174\tvalidation_1-aucpr:0.57678\n",
      "[99]\tvalidation_0-aucpr:0.59195\tvalidation_1-aucpr:0.57681\n"
     ]
    },
    {
     "name": "stderr",
     "output_type": "stream",
     "text": [
      "/tmp/ipykernel_16/1928500786.py:28: RuntimeWarning: overflow encountered in scalar multiply\n",
      "  denominator = np.sqrt((true_positive + false_positive) * (true_positive + false_negative) * (true_negative + false_positive) * (true_negative + false_negative))\n"
     ]
    },
    {
     "name": "stdout",
     "output_type": "stream",
     "text": [
      "{'validation_0': OrderedDict([('aucpr', [0.4763262721809766, 0.4922745685849105, 0.49844048138175334, 0.5049772712248922, 0.5075045291071082, 0.5137980069501258, 0.516799762222249, 0.5178016643098148, 0.5235573921911783, 0.5265774803148727, 0.5312836338351288, 0.5371419255107733, 0.5385476174293273, 0.5411038013640564, 0.5443350681760594, 0.5455105981244438, 0.546056947762007, 0.5485580197379312, 0.5499503611825319, 0.5513093802771504, 0.5560333203623569, 0.5571014015586376, 0.5589041570363306, 0.5607033067621747, 0.5610247378253548, 0.561558661132356, 0.5624556665178545, 0.5625620805809062, 0.5656763385151542, 0.5657383417594347, 0.5661370571031275, 0.5679163172891125, 0.5680737896472364, 0.568589106774438, 0.5705599803978862, 0.5706455959163687, 0.5713210871939335, 0.5711068566753047, 0.5712943800067932, 0.5713704289713964, 0.5719273505336575, 0.5720969003159856, 0.5721358564175856, 0.5736828162893641, 0.5740389469240879, 0.5766380549563022, 0.5767046604942138, 0.5769226999656742, 0.5771046394516489, 0.5772557415459476, 0.5776229318395462, 0.577950366098735, 0.5781162759295116, 0.5785531566628795, 0.5799676337326917, 0.5805961726259331, 0.5808270370140985, 0.5809892479237695, 0.5810912340941364, 0.5811457827122839, 0.5811883343352728, 0.5813717088826633, 0.5815381152323638, 0.5816788880227753, 0.5817631569538073, 0.5818483834770181, 0.5819040047438089, 0.5827452619055972, 0.5827540462256288, 0.5828249324441723, 0.5830283842339281, 0.5840606942366007, 0.5843875988718644, 0.5845105556083486, 0.5849829107447165, 0.5850403981327038, 0.5851799949339018, 0.5854025232221166, 0.5857340940184234, 0.5864305020376078, 0.5870789279079416, 0.5874323756464502, 0.5875419814953271, 0.5877369922686767, 0.5877893644789154, 0.5879120543525803, 0.588034677312466, 0.5890515987205374, 0.5897102512087999, 0.5898985212567394, 0.5899377931522589, 0.5904687490729172, 0.5906310748156429, 0.5906934900235086, 0.5907338965152706, 0.5912213431004284, 0.5914981332805034, 0.5916855867302461, 0.5917365754766034, 0.5919486128310388])]), 'validation_1': OrderedDict([('aucpr', [0.47967618801575146, 0.49527409331025507, 0.5016391507815817, 0.5080309284283578, 0.5105451904604797, 0.5170665260765122, 0.5200702238389161, 0.5207445951811547, 0.5258385319427061, 0.5287671981044902, 0.5332422919049778, 0.5384577431487604, 0.5395007956183531, 0.5418308497565479, 0.5446888358952933, 0.5454678753955954, 0.5454839853165159, 0.5482537963544967, 0.5498025410641925, 0.5511710913371749, 0.5563604460946164, 0.557070034527527, 0.5588099871971568, 0.5603744725302674, 0.5603965344684326, 0.560924984223943, 0.5616424309032825, 0.5617588364863129, 0.5649099386105084, 0.5646099360570682, 0.5647138814523454, 0.5658760849326049, 0.5660310402224921, 0.5657773089815359, 0.567460138422328, 0.5675575973220958, 0.5680275228890884, 0.5679489794491691, 0.5680515589731248, 0.5680785974653714, 0.5684754039049293, 0.5685727418802541, 0.568595189660879, 0.5700349696672531, 0.5702426019179984, 0.5729216897513375, 0.5730747349981368, 0.5730339412357497, 0.5731722673124864, 0.5726179926456598, 0.5728400863315618, 0.5729379983538292, 0.5730199172663997, 0.5735679625898286, 0.5742759201057326, 0.5743882774877306, 0.5744316077191001, 0.5745123338142952, 0.5745033680050546, 0.5751351070626738, 0.5750871906894263, 0.5751810102778153, 0.5754313271798503, 0.5755086143750017, 0.5754797461429788, 0.5756045633337148, 0.5756253260775314, 0.5752997207659954, 0.5753008641689986, 0.5752775710223544, 0.575311393545469, 0.5760999733590784, 0.5760681187229048, 0.576107107561167, 0.5763297981976871, 0.5763532013736482, 0.5763491563986934, 0.5763808716356854, 0.576546293948913, 0.5767751320364498, 0.5771002482275177, 0.5770953965697643, 0.5771346698967318, 0.5772237353352091, 0.5772181229280996, 0.5772827554721992, 0.5772875453485872, 0.5774765215365913, 0.5774302586916585, 0.577409773154094, 0.5772544273918682, 0.5767066819234087, 0.5767100825838349, 0.5766438700811288, 0.5766345477190521, 0.5767704840232727, 0.5768844379243524, 0.5768354841229452, 0.5767803770257431, 0.57681376011938])])}\n"
     ]
    },
    {
     "data": {
      "image/png": "[encoded data removed]",
      "text/plain": [
       "<Figure size 640x480 with 1 Axes>"
      ]
     },
     "metadata": {},
     "output_type": "display_data"
    },
    {
     "name": "stderr",
     "output_type": "stream",
     "text": [
      "/opt/conda/lib/python3.10/site-packages/xgboost/sklearn.py:889: UserWarning: `eval_metric` in `fit` method is deprecated for better compatibility with scikit-learn, use `eval_metric` in constructor or`set_params` instead.\n",
      "  warnings.warn(\n"
     ]
    },
    {
     "name": "stdout",
     "output_type": "stream",
     "text": [
      "[0]\tvalidation_0-aucpr:0.81520\tvalidation_1-aucpr:0.81246\n",
      "[1]\tvalidation_0-aucpr:0.83642\tvalidation_1-aucpr:0.83177\n",
      "[2]\tvalidation_0-aucpr:0.85035\tvalidation_1-aucpr:0.84544\n",
      "[3]\tvalidation_0-aucpr:0.85268\tvalidation_1-aucpr:0.84810\n",
      "[4]\tvalidation_0-aucpr:0.86680\tvalidation_1-aucpr:0.86243\n",
      "[5]\tvalidation_0-aucpr:0.88137\tvalidation_1-aucpr:0.87741\n",
      "[6]\tvalidation_0-aucpr:0.88813\tvalidation_1-aucpr:0.88381\n",
      "[7]\tvalidation_0-aucpr:0.90679\tvalidation_1-aucpr:0.90206\n",
      "[8]\tvalidation_0-aucpr:0.91464\tvalidation_1-aucpr:0.90994\n",
      "[9]\tvalidation_0-aucpr:0.91903\tvalidation_1-aucpr:0.91418\n",
      "[10]\tvalidation_0-aucpr:0.92874\tvalidation_1-aucpr:0.92434\n",
      "[11]\tvalidation_0-aucpr:0.93516\tvalidation_1-aucpr:0.93083\n",
      "[12]\tvalidation_0-aucpr:0.94004\tvalidation_1-aucpr:0.93549\n",
      "[13]\tvalidation_0-aucpr:0.94540\tvalidation_1-aucpr:0.94009\n",
      "[14]\tvalidation_0-aucpr:0.94773\tvalidation_1-aucpr:0.94238\n",
      "[15]\tvalidation_0-aucpr:0.95227\tvalidation_1-aucpr:0.94699\n",
      "[16]\tvalidation_0-aucpr:0.95410\tvalidation_1-aucpr:0.94895\n",
      "[17]\tvalidation_0-aucpr:0.95596\tvalidation_1-aucpr:0.95081\n",
      "[18]\tvalidation_0-aucpr:0.95672\tvalidation_1-aucpr:0.95170\n",
      "[19]\tvalidation_0-aucpr:0.96004\tvalidation_1-aucpr:0.95494\n",
      "[20]\tvalidation_0-aucpr:0.96224\tvalidation_1-aucpr:0.95724\n",
      "[21]\tvalidation_0-aucpr:0.96353\tvalidation_1-aucpr:0.95849\n",
      "[22]\tvalidation_0-aucpr:0.96670\tvalidation_1-aucpr:0.96181\n",
      "[23]\tvalidation_0-aucpr:0.96813\tvalidation_1-aucpr:0.96340\n",
      "[24]\tvalidation_0-aucpr:0.96856\tvalidation_1-aucpr:0.96393\n",
      "[25]\tvalidation_0-aucpr:0.96999\tvalidation_1-aucpr:0.96537\n",
      "[26]\tvalidation_0-aucpr:0.97038\tvalidation_1-aucpr:0.96575\n",
      "[27]\tvalidation_0-aucpr:0.97134\tvalidation_1-aucpr:0.96681\n",
      "[28]\tvalidation_0-aucpr:0.97195\tvalidation_1-aucpr:0.96738\n",
      "[29]\tvalidation_0-aucpr:0.97338\tvalidation_1-aucpr:0.96850\n",
      "[30]\tvalidation_0-aucpr:0.97407\tvalidation_1-aucpr:0.96920\n",
      "[31]\tvalidation_0-aucpr:0.97439\tvalidation_1-aucpr:0.96953\n",
      "[32]\tvalidation_0-aucpr:0.97524\tvalidation_1-aucpr:0.97005\n",
      "[33]\tvalidation_0-aucpr:0.97602\tvalidation_1-aucpr:0.97106\n",
      "[34]\tvalidation_0-aucpr:0.97662\tvalidation_1-aucpr:0.97167\n",
      "[35]\tvalidation_0-aucpr:0.97722\tvalidation_1-aucpr:0.97205\n",
      "[36]\tvalidation_0-aucpr:0.97788\tvalidation_1-aucpr:0.97274\n",
      "[37]\tvalidation_0-aucpr:0.97858\tvalidation_1-aucpr:0.97351\n",
      "[38]\tvalidation_0-aucpr:0.97884\tvalidation_1-aucpr:0.97373\n",
      "[39]\tvalidation_0-aucpr:0.97930\tvalidation_1-aucpr:0.97416\n",
      "[40]\tvalidation_0-aucpr:0.97934\tvalidation_1-aucpr:0.97419\n",
      "[41]\tvalidation_0-aucpr:0.97950\tvalidation_1-aucpr:0.97428\n",
      "[42]\tvalidation_0-aucpr:0.98004\tvalidation_1-aucpr:0.97482\n",
      "[43]\tvalidation_0-aucpr:0.98056\tvalidation_1-aucpr:0.97541\n",
      "[44]\tvalidation_0-aucpr:0.98086\tvalidation_1-aucpr:0.97563\n",
      "[45]\tvalidation_0-aucpr:0.98116\tvalidation_1-aucpr:0.97594\n",
      "[46]\tvalidation_0-aucpr:0.98139\tvalidation_1-aucpr:0.97614\n",
      "[47]\tvalidation_0-aucpr:0.98155\tvalidation_1-aucpr:0.97626\n",
      "[48]\tvalidation_0-aucpr:0.98163\tvalidation_1-aucpr:0.97629\n",
      "[49]\tvalidation_0-aucpr:0.98172\tvalidation_1-aucpr:0.97640\n",
      "[50]\tvalidation_0-aucpr:0.98228\tvalidation_1-aucpr:0.97703\n",
      "[51]\tvalidation_0-aucpr:0.98241\tvalidation_1-aucpr:0.97720\n",
      "[52]\tvalidation_0-aucpr:0.98262\tvalidation_1-aucpr:0.97738\n",
      "[53]\tvalidation_0-aucpr:0.98281\tvalidation_1-aucpr:0.97742\n",
      "[54]\tvalidation_0-aucpr:0.98303\tvalidation_1-aucpr:0.97755\n",
      "[55]\tvalidation_0-aucpr:0.98323\tvalidation_1-aucpr:0.97770\n",
      "[56]\tvalidation_0-aucpr:0.98338\tvalidation_1-aucpr:0.97781\n",
      "[57]\tvalidation_0-aucpr:0.98375\tvalidation_1-aucpr:0.97792\n",
      "[58]\tvalidation_0-aucpr:0.98415\tvalidation_1-aucpr:0.97847\n",
      "[59]\tvalidation_0-aucpr:0.98428\tvalidation_1-aucpr:0.97846\n",
      "[60]\tvalidation_0-aucpr:0.98440\tvalidation_1-aucpr:0.97854\n",
      "[61]\tvalidation_0-aucpr:0.98462\tvalidation_1-aucpr:0.97859\n",
      "[62]\tvalidation_0-aucpr:0.98479\tvalidation_1-aucpr:0.97859\n",
      "[63]\tvalidation_0-aucpr:0.98504\tvalidation_1-aucpr:0.97876\n",
      "[64]\tvalidation_0-aucpr:0.98555\tvalidation_1-aucpr:0.97909\n",
      "[65]\tvalidation_0-aucpr:0.98584\tvalidation_1-aucpr:0.97932\n",
      "[66]\tvalidation_0-aucpr:0.98593\tvalidation_1-aucpr:0.97938\n",
      "[67]\tvalidation_0-aucpr:0.98604\tvalidation_1-aucpr:0.97945\n",
      "[68]\tvalidation_0-aucpr:0.98624\tvalidation_1-aucpr:0.97955\n",
      "[69]\tvalidation_0-aucpr:0.98647\tvalidation_1-aucpr:0.97963\n",
      "[70]\tvalidation_0-aucpr:0.98648\tvalidation_1-aucpr:0.97965\n",
      "[71]\tvalidation_0-aucpr:0.98652\tvalidation_1-aucpr:0.97964\n",
      "[72]\tvalidation_0-aucpr:0.98654\tvalidation_1-aucpr:0.97966\n",
      "[73]\tvalidation_0-aucpr:0.98670\tvalidation_1-aucpr:0.97973\n",
      "[74]\tvalidation_0-aucpr:0.98691\tvalidation_1-aucpr:0.97984\n",
      "[75]\tvalidation_0-aucpr:0.98701\tvalidation_1-aucpr:0.97984\n",
      "[76]\tvalidation_0-aucpr:0.98724\tvalidation_1-aucpr:0.98000\n",
      "[77]\tvalidation_0-aucpr:0.98739\tvalidation_1-aucpr:0.98003\n",
      "[78]\tvalidation_0-aucpr:0.98750\tvalidation_1-aucpr:0.98004\n",
      "[79]\tvalidation_0-aucpr:0.98761\tvalidation_1-aucpr:0.98011\n",
      "[80]\tvalidation_0-aucpr:0.98775\tvalidation_1-aucpr:0.98018\n",
      "[81]\tvalidation_0-aucpr:0.98783\tvalidation_1-aucpr:0.98022\n",
      "[82]\tvalidation_0-aucpr:0.98811\tvalidation_1-aucpr:0.98028\n",
      "[83]\tvalidation_0-aucpr:0.98819\tvalidation_1-aucpr:0.98037\n",
      "[84]\tvalidation_0-aucpr:0.98841\tvalidation_1-aucpr:0.98062\n",
      "[85]\tvalidation_0-aucpr:0.98856\tvalidation_1-aucpr:0.98063\n",
      "[86]\tvalidation_0-aucpr:0.98875\tvalidation_1-aucpr:0.98079\n",
      "[87]\tvalidation_0-aucpr:0.98900\tvalidation_1-aucpr:0.98091\n",
      "[88]\tvalidation_0-aucpr:0.98911\tvalidation_1-aucpr:0.98094\n",
      "[89]\tvalidation_0-aucpr:0.98921\tvalidation_1-aucpr:0.98094\n",
      "[90]\tvalidation_0-aucpr:0.98934\tvalidation_1-aucpr:0.98093\n",
      "[91]\tvalidation_0-aucpr:0.98940\tvalidation_1-aucpr:0.98095\n",
      "[92]\tvalidation_0-aucpr:0.98949\tvalidation_1-aucpr:0.98090\n",
      "[93]\tvalidation_0-aucpr:0.98956\tvalidation_1-aucpr:0.98092\n",
      "[94]\tvalidation_0-aucpr:0.98975\tvalidation_1-aucpr:0.98098\n",
      "[95]\tvalidation_0-aucpr:0.98983\tvalidation_1-aucpr:0.98102\n",
      "[96]\tvalidation_0-aucpr:0.99010\tvalidation_1-aucpr:0.98128\n",
      "[97]\tvalidation_0-aucpr:0.99030\tvalidation_1-aucpr:0.98135\n",
      "[98]\tvalidation_0-aucpr:0.99036\tvalidation_1-aucpr:0.98143\n",
      "[99]\tvalidation_0-aucpr:0.99046\tvalidation_1-aucpr:0.98147\n"
     ]
    },
    {
     "name": "stderr",
     "output_type": "stream",
     "text": [
      "/tmp/ipykernel_16/1928500786.py:28: RuntimeWarning: overflow encountered in scalar multiply\n",
      "  denominator = np.sqrt((true_positive + false_positive) * (true_positive + false_negative) * (true_negative + false_positive) * (true_negative + false_negative))\n",
      "/tmp/ipykernel_16/1928500786.py:28: RuntimeWarning: invalid value encountered in sqrt\n",
      "  denominator = np.sqrt((true_positive + false_positive) * (true_positive + false_negative) * (true_negative + false_positive) * (true_negative + false_negative))\n"
     ]
    },
    {
     "name": "stdout",
     "output_type": "stream",
     "text": [
      "{'validation_0': OrderedDict([('aucpr', [0.8151951369047689, 0.8364154922380337, 0.8503457811586902, 0.8526783596886293, 0.8668047209409258, 0.8813695361195366, 0.8881251787182901, 0.9067920528339318, 0.9146369345599441, 0.919034215853796, 0.9287365833817164, 0.9351575861412182, 0.94004478705698, 0.9454005026213332, 0.9477301115211046, 0.9522748213324553, 0.9541023936131853, 0.9559642160884663, 0.9567173909427991, 0.9600448966706334, 0.9622353419007879, 0.9635267044810714, 0.9666989684187004, 0.9681307043734884, 0.9685578964312659, 0.969986373714269, 0.9703755954122193, 0.9713429548923137, 0.9719519147470428, 0.9733806791706803, 0.9740670545833451, 0.974391513725638, 0.9752433795891674, 0.976018256286592, 0.9766191136966222, 0.9772189807653381, 0.9778814372005495, 0.9785829715520287, 0.9788433094330632, 0.979295794195031, 0.979342955419597, 0.9794961193591025, 0.9800422149864104, 0.9805645387682589, 0.9808621091382194, 0.9811592491649797, 0.9813851356770535, 0.9815476951399079, 0.9816297827132907, 0.9817168612684865, 0.9822817668722305, 0.9824055197191365, 0.9826171157091012, 0.9828071194644912, 0.9830337852961635, 0.9832305520574643, 0.9833801458333816, 0.9837540665080577, 0.9841531169667982, 0.9842758013558214, 0.984401181624779, 0.9846190876795932, 0.9847870512335942, 0.9850447133726223, 0.9855527760733155, 0.9858372488912772, 0.985932742716714, 0.9860381642505696, 0.9862443117628292, 0.9864659601580769, 0.9864779707769551, 0.9865169091919783, 0.9865398522954569, 0.9866979388127172, 0.9869130408622536, 0.9870076504772307, 0.9872380007039463, 0.9873929074215025, 0.9874995199745203, 0.9876065790446708, 0.987751068189104, 0.9878308300228753, 0.9881072340290064, 0.988188793099152, 0.988412108613323, 0.9885626123362624, 0.988753437556314, 0.9889988698055622, 0.9891083246434864, 0.9892146723534047, 0.9893419057329846, 0.9893968562585976, 0.9894943377446429, 0.9895588099958752, 0.9897479774305694, 0.9898325610454327, 0.9901024650226979, 0.9903045946467897, 0.9903584684308616, 0.9904648984624256])]), 'validation_1': OrderedDict([('aucpr', [0.8124640481122255, 0.8317739219363056, 0.8454352516614797, 0.8480976185163134, 0.8624279051619117, 0.8774067779479362, 0.8838069278371014, 0.9020564780370092, 0.9099432974313765, 0.9141773602120798, 0.9243389024191146, 0.9308299386541126, 0.9354923583711444, 0.9400942350716929, 0.9423787031518575, 0.9469853359026165, 0.9489538659007714, 0.9508142745998103, 0.9517008875056457, 0.9549396682772517, 0.9572368686579491, 0.958485330979149, 0.9618075680042436, 0.9634046350964568, 0.963930331368535, 0.9653696257176643, 0.9657496270890632, 0.9668134652756736, 0.9673756266865078, 0.968503660168805, 0.9692014506124308, 0.969530586410012, 0.9700489090262503, 0.9710593796956037, 0.9716713401686199, 0.9720507225871923, 0.972740451066281, 0.9735107724123339, 0.9737289500983106, 0.9741569511873783, 0.9741869036443433, 0.9742798850860354, 0.9748157410149483, 0.9754071701972606, 0.9756307872826263, 0.9759435650902303, 0.9761411415758281, 0.9762610410171266, 0.9762942862515489, 0.9763979445293385, 0.977026943041673, 0.9771958959754274, 0.977381122490737, 0.9774247976282332, 0.9775525619488813, 0.9777044422410796, 0.9778135695350196, 0.9779239090378863, 0.9784698327169468, 0.9784648368584312, 0.9785410039348659, 0.9785918528144147, 0.9785861516101008, 0.978757917042312, 0.979088863141478, 0.9793190278344793, 0.979375853908848, 0.9794452625949026, 0.9795487835162219, 0.9796301423266728, 0.9796533120000762, 0.97964064223853, 0.9796567124869517, 0.9797308315271349, 0.9798355518085411, 0.9798442171303234, 0.980003893684522, 0.9800302634501535, 0.9800360033217939, 0.9801124300917962, 0.9801839238483673, 0.9802241767067802, 0.9802836586824637, 0.9803677364116857, 0.9806165659907807, 0.9806334525645685, 0.9807919756210697, 0.9809084848457514, 0.9809427546250448, 0.9809431558681622, 0.9809276281425151, 0.9809472287617881, 0.9808961082595319, 0.9809159869258334, 0.9809819677152004, 0.9810193418166953, 0.9812828187485796, 0.98134814239033, 0.9814258074066617, 0.9814688257987749])])}\n"
     ]
    },
    {
     "data": {
      "image/png": "[encoded data removed]",
      "text/plain": [
       "<Figure size 640x480 with 1 Axes>"
      ]
     },
     "metadata": {},
     "output_type": "display_data"
    },
    {
     "name": "stderr",
     "output_type": "stream",
     "text": [
      "/opt/conda/lib/python3.10/site-packages/xgboost/sklearn.py:889: UserWarning: `eval_metric` in `fit` method is deprecated for better compatibility with scikit-learn, use `eval_metric` in constructor or`set_params` instead.\n",
      "  warnings.warn(\n"
     ]
    },
    {
     "name": "stdout",
     "output_type": "stream",
     "text": [
      "[0]\tvalidation_0-aucpr:0.81449\tvalidation_1-aucpr:0.81879\n",
      "[1]\tvalidation_0-aucpr:0.83535\tvalidation_1-aucpr:0.83871\n",
      "[2]\tvalidation_0-aucpr:0.85002\tvalidation_1-aucpr:0.85247\n",
      "[3]\tvalidation_0-aucpr:0.86323\tvalidation_1-aucpr:0.86575\n",
      "[4]\tvalidation_0-aucpr:0.87646\tvalidation_1-aucpr:0.87884\n",
      "[5]\tvalidation_0-aucpr:0.88029\tvalidation_1-aucpr:0.88268\n",
      "[6]\tvalidation_0-aucpr:0.88571\tvalidation_1-aucpr:0.88789\n",
      "[7]\tvalidation_0-aucpr:0.90032\tvalidation_1-aucpr:0.90111\n",
      "[8]\tvalidation_0-aucpr:0.90807\tvalidation_1-aucpr:0.90941\n",
      "[9]\tvalidation_0-aucpr:0.91926\tvalidation_1-aucpr:0.91930\n",
      "[10]\tvalidation_0-aucpr:0.92702\tvalidation_1-aucpr:0.92671\n",
      "[11]\tvalidation_0-aucpr:0.93528\tvalidation_1-aucpr:0.93492\n",
      "[12]\tvalidation_0-aucpr:0.94305\tvalidation_1-aucpr:0.94269\n",
      "[13]\tvalidation_0-aucpr:0.94614\tvalidation_1-aucpr:0.94559\n",
      "[14]\tvalidation_0-aucpr:0.94896\tvalidation_1-aucpr:0.94840\n",
      "[15]\tvalidation_0-aucpr:0.95267\tvalidation_1-aucpr:0.95180\n",
      "[16]\tvalidation_0-aucpr:0.95651\tvalidation_1-aucpr:0.95601\n",
      "[17]\tvalidation_0-aucpr:0.95843\tvalidation_1-aucpr:0.95808\n",
      "[18]\tvalidation_0-aucpr:0.96060\tvalidation_1-aucpr:0.96048\n",
      "[19]\tvalidation_0-aucpr:0.96303\tvalidation_1-aucpr:0.96282\n",
      "[20]\tvalidation_0-aucpr:0.96446\tvalidation_1-aucpr:0.96413\n",
      "[21]\tvalidation_0-aucpr:0.96592\tvalidation_1-aucpr:0.96568\n",
      "[22]\tvalidation_0-aucpr:0.96698\tvalidation_1-aucpr:0.96674\n",
      "[23]\tvalidation_0-aucpr:0.96881\tvalidation_1-aucpr:0.96843\n",
      "[24]\tvalidation_0-aucpr:0.97073\tvalidation_1-aucpr:0.97028\n",
      "[25]\tvalidation_0-aucpr:0.97192\tvalidation_1-aucpr:0.97128\n",
      "[26]\tvalidation_0-aucpr:0.97259\tvalidation_1-aucpr:0.97186\n",
      "[27]\tvalidation_0-aucpr:0.97273\tvalidation_1-aucpr:0.97195\n",
      "[28]\tvalidation_0-aucpr:0.97428\tvalidation_1-aucpr:0.97382\n",
      "[29]\tvalidation_0-aucpr:0.97526\tvalidation_1-aucpr:0.97475\n",
      "[30]\tvalidation_0-aucpr:0.97593\tvalidation_1-aucpr:0.97526\n",
      "[31]\tvalidation_0-aucpr:0.97628\tvalidation_1-aucpr:0.97538\n",
      "[32]\tvalidation_0-aucpr:0.97710\tvalidation_1-aucpr:0.97617\n",
      "[33]\tvalidation_0-aucpr:0.97770\tvalidation_1-aucpr:0.97685\n",
      "[34]\tvalidation_0-aucpr:0.97826\tvalidation_1-aucpr:0.97737\n",
      "[35]\tvalidation_0-aucpr:0.97847\tvalidation_1-aucpr:0.97760\n",
      "[36]\tvalidation_0-aucpr:0.97957\tvalidation_1-aucpr:0.97853\n",
      "[37]\tvalidation_0-aucpr:0.97976\tvalidation_1-aucpr:0.97864\n",
      "[38]\tvalidation_0-aucpr:0.98003\tvalidation_1-aucpr:0.97882\n",
      "[39]\tvalidation_0-aucpr:0.98023\tvalidation_1-aucpr:0.97892\n",
      "[40]\tvalidation_0-aucpr:0.98044\tvalidation_1-aucpr:0.97904\n",
      "[41]\tvalidation_0-aucpr:0.98075\tvalidation_1-aucpr:0.97924\n",
      "[42]\tvalidation_0-aucpr:0.98086\tvalidation_1-aucpr:0.97935\n",
      "[43]\tvalidation_0-aucpr:0.98107\tvalidation_1-aucpr:0.97964\n",
      "[44]\tvalidation_0-aucpr:0.98132\tvalidation_1-aucpr:0.97986\n",
      "[45]\tvalidation_0-aucpr:0.98141\tvalidation_1-aucpr:0.97997\n",
      "[46]\tvalidation_0-aucpr:0.98149\tvalidation_1-aucpr:0.98001\n",
      "[47]\tvalidation_0-aucpr:0.98182\tvalidation_1-aucpr:0.98018\n",
      "[48]\tvalidation_0-aucpr:0.98234\tvalidation_1-aucpr:0.98071\n",
      "[49]\tvalidation_0-aucpr:0.98291\tvalidation_1-aucpr:0.98127\n",
      "[50]\tvalidation_0-aucpr:0.98325\tvalidation_1-aucpr:0.98151\n",
      "[51]\tvalidation_0-aucpr:0.98339\tvalidation_1-aucpr:0.98154\n",
      "[52]\tvalidation_0-aucpr:0.98358\tvalidation_1-aucpr:0.98168\n",
      "[53]\tvalidation_0-aucpr:0.98400\tvalidation_1-aucpr:0.98198\n",
      "[54]\tvalidation_0-aucpr:0.98405\tvalidation_1-aucpr:0.98207\n",
      "[55]\tvalidation_0-aucpr:0.98429\tvalidation_1-aucpr:0.98216\n",
      "[56]\tvalidation_0-aucpr:0.98454\tvalidation_1-aucpr:0.98223\n",
      "[57]\tvalidation_0-aucpr:0.98459\tvalidation_1-aucpr:0.98225\n",
      "[58]\tvalidation_0-aucpr:0.98484\tvalidation_1-aucpr:0.98248\n",
      "[59]\tvalidation_0-aucpr:0.98532\tvalidation_1-aucpr:0.98294\n",
      "[60]\tvalidation_0-aucpr:0.98574\tvalidation_1-aucpr:0.98337\n",
      "[61]\tvalidation_0-aucpr:0.98591\tvalidation_1-aucpr:0.98348\n",
      "[62]\tvalidation_0-aucpr:0.98602\tvalidation_1-aucpr:0.98356\n",
      "[63]\tvalidation_0-aucpr:0.98610\tvalidation_1-aucpr:0.98356\n",
      "[64]\tvalidation_0-aucpr:0.98617\tvalidation_1-aucpr:0.98359\n",
      "[65]\tvalidation_0-aucpr:0.98630\tvalidation_1-aucpr:0.98360\n",
      "[66]\tvalidation_0-aucpr:0.98642\tvalidation_1-aucpr:0.98374\n",
      "[67]\tvalidation_0-aucpr:0.98656\tvalidation_1-aucpr:0.98375\n",
      "[68]\tvalidation_0-aucpr:0.98672\tvalidation_1-aucpr:0.98374\n",
      "[69]\tvalidation_0-aucpr:0.98685\tvalidation_1-aucpr:0.98374\n",
      "[70]\tvalidation_0-aucpr:0.98717\tvalidation_1-aucpr:0.98404\n",
      "[71]\tvalidation_0-aucpr:0.98732\tvalidation_1-aucpr:0.98416\n",
      "[72]\tvalidation_0-aucpr:0.98739\tvalidation_1-aucpr:0.98426\n",
      "[73]\tvalidation_0-aucpr:0.98741\tvalidation_1-aucpr:0.98427\n",
      "[74]\tvalidation_0-aucpr:0.98754\tvalidation_1-aucpr:0.98436\n",
      "[75]\tvalidation_0-aucpr:0.98775\tvalidation_1-aucpr:0.98438\n",
      "[76]\tvalidation_0-aucpr:0.98780\tvalidation_1-aucpr:0.98441\n",
      "[77]\tvalidation_0-aucpr:0.98791\tvalidation_1-aucpr:0.98444\n",
      "[78]\tvalidation_0-aucpr:0.98815\tvalidation_1-aucpr:0.98445\n",
      "[79]\tvalidation_0-aucpr:0.98827\tvalidation_1-aucpr:0.98448\n",
      "[80]\tvalidation_0-aucpr:0.98848\tvalidation_1-aucpr:0.98450\n",
      "[81]\tvalidation_0-aucpr:0.98861\tvalidation_1-aucpr:0.98447\n",
      "[82]\tvalidation_0-aucpr:0.98892\tvalidation_1-aucpr:0.98450\n",
      "[83]\tvalidation_0-aucpr:0.98921\tvalidation_1-aucpr:0.98468\n",
      "[84]\tvalidation_0-aucpr:0.98929\tvalidation_1-aucpr:0.98472\n",
      "[85]\tvalidation_0-aucpr:0.98938\tvalidation_1-aucpr:0.98475\n",
      "[86]\tvalidation_0-aucpr:0.98945\tvalidation_1-aucpr:0.98476\n",
      "[87]\tvalidation_0-aucpr:0.98958\tvalidation_1-aucpr:0.98482\n",
      "[88]\tvalidation_0-aucpr:0.98971\tvalidation_1-aucpr:0.98484\n",
      "[89]\tvalidation_0-aucpr:0.98990\tvalidation_1-aucpr:0.98481\n",
      "[90]\tvalidation_0-aucpr:0.98998\tvalidation_1-aucpr:0.98493\n",
      "[91]\tvalidation_0-aucpr:0.99008\tvalidation_1-aucpr:0.98506\n",
      "[92]\tvalidation_0-aucpr:0.99017\tvalidation_1-aucpr:0.98511\n",
      "[93]\tvalidation_0-aucpr:0.99026\tvalidation_1-aucpr:0.98510\n",
      "[94]\tvalidation_0-aucpr:0.99032\tvalidation_1-aucpr:0.98514\n",
      "[95]\tvalidation_0-aucpr:0.99038\tvalidation_1-aucpr:0.98514\n",
      "[96]\tvalidation_0-aucpr:0.99051\tvalidation_1-aucpr:0.98516\n",
      "[97]\tvalidation_0-aucpr:0.99066\tvalidation_1-aucpr:0.98521\n",
      "[98]\tvalidation_0-aucpr:0.99074\tvalidation_1-aucpr:0.98522\n",
      "[99]\tvalidation_0-aucpr:0.99084\tvalidation_1-aucpr:0.98522\n"
     ]
    },
    {
     "name": "stderr",
     "output_type": "stream",
     "text": [
      "/tmp/ipykernel_16/1928500786.py:28: RuntimeWarning: overflow encountered in scalar multiply\n",
      "  denominator = np.sqrt((true_positive + false_positive) * (true_positive + false_negative) * (true_negative + false_positive) * (true_negative + false_negative))\n",
      "/tmp/ipykernel_16/1928500786.py:28: RuntimeWarning: invalid value encountered in sqrt\n",
      "  denominator = np.sqrt((true_positive + false_positive) * (true_positive + false_negative) * (true_negative + false_positive) * (true_negative + false_negative))\n"
     ]
    },
    {
     "name": "stdout",
     "output_type": "stream",
     "text": [
      "{'validation_0': OrderedDict([('aucpr', [0.8144921167033656, 0.8353510161736212, 0.8500167934594256, 0.8632345834083915, 0.8764615619967131, 0.8802853387508559, 0.8857072296051579, 0.9003225010513032, 0.9080716496267977, 0.9192611234073073, 0.9270168179077806, 0.935283500150463, 0.9430454276466536, 0.9461404418894309, 0.9489565495312566, 0.9526725494665502, 0.956514694895576, 0.9584342452280055, 0.96060245378915, 0.9630341429182899, 0.9644640442866113, 0.965915538852029, 0.9669785155043445, 0.9688082960985731, 0.9707305582305229, 0.971917746864933, 0.9725938247044361, 0.9727336787826032, 0.9742766462568074, 0.9752645140731864, 0.9759293700836636, 0.976279840017924, 0.9771026326349286, 0.9776952532505196, 0.9782619461360909, 0.9784670816815315, 0.9795729290940873, 0.9797604244487521, 0.9800309041631974, 0.9802328601178769, 0.9804354052739691, 0.9807481827361545, 0.9808623832844543, 0.9810714059779393, 0.9813170003986973, 0.9814071616695436, 0.9814909626617696, 0.9818197952320787, 0.9823426567339689, 0.9829100493197753, 0.9832504414132632, 0.9833942370302898, 0.9835768890175216, 0.9839967684781735, 0.9840534961761299, 0.9842889832637748, 0.9845443091600151, 0.9845894891675794, 0.9848399335722643, 0.9853246666480021, 0.9857375045859783, 0.9859140123339406, 0.9860224103382008, 0.9860984794130481, 0.9861688732524029, 0.9862982069792665, 0.9864212483314724, 0.9865603168777425, 0.9867209638835888, 0.9868509766603291, 0.9871732646587498, 0.9873205889398634, 0.987392468003247, 0.9874149193486851, 0.9875424064337857, 0.9877540861858046, 0.9877953607885737, 0.9879069668629444, 0.9881476071831091, 0.988265493543146, 0.9884792190019301, 0.9886060186957534, 0.9889245286475581, 0.9892106917180091, 0.9892935608174831, 0.9893811542207395, 0.9894489526655339, 0.9895839340926099, 0.9897099007321633, 0.9899025930235317, 0.9899826361334058, 0.9900843784462446, 0.9901674312101609, 0.9902643341266624, 0.9903184123752036, 0.9903761174058134, 0.9905069518772408, 0.9906635446952902, 0.9907422248076432, 0.9908401080654348])]), 'validation_1': OrderedDict([('aucpr', [0.8187919600289867, 0.8387101625192239, 0.8524744621619696, 0.865751230506607, 0.8788377457819919, 0.8826814310651426, 0.8878894370993314, 0.9011094308511797, 0.9094124162339484, 0.9193004515801193, 0.9267061289255154, 0.9349247424039653, 0.9426906491192658, 0.9455864563446876, 0.9484010071604788, 0.9518005110675177, 0.9560139594899962, 0.9580770334530129, 0.9604813439359037, 0.9628223915830724, 0.9641302654361644, 0.9656827651374532, 0.9667390473650662, 0.9684264736483751, 0.970278414583871, 0.9712813293232045, 0.9718596202025727, 0.9719534507551638, 0.9738172339873538, 0.9747500648698431, 0.9752647453716926, 0.9753843596129224, 0.9761740764496207, 0.9768480562982803, 0.9773727144297405, 0.977596232124161, 0.9785333297915368, 0.9786375362077238, 0.978815042984651, 0.9789174550094896, 0.9790433948925058, 0.9792420623814222, 0.9793547100533913, 0.979639446553223, 0.9798620198338099, 0.9799678921073366, 0.980007306268007, 0.9801800372565704, 0.9807054865165509, 0.9812717759091584, 0.9815092638848101, 0.9815419703069693, 0.9816800755065236, 0.9819813453552413, 0.9820659624643256, 0.9821603297262474, 0.9822334763741956, 0.9822544072248502, 0.9824764930799682, 0.9829356110859836, 0.9833699587490963, 0.9834842675045946, 0.983556620136587, 0.9835588986237971, 0.9835910567150244, 0.9836011970823918, 0.9837381184723649, 0.9837513068490695, 0.9837389877351483, 0.983736620936485, 0.9840429448270236, 0.9841613126349045, 0.9842560657398908, 0.9842747823660427, 0.9843576252202137, 0.9843815338294554, 0.9844093716429271, 0.9844448267223777, 0.984453302623109, 0.9844758821481874, 0.984495137571033, 0.9844709111751038, 0.9845019454633553, 0.9846804227785013, 0.9847238166895154, 0.9847532243290963, 0.9847641942256313, 0.9848199592768856, 0.9848415035562718, 0.9848074299493192, 0.9849288887967402, 0.9850636877101457, 0.9851077990954763, 0.9851048112436734, 0.9851426619488073, 0.9851411982405358, 0.9851626173945613, 0.985212408027321, 0.9852246463667584, 0.985218476287871])])}\n"
     ]
    },
    {
     "data": {
      "image/png": "[encoded data removed]",
      "text/plain": [
       "<Figure size 640x480 with 1 Axes>"
      ]
     },
     "metadata": {},
     "output_type": "display_data"
    },
    {
     "name": "stderr",
     "output_type": "stream",
     "text": [
      "/opt/conda/lib/python3.10/site-packages/xgboost/sklearn.py:889: UserWarning: `eval_metric` in `fit` method is deprecated for better compatibility with scikit-learn, use `eval_metric` in constructor or`set_params` instead.\n",
      "  warnings.warn(\n"
     ]
    },
    {
     "name": "stdout",
     "output_type": "stream",
     "text": [
      "[0]\tvalidation_0-aucpr:0.81394\tvalidation_1-aucpr:0.81949\n",
      "[1]\tvalidation_0-aucpr:0.83430\tvalidation_1-aucpr:0.83868\n",
      "[2]\tvalidation_0-aucpr:0.84778\tvalidation_1-aucpr:0.85180\n",
      "[3]\tvalidation_0-aucpr:0.85490\tvalidation_1-aucpr:0.85868\n",
      "[4]\tvalidation_0-aucpr:0.87022\tvalidation_1-aucpr:0.87372\n",
      "[5]\tvalidation_0-aucpr:0.87783\tvalidation_1-aucpr:0.88076\n",
      "[6]\tvalidation_0-aucpr:0.89242\tvalidation_1-aucpr:0.89452\n",
      "[7]\tvalidation_0-aucpr:0.90554\tvalidation_1-aucpr:0.90725\n",
      "[8]\tvalidation_0-aucpr:0.91193\tvalidation_1-aucpr:0.91328\n",
      "[9]\tvalidation_0-aucpr:0.91904\tvalidation_1-aucpr:0.91995\n",
      "[10]\tvalidation_0-aucpr:0.92726\tvalidation_1-aucpr:0.92808\n",
      "[11]\tvalidation_0-aucpr:0.93391\tvalidation_1-aucpr:0.93409\n",
      "[12]\tvalidation_0-aucpr:0.93839\tvalidation_1-aucpr:0.93821\n",
      "[13]\tvalidation_0-aucpr:0.94307\tvalidation_1-aucpr:0.94323\n",
      "[14]\tvalidation_0-aucpr:0.94457\tvalidation_1-aucpr:0.94452\n",
      "[15]\tvalidation_0-aucpr:0.95005\tvalidation_1-aucpr:0.94997\n",
      "[16]\tvalidation_0-aucpr:0.95240\tvalidation_1-aucpr:0.95247\n",
      "[17]\tvalidation_0-aucpr:0.95553\tvalidation_1-aucpr:0.95523\n",
      "[18]\tvalidation_0-aucpr:0.95738\tvalidation_1-aucpr:0.95740\n",
      "[19]\tvalidation_0-aucpr:0.95880\tvalidation_1-aucpr:0.95864\n",
      "[20]\tvalidation_0-aucpr:0.96161\tvalidation_1-aucpr:0.96171\n",
      "[21]\tvalidation_0-aucpr:0.96436\tvalidation_1-aucpr:0.96444\n",
      "[22]\tvalidation_0-aucpr:0.96611\tvalidation_1-aucpr:0.96599\n",
      "[23]\tvalidation_0-aucpr:0.96706\tvalidation_1-aucpr:0.96701\n",
      "[24]\tvalidation_0-aucpr:0.96806\tvalidation_1-aucpr:0.96806\n",
      "[25]\tvalidation_0-aucpr:0.96938\tvalidation_1-aucpr:0.96940\n",
      "[26]\tvalidation_0-aucpr:0.97013\tvalidation_1-aucpr:0.97004\n",
      "[27]\tvalidation_0-aucpr:0.97101\tvalidation_1-aucpr:0.97079\n",
      "[28]\tvalidation_0-aucpr:0.97144\tvalidation_1-aucpr:0.97117\n",
      "[29]\tvalidation_0-aucpr:0.97226\tvalidation_1-aucpr:0.97174\n",
      "[30]\tvalidation_0-aucpr:0.97367\tvalidation_1-aucpr:0.97294\n",
      "[31]\tvalidation_0-aucpr:0.97388\tvalidation_1-aucpr:0.97316\n",
      "[32]\tvalidation_0-aucpr:0.97448\tvalidation_1-aucpr:0.97372\n",
      "[33]\tvalidation_0-aucpr:0.97547\tvalidation_1-aucpr:0.97472\n",
      "[34]\tvalidation_0-aucpr:0.97577\tvalidation_1-aucpr:0.97496\n",
      "[35]\tvalidation_0-aucpr:0.97624\tvalidation_1-aucpr:0.97529\n",
      "[36]\tvalidation_0-aucpr:0.97701\tvalidation_1-aucpr:0.97597\n",
      "[37]\tvalidation_0-aucpr:0.97713\tvalidation_1-aucpr:0.97607\n",
      "[38]\tvalidation_0-aucpr:0.97759\tvalidation_1-aucpr:0.97652\n",
      "[39]\tvalidation_0-aucpr:0.97829\tvalidation_1-aucpr:0.97694\n",
      "[40]\tvalidation_0-aucpr:0.97914\tvalidation_1-aucpr:0.97751\n",
      "[41]\tvalidation_0-aucpr:0.97977\tvalidation_1-aucpr:0.97805\n",
      "[42]\tvalidation_0-aucpr:0.98069\tvalidation_1-aucpr:0.97883\n",
      "[43]\tvalidation_0-aucpr:0.98098\tvalidation_1-aucpr:0.97903\n",
      "[44]\tvalidation_0-aucpr:0.98146\tvalidation_1-aucpr:0.97932\n",
      "[45]\tvalidation_0-aucpr:0.98178\tvalidation_1-aucpr:0.97950\n",
      "[46]\tvalidation_0-aucpr:0.98195\tvalidation_1-aucpr:0.97964\n",
      "[47]\tvalidation_0-aucpr:0.98241\tvalidation_1-aucpr:0.98010\n",
      "[48]\tvalidation_0-aucpr:0.98253\tvalidation_1-aucpr:0.98014\n",
      "[49]\tvalidation_0-aucpr:0.98268\tvalidation_1-aucpr:0.98031\n",
      "[50]\tvalidation_0-aucpr:0.98293\tvalidation_1-aucpr:0.98042\n",
      "[51]\tvalidation_0-aucpr:0.98300\tvalidation_1-aucpr:0.98044\n",
      "[52]\tvalidation_0-aucpr:0.98327\tvalidation_1-aucpr:0.98058\n",
      "[53]\tvalidation_0-aucpr:0.98336\tvalidation_1-aucpr:0.98067\n",
      "[54]\tvalidation_0-aucpr:0.98351\tvalidation_1-aucpr:0.98081\n",
      "[55]\tvalidation_0-aucpr:0.98370\tvalidation_1-aucpr:0.98093\n",
      "[56]\tvalidation_0-aucpr:0.98382\tvalidation_1-aucpr:0.98094\n",
      "[57]\tvalidation_0-aucpr:0.98388\tvalidation_1-aucpr:0.98096\n",
      "[58]\tvalidation_0-aucpr:0.98414\tvalidation_1-aucpr:0.98114\n",
      "[59]\tvalidation_0-aucpr:0.98435\tvalidation_1-aucpr:0.98130\n",
      "[60]\tvalidation_0-aucpr:0.98452\tvalidation_1-aucpr:0.98135\n",
      "[61]\tvalidation_0-aucpr:0.98481\tvalidation_1-aucpr:0.98162\n",
      "[62]\tvalidation_0-aucpr:0.98504\tvalidation_1-aucpr:0.98180\n",
      "[63]\tvalidation_0-aucpr:0.98516\tvalidation_1-aucpr:0.98191\n",
      "[64]\tvalidation_0-aucpr:0.98589\tvalidation_1-aucpr:0.98248\n",
      "[65]\tvalidation_0-aucpr:0.98614\tvalidation_1-aucpr:0.98265\n",
      "[66]\tvalidation_0-aucpr:0.98636\tvalidation_1-aucpr:0.98266\n",
      "[67]\tvalidation_0-aucpr:0.98647\tvalidation_1-aucpr:0.98273\n",
      "[68]\tvalidation_0-aucpr:0.98670\tvalidation_1-aucpr:0.98282\n",
      "[69]\tvalidation_0-aucpr:0.98682\tvalidation_1-aucpr:0.98281\n",
      "[70]\tvalidation_0-aucpr:0.98693\tvalidation_1-aucpr:0.98285\n",
      "[71]\tvalidation_0-aucpr:0.98717\tvalidation_1-aucpr:0.98308\n",
      "[72]\tvalidation_0-aucpr:0.98731\tvalidation_1-aucpr:0.98317\n",
      "[73]\tvalidation_0-aucpr:0.98757\tvalidation_1-aucpr:0.98336\n",
      "[74]\tvalidation_0-aucpr:0.98771\tvalidation_1-aucpr:0.98338\n",
      "[75]\tvalidation_0-aucpr:0.98785\tvalidation_1-aucpr:0.98340\n",
      "[76]\tvalidation_0-aucpr:0.98800\tvalidation_1-aucpr:0.98351\n",
      "[77]\tvalidation_0-aucpr:0.98825\tvalidation_1-aucpr:0.98359\n",
      "[78]\tvalidation_0-aucpr:0.98835\tvalidation_1-aucpr:0.98361\n",
      "[79]\tvalidation_0-aucpr:0.98845\tvalidation_1-aucpr:0.98365\n",
      "[80]\tvalidation_0-aucpr:0.98864\tvalidation_1-aucpr:0.98368\n",
      "[81]\tvalidation_0-aucpr:0.98879\tvalidation_1-aucpr:0.98370\n",
      "[82]\tvalidation_0-aucpr:0.98888\tvalidation_1-aucpr:0.98378\n",
      "[83]\tvalidation_0-aucpr:0.98895\tvalidation_1-aucpr:0.98378\n",
      "[84]\tvalidation_0-aucpr:0.98914\tvalidation_1-aucpr:0.98377\n",
      "[85]\tvalidation_0-aucpr:0.98915\tvalidation_1-aucpr:0.98379\n",
      "[86]\tvalidation_0-aucpr:0.98929\tvalidation_1-aucpr:0.98387\n",
      "[87]\tvalidation_0-aucpr:0.98949\tvalidation_1-aucpr:0.98391\n",
      "[88]\tvalidation_0-aucpr:0.98972\tvalidation_1-aucpr:0.98410\n",
      "[89]\tvalidation_0-aucpr:0.98976\tvalidation_1-aucpr:0.98412\n",
      "[90]\tvalidation_0-aucpr:0.98985\tvalidation_1-aucpr:0.98417\n",
      "[91]\tvalidation_0-aucpr:0.98991\tvalidation_1-aucpr:0.98420\n",
      "[92]\tvalidation_0-aucpr:0.99008\tvalidation_1-aucpr:0.98440\n",
      "[93]\tvalidation_0-aucpr:0.99033\tvalidation_1-aucpr:0.98446\n",
      "[94]\tvalidation_0-aucpr:0.99038\tvalidation_1-aucpr:0.98449\n",
      "[95]\tvalidation_0-aucpr:0.99052\tvalidation_1-aucpr:0.98463\n",
      "[96]\tvalidation_0-aucpr:0.99065\tvalidation_1-aucpr:0.98467\n",
      "[97]\tvalidation_0-aucpr:0.99067\tvalidation_1-aucpr:0.98466\n",
      "[98]\tvalidation_0-aucpr:0.99084\tvalidation_1-aucpr:0.98462\n",
      "[99]\tvalidation_0-aucpr:0.99097\tvalidation_1-aucpr:0.98462\n"
     ]
    },
    {
     "name": "stderr",
     "output_type": "stream",
     "text": [
      "/tmp/ipykernel_16/1928500786.py:28: RuntimeWarning: overflow encountered in scalar multiply\n",
      "  denominator = np.sqrt((true_positive + false_positive) * (true_positive + false_negative) * (true_negative + false_positive) * (true_negative + false_negative))\n"
     ]
    },
    {
     "name": "stdout",
     "output_type": "stream",
     "text": [
      "{'validation_0': OrderedDict([('aucpr', [0.8139377642168558, 0.8343032544645065, 0.8477750109015461, 0.854900666382833, 0.8702152268668243, 0.8778310210198934, 0.8924243379562917, 0.905541783582989, 0.9119316494779648, 0.9190386356582322, 0.9272606019046064, 0.9339134956968852, 0.9383881459475303, 0.9430694268322454, 0.9445690422046004, 0.9500546525724307, 0.9523984370401196, 0.955527403955343, 0.9573812143773761, 0.9587974062417862, 0.9616111877011975, 0.9643647387602371, 0.9661072492486041, 0.9670573745194714, 0.9680576591534148, 0.9693784556901492, 0.9701328205404212, 0.9710125310703975, 0.9714406750692179, 0.9722557598247648, 0.9736714618149653, 0.9738777876882803, 0.9744807425230759, 0.9754735128832395, 0.975765114135663, 0.9762355914025288, 0.9770081056852787, 0.9771250882856158, 0.9775883864661743, 0.9782882952885177, 0.9791370159493177, 0.9797661285853119, 0.9806856731137584, 0.9809757715972361, 0.9814613431937352, 0.9817822470190244, 0.9819506968425796, 0.9824127893758804, 0.9825290670613064, 0.9826845131430426, 0.9829261383068114, 0.9829987957371602, 0.983274695970723, 0.9833612006221213, 0.9835088108221891, 0.9836980750338483, 0.9838221492857253, 0.9838845560591878, 0.9841384069550351, 0.9843481826538725, 0.9845166925556141, 0.9848084319016028, 0.9850448071959014, 0.9851590806800231, 0.985888790854156, 0.986141077595723, 0.9863647340568878, 0.9864731483421644, 0.9866971689921101, 0.9868234737860573, 0.9869254559997132, 0.9871721601624889, 0.9873084843623957, 0.9875740079670345, 0.9877052441223616, 0.9878538878844698, 0.9880004421753565, 0.988251917373286, 0.9883520982547729, 0.9884527948269258, 0.9886392406909866, 0.9887868779306762, 0.9888756463631801, 0.988946497841941, 0.9891350069439301, 0.989154284259366, 0.9892852432275383, 0.9894853992778642, 0.9897200481414647, 0.9897612672158808, 0.9898502684499363, 0.9899140320499467, 0.9900780985405685, 0.990329926680915, 0.9903755370560546, 0.9905243630425035, 0.9906522601001257, 0.9906726096729321, 0.9908376088550177, 0.9909736761304468])]), 'validation_1': OrderedDict([('aucpr', [0.8194907187105186, 0.8386777657109764, 0.8518049694118346, 0.8586841835808232, 0.8737177956178868, 0.8807622477590918, 0.8945206299159422, 0.9072548495561782, 0.913284869900691, 0.9199501340661667, 0.9280819224262018, 0.9340907437784436, 0.9382075639132306, 0.9432303819321968, 0.9445238597061097, 0.949973740043462, 0.9524653904855214, 0.955230141572388, 0.957402342306714, 0.9586436193266377, 0.9617084065433986, 0.964437386351059, 0.9659945406001306, 0.9670130699719326, 0.968058006578091, 0.9693965476928519, 0.9700398694730559, 0.9707922298430868, 0.971167687615604, 0.9717366489456795, 0.9729350356002958, 0.9731575537674574, 0.9737174544508074, 0.9747155375334092, 0.9749573788805825, 0.9752851448333567, 0.9759713826992482, 0.9760688172036811, 0.9765154759538848, 0.9769351181067617, 0.9775143830411659, 0.9780452013940268, 0.9788324333081756, 0.9790329482167293, 0.9793241130506428, 0.9795014265918279, 0.9796434982197332, 0.9801012073349824, 0.9801370416036862, 0.980308059199688, 0.9804221571149434, 0.9804366454611105, 0.9805773241667377, 0.9806680120509559, 0.980809865496156, 0.9809297467396366, 0.98094369251741, 0.9809605163652535, 0.9811435948263667, 0.9812955858823056, 0.9813489439512942, 0.9816206455410735, 0.9818006930988327, 0.9819109083410642, 0.9824847034197253, 0.982645265191557, 0.9826560930472711, 0.9827332233321463, 0.982824790743738, 0.982805630616246, 0.9828540362228169, 0.983077740194733, 0.9831688957718717, 0.9833610183113781, 0.9833768058080957, 0.9834020734616343, 0.9835145483072176, 0.9835854834520134, 0.9836103155974757, 0.983646287444765, 0.9836832364048783, 0.9837023302222193, 0.9837796829941258, 0.9837797802433643, 0.9837729482427603, 0.983792087183902, 0.9838678526173831, 0.9839113819414478, 0.984096559646139, 0.9841213009867562, 0.9841669538704353, 0.9842018166591402, 0.9843973422473671, 0.984457064700802, 0.984493500913127, 0.984627542572096, 0.984670737852405, 0.9846626869494925, 0.984621642095136, 0.9846180870903541])])}\n"
     ]
    },
    {
     "data": {
      "image/png": "[encoded data removed]",
      "text/plain": [
       "<Figure size 640x480 with 1 Axes>"
      ]
     },
     "metadata": {},
     "output_type": "display_data"
    },
    {
     "name": "stderr",
     "output_type": "stream",
     "text": [
      "/opt/conda/lib/python3.10/site-packages/xgboost/sklearn.py:889: UserWarning: `eval_metric` in `fit` method is deprecated for better compatibility with scikit-learn, use `eval_metric` in constructor or`set_params` instead.\n",
      "  warnings.warn(\n"
     ]
    },
    {
     "name": "stdout",
     "output_type": "stream",
     "text": [
      "[0]\tvalidation_0-aucpr:0.81655\tvalidation_1-aucpr:0.80684\n",
      "[1]\tvalidation_0-aucpr:0.83694\tvalidation_1-aucpr:0.82896\n",
      "[2]\tvalidation_0-aucpr:0.85425\tvalidation_1-aucpr:0.84689\n",
      "[3]\tvalidation_0-aucpr:0.86488\tvalidation_1-aucpr:0.85786\n",
      "[4]\tvalidation_0-aucpr:0.87352\tvalidation_1-aucpr:0.86724\n",
      "[5]\tvalidation_0-aucpr:0.87911\tvalidation_1-aucpr:0.87105\n",
      "[6]\tvalidation_0-aucpr:0.88699\tvalidation_1-aucpr:0.87981\n",
      "[7]\tvalidation_0-aucpr:0.90485\tvalidation_1-aucpr:0.90049\n",
      "[8]\tvalidation_0-aucpr:0.91418\tvalidation_1-aucpr:0.90988\n",
      "[9]\tvalidation_0-aucpr:0.92080\tvalidation_1-aucpr:0.91700\n",
      "[10]\tvalidation_0-aucpr:0.92694\tvalidation_1-aucpr:0.92322\n",
      "[11]\tvalidation_0-aucpr:0.93714\tvalidation_1-aucpr:0.93367\n",
      "[12]\tvalidation_0-aucpr:0.93919\tvalidation_1-aucpr:0.93561\n",
      "[13]\tvalidation_0-aucpr:0.94244\tvalidation_1-aucpr:0.93848\n",
      "[14]\tvalidation_0-aucpr:0.94560\tvalidation_1-aucpr:0.94161\n",
      "[15]\tvalidation_0-aucpr:0.94946\tvalidation_1-aucpr:0.94548\n",
      "[16]\tvalidation_0-aucpr:0.95183\tvalidation_1-aucpr:0.94789\n",
      "[17]\tvalidation_0-aucpr:0.95517\tvalidation_1-aucpr:0.95146\n",
      "[18]\tvalidation_0-aucpr:0.95713\tvalidation_1-aucpr:0.95332\n",
      "[19]\tvalidation_0-aucpr:0.96149\tvalidation_1-aucpr:0.95725\n",
      "[20]\tvalidation_0-aucpr:0.96367\tvalidation_1-aucpr:0.95952\n",
      "[21]\tvalidation_0-aucpr:0.96450\tvalidation_1-aucpr:0.96025\n",
      "[22]\tvalidation_0-aucpr:0.96693\tvalidation_1-aucpr:0.96271\n",
      "[23]\tvalidation_0-aucpr:0.96821\tvalidation_1-aucpr:0.96384\n",
      "[24]\tvalidation_0-aucpr:0.96991\tvalidation_1-aucpr:0.96546\n",
      "[25]\tvalidation_0-aucpr:0.97075\tvalidation_1-aucpr:0.96617\n",
      "[26]\tvalidation_0-aucpr:0.97241\tvalidation_1-aucpr:0.96768\n",
      "[27]\tvalidation_0-aucpr:0.97284\tvalidation_1-aucpr:0.96813\n",
      "[28]\tvalidation_0-aucpr:0.97395\tvalidation_1-aucpr:0.96904\n",
      "[29]\tvalidation_0-aucpr:0.97424\tvalidation_1-aucpr:0.96920\n",
      "[30]\tvalidation_0-aucpr:0.97553\tvalidation_1-aucpr:0.97054\n",
      "[31]\tvalidation_0-aucpr:0.97634\tvalidation_1-aucpr:0.97135\n",
      "[32]\tvalidation_0-aucpr:0.97734\tvalidation_1-aucpr:0.97225\n",
      "[33]\tvalidation_0-aucpr:0.97820\tvalidation_1-aucpr:0.97310\n",
      "[34]\tvalidation_0-aucpr:0.97873\tvalidation_1-aucpr:0.97374\n",
      "[35]\tvalidation_0-aucpr:0.97914\tvalidation_1-aucpr:0.97424\n",
      "[36]\tvalidation_0-aucpr:0.97972\tvalidation_1-aucpr:0.97483\n",
      "[37]\tvalidation_0-aucpr:0.98010\tvalidation_1-aucpr:0.97513\n",
      "[38]\tvalidation_0-aucpr:0.98053\tvalidation_1-aucpr:0.97566\n",
      "[39]\tvalidation_0-aucpr:0.98100\tvalidation_1-aucpr:0.97600\n",
      "[40]\tvalidation_0-aucpr:0.98113\tvalidation_1-aucpr:0.97613\n",
      "[41]\tvalidation_0-aucpr:0.98151\tvalidation_1-aucpr:0.97632\n",
      "[42]\tvalidation_0-aucpr:0.98170\tvalidation_1-aucpr:0.97635\n",
      "[43]\tvalidation_0-aucpr:0.98196\tvalidation_1-aucpr:0.97650\n",
      "[44]\tvalidation_0-aucpr:0.98212\tvalidation_1-aucpr:0.97669\n",
      "[45]\tvalidation_0-aucpr:0.98220\tvalidation_1-aucpr:0.97677\n",
      "[46]\tvalidation_0-aucpr:0.98277\tvalidation_1-aucpr:0.97734\n",
      "[47]\tvalidation_0-aucpr:0.98295\tvalidation_1-aucpr:0.97742\n",
      "[48]\tvalidation_0-aucpr:0.98307\tvalidation_1-aucpr:0.97750\n",
      "[49]\tvalidation_0-aucpr:0.98320\tvalidation_1-aucpr:0.97755\n",
      "[50]\tvalidation_0-aucpr:0.98348\tvalidation_1-aucpr:0.97777\n",
      "[51]\tvalidation_0-aucpr:0.98375\tvalidation_1-aucpr:0.97788\n",
      "[52]\tvalidation_0-aucpr:0.98388\tvalidation_1-aucpr:0.97801\n",
      "[53]\tvalidation_0-aucpr:0.98418\tvalidation_1-aucpr:0.97836\n",
      "[54]\tvalidation_0-aucpr:0.98459\tvalidation_1-aucpr:0.97848\n",
      "[55]\tvalidation_0-aucpr:0.98471\tvalidation_1-aucpr:0.97850\n",
      "[56]\tvalidation_0-aucpr:0.98477\tvalidation_1-aucpr:0.97857\n",
      "[57]\tvalidation_0-aucpr:0.98497\tvalidation_1-aucpr:0.97877\n",
      "[58]\tvalidation_0-aucpr:0.98512\tvalidation_1-aucpr:0.97888\n",
      "[59]\tvalidation_0-aucpr:0.98527\tvalidation_1-aucpr:0.97900\n",
      "[60]\tvalidation_0-aucpr:0.98534\tvalidation_1-aucpr:0.97898\n",
      "[61]\tvalidation_0-aucpr:0.98560\tvalidation_1-aucpr:0.97907\n",
      "[62]\tvalidation_0-aucpr:0.98566\tvalidation_1-aucpr:0.97916\n",
      "[63]\tvalidation_0-aucpr:0.98584\tvalidation_1-aucpr:0.97939\n",
      "[64]\tvalidation_0-aucpr:0.98622\tvalidation_1-aucpr:0.97978\n",
      "[65]\tvalidation_0-aucpr:0.98636\tvalidation_1-aucpr:0.97986\n",
      "[66]\tvalidation_0-aucpr:0.98648\tvalidation_1-aucpr:0.97986\n",
      "[67]\tvalidation_0-aucpr:0.98651\tvalidation_1-aucpr:0.97989\n",
      "[68]\tvalidation_0-aucpr:0.98658\tvalidation_1-aucpr:0.97996\n",
      "[69]\tvalidation_0-aucpr:0.98660\tvalidation_1-aucpr:0.97997\n",
      "[70]\tvalidation_0-aucpr:0.98679\tvalidation_1-aucpr:0.97994\n",
      "[71]\tvalidation_0-aucpr:0.98713\tvalidation_1-aucpr:0.98037\n",
      "[72]\tvalidation_0-aucpr:0.98735\tvalidation_1-aucpr:0.98045\n",
      "[73]\tvalidation_0-aucpr:0.98743\tvalidation_1-aucpr:0.98051\n",
      "[74]\tvalidation_0-aucpr:0.98758\tvalidation_1-aucpr:0.98054\n",
      "[75]\tvalidation_0-aucpr:0.98762\tvalidation_1-aucpr:0.98057\n",
      "[76]\tvalidation_0-aucpr:0.98781\tvalidation_1-aucpr:0.98062\n",
      "[77]\tvalidation_0-aucpr:0.98793\tvalidation_1-aucpr:0.98070\n",
      "[78]\tvalidation_0-aucpr:0.98825\tvalidation_1-aucpr:0.98076\n",
      "[79]\tvalidation_0-aucpr:0.98847\tvalidation_1-aucpr:0.98078\n",
      "[80]\tvalidation_0-aucpr:0.98854\tvalidation_1-aucpr:0.98080\n",
      "[81]\tvalidation_0-aucpr:0.98875\tvalidation_1-aucpr:0.98086\n",
      "[82]\tvalidation_0-aucpr:0.98881\tvalidation_1-aucpr:0.98093\n",
      "[83]\tvalidation_0-aucpr:0.98888\tvalidation_1-aucpr:0.98092\n",
      "[84]\tvalidation_0-aucpr:0.98905\tvalidation_1-aucpr:0.98109\n",
      "[85]\tvalidation_0-aucpr:0.98915\tvalidation_1-aucpr:0.98122\n",
      "[86]\tvalidation_0-aucpr:0.98921\tvalidation_1-aucpr:0.98126\n",
      "[87]\tvalidation_0-aucpr:0.98925\tvalidation_1-aucpr:0.98130\n",
      "[88]\tvalidation_0-aucpr:0.98935\tvalidation_1-aucpr:0.98129\n",
      "[89]\tvalidation_0-aucpr:0.98944\tvalidation_1-aucpr:0.98131\n",
      "[90]\tvalidation_0-aucpr:0.98957\tvalidation_1-aucpr:0.98146\n",
      "[91]\tvalidation_0-aucpr:0.98966\tvalidation_1-aucpr:0.98152\n",
      "[92]\tvalidation_0-aucpr:0.98985\tvalidation_1-aucpr:0.98173\n",
      "[93]\tvalidation_0-aucpr:0.98994\tvalidation_1-aucpr:0.98182\n",
      "[94]\tvalidation_0-aucpr:0.98998\tvalidation_1-aucpr:0.98184\n",
      "[95]\tvalidation_0-aucpr:0.99004\tvalidation_1-aucpr:0.98188\n",
      "[96]\tvalidation_0-aucpr:0.99011\tvalidation_1-aucpr:0.98191\n",
      "[97]\tvalidation_0-aucpr:0.99018\tvalidation_1-aucpr:0.98189\n",
      "[98]\tvalidation_0-aucpr:0.99029\tvalidation_1-aucpr:0.98193\n",
      "[99]\tvalidation_0-aucpr:0.99053\tvalidation_1-aucpr:0.98234\n"
     ]
    },
    {
     "name": "stderr",
     "output_type": "stream",
     "text": [
      "/tmp/ipykernel_16/1928500786.py:28: RuntimeWarning: overflow encountered in scalar multiply\n",
      "  denominator = np.sqrt((true_positive + false_positive) * (true_positive + false_negative) * (true_negative + false_positive) * (true_negative + false_negative))\n",
      "/tmp/ipykernel_16/1928500786.py:28: RuntimeWarning: invalid value encountered in sqrt\n",
      "  denominator = np.sqrt((true_positive + false_positive) * (true_positive + false_negative) * (true_negative + false_positive) * (true_negative + false_negative))\n"
     ]
    },
    {
     "name": "stdout",
     "output_type": "stream",
     "text": [
      "{'validation_0': OrderedDict([('aucpr', [0.8165543198415701, 0.8369363452215132, 0.8542498551205208, 0.8648790572899957, 0.8735170383947015, 0.8791068962855749, 0.8869865752409177, 0.9048536335935122, 0.9141837417701753, 0.9208031142260358, 0.9269402145064531, 0.9371409325203711, 0.9391948148816172, 0.9424401701608962, 0.9456023859157368, 0.9494609689141809, 0.9518335570395801, 0.9551731916292482, 0.9571300548628907, 0.9614870466691026, 0.9636711824365188, 0.9645004190557183, 0.9669334038505436, 0.9682113702062195, 0.9699078659343469, 0.9707484334884589, 0.9724100928541545, 0.9728389417965879, 0.9739535615519729, 0.9742424506399139, 0.9755275847856425, 0.9763353354432333, 0.9773405280061734, 0.9782007615633291, 0.978728726420155, 0.9791422034745337, 0.9797228292627096, 0.9800952010134636, 0.9805333995835112, 0.9810040791094281, 0.9811323511098862, 0.9815090681176927, 0.9817008875676106, 0.9819569164956533, 0.9821197718194209, 0.9821965889451104, 0.9827711441446695, 0.98295287401658, 0.9830699469689165, 0.9831974550891749, 0.9834758114255039, 0.983749717885982, 0.9838825858684059, 0.9841803495198664, 0.984586533226239, 0.9847102617839985, 0.9847744480712775, 0.9849707112311352, 0.9851241196279229, 0.9852746539010871, 0.9853369209828918, 0.9856001742109742, 0.9856564673998499, 0.985841358369919, 0.9862206816976404, 0.9863551175750682, 0.9864792636294367, 0.9865095567986865, 0.986580592227844, 0.9866046369477608, 0.9867934968635034, 0.9871345361649939, 0.9873526246126099, 0.9874259141917341, 0.9875785652419212, 0.9876199219111635, 0.9878119358555453, 0.9879267478608535, 0.988253020084447, 0.9884727411733732, 0.9885441938983586, 0.9887513944181443, 0.9888076444102928, 0.9888763198536964, 0.9890465547779448, 0.989152503466505, 0.9892149916951782, 0.9892541478476854, 0.9893472646458661, 0.9894425648121423, 0.9895740744337027, 0.9896586431908145, 0.989854319835023, 0.9899370532271783, 0.989978384323225, 0.9900446850358473, 0.9901108958484435, 0.990181692948838, 0.9902921056272963, 0.9905259339102784])]), 'validation_1': OrderedDict([('aucpr', [0.8068394565012117, 0.8289605006940203, 0.8468943949696076, 0.8578576935244496, 0.8672447678259801, 0.8710507264539219, 0.8798103466743349, 0.9004878042814787, 0.9098795295361433, 0.9169956504364623, 0.9232191684326981, 0.9336711834635081, 0.9356096487526425, 0.9384797334784677, 0.9416082983841809, 0.9454844727991266, 0.947894609447092, 0.951463246230107, 0.9533190050027529, 0.9572480469901502, 0.9595248343287499, 0.9602469183801062, 0.9627108176015435, 0.9638414332184936, 0.9654637641634853, 0.9661678211924017, 0.9676781358166405, 0.9681343191743715, 0.9690358150241851, 0.9692006519493022, 0.9705427040600723, 0.9713479518105754, 0.9722526661564517, 0.9730973323289686, 0.9737385517977567, 0.974240816713435, 0.9748267079781822, 0.9751253927071373, 0.9756555402267141, 0.9759988701354775, 0.9761279743924145, 0.9763208352516783, 0.9763464062944002, 0.9765040067186522, 0.9766862888773795, 0.9767742871377694, 0.977339702606775, 0.9774229721608529, 0.9775002918892163, 0.9775460907300059, 0.977772415053717, 0.9778763901390726, 0.9780099441415604, 0.9783639991957048, 0.9784827260630886, 0.9785022929195278, 0.9785736895798643, 0.9787729097911066, 0.9788794375256386, 0.9790036482238226, 0.978981430919555, 0.9790674536057037, 0.9791639085038029, 0.97939229299289, 0.979775496643049, 0.9798576147545567, 0.9798617156027802, 0.9798875194683186, 0.9799618029706505, 0.9799740304758673, 0.9799393817195626, 0.9803739945970403, 0.9804534499489733, 0.9805142959069727, 0.9805354050158872, 0.9805664970922956, 0.9806224001673145, 0.9807006257087117, 0.9807606504911871, 0.9807764749718876, 0.9808022410222238, 0.9808606804805777, 0.9809333970075587, 0.9809233059540389, 0.9810941357756435, 0.9812157697967924, 0.9812558574123112, 0.9812978870815263, 0.9812919578354771, 0.9813108235168666, 0.9814576077894517, 0.9815219090414281, 0.9817347698727028, 0.9818189528675846, 0.9818433662632244, 0.981883369794055, 0.981913805893374, 0.9818892491593867, 0.981931130832766, 0.9823412890771224])])}\n"
     ]
    },
    {
     "data": {
      "image/png": "[encoded data removed]",
      "text/plain": [
       "<Figure size 640x480 with 1 Axes>"
      ]
     },
     "metadata": {},
     "output_type": "display_data"
    },
    {
     "name": "stderr",
     "output_type": "stream",
     "text": [
      "/opt/conda/lib/python3.10/site-packages/xgboost/sklearn.py:889: UserWarning: `eval_metric` in `fit` method is deprecated for better compatibility with scikit-learn, use `eval_metric` in constructor or`set_params` instead.\n",
      "  warnings.warn(\n"
     ]
    },
    {
     "name": "stdout",
     "output_type": "stream",
     "text": [
      "[0]\tvalidation_0-aucpr:0.81621\tvalidation_1-aucpr:0.81498\n",
      "[1]\tvalidation_0-aucpr:0.83780\tvalidation_1-aucpr:0.83837\n",
      "[2]\tvalidation_0-aucpr:0.85540\tvalidation_1-aucpr:0.85652\n",
      "[3]\tvalidation_0-aucpr:0.86552\tvalidation_1-aucpr:0.86747\n",
      "[4]\tvalidation_0-aucpr:0.87578\tvalidation_1-aucpr:0.87768\n",
      "[5]\tvalidation_0-aucpr:0.88876\tvalidation_1-aucpr:0.89050\n",
      "[6]\tvalidation_0-aucpr:0.90302\tvalidation_1-aucpr:0.90596\n",
      "[7]\tvalidation_0-aucpr:0.90892\tvalidation_1-aucpr:0.91133\n",
      "[8]\tvalidation_0-aucpr:0.91447\tvalidation_1-aucpr:0.91650\n",
      "[9]\tvalidation_0-aucpr:0.92048\tvalidation_1-aucpr:0.92282\n",
      "[10]\tvalidation_0-aucpr:0.93130\tvalidation_1-aucpr:0.93255\n",
      "[11]\tvalidation_0-aucpr:0.93514\tvalidation_1-aucpr:0.93589\n",
      "[12]\tvalidation_0-aucpr:0.94019\tvalidation_1-aucpr:0.94131\n",
      "[13]\tvalidation_0-aucpr:0.94414\tvalidation_1-aucpr:0.94546\n",
      "[14]\tvalidation_0-aucpr:0.94900\tvalidation_1-aucpr:0.94967\n",
      "[15]\tvalidation_0-aucpr:0.95178\tvalidation_1-aucpr:0.95230\n",
      "[16]\tvalidation_0-aucpr:0.95387\tvalidation_1-aucpr:0.95423\n",
      "[17]\tvalidation_0-aucpr:0.95700\tvalidation_1-aucpr:0.95700\n",
      "[18]\tvalidation_0-aucpr:0.95859\tvalidation_1-aucpr:0.95883\n",
      "[19]\tvalidation_0-aucpr:0.96015\tvalidation_1-aucpr:0.96034\n",
      "[20]\tvalidation_0-aucpr:0.96180\tvalidation_1-aucpr:0.96184\n",
      "[21]\tvalidation_0-aucpr:0.96339\tvalidation_1-aucpr:0.96339\n",
      "[22]\tvalidation_0-aucpr:0.96583\tvalidation_1-aucpr:0.96542\n",
      "[23]\tvalidation_0-aucpr:0.96671\tvalidation_1-aucpr:0.96623\n",
      "[24]\tvalidation_0-aucpr:0.96825\tvalidation_1-aucpr:0.96767\n",
      "[25]\tvalidation_0-aucpr:0.96873\tvalidation_1-aucpr:0.96822\n",
      "[26]\tvalidation_0-aucpr:0.97069\tvalidation_1-aucpr:0.96992\n",
      "[27]\tvalidation_0-aucpr:0.97133\tvalidation_1-aucpr:0.97050\n",
      "[28]\tvalidation_0-aucpr:0.97178\tvalidation_1-aucpr:0.97088\n",
      "[29]\tvalidation_0-aucpr:0.97226\tvalidation_1-aucpr:0.97135\n",
      "[30]\tvalidation_0-aucpr:0.97311\tvalidation_1-aucpr:0.97213\n",
      "[31]\tvalidation_0-aucpr:0.97439\tvalidation_1-aucpr:0.97335\n",
      "[32]\tvalidation_0-aucpr:0.97517\tvalidation_1-aucpr:0.97387\n",
      "[33]\tvalidation_0-aucpr:0.97536\tvalidation_1-aucpr:0.97408\n",
      "[34]\tvalidation_0-aucpr:0.97574\tvalidation_1-aucpr:0.97439\n",
      "[35]\tvalidation_0-aucpr:0.97651\tvalidation_1-aucpr:0.97527\n",
      "[36]\tvalidation_0-aucpr:0.97681\tvalidation_1-aucpr:0.97547\n",
      "[37]\tvalidation_0-aucpr:0.97769\tvalidation_1-aucpr:0.97617\n",
      "[38]\tvalidation_0-aucpr:0.97857\tvalidation_1-aucpr:0.97729\n",
      "[39]\tvalidation_0-aucpr:0.97896\tvalidation_1-aucpr:0.97770\n",
      "[40]\tvalidation_0-aucpr:0.97945\tvalidation_1-aucpr:0.97804\n",
      "[41]\tvalidation_0-aucpr:0.97980\tvalidation_1-aucpr:0.97809\n",
      "[42]\tvalidation_0-aucpr:0.97991\tvalidation_1-aucpr:0.97817\n",
      "[43]\tvalidation_0-aucpr:0.98042\tvalidation_1-aucpr:0.97861\n",
      "[44]\tvalidation_0-aucpr:0.98054\tvalidation_1-aucpr:0.97872\n",
      "[45]\tvalidation_0-aucpr:0.98063\tvalidation_1-aucpr:0.97875\n",
      "[46]\tvalidation_0-aucpr:0.98079\tvalidation_1-aucpr:0.97880\n",
      "[47]\tvalidation_0-aucpr:0.98085\tvalidation_1-aucpr:0.97886\n",
      "[48]\tvalidation_0-aucpr:0.98103\tvalidation_1-aucpr:0.97899\n",
      "[49]\tvalidation_0-aucpr:0.98150\tvalidation_1-aucpr:0.97933\n",
      "[50]\tvalidation_0-aucpr:0.98204\tvalidation_1-aucpr:0.97960\n",
      "[51]\tvalidation_0-aucpr:0.98257\tvalidation_1-aucpr:0.98013\n",
      "[52]\tvalidation_0-aucpr:0.98282\tvalidation_1-aucpr:0.98035\n",
      "[53]\tvalidation_0-aucpr:0.98316\tvalidation_1-aucpr:0.98070\n",
      "[54]\tvalidation_0-aucpr:0.98355\tvalidation_1-aucpr:0.98100\n",
      "[55]\tvalidation_0-aucpr:0.98375\tvalidation_1-aucpr:0.98117\n",
      "[56]\tvalidation_0-aucpr:0.98388\tvalidation_1-aucpr:0.98121\n",
      "[57]\tvalidation_0-aucpr:0.98410\tvalidation_1-aucpr:0.98140\n",
      "[58]\tvalidation_0-aucpr:0.98424\tvalidation_1-aucpr:0.98155\n",
      "[59]\tvalidation_0-aucpr:0.98452\tvalidation_1-aucpr:0.98169\n",
      "[60]\tvalidation_0-aucpr:0.98486\tvalidation_1-aucpr:0.98187\n",
      "[61]\tvalidation_0-aucpr:0.98505\tvalidation_1-aucpr:0.98208\n",
      "[62]\tvalidation_0-aucpr:0.98522\tvalidation_1-aucpr:0.98212\n",
      "[63]\tvalidation_0-aucpr:0.98544\tvalidation_1-aucpr:0.98219\n",
      "[64]\tvalidation_0-aucpr:0.98560\tvalidation_1-aucpr:0.98225\n",
      "[65]\tvalidation_0-aucpr:0.98576\tvalidation_1-aucpr:0.98234\n",
      "[66]\tvalidation_0-aucpr:0.98616\tvalidation_1-aucpr:0.98264\n",
      "[67]\tvalidation_0-aucpr:0.98629\tvalidation_1-aucpr:0.98275\n",
      "[68]\tvalidation_0-aucpr:0.98669\tvalidation_1-aucpr:0.98306\n",
      "[69]\tvalidation_0-aucpr:0.98691\tvalidation_1-aucpr:0.98305\n",
      "[70]\tvalidation_0-aucpr:0.98703\tvalidation_1-aucpr:0.98308\n",
      "[71]\tvalidation_0-aucpr:0.98723\tvalidation_1-aucpr:0.98313\n",
      "[72]\tvalidation_0-aucpr:0.98730\tvalidation_1-aucpr:0.98320\n",
      "[73]\tvalidation_0-aucpr:0.98761\tvalidation_1-aucpr:0.98348\n",
      "[74]\tvalidation_0-aucpr:0.98766\tvalidation_1-aucpr:0.98356\n",
      "[75]\tvalidation_0-aucpr:0.98777\tvalidation_1-aucpr:0.98363\n",
      "[76]\tvalidation_0-aucpr:0.98786\tvalidation_1-aucpr:0.98365\n",
      "[77]\tvalidation_0-aucpr:0.98820\tvalidation_1-aucpr:0.98406\n",
      "[78]\tvalidation_0-aucpr:0.98825\tvalidation_1-aucpr:0.98406\n",
      "[79]\tvalidation_0-aucpr:0.98836\tvalidation_1-aucpr:0.98409\n",
      "[80]\tvalidation_0-aucpr:0.98857\tvalidation_1-aucpr:0.98420\n",
      "[81]\tvalidation_0-aucpr:0.98875\tvalidation_1-aucpr:0.98418\n",
      "[82]\tvalidation_0-aucpr:0.98886\tvalidation_1-aucpr:0.98421\n",
      "[83]\tvalidation_0-aucpr:0.98892\tvalidation_1-aucpr:0.98425\n",
      "[84]\tvalidation_0-aucpr:0.98902\tvalidation_1-aucpr:0.98437\n",
      "[85]\tvalidation_0-aucpr:0.98923\tvalidation_1-aucpr:0.98436\n",
      "[86]\tvalidation_0-aucpr:0.98931\tvalidation_1-aucpr:0.98435\n",
      "[87]\tvalidation_0-aucpr:0.98946\tvalidation_1-aucpr:0.98439\n",
      "[88]\tvalidation_0-aucpr:0.98963\tvalidation_1-aucpr:0.98457\n",
      "[89]\tvalidation_0-aucpr:0.98984\tvalidation_1-aucpr:0.98475\n",
      "[90]\tvalidation_0-aucpr:0.98991\tvalidation_1-aucpr:0.98480\n",
      "[91]\tvalidation_0-aucpr:0.98997\tvalidation_1-aucpr:0.98478\n",
      "[92]\tvalidation_0-aucpr:0.99003\tvalidation_1-aucpr:0.98481\n",
      "[93]\tvalidation_0-aucpr:0.99008\tvalidation_1-aucpr:0.98490\n",
      "[94]\tvalidation_0-aucpr:0.99023\tvalidation_1-aucpr:0.98496\n",
      "[95]\tvalidation_0-aucpr:0.99041\tvalidation_1-aucpr:0.98502\n",
      "[96]\tvalidation_0-aucpr:0.99045\tvalidation_1-aucpr:0.98501\n",
      "[97]\tvalidation_0-aucpr:0.99046\tvalidation_1-aucpr:0.98501\n",
      "[98]\tvalidation_0-aucpr:0.99049\tvalidation_1-aucpr:0.98500\n",
      "[99]\tvalidation_0-aucpr:0.99064\tvalidation_1-aucpr:0.98515\n"
     ]
    },
    {
     "name": "stderr",
     "output_type": "stream",
     "text": [
      "/tmp/ipykernel_16/1928500786.py:28: RuntimeWarning: overflow encountered in scalar multiply\n",
      "  denominator = np.sqrt((true_positive + false_positive) * (true_positive + false_negative) * (true_negative + false_positive) * (true_negative + false_negative))\n",
      "/tmp/ipykernel_16/1928500786.py:28: RuntimeWarning: invalid value encountered in sqrt\n",
      "  denominator = np.sqrt((true_positive + false_positive) * (true_positive + false_negative) * (true_negative + false_positive) * (true_negative + false_negative))\n"
     ]
    },
    {
     "name": "stdout",
     "output_type": "stream",
     "text": [
      "{'validation_0': OrderedDict([('aucpr', [0.8162124757187763, 0.8377955749905042, 0.8553984224704442, 0.8655174603181054, 0.8757826873991915, 0.8887594050105455, 0.9030245517061937, 0.9089240422679362, 0.91446579402427, 0.9204766731528126, 0.9312984649836082, 0.9351361958627569, 0.9401871167917625, 0.9441414588464024, 0.9490035186636875, 0.9517761332225763, 0.953870229012433, 0.9569976077561051, 0.9585865873315067, 0.960153867779683, 0.9618031277489127, 0.9633948164278952, 0.9658349234874607, 0.9667071912674634, 0.9682509815899785, 0.9687281223018894, 0.9706908150068764, 0.9713295019496134, 0.9717845934581363, 0.9722560912264055, 0.9731131530999836, 0.9743898777828269, 0.9751702249822105, 0.9753622321930203, 0.9757377599180059, 0.9765147715075977, 0.9768129368971608, 0.9776873880565031, 0.9785703483899101, 0.9789562566490905, 0.9794522778054413, 0.9798026427129355, 0.9799054837957649, 0.9804151606075348, 0.9805408145989342, 0.9806270913672099, 0.9807878772083705, 0.9808461537379772, 0.981025682131684, 0.9814987864275793, 0.9820411530240439, 0.9825741546338692, 0.9828182891407847, 0.9831612856562486, 0.9835530340402777, 0.9837507359307368, 0.9838809671610723, 0.9840997999161525, 0.9842391200812536, 0.9845186821047065, 0.9848592907929785, 0.9850517244125487, 0.985224184369692, 0.9854432183387917, 0.9856022153083114, 0.9857619549592984, 0.9861648995617945, 0.9862948157880954, 0.986691186663062, 0.9869064705379509, 0.987030264008235, 0.9872344132414417, 0.9872984212873558, 0.9876149625175242, 0.9876638541978114, 0.9877672312425638, 0.9878591313006396, 0.9881996248491121, 0.9882474571575212, 0.9883569154520201, 0.9885746459798801, 0.9887486572086212, 0.9888557548576884, 0.9889162110158699, 0.989021893267804, 0.9892298950515441, 0.9893082819695715, 0.9894604008071909, 0.9896277975172457, 0.9898408293392755, 0.9899104981473383, 0.9899661495881641, 0.990028121026058, 0.9900767603910199, 0.9902295672224611, 0.9904073952594645, 0.9904471796952322, 0.9904626643364639, 0.9904912398675529, 0.9906440736916343])]), 'validation_1': OrderedDict([('aucpr', [0.814977695687923, 0.8383737402278159, 0.8565200867256929, 0.867470958211793, 0.8776800640853595, 0.8905015472964767, 0.9059591878838772, 0.9113290283164732, 0.9164991374280448, 0.92281502782777, 0.9325509159419704, 0.9358854027893289, 0.9413053423448571, 0.9454637370768789, 0.9496672570976729, 0.9523019646836185, 0.9542271975314016, 0.956997815424636, 0.9588325453676619, 0.9603445783876299, 0.9618448670616396, 0.9633934735992399, 0.9654225295939801, 0.9662297603071028, 0.9676709844032171, 0.9682200626463917, 0.9699222755077397, 0.9704956375105512, 0.9708831920310428, 0.9713533595016122, 0.9721344582683696, 0.9733467873277832, 0.9738712649910951, 0.9740752278006043, 0.9743878061293034, 0.9752721309451257, 0.975472973558663, 0.9761687834659548, 0.9772911329693103, 0.9777040742817453, 0.9780350689297587, 0.9780908947534718, 0.9781675761653799, 0.9786096652071538, 0.9787188539107341, 0.9787505225156719, 0.9788031323578698, 0.9788611421316612, 0.9789865180466066, 0.9793250179324882, 0.9795958492522902, 0.9801288528552714, 0.9803491366716918, 0.9807025882824185, 0.9810038602164384, 0.9811661472186503, 0.9812074538699104, 0.9814042919453579, 0.9815460732147824, 0.981689207783206, 0.9818690321983712, 0.9820815258042944, 0.9821199999104598, 0.9821866394032044, 0.9822486297520161, 0.9823373552999888, 0.9826420728324851, 0.9827452006751312, 0.983058303208921, 0.9830457502770377, 0.9830781431689988, 0.9831322886065513, 0.9831961736880874, 0.9834814164902317, 0.9835598779757287, 0.9836332175841057, 0.9836505755515582, 0.9840580238017742, 0.9840557320689883, 0.9840930870155251, 0.9841998309571964, 0.9841803737560237, 0.9842060827838761, 0.9842451999080505, 0.9843681499521149, 0.9843581534197293, 0.9843521661903234, 0.9843860080942543, 0.984568323741348, 0.9847464774911722, 0.9848022845932308, 0.9847849510613945, 0.9848123807823519, 0.9848955761983923, 0.984964755848072, 0.9850151310135955, 0.9850114391136978, 0.9850070771592367, 0.9850013584358761, 0.9851534837644756])])}\n"
     ]
    },
    {
     "data": {
      "image/png": "[encoded data removed]",
      "text/plain": [
       "<Figure size 640x480 with 1 Axes>"
      ]
     },
     "metadata": {},
     "output_type": "display_data"
    },
    {
     "name": "stderr",
     "output_type": "stream",
     "text": [
      "/opt/conda/lib/python3.10/site-packages/xgboost/sklearn.py:889: UserWarning: `eval_metric` in `fit` method is deprecated for better compatibility with scikit-learn, use `eval_metric` in constructor or`set_params` instead.\n",
      "  warnings.warn(\n"
     ]
    },
    {
     "name": "stdout",
     "output_type": "stream",
     "text": [
      "[0]\tvalidation_0-aucpr:0.85250\tvalidation_1-aucpr:0.84889\n",
      "[1]\tvalidation_0-aucpr:0.87404\tvalidation_1-aucpr:0.87010\n",
      "[2]\tvalidation_0-aucpr:0.87710\tvalidation_1-aucpr:0.87261\n",
      "[3]\tvalidation_0-aucpr:0.88927\tvalidation_1-aucpr:0.88446\n",
      "[4]\tvalidation_0-aucpr:0.90155\tvalidation_1-aucpr:0.89758\n",
      "[5]\tvalidation_0-aucpr:0.91322\tvalidation_1-aucpr:0.90954\n",
      "[6]\tvalidation_0-aucpr:0.92063\tvalidation_1-aucpr:0.91651\n",
      "[7]\tvalidation_0-aucpr:0.92807\tvalidation_1-aucpr:0.92391\n",
      "[8]\tvalidation_0-aucpr:0.93581\tvalidation_1-aucpr:0.93204\n",
      "[9]\tvalidation_0-aucpr:0.94106\tvalidation_1-aucpr:0.93765\n",
      "[10]\tvalidation_0-aucpr:0.94482\tvalidation_1-aucpr:0.94158\n",
      "[11]\tvalidation_0-aucpr:0.94923\tvalidation_1-aucpr:0.94634\n",
      "[12]\tvalidation_0-aucpr:0.95284\tvalidation_1-aucpr:0.94983\n",
      "[13]\tvalidation_0-aucpr:0.95533\tvalidation_1-aucpr:0.95208\n",
      "[14]\tvalidation_0-aucpr:0.95876\tvalidation_1-aucpr:0.95496\n",
      "[15]\tvalidation_0-aucpr:0.96376\tvalidation_1-aucpr:0.95954\n",
      "[16]\tvalidation_0-aucpr:0.96723\tvalidation_1-aucpr:0.96307\n",
      "[17]\tvalidation_0-aucpr:0.96922\tvalidation_1-aucpr:0.96516\n",
      "[18]\tvalidation_0-aucpr:0.97020\tvalidation_1-aucpr:0.96619\n",
      "[19]\tvalidation_0-aucpr:0.97084\tvalidation_1-aucpr:0.96683\n",
      "[20]\tvalidation_0-aucpr:0.97255\tvalidation_1-aucpr:0.96830\n",
      "[21]\tvalidation_0-aucpr:0.97274\tvalidation_1-aucpr:0.96846\n",
      "[22]\tvalidation_0-aucpr:0.97323\tvalidation_1-aucpr:0.96892\n",
      "[23]\tvalidation_0-aucpr:0.97468\tvalidation_1-aucpr:0.97067\n",
      "[24]\tvalidation_0-aucpr:0.97521\tvalidation_1-aucpr:0.97112\n",
      "[25]\tvalidation_0-aucpr:0.97664\tvalidation_1-aucpr:0.97249\n",
      "[26]\tvalidation_0-aucpr:0.97693\tvalidation_1-aucpr:0.97283\n",
      "[27]\tvalidation_0-aucpr:0.97734\tvalidation_1-aucpr:0.97328\n",
      "[28]\tvalidation_0-aucpr:0.97768\tvalidation_1-aucpr:0.97360\n",
      "[29]\tvalidation_0-aucpr:0.97807\tvalidation_1-aucpr:0.97404\n",
      "[30]\tvalidation_0-aucpr:0.97868\tvalidation_1-aucpr:0.97453\n",
      "[31]\tvalidation_0-aucpr:0.97939\tvalidation_1-aucpr:0.97528\n",
      "[32]\tvalidation_0-aucpr:0.97963\tvalidation_1-aucpr:0.97544\n",
      "[33]\tvalidation_0-aucpr:0.97984\tvalidation_1-aucpr:0.97557\n",
      "[34]\tvalidation_0-aucpr:0.98008\tvalidation_1-aucpr:0.97576\n",
      "[35]\tvalidation_0-aucpr:0.98032\tvalidation_1-aucpr:0.97596\n",
      "[36]\tvalidation_0-aucpr:0.98062\tvalidation_1-aucpr:0.97623\n",
      "[37]\tvalidation_0-aucpr:0.98080\tvalidation_1-aucpr:0.97627\n",
      "[38]\tvalidation_0-aucpr:0.98116\tvalidation_1-aucpr:0.97663\n",
      "[39]\tvalidation_0-aucpr:0.98223\tvalidation_1-aucpr:0.97763\n",
      "[40]\tvalidation_0-aucpr:0.98262\tvalidation_1-aucpr:0.97787\n",
      "[41]\tvalidation_0-aucpr:0.98273\tvalidation_1-aucpr:0.97794\n",
      "[42]\tvalidation_0-aucpr:0.98310\tvalidation_1-aucpr:0.97822\n",
      "[43]\tvalidation_0-aucpr:0.98325\tvalidation_1-aucpr:0.97834\n",
      "[44]\tvalidation_0-aucpr:0.98344\tvalidation_1-aucpr:0.97850\n",
      "[45]\tvalidation_0-aucpr:0.98394\tvalidation_1-aucpr:0.97902\n",
      "[46]\tvalidation_0-aucpr:0.98452\tvalidation_1-aucpr:0.97950\n",
      "[47]\tvalidation_0-aucpr:0.98466\tvalidation_1-aucpr:0.97958\n",
      "[48]\tvalidation_0-aucpr:0.98482\tvalidation_1-aucpr:0.97973\n",
      "[49]\tvalidation_0-aucpr:0.98490\tvalidation_1-aucpr:0.97981\n",
      "[50]\tvalidation_0-aucpr:0.98518\tvalidation_1-aucpr:0.97998\n",
      "[51]\tvalidation_0-aucpr:0.98526\tvalidation_1-aucpr:0.97998\n",
      "[52]\tvalidation_0-aucpr:0.98543\tvalidation_1-aucpr:0.98003\n",
      "[53]\tvalidation_0-aucpr:0.98582\tvalidation_1-aucpr:0.98039\n",
      "[54]\tvalidation_0-aucpr:0.98602\tvalidation_1-aucpr:0.98052\n",
      "[55]\tvalidation_0-aucpr:0.98625\tvalidation_1-aucpr:0.98072\n",
      "[56]\tvalidation_0-aucpr:0.98638\tvalidation_1-aucpr:0.98083\n",
      "[57]\tvalidation_0-aucpr:0.98658\tvalidation_1-aucpr:0.98085\n",
      "[58]\tvalidation_0-aucpr:0.98674\tvalidation_1-aucpr:0.98089\n",
      "[59]\tvalidation_0-aucpr:0.98694\tvalidation_1-aucpr:0.98098\n",
      "[60]\tvalidation_0-aucpr:0.98718\tvalidation_1-aucpr:0.98123\n",
      "[61]\tvalidation_0-aucpr:0.98745\tvalidation_1-aucpr:0.98145\n",
      "[62]\tvalidation_0-aucpr:0.98764\tvalidation_1-aucpr:0.98152\n",
      "[63]\tvalidation_0-aucpr:0.98778\tvalidation_1-aucpr:0.98163\n",
      "[64]\tvalidation_0-aucpr:0.98782\tvalidation_1-aucpr:0.98167\n",
      "[65]\tvalidation_0-aucpr:0.98801\tvalidation_1-aucpr:0.98170\n",
      "[66]\tvalidation_0-aucpr:0.98812\tvalidation_1-aucpr:0.98181\n",
      "[67]\tvalidation_0-aucpr:0.98822\tvalidation_1-aucpr:0.98182\n",
      "[68]\tvalidation_0-aucpr:0.98832\tvalidation_1-aucpr:0.98192\n",
      "[69]\tvalidation_0-aucpr:0.98868\tvalidation_1-aucpr:0.98218\n",
      "[70]\tvalidation_0-aucpr:0.98885\tvalidation_1-aucpr:0.98217\n",
      "[71]\tvalidation_0-aucpr:0.98900\tvalidation_1-aucpr:0.98226\n",
      "[72]\tvalidation_0-aucpr:0.98913\tvalidation_1-aucpr:0.98239\n",
      "[73]\tvalidation_0-aucpr:0.98954\tvalidation_1-aucpr:0.98278\n",
      "[74]\tvalidation_0-aucpr:0.98980\tvalidation_1-aucpr:0.98299\n",
      "[75]\tvalidation_0-aucpr:0.98994\tvalidation_1-aucpr:0.98304\n",
      "[76]\tvalidation_0-aucpr:0.99030\tvalidation_1-aucpr:0.98312\n",
      "[77]\tvalidation_0-aucpr:0.99056\tvalidation_1-aucpr:0.98335\n",
      "[78]\tvalidation_0-aucpr:0.99067\tvalidation_1-aucpr:0.98336\n",
      "[79]\tvalidation_0-aucpr:0.99077\tvalidation_1-aucpr:0.98336\n",
      "[80]\tvalidation_0-aucpr:0.99085\tvalidation_1-aucpr:0.98343\n",
      "[81]\tvalidation_0-aucpr:0.99095\tvalidation_1-aucpr:0.98344\n",
      "[82]\tvalidation_0-aucpr:0.99107\tvalidation_1-aucpr:0.98351\n",
      "[83]\tvalidation_0-aucpr:0.99112\tvalidation_1-aucpr:0.98351\n",
      "[84]\tvalidation_0-aucpr:0.99124\tvalidation_1-aucpr:0.98355\n",
      "[85]\tvalidation_0-aucpr:0.99130\tvalidation_1-aucpr:0.98360\n",
      "[86]\tvalidation_0-aucpr:0.99143\tvalidation_1-aucpr:0.98368\n",
      "[87]\tvalidation_0-aucpr:0.99166\tvalidation_1-aucpr:0.98382\n",
      "[88]\tvalidation_0-aucpr:0.99184\tvalidation_1-aucpr:0.98381\n",
      "[89]\tvalidation_0-aucpr:0.99200\tvalidation_1-aucpr:0.98382\n",
      "[90]\tvalidation_0-aucpr:0.99213\tvalidation_1-aucpr:0.98379\n",
      "[91]\tvalidation_0-aucpr:0.99214\tvalidation_1-aucpr:0.98381\n",
      "[92]\tvalidation_0-aucpr:0.99219\tvalidation_1-aucpr:0.98380\n",
      "[93]\tvalidation_0-aucpr:0.99223\tvalidation_1-aucpr:0.98381\n",
      "[94]\tvalidation_0-aucpr:0.99225\tvalidation_1-aucpr:0.98382\n",
      "[95]\tvalidation_0-aucpr:0.99241\tvalidation_1-aucpr:0.98386\n",
      "[96]\tvalidation_0-aucpr:0.99254\tvalidation_1-aucpr:0.98389\n",
      "[97]\tvalidation_0-aucpr:0.99261\tvalidation_1-aucpr:0.98397\n",
      "[98]\tvalidation_0-aucpr:0.99263\tvalidation_1-aucpr:0.98398\n",
      "[99]\tvalidation_0-aucpr:0.99264\tvalidation_1-aucpr:0.98399\n"
     ]
    },
    {
     "name": "stderr",
     "output_type": "stream",
     "text": [
      "/tmp/ipykernel_16/1928500786.py:28: RuntimeWarning: overflow encountered in scalar multiply\n",
      "  denominator = np.sqrt((true_positive + false_positive) * (true_positive + false_negative) * (true_negative + false_positive) * (true_negative + false_negative))\n",
      "/tmp/ipykernel_16/1928500786.py:28: RuntimeWarning: invalid value encountered in sqrt\n",
      "  denominator = np.sqrt((true_positive + false_positive) * (true_positive + false_negative) * (true_negative + false_positive) * (true_negative + false_negative))\n"
     ]
    },
    {
     "name": "stdout",
     "output_type": "stream",
     "text": [
      "{'validation_0': OrderedDict([('aucpr', [0.852495551607165, 0.8740401726460704, 0.8770962578898301, 0.8892677667827388, 0.9015463381586903, 0.9132198623842469, 0.9206324567711544, 0.9280668490031009, 0.9358089596291065, 0.9410591014299143, 0.9448156763247629, 0.9492335768396667, 0.9528375670493964, 0.9553330435659086, 0.9587569383020788, 0.9637630562799842, 0.9672284660751129, 0.969221778034407, 0.9701977916013383, 0.9708446064938059, 0.9725537411170335, 0.9727387420682108, 0.9732303858293222, 0.9746764485042846, 0.9752147617842828, 0.9766386133747086, 0.9769331301858211, 0.9773404165745726, 0.9776782748223574, 0.9780676050525021, 0.9786832084500962, 0.9793915193769842, 0.9796273585329339, 0.9798369579362975, 0.980077425469903, 0.9803175177676969, 0.9806168661400679, 0.9807988672015547, 0.9811592932147767, 0.982228203870272, 0.9826174916121476, 0.9827331991846647, 0.9830986781911405, 0.9832478185642238, 0.9834386788729895, 0.9839398084227126, 0.9845179007502163, 0.9846602423808064, 0.9848175906949654, 0.9849003836773319, 0.9851836714664476, 0.9852562691945523, 0.9854342932941468, 0.9858162205085282, 0.9860174758274435, 0.9862548687089391, 0.9863808708538837, 0.9865781371973706, 0.9867382787435596, 0.9869448935418992, 0.9871756774776896, 0.987446690153232, 0.9876415474876924, 0.9877797434801541, 0.9878184419200902, 0.98800902419462, 0.9881183587556995, 0.9882180582213937, 0.9883215815096578, 0.9886809790077979, 0.9888546423466298, 0.9889963926148212, 0.9891258652055723, 0.98953826110397, 0.9897961425863148, 0.989936492716052, 0.9902964841891191, 0.9905561970703339, 0.9906691728373324, 0.9907728747843939, 0.990853934904338, 0.9909491125036862, 0.991069566656823, 0.9911157316377848, 0.9912406542107867, 0.991304546212072, 0.9914335887527052, 0.9916623166694504, 0.9918387515390348, 0.9919957086796095, 0.9921267109777433, 0.9921355343067386, 0.9921947099461521, 0.99223492630182, 0.9922484799483339, 0.9924096890600617, 0.9925372357466694, 0.9926069282884128, 0.9926333818094252, 0.9926435337334347])]), 'validation_1': OrderedDict([('aucpr', [0.8488922402476292, 0.8700980512242344, 0.872607805775393, 0.8844629186835552, 0.8975782412036335, 0.9095352668093514, 0.9165093338364048, 0.9239132501214821, 0.9320431683245775, 0.937645233717026, 0.9415840656913536, 0.9463364906757377, 0.949832590772535, 0.9520765227647289, 0.9549588522825994, 0.959543164857824, 0.9630737937584162, 0.9651604898760303, 0.9661934191631593, 0.9668284021721476, 0.9682968557712924, 0.9684612982156842, 0.9689232907089844, 0.9706688932768088, 0.971117949426086, 0.9724915376851618, 0.9728326153014873, 0.9732800771346709, 0.9736043533060202, 0.9740424746597017, 0.9745259501351884, 0.975283587904483, 0.9754430352342673, 0.9755705368905839, 0.9757644782607351, 0.9759596149860749, 0.9762264207890808, 0.9762707809914424, 0.976628166325806, 0.9776302277274367, 0.9778701069929265, 0.9779363772135667, 0.9782159980167892, 0.9783405335178871, 0.97850388488209, 0.9790170978513082, 0.9794960687991514, 0.9795770851389201, 0.9797311114916879, 0.9798126367125698, 0.9799787315886463, 0.9799779735734174, 0.9800272451523897, 0.980387560772483, 0.980520123402496, 0.9807212174937846, 0.9808276547271881, 0.9808475818038283, 0.9808904218634289, 0.9809793619111132, 0.9812281254569317, 0.9814525097249788, 0.9815158862718161, 0.9816302043441582, 0.9816661158208027, 0.9817036836013107, 0.981810747882613, 0.9818172968246591, 0.9819194719993979, 0.982181787369076, 0.9821740760348563, 0.9822635928207558, 0.9823932342706541, 0.9827804047404781, 0.9829892873144278, 0.983037561903574, 0.9831177903221326, 0.983350003992258, 0.9833641027099296, 0.9833615028032912, 0.9834312844010109, 0.9834431422538052, 0.9835054742753211, 0.9835119619557077, 0.9835505449968337, 0.983595375685123, 0.9836824245578177, 0.9838204244395512, 0.983810427868394, 0.9838178865013596, 0.9837907545625464, 0.9838054920531305, 0.9837952816098094, 0.9838059419516816, 0.983822734498274, 0.9838599620863728, 0.9838905050958472, 0.9839717195232739, 0.9839772178989132, 0.983990691518382])])}\n"
     ]
    },
    {
     "data": {
      "image/png": "[encoded data removed]",
      "text/plain": [
       "<Figure size 640x480 with 1 Axes>"
      ]
     },
     "metadata": {},
     "output_type": "display_data"
    },
    {
     "name": "stderr",
     "output_type": "stream",
     "text": [
      "/opt/conda/lib/python3.10/site-packages/xgboost/sklearn.py:889: UserWarning: `eval_metric` in `fit` method is deprecated for better compatibility with scikit-learn, use `eval_metric` in constructor or`set_params` instead.\n",
      "  warnings.warn(\n"
     ]
    },
    {
     "name": "stdout",
     "output_type": "stream",
     "text": [
      "[0]\tvalidation_0-aucpr:0.84942\tvalidation_1-aucpr:0.85371\n",
      "[1]\tvalidation_0-aucpr:0.87167\tvalidation_1-aucpr:0.87643\n",
      "[2]\tvalidation_0-aucpr:0.87510\tvalidation_1-aucpr:0.87875\n",
      "[3]\tvalidation_0-aucpr:0.89243\tvalidation_1-aucpr:0.89530\n",
      "[4]\tvalidation_0-aucpr:0.90505\tvalidation_1-aucpr:0.90775\n",
      "[5]\tvalidation_0-aucpr:0.91695\tvalidation_1-aucpr:0.91935\n",
      "[6]\tvalidation_0-aucpr:0.92862\tvalidation_1-aucpr:0.92989\n",
      "[7]\tvalidation_0-aucpr:0.93288\tvalidation_1-aucpr:0.93425\n",
      "[8]\tvalidation_0-aucpr:0.93882\tvalidation_1-aucpr:0.93973\n",
      "[9]\tvalidation_0-aucpr:0.94244\tvalidation_1-aucpr:0.94328\n",
      "[10]\tvalidation_0-aucpr:0.94526\tvalidation_1-aucpr:0.94611\n",
      "[11]\tvalidation_0-aucpr:0.94993\tvalidation_1-aucpr:0.95102\n",
      "[12]\tvalidation_0-aucpr:0.95501\tvalidation_1-aucpr:0.95565\n",
      "[13]\tvalidation_0-aucpr:0.95794\tvalidation_1-aucpr:0.95866\n",
      "[14]\tvalidation_0-aucpr:0.96077\tvalidation_1-aucpr:0.96094\n",
      "[15]\tvalidation_0-aucpr:0.96293\tvalidation_1-aucpr:0.96276\n",
      "[16]\tvalidation_0-aucpr:0.96547\tvalidation_1-aucpr:0.96526\n",
      "[17]\tvalidation_0-aucpr:0.96670\tvalidation_1-aucpr:0.96640\n",
      "[18]\tvalidation_0-aucpr:0.96828\tvalidation_1-aucpr:0.96776\n",
      "[19]\tvalidation_0-aucpr:0.96994\tvalidation_1-aucpr:0.96940\n",
      "[20]\tvalidation_0-aucpr:0.97047\tvalidation_1-aucpr:0.96979\n",
      "[21]\tvalidation_0-aucpr:0.97108\tvalidation_1-aucpr:0.97035\n",
      "[22]\tvalidation_0-aucpr:0.97177\tvalidation_1-aucpr:0.97109\n",
      "[23]\tvalidation_0-aucpr:0.97201\tvalidation_1-aucpr:0.97137\n",
      "[24]\tvalidation_0-aucpr:0.97358\tvalidation_1-aucpr:0.97281\n",
      "[25]\tvalidation_0-aucpr:0.97372\tvalidation_1-aucpr:0.97285\n",
      "[26]\tvalidation_0-aucpr:0.97474\tvalidation_1-aucpr:0.97369\n",
      "[27]\tvalidation_0-aucpr:0.97566\tvalidation_1-aucpr:0.97468\n",
      "[28]\tvalidation_0-aucpr:0.97682\tvalidation_1-aucpr:0.97580\n",
      "[29]\tvalidation_0-aucpr:0.97783\tvalidation_1-aucpr:0.97681\n",
      "[30]\tvalidation_0-aucpr:0.97885\tvalidation_1-aucpr:0.97773\n",
      "[31]\tvalidation_0-aucpr:0.97913\tvalidation_1-aucpr:0.97793\n",
      "[32]\tvalidation_0-aucpr:0.97954\tvalidation_1-aucpr:0.97832\n",
      "[33]\tvalidation_0-aucpr:0.97983\tvalidation_1-aucpr:0.97854\n",
      "[34]\tvalidation_0-aucpr:0.98014\tvalidation_1-aucpr:0.97880\n",
      "[35]\tvalidation_0-aucpr:0.98023\tvalidation_1-aucpr:0.97885\n",
      "[36]\tvalidation_0-aucpr:0.98044\tvalidation_1-aucpr:0.97899\n",
      "[37]\tvalidation_0-aucpr:0.98081\tvalidation_1-aucpr:0.97921\n",
      "[38]\tvalidation_0-aucpr:0.98115\tvalidation_1-aucpr:0.97958\n",
      "[39]\tvalidation_0-aucpr:0.98142\tvalidation_1-aucpr:0.97977\n",
      "[40]\tvalidation_0-aucpr:0.98182\tvalidation_1-aucpr:0.98002\n",
      "[41]\tvalidation_0-aucpr:0.98276\tvalidation_1-aucpr:0.98084\n",
      "[42]\tvalidation_0-aucpr:0.98325\tvalidation_1-aucpr:0.98115\n",
      "[43]\tvalidation_0-aucpr:0.98339\tvalidation_1-aucpr:0.98124\n",
      "[44]\tvalidation_0-aucpr:0.98367\tvalidation_1-aucpr:0.98150\n",
      "[45]\tvalidation_0-aucpr:0.98395\tvalidation_1-aucpr:0.98175\n",
      "[46]\tvalidation_0-aucpr:0.98459\tvalidation_1-aucpr:0.98231\n",
      "[47]\tvalidation_0-aucpr:0.98469\tvalidation_1-aucpr:0.98235\n",
      "[48]\tvalidation_0-aucpr:0.98483\tvalidation_1-aucpr:0.98244\n",
      "[49]\tvalidation_0-aucpr:0.98494\tvalidation_1-aucpr:0.98256\n",
      "[50]\tvalidation_0-aucpr:0.98535\tvalidation_1-aucpr:0.98281\n",
      "[51]\tvalidation_0-aucpr:0.98558\tvalidation_1-aucpr:0.98290\n",
      "[52]\tvalidation_0-aucpr:0.98581\tvalidation_1-aucpr:0.98310\n",
      "[53]\tvalidation_0-aucpr:0.98595\tvalidation_1-aucpr:0.98319\n",
      "[54]\tvalidation_0-aucpr:0.98616\tvalidation_1-aucpr:0.98336\n",
      "[55]\tvalidation_0-aucpr:0.98638\tvalidation_1-aucpr:0.98342\n",
      "[56]\tvalidation_0-aucpr:0.98690\tvalidation_1-aucpr:0.98378\n",
      "[57]\tvalidation_0-aucpr:0.98706\tvalidation_1-aucpr:0.98391\n",
      "[58]\tvalidation_0-aucpr:0.98736\tvalidation_1-aucpr:0.98402\n",
      "[59]\tvalidation_0-aucpr:0.98757\tvalidation_1-aucpr:0.98406\n",
      "[60]\tvalidation_0-aucpr:0.98779\tvalidation_1-aucpr:0.98422\n",
      "[61]\tvalidation_0-aucpr:0.98793\tvalidation_1-aucpr:0.98437\n",
      "[62]\tvalidation_0-aucpr:0.98813\tvalidation_1-aucpr:0.98453\n",
      "[63]\tvalidation_0-aucpr:0.98822\tvalidation_1-aucpr:0.98456\n",
      "[64]\tvalidation_0-aucpr:0.98847\tvalidation_1-aucpr:0.98468\n",
      "[65]\tvalidation_0-aucpr:0.98852\tvalidation_1-aucpr:0.98471\n",
      "[66]\tvalidation_0-aucpr:0.98870\tvalidation_1-aucpr:0.98480\n",
      "[67]\tvalidation_0-aucpr:0.98889\tvalidation_1-aucpr:0.98493\n",
      "[68]\tvalidation_0-aucpr:0.98922\tvalidation_1-aucpr:0.98514\n",
      "[69]\tvalidation_0-aucpr:0.98934\tvalidation_1-aucpr:0.98526\n",
      "[70]\tvalidation_0-aucpr:0.98958\tvalidation_1-aucpr:0.98526\n",
      "[71]\tvalidation_0-aucpr:0.98973\tvalidation_1-aucpr:0.98539\n",
      "[72]\tvalidation_0-aucpr:0.98980\tvalidation_1-aucpr:0.98539\n",
      "[73]\tvalidation_0-aucpr:0.98998\tvalidation_1-aucpr:0.98542\n",
      "[74]\tvalidation_0-aucpr:0.99024\tvalidation_1-aucpr:0.98558\n",
      "[75]\tvalidation_0-aucpr:0.99031\tvalidation_1-aucpr:0.98566\n",
      "[76]\tvalidation_0-aucpr:0.99041\tvalidation_1-aucpr:0.98565\n",
      "[77]\tvalidation_0-aucpr:0.99049\tvalidation_1-aucpr:0.98569\n",
      "[78]\tvalidation_0-aucpr:0.99058\tvalidation_1-aucpr:0.98578\n",
      "[79]\tvalidation_0-aucpr:0.99078\tvalidation_1-aucpr:0.98581\n",
      "[80]\tvalidation_0-aucpr:0.99092\tvalidation_1-aucpr:0.98588\n",
      "[81]\tvalidation_0-aucpr:0.99097\tvalidation_1-aucpr:0.98592\n",
      "[82]\tvalidation_0-aucpr:0.99110\tvalidation_1-aucpr:0.98593\n",
      "[83]\tvalidation_0-aucpr:0.99119\tvalidation_1-aucpr:0.98593\n",
      "[84]\tvalidation_0-aucpr:0.99127\tvalidation_1-aucpr:0.98594\n",
      "[85]\tvalidation_0-aucpr:0.99140\tvalidation_1-aucpr:0.98595\n",
      "[86]\tvalidation_0-aucpr:0.99157\tvalidation_1-aucpr:0.98609\n",
      "[87]\tvalidation_0-aucpr:0.99166\tvalidation_1-aucpr:0.98610\n",
      "[88]\tvalidation_0-aucpr:0.99168\tvalidation_1-aucpr:0.98613\n",
      "[89]\tvalidation_0-aucpr:0.99176\tvalidation_1-aucpr:0.98613\n",
      "[90]\tvalidation_0-aucpr:0.99187\tvalidation_1-aucpr:0.98623\n",
      "[91]\tvalidation_0-aucpr:0.99194\tvalidation_1-aucpr:0.98622\n",
      "[92]\tvalidation_0-aucpr:0.99203\tvalidation_1-aucpr:0.98625\n",
      "[93]\tvalidation_0-aucpr:0.99216\tvalidation_1-aucpr:0.98622\n",
      "[94]\tvalidation_0-aucpr:0.99222\tvalidation_1-aucpr:0.98626\n",
      "[95]\tvalidation_0-aucpr:0.99238\tvalidation_1-aucpr:0.98634\n",
      "[96]\tvalidation_0-aucpr:0.99246\tvalidation_1-aucpr:0.98643\n",
      "[97]\tvalidation_0-aucpr:0.99263\tvalidation_1-aucpr:0.98654\n",
      "[98]\tvalidation_0-aucpr:0.99278\tvalidation_1-aucpr:0.98664\n",
      "[99]\tvalidation_0-aucpr:0.99291\tvalidation_1-aucpr:0.98665\n"
     ]
    },
    {
     "name": "stderr",
     "output_type": "stream",
     "text": [
      "/tmp/ipykernel_16/1928500786.py:28: RuntimeWarning: overflow encountered in scalar multiply\n",
      "  denominator = np.sqrt((true_positive + false_positive) * (true_positive + false_negative) * (true_negative + false_positive) * (true_negative + false_negative))\n",
      "/tmp/ipykernel_16/1928500786.py:28: RuntimeWarning: invalid value encountered in sqrt\n",
      "  denominator = np.sqrt((true_positive + false_positive) * (true_positive + false_negative) * (true_negative + false_positive) * (true_negative + false_negative))\n"
     ]
    },
    {
     "name": "stdout",
     "output_type": "stream",
     "text": [
      "{'validation_0': OrderedDict([('aucpr', [0.8494180347299851, 0.8716707971813096, 0.8750961951095734, 0.8924310337609218, 0.9050456473217752, 0.9169502221928754, 0.9286196351443815, 0.9328802796817073, 0.9388168058468589, 0.9424443905544373, 0.9452588359841921, 0.9499284718340535, 0.9550057128022681, 0.9579398541094464, 0.960773858935881, 0.9629272093020877, 0.965468680583153, 0.9666978244261726, 0.9682811366454877, 0.969943125674174, 0.970471424443294, 0.9710777455552452, 0.9717654043147136, 0.9720068965653508, 0.9735759908255704, 0.9737218139892284, 0.9747422618975297, 0.9756649938597812, 0.9768170873409578, 0.9778268545522069, 0.9788548308423323, 0.9791327380511485, 0.9795402638151279, 0.9798274043969158, 0.9801433911922364, 0.9802326941444893, 0.9804352932891096, 0.9808146829943919, 0.9811504506070089, 0.9814205635987512, 0.9818162868760615, 0.982760915573382, 0.9832507826509149, 0.9833867000897968, 0.9836658077006504, 0.9839528885452501, 0.9845896374644011, 0.9846858926940386, 0.9848267976629618, 0.9849447496681843, 0.9853479410958835, 0.9855764384917471, 0.9858120164555811, 0.9859498277352378, 0.986164228861511, 0.9863770577333288, 0.9868999201781553, 0.9870574065566318, 0.9873593225737957, 0.9875673776931255, 0.9877860229582134, 0.9879297991602514, 0.9881292539323666, 0.9882205188918246, 0.9884661996773716, 0.9885199551524458, 0.9887042451246056, 0.988890439878127, 0.9892164090034538, 0.9893370607201696, 0.9895805639894618, 0.9897253850574411, 0.9898045667100065, 0.9899818197564576, 0.9902369527168664, 0.9903091451753141, 0.9904055675939862, 0.990487346169239, 0.9905827204361929, 0.9907817877981349, 0.9909234213050747, 0.9909669949502432, 0.9911027362989024, 0.9911879212170558, 0.9912696739073913, 0.9914006428181629, 0.9915736533119854, 0.9916615416905922, 0.9916798428766951, 0.9917581189449505, 0.9918737201538432, 0.9919350568035791, 0.9920284300114528, 0.9921616962970002, 0.9922169438724074, 0.9923801567800196, 0.9924646840979178, 0.992632394329037, 0.9927807724868696, 0.9929120026049856])]), 'validation_1': OrderedDict([('aucpr', [0.8537116403126837, 0.8764274217968934, 0.8787509984963795, 0.8953048151402185, 0.9077530665651915, 0.9193547073569978, 0.9298869168905745, 0.9342493071326097, 0.9397318555308433, 0.9432804056420384, 0.9461124565454779, 0.9510192444370682, 0.9556516683373263, 0.9586648422237688, 0.9609365371394684, 0.9627587560661877, 0.965261898406159, 0.9664041426316414, 0.9677630285759606, 0.9694045761233951, 0.9697884861225642, 0.9703503459348516, 0.9710886172682256, 0.9713688599326185, 0.9728106212976142, 0.9728477953052068, 0.9736926442952001, 0.9746820853794846, 0.9757970763551429, 0.9768119142120153, 0.9777255252274015, 0.9779314818034357, 0.9783190191297377, 0.9785378259852981, 0.9787993304574124, 0.9788548566734641, 0.9789851381621522, 0.9792147883661534, 0.9795821651758355, 0.979765229991712, 0.9800241681060422, 0.9808386694451795, 0.9811454342832993, 0.9812437410803289, 0.9815006700958436, 0.9817513111584438, 0.9823068136730738, 0.982347298847177, 0.9824427911183247, 0.9825601169435508, 0.9828093606177197, 0.9828959361801995, 0.9830988244182555, 0.9831924338385779, 0.9833631727414224, 0.9834167283513113, 0.9837759733633531, 0.9839072424043961, 0.9840194818104911, 0.9840562630990036, 0.984215077877802, 0.9843679598727108, 0.9845260314152359, 0.9845634295439286, 0.984676405118767, 0.9847105653868461, 0.9848019944933598, 0.9849336685287677, 0.9851436968436299, 0.9852595397955589, 0.9852588656832519, 0.9853909018404982, 0.9853918777556759, 0.9854211552809394, 0.9855828086135628, 0.9856620820813878, 0.9856536457253489, 0.9856860707867927, 0.985777753582782, 0.9858079412453564, 0.9858821564131288, 0.9859214343058551, 0.985925885646418, 0.9859267890274437, 0.9859388696052725, 0.985947152227563, 0.9860920697852861, 0.9861037127063105, 0.9861339920507389, 0.9861332468181997, 0.9862274307045468, 0.9862172664796744, 0.9862527439671016, 0.9862159333127148, 0.9862590491286432, 0.9863395579893851, 0.98642884923296, 0.986536703066036, 0.9866436855034527, 0.9866528199197264])])}\n"
     ]
    },
    {
     "data": {
      "image/png": "[encoded data removed]",
      "text/plain": [
       "<Figure size 640x480 with 1 Axes>"
      ]
     },
     "metadata": {},
     "output_type": "display_data"
    },
    {
     "name": "stderr",
     "output_type": "stream",
     "text": [
      "/opt/conda/lib/python3.10/site-packages/xgboost/sklearn.py:889: UserWarning: `eval_metric` in `fit` method is deprecated for better compatibility with scikit-learn, use `eval_metric` in constructor or`set_params` instead.\n",
      "  warnings.warn(\n"
     ]
    },
    {
     "name": "stdout",
     "output_type": "stream",
     "text": [
      "[0]\tvalidation_0-aucpr:0.84880\tvalidation_1-aucpr:0.85101\n",
      "[1]\tvalidation_0-aucpr:0.87582\tvalidation_1-aucpr:0.87800\n",
      "[2]\tvalidation_0-aucpr:0.87903\tvalidation_1-aucpr:0.88073\n",
      "[3]\tvalidation_0-aucpr:0.88037\tvalidation_1-aucpr:0.88224\n",
      "[4]\tvalidation_0-aucpr:0.89240\tvalidation_1-aucpr:0.89290\n",
      "[5]\tvalidation_0-aucpr:0.90479\tvalidation_1-aucpr:0.90523\n",
      "[6]\tvalidation_0-aucpr:0.91798\tvalidation_1-aucpr:0.91771\n",
      "[7]\tvalidation_0-aucpr:0.92823\tvalidation_1-aucpr:0.92716\n",
      "[8]\tvalidation_0-aucpr:0.93568\tvalidation_1-aucpr:0.93476\n",
      "[9]\tvalidation_0-aucpr:0.94019\tvalidation_1-aucpr:0.94000\n",
      "[10]\tvalidation_0-aucpr:0.94502\tvalidation_1-aucpr:0.94442\n",
      "[11]\tvalidation_0-aucpr:0.94930\tvalidation_1-aucpr:0.94884\n",
      "[12]\tvalidation_0-aucpr:0.95454\tvalidation_1-aucpr:0.95485\n",
      "[13]\tvalidation_0-aucpr:0.95702\tvalidation_1-aucpr:0.95724\n",
      "[14]\tvalidation_0-aucpr:0.95847\tvalidation_1-aucpr:0.95877\n",
      "[15]\tvalidation_0-aucpr:0.96141\tvalidation_1-aucpr:0.96140\n",
      "[16]\tvalidation_0-aucpr:0.96527\tvalidation_1-aucpr:0.96503\n",
      "[17]\tvalidation_0-aucpr:0.96812\tvalidation_1-aucpr:0.96762\n",
      "[18]\tvalidation_0-aucpr:0.96948\tvalidation_1-aucpr:0.96881\n",
      "[19]\tvalidation_0-aucpr:0.97090\tvalidation_1-aucpr:0.96999\n",
      "[20]\tvalidation_0-aucpr:0.97234\tvalidation_1-aucpr:0.97148\n",
      "[21]\tvalidation_0-aucpr:0.97274\tvalidation_1-aucpr:0.97195\n",
      "[22]\tvalidation_0-aucpr:0.97350\tvalidation_1-aucpr:0.97254\n",
      "[23]\tvalidation_0-aucpr:0.97415\tvalidation_1-aucpr:0.97313\n",
      "[24]\tvalidation_0-aucpr:0.97516\tvalidation_1-aucpr:0.97394\n",
      "[25]\tvalidation_0-aucpr:0.97574\tvalidation_1-aucpr:0.97446\n",
      "[26]\tvalidation_0-aucpr:0.97660\tvalidation_1-aucpr:0.97539\n",
      "[27]\tvalidation_0-aucpr:0.97694\tvalidation_1-aucpr:0.97566\n",
      "[28]\tvalidation_0-aucpr:0.97731\tvalidation_1-aucpr:0.97602\n",
      "[29]\tvalidation_0-aucpr:0.97748\tvalidation_1-aucpr:0.97616\n",
      "[30]\tvalidation_0-aucpr:0.97780\tvalidation_1-aucpr:0.97639\n",
      "[31]\tvalidation_0-aucpr:0.97826\tvalidation_1-aucpr:0.97677\n",
      "[32]\tvalidation_0-aucpr:0.97847\tvalidation_1-aucpr:0.97693\n",
      "[33]\tvalidation_0-aucpr:0.97881\tvalidation_1-aucpr:0.97717\n",
      "[34]\tvalidation_0-aucpr:0.97917\tvalidation_1-aucpr:0.97750\n",
      "[35]\tvalidation_0-aucpr:0.97960\tvalidation_1-aucpr:0.97785\n",
      "[36]\tvalidation_0-aucpr:0.98012\tvalidation_1-aucpr:0.97824\n",
      "[37]\tvalidation_0-aucpr:0.98035\tvalidation_1-aucpr:0.97839\n",
      "[38]\tvalidation_0-aucpr:0.98110\tvalidation_1-aucpr:0.97913\n",
      "[39]\tvalidation_0-aucpr:0.98159\tvalidation_1-aucpr:0.97950\n",
      "[40]\tvalidation_0-aucpr:0.98195\tvalidation_1-aucpr:0.97966\n",
      "[41]\tvalidation_0-aucpr:0.98211\tvalidation_1-aucpr:0.97982\n",
      "[42]\tvalidation_0-aucpr:0.98297\tvalidation_1-aucpr:0.98061\n",
      "[43]\tvalidation_0-aucpr:0.98334\tvalidation_1-aucpr:0.98098\n",
      "[44]\tvalidation_0-aucpr:0.98421\tvalidation_1-aucpr:0.98177\n",
      "[45]\tvalidation_0-aucpr:0.98454\tvalidation_1-aucpr:0.98204\n",
      "[46]\tvalidation_0-aucpr:0.98493\tvalidation_1-aucpr:0.98235\n",
      "[47]\tvalidation_0-aucpr:0.98504\tvalidation_1-aucpr:0.98236\n",
      "[48]\tvalidation_0-aucpr:0.98516\tvalidation_1-aucpr:0.98246\n",
      "[49]\tvalidation_0-aucpr:0.98543\tvalidation_1-aucpr:0.98270\n",
      "[50]\tvalidation_0-aucpr:0.98574\tvalidation_1-aucpr:0.98280\n",
      "[51]\tvalidation_0-aucpr:0.98579\tvalidation_1-aucpr:0.98284\n",
      "[52]\tvalidation_0-aucpr:0.98592\tvalidation_1-aucpr:0.98300\n",
      "[53]\tvalidation_0-aucpr:0.98634\tvalidation_1-aucpr:0.98332\n",
      "[54]\tvalidation_0-aucpr:0.98651\tvalidation_1-aucpr:0.98347\n",
      "[55]\tvalidation_0-aucpr:0.98670\tvalidation_1-aucpr:0.98348\n",
      "[56]\tvalidation_0-aucpr:0.98699\tvalidation_1-aucpr:0.98368\n",
      "[57]\tvalidation_0-aucpr:0.98739\tvalidation_1-aucpr:0.98410\n",
      "[58]\tvalidation_0-aucpr:0.98752\tvalidation_1-aucpr:0.98407\n",
      "[59]\tvalidation_0-aucpr:0.98776\tvalidation_1-aucpr:0.98414\n",
      "[60]\tvalidation_0-aucpr:0.98788\tvalidation_1-aucpr:0.98414\n",
      "[61]\tvalidation_0-aucpr:0.98812\tvalidation_1-aucpr:0.98421\n",
      "[62]\tvalidation_0-aucpr:0.98832\tvalidation_1-aucpr:0.98422\n",
      "[63]\tvalidation_0-aucpr:0.98842\tvalidation_1-aucpr:0.98432\n",
      "[64]\tvalidation_0-aucpr:0.98848\tvalidation_1-aucpr:0.98436\n",
      "[65]\tvalidation_0-aucpr:0.98856\tvalidation_1-aucpr:0.98441\n",
      "[66]\tvalidation_0-aucpr:0.98885\tvalidation_1-aucpr:0.98444\n",
      "[67]\tvalidation_0-aucpr:0.98909\tvalidation_1-aucpr:0.98449\n",
      "[68]\tvalidation_0-aucpr:0.98917\tvalidation_1-aucpr:0.98449\n",
      "[69]\tvalidation_0-aucpr:0.98922\tvalidation_1-aucpr:0.98456\n",
      "[70]\tvalidation_0-aucpr:0.98932\tvalidation_1-aucpr:0.98457\n",
      "[71]\tvalidation_0-aucpr:0.98937\tvalidation_1-aucpr:0.98457\n",
      "[72]\tvalidation_0-aucpr:0.98952\tvalidation_1-aucpr:0.98454\n",
      "[73]\tvalidation_0-aucpr:0.98969\tvalidation_1-aucpr:0.98455\n",
      "[74]\tvalidation_0-aucpr:0.98984\tvalidation_1-aucpr:0.98468\n",
      "[75]\tvalidation_0-aucpr:0.98987\tvalidation_1-aucpr:0.98470\n",
      "[76]\tvalidation_0-aucpr:0.99006\tvalidation_1-aucpr:0.98469\n",
      "[77]\tvalidation_0-aucpr:0.99016\tvalidation_1-aucpr:0.98470\n",
      "[78]\tvalidation_0-aucpr:0.99032\tvalidation_1-aucpr:0.98474\n",
      "[79]\tvalidation_0-aucpr:0.99045\tvalidation_1-aucpr:0.98475\n",
      "[80]\tvalidation_0-aucpr:0.99058\tvalidation_1-aucpr:0.98475\n",
      "[81]\tvalidation_0-aucpr:0.99067\tvalidation_1-aucpr:0.98475\n",
      "[82]\tvalidation_0-aucpr:0.99077\tvalidation_1-aucpr:0.98483\n",
      "[83]\tvalidation_0-aucpr:0.99093\tvalidation_1-aucpr:0.98482\n",
      "[84]\tvalidation_0-aucpr:0.99103\tvalidation_1-aucpr:0.98491\n",
      "[85]\tvalidation_0-aucpr:0.99104\tvalidation_1-aucpr:0.98494\n",
      "[86]\tvalidation_0-aucpr:0.99132\tvalidation_1-aucpr:0.98516\n",
      "[87]\tvalidation_0-aucpr:0.99143\tvalidation_1-aucpr:0.98525\n",
      "[88]\tvalidation_0-aucpr:0.99161\tvalidation_1-aucpr:0.98526\n",
      "[89]\tvalidation_0-aucpr:0.99174\tvalidation_1-aucpr:0.98530\n",
      "[90]\tvalidation_0-aucpr:0.99181\tvalidation_1-aucpr:0.98533\n",
      "[91]\tvalidation_0-aucpr:0.99189\tvalidation_1-aucpr:0.98536\n",
      "[92]\tvalidation_0-aucpr:0.99190\tvalidation_1-aucpr:0.98537\n",
      "[93]\tvalidation_0-aucpr:0.99194\tvalidation_1-aucpr:0.98539\n",
      "[94]\tvalidation_0-aucpr:0.99209\tvalidation_1-aucpr:0.98550\n",
      "[95]\tvalidation_0-aucpr:0.99221\tvalidation_1-aucpr:0.98559\n",
      "[96]\tvalidation_0-aucpr:0.99232\tvalidation_1-aucpr:0.98560\n",
      "[97]\tvalidation_0-aucpr:0.99242\tvalidation_1-aucpr:0.98566\n",
      "[98]\tvalidation_0-aucpr:0.99248\tvalidation_1-aucpr:0.98566\n",
      "[99]\tvalidation_0-aucpr:0.99262\tvalidation_1-aucpr:0.98573\n"
     ]
    },
    {
     "name": "stderr",
     "output_type": "stream",
     "text": [
      "/tmp/ipykernel_16/1928500786.py:28: RuntimeWarning: overflow encountered in scalar multiply\n",
      "  denominator = np.sqrt((true_positive + false_positive) * (true_positive + false_negative) * (true_negative + false_positive) * (true_negative + false_negative))\n"
     ]
    },
    {
     "name": "stdout",
     "output_type": "stream",
     "text": [
      "{'validation_0': OrderedDict([('aucpr', [0.8488000515144266, 0.875819425137483, 0.8790306359995042, 0.8803737538667132, 0.892402984269057, 0.9047859027813455, 0.917984455333038, 0.9282313235764916, 0.9356837288910991, 0.9401926011690648, 0.9450178017292425, 0.9493048405852844, 0.9545438655010923, 0.9570215810274636, 0.958471823220786, 0.9614092784467574, 0.9652731436646226, 0.9681207117134895, 0.96948070382587, 0.9709001840476962, 0.9723439238090347, 0.9727427765827807, 0.9734973589116466, 0.9741478573674217, 0.975158279956663, 0.9757416956768223, 0.9766048074442116, 0.9769388029567728, 0.97731218853013, 0.9774751170430882, 0.9777975060502195, 0.9782635558380878, 0.9784688690451726, 0.9788051336919882, 0.9791675348812153, 0.9795983647493445, 0.980117798840776, 0.980352177324062, 0.9811006580639221, 0.9815862200901689, 0.9819474617185111, 0.9821100173733706, 0.9829652645515958, 0.983339315736294, 0.9842099023000659, 0.9845398873568448, 0.9849323300354753, 0.9850371025049461, 0.9851576668349057, 0.9854298461656072, 0.9857446242732611, 0.9857870342893125, 0.9859237652887725, 0.9863363228187724, 0.9865108958918996, 0.9866984133226067, 0.986990705319075, 0.9873854876780346, 0.9875243111003289, 0.9877580360135425, 0.9878798017976786, 0.9881155061469242, 0.9883227316936137, 0.9884193135317626, 0.9884765344986697, 0.988558721621101, 0.9888529278694644, 0.9890922317461728, 0.9891738853338351, 0.9892211179877676, 0.9893231278801592, 0.9893672882792293, 0.9895159751851057, 0.9896894083278972, 0.9898435866775052, 0.9898679768062154, 0.9900581845645141, 0.9901648560965667, 0.9903164860329059, 0.9904548388027488, 0.9905782367457339, 0.9906736548963425, 0.9907716480676316, 0.9909328244549882, 0.9910327874667721, 0.99104069621096, 0.9913239432610315, 0.9914280008857618, 0.9916090877463365, 0.9917407051723923, 0.9918100872294521, 0.9918909604358853, 0.9919047467333326, 0.9919400317089415, 0.992088579192064, 0.9922119055339541, 0.992315174197788, 0.9924162617878242, 0.9924795971368976, 0.9926232621428931])]), 'validation_1': OrderedDict([('aucpr', [0.851006310159654, 0.877996885259429, 0.8807285987436366, 0.8822440992782654, 0.8928991033536022, 0.9052312512402685, 0.9177146608662273, 0.9271566652908148, 0.9347601971206917, 0.9400046783019667, 0.944420242527928, 0.948839956864325, 0.9548532665776814, 0.9572351466767034, 0.9587730127776595, 0.9613968631809211, 0.9650339489876669, 0.9676241643132277, 0.9688095937716481, 0.9699937442230283, 0.9714776898363555, 0.9719526510715272, 0.9725351780854026, 0.9731341664667605, 0.9739433362906333, 0.9744637378236136, 0.975394507841287, 0.9756637764256001, 0.9760244034737555, 0.9761583584757814, 0.9763853055129879, 0.9767736885363654, 0.9769343723016469, 0.9771729219534678, 0.9775021247141576, 0.977851144677038, 0.9782422794212139, 0.9783916892962007, 0.9791252607411425, 0.9795046975086009, 0.9796602122867758, 0.9798236396277642, 0.9806139122996362, 0.9809849006429993, 0.9817709574898457, 0.9820383254129662, 0.9823518645452876, 0.9823560385545997, 0.9824614092739075, 0.9827015508598436, 0.9828031565723115, 0.982838138797629, 0.983001888134462, 0.9833227767279266, 0.9834681985437108, 0.9834762103365289, 0.9836808995305508, 0.9840964912846716, 0.984069055980398, 0.9841430345322498, 0.984140035594218, 0.9842086389987121, 0.9842225141333758, 0.9843230383828848, 0.9843631250949968, 0.9844143843891062, 0.9844444185796708, 0.9844937338981501, 0.9844904586053583, 0.9845569720681147, 0.9845665287173276, 0.9845705479800516, 0.9845388208300424, 0.9845540500204345, 0.9846794421762772, 0.9846968183480214, 0.9846881894300089, 0.9846953558742474, 0.9847367820467058, 0.9847478928179256, 0.9847484292764642, 0.9847545224982476, 0.9848294876927257, 0.984822094560798, 0.9849145363588347, 0.98493534186564, 0.9851595010792632, 0.985249009441633, 0.9852614710569855, 0.985297332075284, 0.9853274345325784, 0.9853569679873514, 0.9853691697706994, 0.9853934179991273, 0.9854970437895249, 0.9855900762295374, 0.9856026711541855, 0.9856572958340437, 0.9856607499238379, 0.9857293156595175])])}\n"
     ]
    },
    {
     "data": {
      "image/png": "[encoded data removed]",
      "text/plain": [
       "<Figure size 640x480 with 1 Axes>"
      ]
     },
     "metadata": {},
     "output_type": "display_data"
    },
    {
     "name": "stderr",
     "output_type": "stream",
     "text": [
      "/opt/conda/lib/python3.10/site-packages/xgboost/sklearn.py:889: UserWarning: `eval_metric` in `fit` method is deprecated for better compatibility with scikit-learn, use `eval_metric` in constructor or`set_params` instead.\n",
      "  warnings.warn(\n"
     ]
    },
    {
     "name": "stdout",
     "output_type": "stream",
     "text": [
      "[0]\tvalidation_0-aucpr:0.85417\tvalidation_1-aucpr:0.84708\n",
      "[1]\tvalidation_0-aucpr:0.87330\tvalidation_1-aucpr:0.86652\n",
      "[2]\tvalidation_0-aucpr:0.87785\tvalidation_1-aucpr:0.87202\n",
      "[3]\tvalidation_0-aucpr:0.88850\tvalidation_1-aucpr:0.88317\n",
      "[4]\tvalidation_0-aucpr:0.89384\tvalidation_1-aucpr:0.88845\n",
      "[5]\tvalidation_0-aucpr:0.90613\tvalidation_1-aucpr:0.90168\n",
      "[6]\tvalidation_0-aucpr:0.91404\tvalidation_1-aucpr:0.91017\n",
      "[7]\tvalidation_0-aucpr:0.92455\tvalidation_1-aucpr:0.92024\n",
      "[8]\tvalidation_0-aucpr:0.93351\tvalidation_1-aucpr:0.93008\n",
      "[9]\tvalidation_0-aucpr:0.93902\tvalidation_1-aucpr:0.93538\n",
      "[10]\tvalidation_0-aucpr:0.94380\tvalidation_1-aucpr:0.93947\n",
      "[11]\tvalidation_0-aucpr:0.94906\tvalidation_1-aucpr:0.94442\n",
      "[12]\tvalidation_0-aucpr:0.95351\tvalidation_1-aucpr:0.94922\n",
      "[13]\tvalidation_0-aucpr:0.95814\tvalidation_1-aucpr:0.95344\n",
      "[14]\tvalidation_0-aucpr:0.95955\tvalidation_1-aucpr:0.95479\n",
      "[15]\tvalidation_0-aucpr:0.96187\tvalidation_1-aucpr:0.95687\n",
      "[16]\tvalidation_0-aucpr:0.96442\tvalidation_1-aucpr:0.95950\n",
      "[17]\tvalidation_0-aucpr:0.96636\tvalidation_1-aucpr:0.96162\n",
      "[18]\tvalidation_0-aucpr:0.96825\tvalidation_1-aucpr:0.96358\n",
      "[19]\tvalidation_0-aucpr:0.97070\tvalidation_1-aucpr:0.96635\n",
      "[20]\tvalidation_0-aucpr:0.97181\tvalidation_1-aucpr:0.96730\n",
      "[21]\tvalidation_0-aucpr:0.97243\tvalidation_1-aucpr:0.96803\n",
      "[22]\tvalidation_0-aucpr:0.97305\tvalidation_1-aucpr:0.96867\n",
      "[23]\tvalidation_0-aucpr:0.97334\tvalidation_1-aucpr:0.96900\n",
      "[24]\tvalidation_0-aucpr:0.97364\tvalidation_1-aucpr:0.96920\n",
      "[25]\tvalidation_0-aucpr:0.97473\tvalidation_1-aucpr:0.97036\n",
      "[26]\tvalidation_0-aucpr:0.97619\tvalidation_1-aucpr:0.97189\n",
      "[27]\tvalidation_0-aucpr:0.97676\tvalidation_1-aucpr:0.97242\n",
      "[28]\tvalidation_0-aucpr:0.97722\tvalidation_1-aucpr:0.97305\n",
      "[29]\tvalidation_0-aucpr:0.97750\tvalidation_1-aucpr:0.97334\n",
      "[30]\tvalidation_0-aucpr:0.97820\tvalidation_1-aucpr:0.97383\n",
      "[31]\tvalidation_0-aucpr:0.97841\tvalidation_1-aucpr:0.97408\n",
      "[32]\tvalidation_0-aucpr:0.97925\tvalidation_1-aucpr:0.97468\n",
      "[33]\tvalidation_0-aucpr:0.97977\tvalidation_1-aucpr:0.97516\n",
      "[34]\tvalidation_0-aucpr:0.98010\tvalidation_1-aucpr:0.97554\n",
      "[35]\tvalidation_0-aucpr:0.98054\tvalidation_1-aucpr:0.97585\n",
      "[36]\tvalidation_0-aucpr:0.98084\tvalidation_1-aucpr:0.97626\n",
      "[37]\tvalidation_0-aucpr:0.98104\tvalidation_1-aucpr:0.97638\n",
      "[38]\tvalidation_0-aucpr:0.98163\tvalidation_1-aucpr:0.97693\n",
      "[39]\tvalidation_0-aucpr:0.98176\tvalidation_1-aucpr:0.97705\n",
      "[40]\tvalidation_0-aucpr:0.98185\tvalidation_1-aucpr:0.97710\n",
      "[41]\tvalidation_0-aucpr:0.98220\tvalidation_1-aucpr:0.97725\n",
      "[42]\tvalidation_0-aucpr:0.98283\tvalidation_1-aucpr:0.97787\n",
      "[43]\tvalidation_0-aucpr:0.98297\tvalidation_1-aucpr:0.97789\n",
      "[44]\tvalidation_0-aucpr:0.98332\tvalidation_1-aucpr:0.97823\n",
      "[45]\tvalidation_0-aucpr:0.98367\tvalidation_1-aucpr:0.97839\n",
      "[46]\tvalidation_0-aucpr:0.98377\tvalidation_1-aucpr:0.97847\n",
      "[47]\tvalidation_0-aucpr:0.98392\tvalidation_1-aucpr:0.97865\n",
      "[48]\tvalidation_0-aucpr:0.98428\tvalidation_1-aucpr:0.97906\n",
      "[49]\tvalidation_0-aucpr:0.98450\tvalidation_1-aucpr:0.97922\n",
      "[50]\tvalidation_0-aucpr:0.98481\tvalidation_1-aucpr:0.97942\n",
      "[51]\tvalidation_0-aucpr:0.98538\tvalidation_1-aucpr:0.98016\n",
      "[52]\tvalidation_0-aucpr:0.98563\tvalidation_1-aucpr:0.98027\n",
      "[53]\tvalidation_0-aucpr:0.98575\tvalidation_1-aucpr:0.98040\n",
      "[54]\tvalidation_0-aucpr:0.98581\tvalidation_1-aucpr:0.98049\n",
      "[55]\tvalidation_0-aucpr:0.98605\tvalidation_1-aucpr:0.98062\n",
      "[56]\tvalidation_0-aucpr:0.98616\tvalidation_1-aucpr:0.98064\n",
      "[57]\tvalidation_0-aucpr:0.98637\tvalidation_1-aucpr:0.98070\n",
      "[58]\tvalidation_0-aucpr:0.98655\tvalidation_1-aucpr:0.98091\n",
      "[59]\tvalidation_0-aucpr:0.98677\tvalidation_1-aucpr:0.98119\n",
      "[60]\tvalidation_0-aucpr:0.98703\tvalidation_1-aucpr:0.98128\n",
      "[61]\tvalidation_0-aucpr:0.98717\tvalidation_1-aucpr:0.98129\n",
      "[62]\tvalidation_0-aucpr:0.98732\tvalidation_1-aucpr:0.98136\n",
      "[63]\tvalidation_0-aucpr:0.98752\tvalidation_1-aucpr:0.98160\n",
      "[64]\tvalidation_0-aucpr:0.98763\tvalidation_1-aucpr:0.98160\n",
      "[65]\tvalidation_0-aucpr:0.98798\tvalidation_1-aucpr:0.98200\n",
      "[66]\tvalidation_0-aucpr:0.98817\tvalidation_1-aucpr:0.98221\n",
      "[67]\tvalidation_0-aucpr:0.98837\tvalidation_1-aucpr:0.98224\n",
      "[68]\tvalidation_0-aucpr:0.98846\tvalidation_1-aucpr:0.98230\n",
      "[69]\tvalidation_0-aucpr:0.98884\tvalidation_1-aucpr:0.98256\n",
      "[70]\tvalidation_0-aucpr:0.98893\tvalidation_1-aucpr:0.98265\n",
      "[71]\tvalidation_0-aucpr:0.98907\tvalidation_1-aucpr:0.98270\n",
      "[72]\tvalidation_0-aucpr:0.98911\tvalidation_1-aucpr:0.98271\n",
      "[73]\tvalidation_0-aucpr:0.98919\tvalidation_1-aucpr:0.98273\n",
      "[74]\tvalidation_0-aucpr:0.98939\tvalidation_1-aucpr:0.98274\n",
      "[75]\tvalidation_0-aucpr:0.98959\tvalidation_1-aucpr:0.98299\n",
      "[76]\tvalidation_0-aucpr:0.98967\tvalidation_1-aucpr:0.98300\n",
      "[77]\tvalidation_0-aucpr:0.98980\tvalidation_1-aucpr:0.98305\n",
      "[78]\tvalidation_0-aucpr:0.98982\tvalidation_1-aucpr:0.98308\n",
      "[79]\tvalidation_0-aucpr:0.98992\tvalidation_1-aucpr:0.98308\n",
      "[80]\tvalidation_0-aucpr:0.99013\tvalidation_1-aucpr:0.98311\n",
      "[81]\tvalidation_0-aucpr:0.99026\tvalidation_1-aucpr:0.98314\n",
      "[82]\tvalidation_0-aucpr:0.99035\tvalidation_1-aucpr:0.98319\n",
      "[83]\tvalidation_0-aucpr:0.99035\tvalidation_1-aucpr:0.98319\n",
      "[84]\tvalidation_0-aucpr:0.99055\tvalidation_1-aucpr:0.98321\n",
      "[85]\tvalidation_0-aucpr:0.99058\tvalidation_1-aucpr:0.98323\n",
      "[86]\tvalidation_0-aucpr:0.99075\tvalidation_1-aucpr:0.98330\n",
      "[87]\tvalidation_0-aucpr:0.99089\tvalidation_1-aucpr:0.98328\n",
      "[88]\tvalidation_0-aucpr:0.99095\tvalidation_1-aucpr:0.98328\n",
      "[89]\tvalidation_0-aucpr:0.99123\tvalidation_1-aucpr:0.98360\n",
      "[90]\tvalidation_0-aucpr:0.99129\tvalidation_1-aucpr:0.98366\n",
      "[91]\tvalidation_0-aucpr:0.99147\tvalidation_1-aucpr:0.98369\n",
      "[92]\tvalidation_0-aucpr:0.99160\tvalidation_1-aucpr:0.98367\n",
      "[93]\tvalidation_0-aucpr:0.99165\tvalidation_1-aucpr:0.98367\n",
      "[94]\tvalidation_0-aucpr:0.99172\tvalidation_1-aucpr:0.98366\n",
      "[95]\tvalidation_0-aucpr:0.99177\tvalidation_1-aucpr:0.98370\n",
      "[96]\tvalidation_0-aucpr:0.99185\tvalidation_1-aucpr:0.98381\n",
      "[97]\tvalidation_0-aucpr:0.99197\tvalidation_1-aucpr:0.98385\n",
      "[98]\tvalidation_0-aucpr:0.99210\tvalidation_1-aucpr:0.98391\n",
      "[99]\tvalidation_0-aucpr:0.99225\tvalidation_1-aucpr:0.98394\n"
     ]
    },
    {
     "name": "stderr",
     "output_type": "stream",
     "text": [
      "/tmp/ipykernel_16/1928500786.py:28: RuntimeWarning: overflow encountered in scalar multiply\n",
      "  denominator = np.sqrt((true_positive + false_positive) * (true_positive + false_negative) * (true_negative + false_positive) * (true_negative + false_negative))\n",
      "/tmp/ipykernel_16/1928500786.py:28: RuntimeWarning: invalid value encountered in sqrt\n",
      "  denominator = np.sqrt((true_positive + false_positive) * (true_positive + false_negative) * (true_negative + false_positive) * (true_negative + false_negative))\n"
     ]
    },
    {
     "name": "stdout",
     "output_type": "stream",
     "text": [
      "{'validation_0': OrderedDict([('aucpr', [0.8541731531214698, 0.8732988376991307, 0.8778498185344412, 0.8885048641333614, 0.8938408846623943, 0.9061294359905999, 0.9140356021976309, 0.9245483137075162, 0.9335125288968938, 0.9390211737312417, 0.9437953482731878, 0.9490597428387977, 0.9535081827989942, 0.9581403769457582, 0.9595515631578563, 0.9618712267813553, 0.9644236882074869, 0.9663630356174081, 0.9682548973874369, 0.9706967959586995, 0.9718107868938678, 0.9724316326204359, 0.9730498056081617, 0.9733378485057581, 0.9736377268521113, 0.974729672071779, 0.9761928141824541, 0.976760298387647, 0.9772170407752233, 0.9775023323435428, 0.9781963286035337, 0.9784134788808901, 0.9792525537091122, 0.9797682990215867, 0.9801030125250664, 0.9805449780872466, 0.9808407897072038, 0.9810393603813551, 0.9816312377104827, 0.9817557063218787, 0.9818481239029482, 0.9821991155723593, 0.9828309932282044, 0.9829729373213241, 0.9833199779680398, 0.9836714241652794, 0.9837668568656849, 0.9839225023820796, 0.9842788140629094, 0.9844966972147436, 0.9848070759819387, 0.9853761947140268, 0.9856274282003694, 0.9857543720981164, 0.9858099856196662, 0.9860450259100455, 0.9861638346643817, 0.9863683622014905, 0.986545506340803, 0.986774639240231, 0.9870316306399809, 0.9871668099733238, 0.9873223411339496, 0.9875240660147477, 0.9876315090012007, 0.9879840211679214, 0.9881674123487703, 0.988371941951582, 0.9884618770999308, 0.988838834851325, 0.9889250098013366, 0.9890684264012689, 0.9891143423721491, 0.9891898723475111, 0.9893930525398685, 0.9895873141740005, 0.9896710847303124, 0.9897959737866175, 0.9898178389671178, 0.9899216613696793, 0.9901316253850877, 0.990258556852965, 0.9903466983835268, 0.9903532510487565, 0.9905453948401866, 0.9905810134194404, 0.9907490967917068, 0.9908905718112582, 0.9909520608230475, 0.9912266717895918, 0.9912873051618246, 0.9914742439079582, 0.9916022181224137, 0.9916521011788931, 0.9917222672542508, 0.9917749080471313, 0.9918473100144939, 0.991969075308894, 0.992101473169316, 0.9922486946739445])]), 'validation_1': OrderedDict([('aucpr', [0.8470833734558487, 0.8665174858162819, 0.872018282764332, 0.8831740034234148, 0.8884520302622056, 0.9016804489359316, 0.9101707396211957, 0.9202400315915422, 0.9300810713923313, 0.9353831660233316, 0.939469345546832, 0.9444198497895315, 0.949219385936642, 0.9534416282479447, 0.9547904249876584, 0.9568653306497665, 0.9595000651111653, 0.9616201271256765, 0.9635762790359361, 0.9663482481588007, 0.96729825090391, 0.9680344977008313, 0.968667439112297, 0.9690039588149659, 0.9692023323523996, 0.9703559831006663, 0.9718908501408815, 0.9724242452172831, 0.9730497169093607, 0.9733397140633632, 0.973834962012508, 0.9740779024910436, 0.9746843488370907, 0.9751625268750173, 0.9755414774927134, 0.9758476098848273, 0.9762640908422425, 0.9763797656601644, 0.9769313299931865, 0.9770532006222609, 0.9770971669415205, 0.9772498943578578, 0.9778686247472452, 0.9778931222179089, 0.9782301775205783, 0.978391563918582, 0.9784685139713106, 0.9786548418382446, 0.9790575043294766, 0.9792221220060764, 0.9794227629329995, 0.9801600627596962, 0.9802730573573235, 0.9803998857623067, 0.9804869930199718, 0.9806218877983698, 0.9806356674403919, 0.9806955498158754, 0.9809087283103334, 0.9811903351800823, 0.9812838947363663, 0.9812900558966273, 0.9813590829796703, 0.9815991368260623, 0.9815989883829507, 0.9819975283911658, 0.9822110375784189, 0.9822420425875843, 0.982300578057195, 0.9825558506361205, 0.9826454833182741, 0.982701307606926, 0.9827135088947325, 0.9827267854480369, 0.982740028130784, 0.9829913250112625, 0.9830040363024298, 0.9830486758332119, 0.9830810597637489, 0.9830827095399678, 0.9831074232319351, 0.9831429492890039, 0.9831900784588168, 0.9831917415796629, 0.9832097099008152, 0.9832273841722288, 0.9833039565523797, 0.9832826666897694, 0.9832808178945652, 0.9836022556553633, 0.9836577067619378, 0.9836864123720188, 0.9836681695926457, 0.9836746246617007, 0.9836569418071461, 0.9837037013793067, 0.9838066878144288, 0.9838534079058598, 0.9839075691029838, 0.9839362224760132])])}\n"
     ]
    },
    {
     "data": {
      "image/png": "[encoded data removed]",
      "text/plain": [
       "<Figure size 640x480 with 1 Axes>"
      ]
     },
     "metadata": {},
     "output_type": "display_data"
    },
    {
     "name": "stderr",
     "output_type": "stream",
     "text": [
      "/opt/conda/lib/python3.10/site-packages/xgboost/sklearn.py:889: UserWarning: `eval_metric` in `fit` method is deprecated for better compatibility with scikit-learn, use `eval_metric` in constructor or`set_params` instead.\n",
      "  warnings.warn(\n"
     ]
    },
    {
     "name": "stdout",
     "output_type": "stream",
     "text": [
      "[0]\tvalidation_0-aucpr:0.84944\tvalidation_1-aucpr:0.84969\n",
      "[1]\tvalidation_0-aucpr:0.87242\tvalidation_1-aucpr:0.87434\n",
      "[2]\tvalidation_0-aucpr:0.87602\tvalidation_1-aucpr:0.87829\n",
      "[3]\tvalidation_0-aucpr:0.88563\tvalidation_1-aucpr:0.88807\n",
      "[4]\tvalidation_0-aucpr:0.89421\tvalidation_1-aucpr:0.89673\n",
      "[5]\tvalidation_0-aucpr:0.90941\tvalidation_1-aucpr:0.91115\n",
      "[6]\tvalidation_0-aucpr:0.91733\tvalidation_1-aucpr:0.91852\n",
      "[7]\tvalidation_0-aucpr:0.92650\tvalidation_1-aucpr:0.92635\n",
      "[8]\tvalidation_0-aucpr:0.93319\tvalidation_1-aucpr:0.93289\n",
      "[9]\tvalidation_0-aucpr:0.93925\tvalidation_1-aucpr:0.93940\n",
      "[10]\tvalidation_0-aucpr:0.94376\tvalidation_1-aucpr:0.94463\n",
      "[11]\tvalidation_0-aucpr:0.94862\tvalidation_1-aucpr:0.94865\n",
      "[12]\tvalidation_0-aucpr:0.95150\tvalidation_1-aucpr:0.95165\n",
      "[13]\tvalidation_0-aucpr:0.95339\tvalidation_1-aucpr:0.95348\n",
      "[14]\tvalidation_0-aucpr:0.95656\tvalidation_1-aucpr:0.95744\n",
      "[15]\tvalidation_0-aucpr:0.96084\tvalidation_1-aucpr:0.96091\n",
      "[16]\tvalidation_0-aucpr:0.96348\tvalidation_1-aucpr:0.96311\n",
      "[17]\tvalidation_0-aucpr:0.96509\tvalidation_1-aucpr:0.96459\n",
      "[18]\tvalidation_0-aucpr:0.96703\tvalidation_1-aucpr:0.96657\n",
      "[19]\tvalidation_0-aucpr:0.96884\tvalidation_1-aucpr:0.96837\n",
      "[20]\tvalidation_0-aucpr:0.96977\tvalidation_1-aucpr:0.96930\n",
      "[21]\tvalidation_0-aucpr:0.97118\tvalidation_1-aucpr:0.97056\n",
      "[22]\tvalidation_0-aucpr:0.97184\tvalidation_1-aucpr:0.97110\n",
      "[23]\tvalidation_0-aucpr:0.97302\tvalidation_1-aucpr:0.97223\n",
      "[24]\tvalidation_0-aucpr:0.97322\tvalidation_1-aucpr:0.97244\n",
      "[25]\tvalidation_0-aucpr:0.97371\tvalidation_1-aucpr:0.97299\n",
      "[26]\tvalidation_0-aucpr:0.97424\tvalidation_1-aucpr:0.97345\n",
      "[27]\tvalidation_0-aucpr:0.97488\tvalidation_1-aucpr:0.97428\n",
      "[28]\tvalidation_0-aucpr:0.97570\tvalidation_1-aucpr:0.97510\n",
      "[29]\tvalidation_0-aucpr:0.97676\tvalidation_1-aucpr:0.97589\n",
      "[30]\tvalidation_0-aucpr:0.97744\tvalidation_1-aucpr:0.97649\n",
      "[31]\tvalidation_0-aucpr:0.97775\tvalidation_1-aucpr:0.97673\n",
      "[32]\tvalidation_0-aucpr:0.97820\tvalidation_1-aucpr:0.97700\n",
      "[33]\tvalidation_0-aucpr:0.97851\tvalidation_1-aucpr:0.97728\n",
      "[34]\tvalidation_0-aucpr:0.97925\tvalidation_1-aucpr:0.97810\n",
      "[35]\tvalidation_0-aucpr:0.97982\tvalidation_1-aucpr:0.97851\n",
      "[36]\tvalidation_0-aucpr:0.98016\tvalidation_1-aucpr:0.97874\n",
      "[37]\tvalidation_0-aucpr:0.98048\tvalidation_1-aucpr:0.97891\n",
      "[38]\tvalidation_0-aucpr:0.98063\tvalidation_1-aucpr:0.97906\n",
      "[39]\tvalidation_0-aucpr:0.98123\tvalidation_1-aucpr:0.97962\n",
      "[40]\tvalidation_0-aucpr:0.98129\tvalidation_1-aucpr:0.97966\n",
      "[41]\tvalidation_0-aucpr:0.98149\tvalidation_1-aucpr:0.97978\n",
      "[42]\tvalidation_0-aucpr:0.98194\tvalidation_1-aucpr:0.98006\n",
      "[43]\tvalidation_0-aucpr:0.98225\tvalidation_1-aucpr:0.98023\n",
      "[44]\tvalidation_0-aucpr:0.98286\tvalidation_1-aucpr:0.98068\n",
      "[45]\tvalidation_0-aucpr:0.98332\tvalidation_1-aucpr:0.98117\n",
      "[46]\tvalidation_0-aucpr:0.98356\tvalidation_1-aucpr:0.98126\n",
      "[47]\tvalidation_0-aucpr:0.98385\tvalidation_1-aucpr:0.98150\n",
      "[48]\tvalidation_0-aucpr:0.98442\tvalidation_1-aucpr:0.98207\n",
      "[49]\tvalidation_0-aucpr:0.98486\tvalidation_1-aucpr:0.98254\n",
      "[50]\tvalidation_0-aucpr:0.98521\tvalidation_1-aucpr:0.98284\n",
      "[51]\tvalidation_0-aucpr:0.98546\tvalidation_1-aucpr:0.98291\n",
      "[52]\tvalidation_0-aucpr:0.98563\tvalidation_1-aucpr:0.98298\n",
      "[53]\tvalidation_0-aucpr:0.98571\tvalidation_1-aucpr:0.98305\n",
      "[54]\tvalidation_0-aucpr:0.98577\tvalidation_1-aucpr:0.98307\n",
      "[55]\tvalidation_0-aucpr:0.98589\tvalidation_1-aucpr:0.98316\n",
      "[56]\tvalidation_0-aucpr:0.98617\tvalidation_1-aucpr:0.98325\n",
      "[57]\tvalidation_0-aucpr:0.98632\tvalidation_1-aucpr:0.98331\n",
      "[58]\tvalidation_0-aucpr:0.98635\tvalidation_1-aucpr:0.98331\n",
      "[59]\tvalidation_0-aucpr:0.98643\tvalidation_1-aucpr:0.98339\n",
      "[60]\tvalidation_0-aucpr:0.98658\tvalidation_1-aucpr:0.98349\n",
      "[61]\tvalidation_0-aucpr:0.98682\tvalidation_1-aucpr:0.98366\n",
      "[62]\tvalidation_0-aucpr:0.98699\tvalidation_1-aucpr:0.98368\n",
      "[63]\tvalidation_0-aucpr:0.98709\tvalidation_1-aucpr:0.98369\n",
      "[64]\tvalidation_0-aucpr:0.98713\tvalidation_1-aucpr:0.98370\n",
      "[65]\tvalidation_0-aucpr:0.98733\tvalidation_1-aucpr:0.98390\n",
      "[66]\tvalidation_0-aucpr:0.98738\tvalidation_1-aucpr:0.98395\n",
      "[67]\tvalidation_0-aucpr:0.98746\tvalidation_1-aucpr:0.98396\n",
      "[68]\tvalidation_0-aucpr:0.98763\tvalidation_1-aucpr:0.98400\n",
      "[69]\tvalidation_0-aucpr:0.98784\tvalidation_1-aucpr:0.98409\n",
      "[70]\tvalidation_0-aucpr:0.98804\tvalidation_1-aucpr:0.98428\n",
      "[71]\tvalidation_0-aucpr:0.98814\tvalidation_1-aucpr:0.98428\n",
      "[72]\tvalidation_0-aucpr:0.98830\tvalidation_1-aucpr:0.98443\n",
      "[73]\tvalidation_0-aucpr:0.98851\tvalidation_1-aucpr:0.98462\n",
      "[74]\tvalidation_0-aucpr:0.98852\tvalidation_1-aucpr:0.98464\n",
      "[75]\tvalidation_0-aucpr:0.98862\tvalidation_1-aucpr:0.98475\n",
      "[76]\tvalidation_0-aucpr:0.98896\tvalidation_1-aucpr:0.98491\n",
      "[77]\tvalidation_0-aucpr:0.98908\tvalidation_1-aucpr:0.98498\n",
      "[78]\tvalidation_0-aucpr:0.98926\tvalidation_1-aucpr:0.98496\n",
      "[79]\tvalidation_0-aucpr:0.98942\tvalidation_1-aucpr:0.98508\n",
      "[80]\tvalidation_0-aucpr:0.98968\tvalidation_1-aucpr:0.98539\n",
      "[81]\tvalidation_0-aucpr:0.98984\tvalidation_1-aucpr:0.98545\n",
      "[82]\tvalidation_0-aucpr:0.99000\tvalidation_1-aucpr:0.98543\n",
      "[83]\tvalidation_0-aucpr:0.99014\tvalidation_1-aucpr:0.98543\n",
      "[84]\tvalidation_0-aucpr:0.99034\tvalidation_1-aucpr:0.98544\n",
      "[85]\tvalidation_0-aucpr:0.99048\tvalidation_1-aucpr:0.98545\n",
      "[86]\tvalidation_0-aucpr:0.99068\tvalidation_1-aucpr:0.98548\n",
      "[87]\tvalidation_0-aucpr:0.99081\tvalidation_1-aucpr:0.98560\n",
      "[88]\tvalidation_0-aucpr:0.99112\tvalidation_1-aucpr:0.98580\n",
      "[89]\tvalidation_0-aucpr:0.99126\tvalidation_1-aucpr:0.98595\n",
      "[90]\tvalidation_0-aucpr:0.99135\tvalidation_1-aucpr:0.98595\n",
      "[91]\tvalidation_0-aucpr:0.99144\tvalidation_1-aucpr:0.98595\n",
      "[92]\tvalidation_0-aucpr:0.99150\tvalidation_1-aucpr:0.98596\n",
      "[93]\tvalidation_0-aucpr:0.99158\tvalidation_1-aucpr:0.98596\n",
      "[94]\tvalidation_0-aucpr:0.99160\tvalidation_1-aucpr:0.98599\n",
      "[95]\tvalidation_0-aucpr:0.99174\tvalidation_1-aucpr:0.98618\n",
      "[96]\tvalidation_0-aucpr:0.99179\tvalidation_1-aucpr:0.98622\n",
      "[97]\tvalidation_0-aucpr:0.99184\tvalidation_1-aucpr:0.98624\n",
      "[98]\tvalidation_0-aucpr:0.99193\tvalidation_1-aucpr:0.98626\n",
      "[99]\tvalidation_0-aucpr:0.99212\tvalidation_1-aucpr:0.98649\n"
     ]
    },
    {
     "name": "stderr",
     "output_type": "stream",
     "text": [
      "/tmp/ipykernel_16/1928500786.py:28: RuntimeWarning: overflow encountered in scalar multiply\n",
      "  denominator = np.sqrt((true_positive + false_positive) * (true_positive + false_negative) * (true_negative + false_positive) * (true_negative + false_negative))\n",
      "/tmp/ipykernel_16/1928500786.py:28: RuntimeWarning: invalid value encountered in sqrt\n",
      "  denominator = np.sqrt((true_positive + false_positive) * (true_positive + false_negative) * (true_negative + false_positive) * (true_negative + false_negative))\n"
     ]
    },
    {
     "name": "stdout",
     "output_type": "stream",
     "text": [
      "{'validation_0': OrderedDict([('aucpr', [0.8494443139344473, 0.8724207854112915, 0.8760217390476003, 0.8856266853788427, 0.8942058319238907, 0.9094131467990826, 0.9173314035458405, 0.9264960921525994, 0.9331864909251236, 0.9392517518112864, 0.9437590029864167, 0.9486158410744436, 0.9514984199560045, 0.9533916968949563, 0.9565555608623253, 0.9608392820601678, 0.9634796163564364, 0.9650894604778424, 0.9670294738175556, 0.9688384794905707, 0.9697696221994715, 0.971176483435, 0.9718376483800242, 0.9730203975800711, 0.9732187874636226, 0.9737127538560927, 0.9742376205285997, 0.9748793952017267, 0.9757033841327543, 0.9767645589713223, 0.9774410093546508, 0.9777468336647814, 0.9782016481892278, 0.978512640576368, 0.9792492240029679, 0.9798199624589042, 0.9801577953220365, 0.9804782436030559, 0.9806279334435, 0.9812289404143103, 0.9812892105876969, 0.9814872307896528, 0.9819419715619042, 0.9822476876329276, 0.9828607938039665, 0.9833156177661642, 0.9835617747831364, 0.9838499460415177, 0.9844210427178879, 0.9848597034839849, 0.9852076131476597, 0.9854554696443563, 0.9856315713768952, 0.9857112494832162, 0.9857680827187946, 0.9858877188410071, 0.9861687687351496, 0.9863168002953587, 0.9863549866564153, 0.9864275614282855, 0.9865809335979345, 0.9868171746855194, 0.9869884513385587, 0.9870884664797959, 0.9871349850994773, 0.987330264807745, 0.9873757422760842, 0.9874607473651807, 0.9876326116350874, 0.987843256102305, 0.9880411269005872, 0.9881364218243481, 0.9883011179593013, 0.9885054029364746, 0.9885219411600411, 0.988617536179683, 0.9889614947149604, 0.9890806311515835, 0.9892632817887773, 0.9894186457722722, 0.9896838556814753, 0.989835209938791, 0.9899996157161307, 0.9901437059641194, 0.9903425873500779, 0.9904804807185993, 0.9906768258084664, 0.9908126212716006, 0.9911203306618551, 0.9912558478672843, 0.9913453182467348, 0.9914414019884706, 0.9914979716712156, 0.9915792297079997, 0.9916024574302773, 0.9917367597097696, 0.9917924716413339, 0.9918409069803514, 0.9919315220956195, 0.9921152983648206])]), 'validation_1': OrderedDict([('aucpr', [0.8496918942856099, 0.8743384182195221, 0.8782938332520744, 0.8880666219458455, 0.8967296948009125, 0.9111450173915584, 0.9185201586713835, 0.9263502796721091, 0.9328910018783965, 0.9394029618149402, 0.9446337201639609, 0.9486515470279047, 0.951646615972943, 0.9534848005217285, 0.9574412882907858, 0.960908537610679, 0.963114417763884, 0.9645862698137947, 0.9665687935571219, 0.9683688754678491, 0.9693000144829272, 0.9705607999208907, 0.9711037884877136, 0.9722327363684315, 0.9724412510335638, 0.9729908696758699, 0.9734519877774616, 0.9742803323562019, 0.9751043728916506, 0.9758920050944815, 0.9764936828519696, 0.9767342694374896, 0.9769976550702831, 0.977283493961486, 0.978100346213609, 0.978514261452747, 0.9787419361953587, 0.9789066363911417, 0.9790612165992887, 0.9796184341537388, 0.9796607576012692, 0.9797789117056874, 0.9800601918140134, 0.9802310699563302, 0.9806801094201165, 0.9811737189085721, 0.9812624118047061, 0.9814996174461499, 0.9820723540669812, 0.9825430880812548, 0.9828378407548962, 0.982914844633446, 0.9829836442699983, 0.9830474298508083, 0.9830719577424128, 0.9831594042994986, 0.9832471801763414, 0.9833100477433835, 0.9833050062881117, 0.9833855284471882, 0.9834947102791957, 0.9836574847633889, 0.9836768508033821, 0.9836851926385368, 0.9837025176723307, 0.9838965791235122, 0.983946516995006, 0.9839554593918302, 0.984001624857303, 0.984094706528787, 0.984279110992757, 0.9842837454612322, 0.9844343137376228, 0.984615926203519, 0.9846434263496745, 0.9847524303792964, 0.9849128807803205, 0.9849816835570658, 0.9849581884780465, 0.9850801393438425, 0.9853928812597756, 0.9854459720164231, 0.9854348486081858, 0.9854328858082761, 0.9854367167104083, 0.9854520267086946, 0.9854798476811624, 0.9855966217758532, 0.9857990970654356, 0.9859466648610197, 0.9859473918782096, 0.9859452589968106, 0.9859552584564218, 0.9859588849990738, 0.9859942476360317, 0.9861766219739425, 0.9862167659592206, 0.9862355530614704, 0.9862640513698, 0.9864885646848764])])}\n"
     ]
    },
    {
     "data": {
      "image/png": "[encoded data removed]",
      "text/plain": [
       "<Figure size 640x480 with 1 Axes>"
      ]
     },
     "metadata": {},
     "output_type": "display_data"
    }
   ],
   "source": [
    "import matplotlib.pyplot as plt\n",
    "import seaborn as sns\n",
    "import pandas as pd\n",
    "from xgboost import XGBClassifier\n",
    "from sklearn.metrics import balanced_accuracy_score\n",
    "from sklearn.model_selection import KFold\n",
    "\n",
    "# Initialize evaluation dataframes\n",
    "eval_df = pd.DataFrame(columns=['Classifier', 'Precision', 'Recall', 'TNR', 'TPR', 'Accuracy', \n",
    "                                'F1', 'Balanced Accuracy', 'MCC', 'Zero-One Loss', 'Fit Time', 'Predict Time'])\n",
    "cm_df = pd.DataFrame(columns=['Classifier', 'Confusion Matrix', 'Classification Report'])\n",
    "df_scores = pd.DataFrame(columns=['Attack Type', 'Label', 'Feature Set', 'Classifier', 'F1 Score', \n",
    "                                  'Balanced Accuracy', 'MCC', 'Precision', 'Recall', 'Other'])\n",
    "\n",
    "nbr = 0\n",
    "os.chdir('/kaggle/working/')\n",
    "# Split the data into training and testing sets\n",
    "list_set = [base_col,base_col+g_col,base_col+g_col+c_col,base_col+g_col+c_col+dc_col]\n",
    "for elm in list_set:\n",
    "    kFold=KFold(n_splits=5, random_state = 42, shuffle = True)\n",
    "    for train_index,test_index in kFold.split(X):\n",
    "        X_train, X_test, y_train, y_test = X[elm].iloc[train_index,:], X[elm].iloc[test_index,:], y[train_index], y[test_index]\n",
    "    #X_train, X_test, y_train, y_test = train_test_split(X[elm], y, test_size=0.3, random_state=42)\n",
    "    \n",
    "        # Example usage:\n",
    "        evalset = [(X_train, y_train), (X_test,y_test)]\n",
    "        fit_start = time.time()\n",
    "        clf = XGBClassifier(tree_method=\"auto\")  # Change to \"gpu_hist\" if GPU acceleration is needed\n",
    "        clf.fit(X_train, y_train, eval_metric=\"aucpr\", eval_set=evalset)\n",
    "        fit_time = time.time() - fit_start\n",
    "        \n",
    "        pred_start = time.time()\n",
    "        y_pred = clf.predict(X_test)\n",
    "        pred_time = time.time() - pred_start\n",
    "        \n",
    "        eval_xgb(clf, X_test, y_test, fit_time, pred_time,verbose=False)\n",
    "\n",
    "        # retrieve performance metrics\n",
    "        res_clf = clf.evals_result()\n",
    "        print(res_clf)\n",
    "        # plot learning curves\n",
    "        pyplot.plot(res_clf['validation_0'][\"aucpr\"], label='train')\n",
    "        pyplot.plot(res_clf['validation_1'][\"aucpr\"], label='test')\n",
    "        # show the legend\n",
    "        pyplot.legend()\n",
    "        # show the plot\n",
    "        \n",
    "        pyplot.savefig( 'fig/'+ str(nbr)+'.png')\n",
    "        pyplot.show()\n",
    "        nbr = nbr + 1\n",
    "        \"\"\"\n",
    "        # Plotting the evaluation metrics as a histogram\n",
    "        metrics = eval_df.columns[1:-2]  # Selecting metrics columns excluding 'Classifier', 'Fit Time', 'Predict Time'\n",
    "        values = eval_df.iloc[0, 1:-2].values  # Extracting metric values\n",
    "        \n",
    "        plt.figure(figsize=(10, 6))\n",
    "        plt.barh(metrics, values, align='center', alpha=0.7)\n",
    "        plt.xlabel('Metric Value')\n",
    "        plt.title(f'Evaluation Metrics for {eval_df.iloc[0, 0]}')\n",
    "        plt.xlim(0, 1)  # Assuming metrics are between 0 and 1 for clarity\n",
    "        plt.grid(axis='x', linestyle='--', alpha=0.7)\n",
    "        plt.show()\n",
    "        \"\"\""
   ]
  },
  {
   "cell_type": "code",
   "execution_count": 14,
   "id": "dfa91c7f",
   "metadata": {
    "execution": {
     "iopub.execute_input": "2025-01-31T12:05:42.904339Z",
     "iopub.status.busy": "2025-01-31T12:05:42.902598Z",
     "iopub.status.idle": "2025-01-31T12:05:42.939786Z",
     "shell.execute_reply": "2025-01-31T12:05:42.938196Z"
    },
    "papermill": {
     "duration": 0.184569,
     "end_time": "2025-01-31T12:05:42.942104",
     "exception": false,
     "start_time": "2025-01-31T12:05:42.757535",
     "status": "completed"
    },
    "tags": []
   },
   "outputs": [
    {
     "name": "stderr",
     "output_type": "stream",
     "text": [
      "/tmp/ipykernel_16/123098576.py:4: FutureWarning: Setting an item of incompatible dtype is deprecated and will raise an error in a future version of pandas. Value 'XGBClassifier' has dtype incompatible with float64, please explicitly cast to a compatible dtype first.\n",
      "  tmp_df.loc[0,'Classifier'] = \"XGBClassifier\"\n"
     ]
    }
   ],
   "source": [
    "\n",
    "tmp_df = pd.DataFrame(columns=['Classifier', 'Precision', 'Recall', 'TNR', 'TPR', 'Accuracy', \n",
    "                                'F1', 'Balanced Accuracy', 'MCC', 'Zero-One Loss', 'Fit Time', 'Predict Time'])\n",
    "tmp_df.loc[0] = eval_df.loc[:, eval_df.columns != 'Classifier'][0:5].mean()\n",
    "tmp_df.loc[0,'Classifier'] = \"XGBClassifier\"\n",
    "\n",
    "tmp_df.loc[1] = eval_df.loc[:, eval_df.columns != 'Classifier'][5:10].mean()\n",
    "tmp_df.loc[1,'Classifier'] = \"XGBClassifier\"\n",
    "tmp_df.loc[2] = eval_df.loc[:, eval_df.columns != 'Classifier'][10:15].mean()\n",
    "tmp_df.loc[2,'Classifier'] = \"XGBClassifier\"\n",
    "tmp_df.loc[3] = eval_df.loc[:, eval_df.columns != 'Classifier'][15:20].mean()\n",
    "tmp_df.loc[3,'Classifier'] = \"XGBClassifier\""
   ]
  },
  {
   "cell_type": "code",
   "execution_count": 15,
   "id": "db7932cf",
   "metadata": {
    "execution": {
     "iopub.execute_input": "2025-01-31T12:05:43.224516Z",
     "iopub.status.busy": "2025-01-31T12:05:43.224117Z",
     "iopub.status.idle": "2025-01-31T12:05:43.251801Z",
     "shell.execute_reply": "2025-01-31T12:05:43.250577Z"
    },
    "papermill": {
     "duration": 0.16766,
     "end_time": "2025-01-31T12:05:43.254469",
     "exception": false,
     "start_time": "2025-01-31T12:05:43.086809",
     "status": "completed"
    },
    "tags": []
   },
   "outputs": [
    {
     "data": {
      "text/html": [
       "<div>\n",
       "<style scoped>\n",
       "    .dataframe tbody tr th:only-of-type {\n",
       "        vertical-align: middle;\n",
       "    }\n",
       "\n",
       "    .dataframe tbody tr th {\n",
       "        vertical-align: top;\n",
       "    }\n",
       "\n",
       "    .dataframe thead th {\n",
       "        text-align: right;\n",
       "    }\n",
       "</style>\n",
       "<table border=\"1\" class=\"dataframe\">\n",
       "  <thead>\n",
       "    <tr style=\"text-align: right;\">\n",
       "      <th></th>\n",
       "      <th>Classifier</th>\n",
       "      <th>Precision</th>\n",
       "      <th>Recall</th>\n",
       "      <th>TNR</th>\n",
       "      <th>TPR</th>\n",
       "      <th>Accuracy</th>\n",
       "      <th>F1</th>\n",
       "      <th>Balanced Accuracy</th>\n",
       "      <th>MCC</th>\n",
       "      <th>Zero-One Loss</th>\n",
       "      <th>Fit Time</th>\n",
       "      <th>Predict Time</th>\n",
       "    </tr>\n",
       "  </thead>\n",
       "  <tbody>\n",
       "    <tr>\n",
       "      <th>0</th>\n",
       "      <td>XGBClassifier</td>\n",
       "      <td>0.989876</td>\n",
       "      <td>0.991045</td>\n",
       "      <td>0.997084</td>\n",
       "      <td>0.442528</td>\n",
       "      <td>0.991045</td>\n",
       "      <td>0.990284</td>\n",
       "      <td>0.719806</td>\n",
       "      <td>0.521875</td>\n",
       "      <td>0.008955</td>\n",
       "      <td>78.673792</td>\n",
       "      <td>1.058596</td>\n",
       "    </tr>\n",
       "    <tr>\n",
       "      <th>1</th>\n",
       "      <td>XGBClassifier</td>\n",
       "      <td>0.990826</td>\n",
       "      <td>0.991843</td>\n",
       "      <td>0.997503</td>\n",
       "      <td>0.477688</td>\n",
       "      <td>0.991843</td>\n",
       "      <td>0.991143</td>\n",
       "      <td>0.737596</td>\n",
       "      <td>0.565229</td>\n",
       "      <td>0.008157</td>\n",
       "      <td>69.034058</td>\n",
       "      <td>1.137496</td>\n",
       "    </tr>\n",
       "    <tr>\n",
       "      <th>2</th>\n",
       "      <td>XGBClassifier</td>\n",
       "      <td>0.998983</td>\n",
       "      <td>0.998993</td>\n",
       "      <td>0.999854</td>\n",
       "      <td>0.920738</td>\n",
       "      <td>0.998993</td>\n",
       "      <td>0.998976</td>\n",
       "      <td>0.960296</td>\n",
       "      <td>0.952224</td>\n",
       "      <td>0.001007</td>\n",
       "      <td>147.677730</td>\n",
       "      <td>1.482612</td>\n",
       "    </tr>\n",
       "    <tr>\n",
       "      <th>3</th>\n",
       "      <td>XGBClassifier</td>\n",
       "      <td>0.999054</td>\n",
       "      <td>0.999063</td>\n",
       "      <td>0.999861</td>\n",
       "      <td>0.926548</td>\n",
       "      <td>0.999063</td>\n",
       "      <td>0.999048</td>\n",
       "      <td>0.963204</td>\n",
       "      <td>0.955618</td>\n",
       "      <td>0.000937</td>\n",
       "      <td>183.407559</td>\n",
       "      <td>1.763672</td>\n",
       "    </tr>\n",
       "  </tbody>\n",
       "</table>\n",
       "</div>"
      ],
      "text/plain": [
       "      Classifier  Precision    Recall       TNR       TPR  Accuracy        F1  \\\n",
       "0  XGBClassifier   0.989876  0.991045  0.997084  0.442528  0.991045  0.990284   \n",
       "1  XGBClassifier   0.990826  0.991843  0.997503  0.477688  0.991843  0.991143   \n",
       "2  XGBClassifier   0.998983  0.998993  0.999854  0.920738  0.998993  0.998976   \n",
       "3  XGBClassifier   0.999054  0.999063  0.999861  0.926548  0.999063  0.999048   \n",
       "\n",
       "   Balanced Accuracy       MCC  Zero-One Loss    Fit Time  Predict Time  \n",
       "0           0.719806  0.521875       0.008955   78.673792      1.058596  \n",
       "1           0.737596  0.565229       0.008157   69.034058      1.137496  \n",
       "2           0.960296  0.952224       0.001007  147.677730      1.482612  \n",
       "3           0.963204  0.955618       0.000937  183.407559      1.763672  "
      ]
     },
     "execution_count": 15,
     "metadata": {},
     "output_type": "execute_result"
    }
   ],
   "source": [
    "tmp_df"
   ]
  },
  {
   "cell_type": "code",
   "execution_count": 16,
   "id": "7843f5cf",
   "metadata": {
    "execution": {
     "iopub.execute_input": "2025-01-31T12:05:43.539608Z",
     "iopub.status.busy": "2025-01-31T12:05:43.539199Z",
     "iopub.status.idle": "2025-01-31T12:05:46.710104Z",
     "shell.execute_reply": "2025-01-31T12:05:46.707505Z"
    },
    "papermill": {
     "duration": 3.320732,
     "end_time": "2025-01-31T12:05:46.712870",
     "exception": false,
     "start_time": "2025-01-31T12:05:43.392138",
     "status": "completed"
    },
    "tags": []
   },
   "outputs": [
    {
     "name": "stderr",
     "output_type": "stream",
     "text": [
      "/tmp/ipykernel_16/3138006032.py:4: FutureWarning: Downcasting behavior in `replace` is deprecated and will be removed in a future version. To retain the old behavior, explicitly call `result.infer_objects(copy=False)`. To opt-in to the future behavior, set `pd.set_option('future.no_silent_downcasting', True)`\n",
      "  community_df['category'] = community_df['Label'].replace(ugr_map_dict)\n"
     ]
    }
   ],
   "source": [
    "snapshot_evaldf = tmp_df.copy()\n",
    "#Multiclass eval\n",
    "\n",
    "community_df['category'] = community_df['Label'].replace(ugr_map_dict)"
   ]
  },
  {
   "cell_type": "code",
   "execution_count": 17,
   "id": "328fb4f3",
   "metadata": {
    "execution": {
     "iopub.execute_input": "2025-01-31T12:05:47.003425Z",
     "iopub.status.busy": "2025-01-31T12:05:47.002966Z",
     "iopub.status.idle": "2025-01-31T12:05:47.012422Z",
     "shell.execute_reply": "2025-01-31T12:05:47.011103Z"
    },
    "papermill": {
     "duration": 0.158556,
     "end_time": "2025-01-31T12:05:47.014783",
     "exception": false,
     "start_time": "2025-01-31T12:05:46.856227",
     "status": "completed"
    },
    "tags": []
   },
   "outputs": [],
   "source": [
    "cm_df = pd.DataFrame(columns=['Classifier', 'Confusion Matrix', 'Classification Report'])\n",
    "eval_df = pd.DataFrame(columns=['Classifier', 'Precision', 'Recall', 'TNR', 'TPR', 'Accuracy', \n",
    "                                'F1', 'Balanced Accuracy', 'MCC', 'Zero-One Loss', 'Fit Time', 'Predict Time'])"
   ]
  },
  {
   "cell_type": "code",
   "execution_count": 18,
   "id": "05660301",
   "metadata": {
    "execution": {
     "iopub.execute_input": "2025-01-31T12:05:47.320481Z",
     "iopub.status.busy": "2025-01-31T12:05:47.320083Z",
     "iopub.status.idle": "2025-01-31T13:23:31.393176Z",
     "shell.execute_reply": "2025-01-31T13:23:31.390689Z"
    },
    "papermill": {
     "duration": 4664.214811,
     "end_time": "2025-01-31T13:23:31.396945",
     "exception": false,
     "start_time": "2025-01-31T12:05:47.182134",
     "status": "completed"
    },
    "tags": []
   },
   "outputs": [
    {
     "name": "stderr",
     "output_type": "stream",
     "text": [
      "/tmp/ipykernel_16/1928500786.py:28: RuntimeWarning: overflow encountered in scalar multiply\n",
      "  denominator = np.sqrt((true_positive + false_positive) * (true_positive + false_negative) * (true_negative + false_positive) * (true_negative + false_negative))\n",
      "/tmp/ipykernel_16/1928500786.py:28: RuntimeWarning: invalid value encountered in sqrt\n",
      "  denominator = np.sqrt((true_positive + false_positive) * (true_positive + false_negative) * (true_negative + false_positive) * (true_negative + false_negative))\n",
      "/tmp/ipykernel_16/1928500786.py:28: RuntimeWarning: overflow encountered in scalar multiply\n",
      "  denominator = np.sqrt((true_positive + false_positive) * (true_positive + false_negative) * (true_negative + false_positive) * (true_negative + false_negative))\n",
      "/tmp/ipykernel_16/1928500786.py:28: RuntimeWarning: invalid value encountered in sqrt\n",
      "  denominator = np.sqrt((true_positive + false_positive) * (true_positive + false_negative) * (true_negative + false_positive) * (true_negative + false_negative))\n",
      "/tmp/ipykernel_16/1928500786.py:28: RuntimeWarning: overflow encountered in scalar multiply\n",
      "  denominator = np.sqrt((true_positive + false_positive) * (true_positive + false_negative) * (true_negative + false_positive) * (true_negative + false_negative))\n",
      "/tmp/ipykernel_16/1928500786.py:28: RuntimeWarning: invalid value encountered in sqrt\n",
      "  denominator = np.sqrt((true_positive + false_positive) * (true_positive + false_negative) * (true_negative + false_positive) * (true_negative + false_negative))\n",
      "/tmp/ipykernel_16/1928500786.py:28: RuntimeWarning: overflow encountered in scalar multiply\n",
      "  denominator = np.sqrt((true_positive + false_positive) * (true_positive + false_negative) * (true_negative + false_positive) * (true_negative + false_negative))\n",
      "/tmp/ipykernel_16/1928500786.py:28: RuntimeWarning: invalid value encountered in sqrt\n",
      "  denominator = np.sqrt((true_positive + false_positive) * (true_positive + false_negative) * (true_negative + false_positive) * (true_negative + false_negative))\n",
      "/tmp/ipykernel_16/1928500786.py:28: RuntimeWarning: overflow encountered in scalar multiply\n",
      "  denominator = np.sqrt((true_positive + false_positive) * (true_positive + false_negative) * (true_negative + false_positive) * (true_negative + false_negative))\n",
      "/tmp/ipykernel_16/1928500786.py:28: RuntimeWarning: overflow encountered in scalar multiply\n",
      "  denominator = np.sqrt((true_positive + false_positive) * (true_positive + false_negative) * (true_negative + false_positive) * (true_negative + false_negative))\n",
      "/tmp/ipykernel_16/1928500786.py:28: RuntimeWarning: invalid value encountered in sqrt\n",
      "  denominator = np.sqrt((true_positive + false_positive) * (true_positive + false_negative) * (true_negative + false_positive) * (true_negative + false_negative))\n",
      "/tmp/ipykernel_16/1928500786.py:28: RuntimeWarning: overflow encountered in scalar multiply\n",
      "  denominator = np.sqrt((true_positive + false_positive) * (true_positive + false_negative) * (true_negative + false_positive) * (true_negative + false_negative))\n",
      "/tmp/ipykernel_16/1928500786.py:28: RuntimeWarning: invalid value encountered in sqrt\n",
      "  denominator = np.sqrt((true_positive + false_positive) * (true_positive + false_negative) * (true_negative + false_positive) * (true_negative + false_negative))\n",
      "/tmp/ipykernel_16/1928500786.py:28: RuntimeWarning: overflow encountered in scalar multiply\n",
      "  denominator = np.sqrt((true_positive + false_positive) * (true_positive + false_negative) * (true_negative + false_positive) * (true_negative + false_negative))\n",
      "/tmp/ipykernel_16/1928500786.py:28: RuntimeWarning: invalid value encountered in sqrt\n",
      "  denominator = np.sqrt((true_positive + false_positive) * (true_positive + false_negative) * (true_negative + false_positive) * (true_negative + false_negative))\n",
      "/tmp/ipykernel_16/1928500786.py:28: RuntimeWarning: overflow encountered in scalar multiply\n",
      "  denominator = np.sqrt((true_positive + false_positive) * (true_positive + false_negative) * (true_negative + false_positive) * (true_negative + false_negative))\n",
      "/tmp/ipykernel_16/1928500786.py:28: RuntimeWarning: overflow encountered in scalar multiply\n",
      "  denominator = np.sqrt((true_positive + false_positive) * (true_positive + false_negative) * (true_negative + false_positive) * (true_negative + false_negative))\n",
      "/tmp/ipykernel_16/1928500786.py:28: RuntimeWarning: invalid value encountered in sqrt\n",
      "  denominator = np.sqrt((true_positive + false_positive) * (true_positive + false_negative) * (true_negative + false_positive) * (true_negative + false_negative))\n",
      "/tmp/ipykernel_16/1928500786.py:28: RuntimeWarning: overflow encountered in scalar multiply\n",
      "  denominator = np.sqrt((true_positive + false_positive) * (true_positive + false_negative) * (true_negative + false_positive) * (true_negative + false_negative))\n",
      "/tmp/ipykernel_16/1928500786.py:28: RuntimeWarning: invalid value encountered in sqrt\n",
      "  denominator = np.sqrt((true_positive + false_positive) * (true_positive + false_negative) * (true_negative + false_positive) * (true_negative + false_negative))\n",
      "/tmp/ipykernel_16/1928500786.py:28: RuntimeWarning: overflow encountered in scalar multiply\n",
      "  denominator = np.sqrt((true_positive + false_positive) * (true_positive + false_negative) * (true_negative + false_positive) * (true_negative + false_negative))\n",
      "/tmp/ipykernel_16/1928500786.py:28: RuntimeWarning: invalid value encountered in sqrt\n",
      "  denominator = np.sqrt((true_positive + false_positive) * (true_positive + false_negative) * (true_negative + false_positive) * (true_negative + false_negative))\n",
      "/tmp/ipykernel_16/1928500786.py:28: RuntimeWarning: overflow encountered in scalar multiply\n",
      "  denominator = np.sqrt((true_positive + false_positive) * (true_positive + false_negative) * (true_negative + false_positive) * (true_negative + false_negative))\n",
      "/tmp/ipykernel_16/1928500786.py:28: RuntimeWarning: invalid value encountered in sqrt\n",
      "  denominator = np.sqrt((true_positive + false_positive) * (true_positive + false_negative) * (true_negative + false_positive) * (true_negative + false_negative))\n",
      "/tmp/ipykernel_16/1928500786.py:28: RuntimeWarning: overflow encountered in scalar multiply\n",
      "  denominator = np.sqrt((true_positive + false_positive) * (true_positive + false_negative) * (true_negative + false_positive) * (true_negative + false_negative))\n",
      "/tmp/ipykernel_16/1928500786.py:28: RuntimeWarning: invalid value encountered in sqrt\n",
      "  denominator = np.sqrt((true_positive + false_positive) * (true_positive + false_negative) * (true_negative + false_positive) * (true_negative + false_negative))\n",
      "/tmp/ipykernel_16/1928500786.py:28: RuntimeWarning: overflow encountered in scalar multiply\n",
      "  denominator = np.sqrt((true_positive + false_positive) * (true_positive + false_negative) * (true_negative + false_positive) * (true_negative + false_negative))\n",
      "/tmp/ipykernel_16/1928500786.py:28: RuntimeWarning: invalid value encountered in sqrt\n",
      "  denominator = np.sqrt((true_positive + false_positive) * (true_positive + false_negative) * (true_negative + false_positive) * (true_negative + false_negative))\n",
      "/tmp/ipykernel_16/1928500786.py:28: RuntimeWarning: overflow encountered in scalar multiply\n",
      "  denominator = np.sqrt((true_positive + false_positive) * (true_positive + false_negative) * (true_negative + false_positive) * (true_negative + false_negative))\n",
      "/tmp/ipykernel_16/1928500786.py:28: RuntimeWarning: invalid value encountered in sqrt\n",
      "  denominator = np.sqrt((true_positive + false_positive) * (true_positive + false_negative) * (true_negative + false_positive) * (true_negative + false_negative))\n",
      "/tmp/ipykernel_16/1928500786.py:28: RuntimeWarning: overflow encountered in scalar multiply\n",
      "  denominator = np.sqrt((true_positive + false_positive) * (true_positive + false_negative) * (true_negative + false_positive) * (true_negative + false_negative))\n",
      "/tmp/ipykernel_16/1928500786.py:28: RuntimeWarning: invalid value encountered in sqrt\n",
      "  denominator = np.sqrt((true_positive + false_positive) * (true_positive + false_negative) * (true_negative + false_positive) * (true_negative + false_negative))\n",
      "/tmp/ipykernel_16/1928500786.py:28: RuntimeWarning: overflow encountered in scalar multiply\n",
      "  denominator = np.sqrt((true_positive + false_positive) * (true_positive + false_negative) * (true_negative + false_positive) * (true_negative + false_negative))\n",
      "/tmp/ipykernel_16/1928500786.py:28: RuntimeWarning: invalid value encountered in sqrt\n",
      "  denominator = np.sqrt((true_positive + false_positive) * (true_positive + false_negative) * (true_negative + false_positive) * (true_negative + false_negative))\n",
      "/tmp/ipykernel_16/1928500786.py:28: RuntimeWarning: overflow encountered in scalar multiply\n",
      "  denominator = np.sqrt((true_positive + false_positive) * (true_positive + false_negative) * (true_negative + false_positive) * (true_negative + false_negative))\n",
      "/tmp/ipykernel_16/1928500786.py:28: RuntimeWarning: invalid value encountered in sqrt\n",
      "  denominator = np.sqrt((true_positive + false_positive) * (true_positive + false_negative) * (true_negative + false_positive) * (true_negative + false_negative))\n",
      "/tmp/ipykernel_16/1928500786.py:28: RuntimeWarning: overflow encountered in scalar multiply\n",
      "  denominator = np.sqrt((true_positive + false_positive) * (true_positive + false_negative) * (true_negative + false_positive) * (true_negative + false_negative))\n",
      "/tmp/ipykernel_16/1928500786.py:28: RuntimeWarning: invalid value encountered in sqrt\n",
      "  denominator = np.sqrt((true_positive + false_positive) * (true_positive + false_negative) * (true_negative + false_positive) * (true_negative + false_negative))\n"
     ]
    }
   ],
   "source": [
    "# Load your data (replace this with your actual data loading code)\n",
    "X = community_df.drop('category', axis=1)\n",
    "y = community_df['category']\n",
    "# Split the data into training and testing sets\n",
    "list_set = [base_col,base_col+g_col,base_col+g_col+c_col,base_col+g_col+c_col+dc_col]\n",
    "for elm in list_set:\n",
    "    kFold=KFold(n_splits=5, random_state = 42, shuffle = True)\n",
    "    for train_index,test_index in kFold.split(X):\n",
    "        X_train, X_test, y_train, y_test = X[elm].iloc[train_index,:], X[elm].iloc[test_index,:], y[train_index], y[test_index]\n",
    "    #X_train, X_test, y_train, y_test = train_test_split(X[elm], y, test_size=0.3, random_state=42)\n",
    "    \n",
    "        # Example usage:\n",
    "        fit_start = time.time()\n",
    "        clf = XGBClassifier(tree_method=\"auto\")  # Change to \"gpu_hist\" if GPU acceleration is needed\n",
    "        clf.fit(X_train, y_train)\n",
    "        fit_time = time.time() - fit_start\n",
    "        \n",
    "        pred_start = time.time()\n",
    "        y_pred = clf.predict(X_test)\n",
    "        pred_time = time.time() - pred_start\n",
    "        \n",
    "        eval_xgb(clf, X_test, y_test, fit_time, pred_time,verbose = False)"
   ]
  },
  {
   "cell_type": "code",
   "execution_count": 19,
   "id": "de17a4b0",
   "metadata": {
    "execution": {
     "iopub.execute_input": "2025-01-31T13:23:31.676311Z",
     "iopub.status.busy": "2025-01-31T13:23:31.675386Z",
     "iopub.status.idle": "2025-01-31T13:23:31.687737Z",
     "shell.execute_reply": "2025-01-31T13:23:31.686507Z"
    },
    "papermill": {
     "duration": 0.156423,
     "end_time": "2025-01-31T13:23:31.690182",
     "exception": false,
     "start_time": "2025-01-31T13:23:31.533759",
     "status": "completed"
    },
    "tags": []
   },
   "outputs": [
    {
     "data": {
      "text/plain": [
       "array([[986148,     12,   2125,     19,    841,     20],\n",
       "       [   992,      8,      0,      0,      0,      0],\n",
       "       [  2744,      0,   2622,      2,      3,      0],\n",
       "       [   225,      0,     12,     36,    291,      0],\n",
       "       [   773,      0,      0,      8,   1868,      0],\n",
       "       [  1219,      0,      0,      0,      0,     32]])"
      ]
     },
     "execution_count": 19,
     "metadata": {},
     "output_type": "execute_result"
    }
   ],
   "source": [
    "cm_df['Confusion Matrix'][0]"
   ]
  },
  {
   "cell_type": "code",
   "execution_count": 20,
   "id": "a5281d32",
   "metadata": {
    "execution": {
     "iopub.execute_input": "2025-01-31T13:23:31.971131Z",
     "iopub.status.busy": "2025-01-31T13:23:31.969746Z",
     "iopub.status.idle": "2025-01-31T13:23:32.002182Z",
     "shell.execute_reply": "2025-01-31T13:23:32.000880Z"
    },
    "papermill": {
     "duration": 0.177446,
     "end_time": "2025-01-31T13:23:32.004576",
     "exception": false,
     "start_time": "2025-01-31T13:23:31.827130",
     "status": "completed"
    },
    "tags": []
   },
   "outputs": [
    {
     "name": "stdout",
     "output_type": "stream",
     "text": [
      "[0.008, 0.48863212821468505, 0.13793103448275862, 0.7073078379401743, 0.025579536370903277]\n",
      "[0.00646551724137931, 0.5150144717800289, 0.10948905109489052, 0.6866306027820711, 0.027575020275750203]\n",
      "[0.01104417670682731, 0.5097968721912637, 0.1288135593220339, 0.7100952380952381, 0.024271844660194174]\n",
      "[0.012464046021093002, 0.48146098505810736, 0.11149825783972125, 0.6761496492595479, 0.021806853582554516]\n",
      "[0.016243654822335026, 0.48783145659280785, 0.096, 0.6903474903474903, 0.015447154471544716]\n",
      "[0.104, 0.46317359686742493, 0.6039783001808319, 0.7772744431861079, 0.21502797761790568]\n",
      "[0.0980603448275862, 0.4663287472845764, 0.5704099821746881, 0.7979915025106219, 0.21897810218978103]\n",
      "[0.08032128514056225, 0.47150817904008624, 0.5443037974683544, 0.7984790874524716, 0.2176375404530744]\n",
      "[0.0660287081339713, 0.45488097434951097, 0.6062176165803109, 0.7700701480904131, 0.21573208722741433]\n",
      "[0.08620689655172414, 0.471379247683082, 0.5728346456692913, 0.7915862601312235, 0.23515052888527258]\n",
      "[0.8619999999999999, 1.0, 0.9858156028368794, 0.9924499811249529, 0.513189448441247]\n",
      "[0.8697524219590959, 1.0, 0.9912891986062717, 0.9930475086906141, 0.48986212489862124]\n",
      "[0.8376753507014028, 1.0, 0.9946332737030411, 0.9946707270650933, 0.5250809061488673]\n",
      "[0.8260038240917782, 1.0, 0.9932318104906938, 0.9949317738791423, 0.5070093457943925]\n",
      "[0.8441295546558705, 1.0, 0.996116504854369, 0.9953685835584717, 0.5398373983739837]\n",
      "[0.883, 1.0, 0.9911347517730497, 0.9954699886749717, 0.5224]\n",
      "[0.9095801937567277, 1.0, 0.9965095986038395, 0.9976825028968713, 0.5174371451743714]\n",
      "[0.8787575150300602, 1.0, 0.998211091234347, 0.9980966882375333, 0.5485436893203883]\n",
      "[0.8766730401529635, 1.0, 0.9966159052453468, 0.9968810916179337, 0.5171339563862928]\n",
      "[0.8674089068825911, 1.0, 0.996116504854369, 0.9972983404091085, 0.5422764227642276]\n"
     ]
    }
   ],
   "source": [
    "# from cm_df to multiclass_df\n",
    "\n",
    "multiclass_df = pd.DataFrame(columns=['anomaly-spam','dos','scan11','scan44','nerisbotnet'])\n",
    "#We consider detection of attack to be well detected as long as it is not a negative in the first place\n",
    "for elm in cm_df['Confusion Matrix']:\n",
    "    Precision= []\n",
    "    Recall = []\n",
    "    list_f1 = []\n",
    "    for i in range (1,len(elm[0])):\n",
    "        Precision = Precision + [elm[i][i]/(elm[i][i]+elm[i][0])]\n",
    "        Recall = Recall + [elm[i][i]/(elm[i][i]+elm[i][0])]\n",
    "        if Precision[i-1] + Recall[i-1] == 0:\n",
    "            list_f1 = list_f1 + [0]\n",
    "        else:\n",
    "            list_f1 = list_f1 + [2*(Precision[i-1]*Recall[i-1])/(Precision[i-1]+Recall[i-1])]\n",
    "    print(list_f1)\n",
    "    multiclass_df.loc[len(multiclass_df.index)] = list_f1"
   ]
  },
  {
   "cell_type": "code",
   "execution_count": 21,
   "id": "ec147cc9",
   "metadata": {
    "execution": {
     "iopub.execute_input": "2025-01-31T13:23:32.289681Z",
     "iopub.status.busy": "2025-01-31T13:23:32.289268Z",
     "iopub.status.idle": "2025-01-31T13:23:32.305641Z",
     "shell.execute_reply": "2025-01-31T13:23:32.304334Z"
    },
    "papermill": {
     "duration": 0.158931,
     "end_time": "2025-01-31T13:23:32.307856",
     "exception": false,
     "start_time": "2025-01-31T13:23:32.148925",
     "status": "completed"
    },
    "tags": []
   },
   "outputs": [],
   "source": [
    "kf_multiclass_df = pd.DataFrame(columns=['anomaly-spam','dos','scan11','scan44','nerisbotnet'])\n",
    "\n",
    "kf_multiclass_df.loc[0] = multiclass_df[0:5].mean()\n",
    "kf_multiclass_df.loc[1] = multiclass_df[5:10].mean()\n",
    "kf_multiclass_df.loc[2] = multiclass_df[10:15].mean()\n",
    "kf_multiclass_df.loc[3] = multiclass_df[15:20].mean()\n"
   ]
  },
  {
   "cell_type": "code",
   "execution_count": 22,
   "id": "01a1a36b",
   "metadata": {
    "execution": {
     "iopub.execute_input": "2025-01-31T13:23:32.581176Z",
     "iopub.status.busy": "2025-01-31T13:23:32.579852Z",
     "iopub.status.idle": "2025-01-31T13:23:32.589601Z",
     "shell.execute_reply": "2025-01-31T13:23:32.588451Z"
    },
    "papermill": {
     "duration": 0.149747,
     "end_time": "2025-01-31T13:23:32.592243",
     "exception": false,
     "start_time": "2025-01-31T13:23:32.442496",
     "status": "completed"
    },
    "tags": []
   },
   "outputs": [],
   "source": [
    "bracket_a = \"{Base set, Graph, Graph community, DGC}\"\n",
    "ytick_brack = {0.7,0.75,0.8,0.85,0.9,0.95,1}\n",
    "metrics = [('MCC','blue'),('Balanced Accuracy','orange'),('TPR','green'),('TNR','cyan')]\n",
    "result_to_latex(snapshot_evaldf,kf_multiclass_df,metrics,bracket_a,\"Comparison of graph community approaches with baseline on UGR16 dataset\",\"testall\")"
   ]
  }
 ],
 "metadata": {
  "kaggle": {
   "accelerator": "none",
   "dataSources": [
    {
     "datasetId": 2802319,
     "sourceId": 4835850,
     "sourceType": "datasetVersion"
    },
    {
     "datasetId": 2876007,
     "sourceId": 4959231,
     "sourceType": "datasetVersion"
    },
    {
     "datasetId": 3817153,
     "sourceId": 10475963,
     "sourceType": "datasetVersion"
    }
   ],
   "dockerImageVersionId": 30786,
   "isGpuEnabled": false,
   "isInternetEnabled": true,
   "language": "python",
   "sourceType": "notebook"
  },
  "kernelspec": {
   "display_name": "Python 3",
   "language": "python",
   "name": "python3"
  },
  "language_info": {
   "codemirror_mode": {
    "name": "ipython",
    "version": 3
   },
   "file_extension": ".py",
   "mimetype": "text/x-python",
   "name": "python",
   "nbconvert_exporter": "python",
   "pygments_lexer": "ipython3",
   "version": "3.10.14"
  },
  "papermill": {
   "default_parameters": {},
   "duration": 14264.896831,
   "end_time": "2025-01-31T13:23:36.157391",
   "environment_variables": {},
   "exception": null,
   "input_path": "__notebook__.ipynb",
   "output_path": "__notebook__.ipynb",
   "parameters": {},
   "start_time": "2025-01-31T09:25:51.260560",
   "version": "2.6.0"
  }
 },
 "nbformat": 4,
 "nbformat_minor": 5
}
